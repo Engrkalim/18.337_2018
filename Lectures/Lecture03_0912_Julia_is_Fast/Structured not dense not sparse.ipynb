{
 "cells": [
  {
   "cell_type": "code",
   "execution_count": null,
   "metadata": {},
   "outputs": [],
   "source": [
    "using LinearAlgebra"
   ]
  },
  {
   "cell_type": "markdown",
   "metadata": {},
   "source": [
    "Let's create a custom nxn matrix that depends on n paramaters, not $n^2$: <br>\n",
    "\n",
    "M = diag(v) + v*v'\n",
    "\n",
    "Here M.v will denote the parameters that M depends on. <br>\n",
    "This is not a sparse matrix, but dense linear algebra clearly does not apply.  This is way more important than sparse in applications."
   ]
  },
  {
   "cell_type": "code",
   "execution_count": null,
   "metadata": {},
   "outputs": [],
   "source": [
    "## This would work, but we'll add a few fancy features\n",
    "## struct Custom\n",
    "##     v::Vector\n",
    "## end"
   ]
  },
  {
   "cell_type": "code",
   "execution_count": null,
   "metadata": {},
   "outputs": [],
   "source": [
    "struct Custom{T} <: AbstractMatrix{T}\n",
    "     v::Vector{T}\n",
    "end"
   ]
  },
  {
   "cell_type": "markdown",
   "metadata": {},
   "source": [
    "We added the type parameter {T} and the subtype AbstractMatrix.  The type parameters says that the vector could be made from any type: Int, Float, BigInt, Quaternion,... <br>\n",
    "\n",
    "The subtype of AbstractMatrix automatically gives some functionality of size and getindex methods are defined as in the next cell."
   ]
  },
  {
   "cell_type": "code",
   "execution_count": 6,
   "metadata": {},
   "outputs": [],
   "source": [
    "Base.size(c::Custom)         =   length(c.v), length(c.v)\n",
    "Base.getindex(c::Custom,i,j) =   c.v[i]*(i==j)  + c.v[i]*c.v[j]"
   ]
  },
  {
   "cell_type": "code",
   "execution_count": 7,
   "metadata": {},
   "outputs": [
    {
     "data": {
      "text/plain": [
       "3×3 Custom{Int64}:\n",
       " 2  2   3\n",
       " 2  6   6\n",
       " 3  6  12"
      ]
     },
     "execution_count": 7,
     "metadata": {},
     "output_type": "execute_result"
    }
   ],
   "source": [
    "M = Custom([1, 2, 3])"
   ]
  },
  {
   "cell_type": "code",
   "execution_count": 10,
   "metadata": {},
   "outputs": [
    {
     "data": {
      "text/plain": [
       "3×3 Array{Int64,2}:\n",
       " 2  2   3\n",
       " 2  6   6\n",
       " 3  6  12"
      ]
     },
     "execution_count": 10,
     "metadata": {},
     "output_type": "execute_result"
    }
   ],
   "source": [
    "Matrix(M)"
   ]
  },
  {
   "cell_type": "markdown",
   "metadata": {},
   "source": [
    "Notice the different types.  M would generally store n numbers, Matrix(M) would store $n^2$ numbers."
   ]
  },
  {
   "cell_type": "code",
   "execution_count": 12,
   "metadata": {},
   "outputs": [
    {
     "data": {
      "text/plain": [
       "3-element Array{Int64,1}:\n",
       " 15\n",
       " 32\n",
       " 51"
      ]
     },
     "execution_count": 12,
     "metadata": {},
     "output_type": "execute_result"
    }
   ],
   "source": [
    "M * [1,2,3] # Matrix times vector automatically works though may not be efficient."
   ]
  },
  {
   "cell_type": "code",
   "execution_count": 15,
   "metadata": {},
   "outputs": [],
   "source": [
    "# Matrix times vector with O(n) operations (3n multiplications , 2n additions)\n",
    "Base.:*(c::Custom, x::Vector) = (c.v) .* x + c.v * (c.v'x)"
   ]
  },
  {
   "cell_type": "code",
   "execution_count": 17,
   "metadata": {},
   "outputs": [
    {
     "data": {
      "text/plain": [
       "3-element Array{Int64,1}:\n",
       " 15\n",
       " 32\n",
       " 51"
      ]
     },
     "execution_count": 17,
     "metadata": {},
     "output_type": "execute_result"
    }
   ],
   "source": [
    "M * [1,2,3] # same answer, now efficient"
   ]
  },
  {
   "cell_type": "code",
   "execution_count": null,
   "metadata": {},
   "outputs": [],
   "source": [
    "#using Pkg\n",
    "#Pkg.add(\"Arpack\")\n",
    "#using Arpack\n",
    "svds(c,nsv=4)"
   ]
  },
  {
   "cell_type": "code",
   "execution_count": null,
   "metadata": {},
   "outputs": [],
   "source": [
    "\n",
    "\n",
    "#matrix(c::Custom) = Diagonal(c.v) + c.v*c.v'\n",
    "\n",
    "f(c::Custom)  = λ ->  1 + sum(c.v[i]^2 / (c.v[i] - λ)   for i=1:length(c.v))\n",
    "f′(c::Custom) = λ ->      sum(c.v[i]^2 / (c.v[i] - λ)^2 for i=1:length(c.v))"
   ]
  },
  {
   "cell_type": "code",
   "execution_count": null,
   "metadata": {},
   "outputs": [],
   "source": [
    "v = randn(3)\n",
    "c = Custom(v)"
   ]
  },
  {
   "cell_type": "code",
   "execution_count": null,
   "metadata": {},
   "outputs": [],
   "source": [
    "# Newtons method\n",
    "function LinearAlgebra.eigmax(c::Custom; tol = eps(2.0), debug = false)\n",
    "    x0 = maximum(c.v) + maximum(c.v)^2\n",
    "    δ = f(c)(x0)/f′(c)(x0)\n",
    "    while abs(δ) > x0 * tol               \n",
    "        x0 -= δ\n",
    "        δ = f(c)(x0)/f′(c)(x0)\n",
    "        debug && println(\"x = $x0, δ = $δ\")\n",
    "    end\n",
    "    x0\n",
    "end"
   ]
  },
  {
   "cell_type": "code",
   "execution_count": null,
   "metadata": {},
   "outputs": [],
   "source": [
    "#v = randn(3000)\n",
    "c = Custom(v)\n",
    "m = Symmetric(Matrix(c))\n",
    "eigmax(m)"
   ]
  },
  {
   "cell_type": "code",
   "execution_count": null,
   "metadata": {},
   "outputs": [],
   "source": [
    "@time maximum(eigvals(m))"
   ]
  },
  {
   "cell_type": "code",
   "execution_count": null,
   "metadata": {},
   "outputs": [],
   "source": [
    "@time eigmax(m)"
   ]
  },
  {
   "cell_type": "code",
   "execution_count": null,
   "metadata": {},
   "outputs": [],
   "source": [
    "eigmax(c,debug=true)"
   ]
  },
  {
   "cell_type": "code",
   "execution_count": null,
   "metadata": {},
   "outputs": [],
   "source": [
    "@time eigmax(c)"
   ]
  },
  {
   "cell_type": "code",
   "execution_count": null,
   "metadata": {},
   "outputs": [],
   "source": [
    "using Plots\n",
    "pyplot()"
   ]
  },
  {
   "cell_type": "code",
   "execution_count": null,
   "metadata": {},
   "outputs": [],
   "source": [
    "n=5\n",
    "v = randn(n)\n",
    "c = Custom(v)\n",
    "\n",
    "xmin = maximum(v)\n",
    "xmax = 2*maximum(eigvals(matrix(c))) - xmin\n",
    "\n",
    "plot(f(c),xmin,xmax, ylim=(-3,1))\n",
    "plot!(x->0,xmin,xmax,color=:red)\n",
    "plot!(x->1,xmin,xmax, color=:red)\n",
    "scatter!([maximum(eigvals(matrix(c)))],[0.0])\n",
    "\n",
    "x = xmin + xmin^2 \n",
    "scatter!([x],[f(c)(x)])\n",
    "for k=2:5\n",
    "    x -= f(c)(x)/f′(c)(x) \n",
    "    scatter!([x],[f(c)(x)])\n",
    "end\n",
    "plot!()"
   ]
  },
  {
   "cell_type": "code",
   "execution_count": null,
   "metadata": {},
   "outputs": [],
   "source": [
    "?eigmax"
   ]
  },
  {
   "cell_type": "code",
   "execution_count": null,
   "metadata": {},
   "outputs": [],
   "source": [
    "Base.:*(c::Custom, x::Vector) = (c.v) .* x + c.v * (c.v'x)"
   ]
  },
  {
   "cell_type": "code",
   "execution_count": null,
   "metadata": {},
   "outputs": [],
   "source": [
    "c * randn(5)"
   ]
  },
  {
   "cell_type": "code",
   "execution_count": null,
   "metadata": {},
   "outputs": [],
   "source": [
    "#using Pkg\n",
    "#Pkg.add(\"Arpack\")\n",
    "#using Arpack\n",
    "svds(c,nsv=4)"
   ]
  },
  {
   "cell_type": "code",
   "execution_count": null,
   "metadata": {},
   "outputs": [],
   "source": []
  }
 ],
 "metadata": {
  "kernelspec": {
   "display_name": "Julia 1.0.0",
   "language": "julia",
   "name": "julia-1.0"
  },
  "language_info": {
   "file_extension": ".jl",
   "mimetype": "application/julia",
   "name": "julia",
   "version": "1.0.0"
  }
 },
 "nbformat": 4,
 "nbformat_minor": 2
}
