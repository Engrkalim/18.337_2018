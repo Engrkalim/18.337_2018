{
 "cells": [
  {
   "cell_type": "markdown",
   "metadata": {},
   "source": [
    "# Calculating with functions"
   ]
  },
  {
   "cell_type": "markdown",
   "metadata": {},
   "source": [
    "We are used to performing numerical calculations with numbers, using floating-point approximations of reals  where the approximation differs by (at most) machine epsilon from the exact value.\n",
    "\n",
    "In this lecture we will see that this idea can be extended to do **calculations with functions**, using **approximations of functions** that differ from the exact function by around machine epsilon! \n",
    "\n",
    "The basic idea is a simple one: out of all functions, there are a few that we understand well and are able to calculate efficiently with, namely polynomials. So we will use in our manipulations not the original functions, but rather **polynomial approximations** that are machine epsilon-close. With careful choices of method and algorithm, it turns out that this may be done very efficiently, using Chebyshev interpolation and approximation by Chebyshev polynomials.\n",
    "\n",
    "These ideas were first developed by [Nick Trefethen](https://people.maths.ox.ac.uk/trefethen/) and his group in the [Chebfun](http://www.chebfun.org/) package for Matlab. An implementation in Julia is available in the \n",
    "[ApproxFun.jl](https://github.com/JuliaApproximation/ApproxFun.jl) package."
   ]
  },
  {
   "cell_type": "markdown",
   "metadata": {},
   "source": [
    "## Naive polynomial interpolation"
   ]
  },
  {
   "cell_type": "markdown",
   "metadata": {},
   "source": [
    "One way to approximate data is by interpolation. Given $n+1$ data points $(x_i, y_i)_{i=0}^{n}$, there is a unique polynomial $p$ of (maximum) degree $n$ that passes through them. We can find it in a simple (but naive, and not efficient) way as follows:\n",
    "\n",
    "Let $$p(x) = a_0 + a_1 \\, x + a_2 \\, x^2 + \\cdots + a_n \\, x^n$$.\n",
    "\n",
    "Then we have $n+1$ simultaneous equations \n",
    "$$p(x_i) = a_0 + a_1 \\, x_i + a_2 \\, x_i^2 + \\cdots + a_n \\, x_i^n = y_i$$\n",
    "to solve, i.e.\n",
    "\n",
    "$$\n",
    "\\begin{pmatrix}\n",
    "1 & x_0 & x_0^2 & \\cdots & x_0^n \\\\\n",
    "1 & x_1 & x_1^2 & \\cdots & x_1^n \\\\\n",
    "1 & x_2 & x_2^2 & \\cdots & x_2^n \\\\\n",
    "\\vdots\n",
    "\\\\ \n",
    "1 & x_n & x_n^2 & \\cdots & x_n^n \\\\\n",
    "\\end{pmatrix}\n",
    "\\cdot \n",
    "\\begin{pmatrix}\n",
    "a_0 \\\\ \\vdots \\\\ a_n\n",
    "\\end{pmatrix}\n",
    "=\n",
    "\\begin{pmatrix}\n",
    "y_0 \\\\ \\vdots \\\\ y_n\n",
    "\\end{pmatrix}\n",
    "$$\n",
    "\n",
    "The matrix above is known as a Vandermonde matrix. The code below generalizes to allow for rectangular \"Vandermonde\" matrices, but defaults to the square case."
   ]
  },
  {
   "cell_type": "code",
   "execution_count": 1,
   "metadata": {},
   "outputs": [
    {
     "name": "stdout",
     "output_type": "stream",
     "text": [
      "Julia Version 1.0.2\n",
      "Commit d789231e99 (2018-11-08 20:11 UTC)\n",
      "Platform Info:\n",
      "  OS: Linux (x86_64-pc-linux-gnu)\n",
      "  CPU: Intel(R) Core(TM) i7-6600U CPU @ 2.60GHz\n",
      "  WORD_SIZE: 64\n",
      "  LIBM: libopenlibm\n",
      "  LLVM: libLLVM-6.0.0 (ORCJIT, skylake)\n",
      "Environment:\n",
      "  JULIA_EDITOR = vim\n"
     ]
    }
   ],
   "source": [
    "versioninfo()"
   ]
  },
  {
   "cell_type": "code",
   "execution_count": 2,
   "metadata": {},
   "outputs": [
    {
     "data": {
      "text/plain": [
       "vander (generic function with 2 methods)"
      ]
     },
     "execution_count": 2,
     "metadata": {},
     "output_type": "execute_result"
    }
   ],
   "source": [
    "vander(x,n=length(x)-1) = x.^(0:n)'"
   ]
  },
  {
   "cell_type": "code",
   "execution_count": 3,
   "metadata": {},
   "outputs": [
    {
     "data": {
      "text/plain": [
       "3×3 Array{Int64,2}:\n",
       " 1  3   9\n",
       " 1  4  16\n",
       " 1  5  25"
      ]
     },
     "execution_count": 3,
     "metadata": {},
     "output_type": "execute_result"
    }
   ],
   "source": [
    "vander(3:5,2)"
   ]
  },
  {
   "cell_type": "markdown",
   "metadata": {},
   "source": [
    "Given a function $f$, we can choose points $x_i$ and let $y_i = f(x_i)$. It is natural (but, it turns out, incorrect) to try equi-spaced points:"
   ]
  },
  {
   "cell_type": "code",
   "execution_count": 4,
   "metadata": {},
   "outputs": [
    {
     "data": {
      "text/plain": [
       "(-1, 1)"
      ]
     },
     "execution_count": 4,
     "metadata": {},
     "output_type": "execute_result"
    }
   ],
   "source": [
    "lo, hi = -1, 1  # the interval we work over"
   ]
  },
  {
   "cell_type": "code",
   "execution_count": 5,
   "metadata": {},
   "outputs": [
    {
     "data": {
      "text/plain": [
       "11×11 Array{Float64,2}:\n",
       " 1.0  -1.0  1.0   -1.0    1.0     -1.0      …  -1.0          1.0        \n",
       " 1.0  -0.8  0.64  -0.512  0.4096  -0.32768     -0.134218     0.107374   \n",
       " 1.0  -0.6  0.36  -0.216  0.1296  -0.07776     -0.0100777    0.00604662 \n",
       " 1.0  -0.4  0.16  -0.064  0.0256  -0.01024     -0.000262144  0.000104858\n",
       " 1.0  -0.2  0.04  -0.008  0.0016  -0.00032     -5.12e-7      1.024e-7   \n",
       " 1.0   0.0  0.0    0.0    0.0      0.0      …   0.0          0.0        \n",
       " 1.0   0.2  0.04   0.008  0.0016   0.00032      5.12e-7      1.024e-7   \n",
       " 1.0   0.4  0.16   0.064  0.0256   0.01024      0.000262144  0.000104858\n",
       " 1.0   0.6  0.36   0.216  0.1296   0.07776      0.0100777    0.00604662 \n",
       " 1.0   0.8  0.64   0.512  0.4096   0.32768      0.134218     0.107374   \n",
       " 1.0   1.0  1.0    1.0    1.0      1.0      …   1.0          1.0        "
      ]
     },
     "execution_count": 5,
     "metadata": {},
     "output_type": "execute_result"
    }
   ],
   "source": [
    "n = 10\n",
    "x = range(lo, hi, length = n+1)\n",
    "M = vander(x)"
   ]
  },
  {
   "cell_type": "code",
   "execution_count": 6,
   "metadata": {},
   "outputs": [
    {
     "data": {
      "text/plain": [
       "11-element Array{Float64,1}:\n",
       " 0.9999999999999999    \n",
       " 1.0000000000374658    \n",
       " 0.5000000000031157    \n",
       " 0.16666666529603313   \n",
       " 0.0416666665526852    \n",
       " 0.008333345756140873  \n",
       " 0.0013888899220864414 \n",
       " 0.00019837119018122377\n",
       " 2.47981343937471e-5   \n",
       " 2.81136398031263e-6   \n",
       " 2.802029626550234e-7  "
      ]
     },
     "execution_count": 6,
     "metadata": {},
     "output_type": "execute_result"
    }
   ],
   "source": [
    "a = M \\ exp.(x)   # kind of looks like taylor series, almost, but not exactly "
   ]
  },
  {
   "cell_type": "markdown",
   "metadata": {},
   "source": [
    "The entries of `a` are the coefficients of the fitted polynomial. We can now build (again, naively) the interpolating polynomial:"
   ]
  },
  {
   "cell_type": "code",
   "execution_count": 7,
   "metadata": {},
   "outputs": [
    {
     "data": {
      "text/plain": [
       "- (generic function with 176 methods)"
      ]
     },
     "execution_count": 7,
     "metadata": {},
     "output_type": "execute_result"
    }
   ],
   "source": [
    "import Base: +, *, -\n",
    "\n",
    "*(α::Number, f::Function) = x -> α*f(x)\n",
    "+(f::Function, g::Function) = x -> f(x) + g(x)\n",
    "-(f::Function, g::Function) = x -> f(x) - g(x)"
   ]
  },
  {
   "cell_type": "code",
   "execution_count": 8,
   "metadata": {},
   "outputs": [
    {
     "data": {
      "text/plain": [
       "f (generic function with 1 method)"
      ]
     },
     "execution_count": 8,
     "metadata": {},
     "output_type": "execute_result"
    }
   ],
   "source": [
    "pp = sum(a[i]*(x->x^(i-1)) for i in 1:length(a))\n",
    "f(k) = sum((1/factorial(i))*(x->x^i) for i in k:-1:0)"
   ]
  },
  {
   "cell_type": "code",
   "execution_count": 9,
   "metadata": {},
   "outputs": [
    {
     "data": {
      "text/html": [
       "    <script id=\"webio-setup-16289660938098645807\">\n",
       "    // Immediately-invoked-function-expression to avoid global variables.\n",
       "    (function() {\n",
       "        var warning_div = document.getElementById(\"webio-warning-16319215659088452174\");\n",
       "        var hide = function () {\n",
       "            var script = document.getElementById(\"webio-setup-16289660938098645807\");\n",
       "            var parent = script && script.parentElement;\n",
       "            var grandparent = parent && parent.parentElement;\n",
       "            if (grandparent) {\n",
       "                grandparent.style.display = \"none\";\n",
       "            }\n",
       "            warning_div.style.display = \"none\";\n",
       "        };\n",
       "        if (window.require && require.defined) {\n",
       "            // Jupyter notebook.\n",
       "            if (require.defined(\"nbextensions/webio/main\")\n",
       "                    || require.defined(\"/assetserver/8f4ac2f32dd6025e083cecadc13ddc89525c7ec1-dist/main.js\")) {\n",
       "                // Extension already loaded.\n",
       "                hide();\n",
       "                return;\n",
       "            }\n",
       "            console.warn(\"Loading WebIO Jupyter extension on an ad-hoc basis. Consider enabling the WebIO nbextension for a stabler experience (this should happen automatically when building WebIO).\");\n",
       "            require([\"/assetserver/8f4ac2f32dd6025e083cecadc13ddc89525c7ec1-dist/main.js\"], function (webIOModule) {\n",
       "                webIOModule.load_ipython_extension();\n",
       "            });\n",
       "            warning_div.innerHTML = \"<strong>Loading WebIO Jupyter extension on an ad-hoc basis. Consider enabling the WebIO nbextension for a stabler experience (this should happen automatically when building WebIO).</strong>\";\n",
       "        } else if (window.location.pathname.includes(\"/lab\")) {\n",
       "            // Guessing JupyterLab\n",
       "            warning_div.innerHTML = \"WebIO does not support JupyterLab yet.\";\n",
       "        }\n",
       "    })();\n",
       "    </script>\n",
       "    <div\n",
       "        id=\"webio-warning-16319215659088452174\"\n",
       "        class=\"output_text output_stderr\"\n",
       "        style=\"padding: 1em; font-weight: bold;\"\n",
       "    >\n",
       "        Unable to load WebIO. Please make sure WebIO works for your Jupyter client.\n",
       "        <!-- TODO: link to installation docs. -->\n",
       "    </div>\n"
      ],
      "text/plain": [
       "HTML{String}(\"    <script id=\\\"webio-setup-16289660938098645807\\\">\\n    // Immediately-invoked-function-expression to avoid global variables.\\n    (function() {\\n        var warning_div = document.getElementById(\\\"webio-warning-16319215659088452174\\\");\\n        var hide = function () {\\n            var script = document.getElementById(\\\"webio-setup-16289660938098645807\\\");\\n            var parent = script && script.parentElement;\\n            var grandparent = parent && parent.parentElement;\\n            if (grandparent) {\\n                grandparent.style.display = \\\"none\\\";\\n            }\\n            warning_div.style.display = \\\"none\\\";\\n        };\\n        if (window.require && require.defined) {\\n            // Jupyter notebook.\\n            if (require.defined(\\\"nbextensions/webio/main\\\")\\n                    || require.defined(\\\"/assetserver/8f4ac2f32dd6025e083cecadc13ddc89525c7ec1-dist/main.js\\\")) {\\n                // Extension already loaded.\\n                hide();\\n                return;\\n            }\\n            console.warn(\\\"Loading WebIO Jupyter extension on an ad-hoc basis. Consider enabling the WebIO nbextension for a stabler experience (this should happen automatically when building WebIO).\\\");\\n            require([\\\"/assetserver/8f4ac2f32dd6025e083cecadc13ddc89525c7ec1-dist/main.js\\\"], function (webIOModule) {\\n                webIOModule.load_ipython_extension();\\n            });\\n            warning_div.innerHTML = \\\"<strong>Loading WebIO Jupyter extension on an ad-hoc basis. Consider enabling the WebIO nbextension for a stabler experience (this should happen automatically when building WebIO).</strong>\\\";\\n        } else if (window.location.pathname.includes(\\\"/lab\\\")) {\\n            // Guessing JupyterLab\\n            warning_div.innerHTML = \\\"WebIO does not support JupyterLab yet.\\\";\\n        }\\n    })();\\n    </script>\\n    <div\\n        id=\\\"webio-warning-16319215659088452174\\\"\\n        class=\\\"output_text output_stderr\\\"\\n        style=\\\"padding: 1em; font-weight: bold;\\\"\\n    >\\n        Unable to load WebIO. Please make sure WebIO works for your Jupyter client.\\n        <!-- TODO: link to installation docs. -->\\n    </div>\\n\")"
      ]
     },
     "metadata": {},
     "output_type": "display_data"
    },
    {
     "data": {
      "text/plain": [
       "Plots.GRBackend()"
      ]
     },
     "execution_count": 9,
     "metadata": {},
     "output_type": "execute_result"
    }
   ],
   "source": [
    "using Plots, Interact\n",
    "#PyPlot.svg(true)\n",
    "gr()"
   ]
  },
  {
   "cell_type": "code",
   "execution_count": 10,
   "metadata": {
    "scrolled": true
   },
   "outputs": [
    {
     "ename": "ArgumentError",
     "evalue": "ArgumentError: reducing over an empty collection is not allowed",
     "output_type": "error",
     "traceback": [
      "ArgumentError: reducing over an empty collection is not allowed",
      "",
      "Stacktrace:",
      " [1] _empty_reduce_error() at ./reduce.jl:214",
      " [2] mapreduce_empty_iter(::Function, ::Function, ::Base.Generator{StepRangeLen{Float64,Base.TwicePrecision{Float64},Base.TwicePrecision{Float64}},getfield(Main, Symbol(\"##15#17\"))}, ::Base.EltypeUnknown) at ./reduce.jl:259",
      " [3] mapfoldl_impl(::Function, ::Function, ::NamedTuple{(),Tuple{}}, ::Base.Generator{StepRangeLen{Float64,Base.TwicePrecision{Float64},Base.TwicePrecision{Float64}},getfield(Main, Symbol(\"##15#17\"))}) at ./reduce.jl:55",
      " [4] #mapfoldl#170 at ./reduce.jl:70 [inlined]",
      " [5] mapfoldl at ./reduce.jl:70 [inlined]",
      " [6] #mapreduce#174 at ./reduce.jl:203 [inlined]",
      " [7] mapreduce(::Function, ::Function, ::Base.Generator{StepRangeLen{Float64,Base.TwicePrecision{Float64},Base.TwicePrecision{Float64}},getfield(Main, Symbol(\"##15#17\"))}) at ./reduce.jl:203",
      " [8] sum(::Function, ::Base.Generator{StepRangeLen{Float64,Base.TwicePrecision{Float64},Base.TwicePrecision{Float64}},getfield(Main, Symbol(\"##15#17\"))}) at ./reduce.jl:397",
      " [9] sum(::Base.Generator{StepRangeLen{Float64,Base.TwicePrecision{Float64},Base.TwicePrecision{Float64}},getfield(Main, Symbol(\"##15#17\"))}) at ./reduce.jl:414",
      " [10] f(::Float64) at ./In[8]:2",
      " [11] (::getfield(Main, Symbol(\"##9#10\")){typeof(f),getfield(Main, Symbol(\"##7#8\")){getfield(Main, Symbol(\"##7#8\")){getfield(Main, Symbol(\"##7#8\")){getfield(Main, Symbol(\"##7#8\")){getfield(Main, Symbol(\"##7#8\")){getfield(Main, Symbol(\"##7#8\")){getfield(Main, Symbol(\"##7#8\")){getfield(Main, Symbol(\"##7#8\")){getfield(Main, Symbol(\"##7#8\")){getfield(Main, Symbol(\"##7#8\")){getfield(Main, Symbol(\"##5#6\")){Float64,getfield(Main, Symbol(\"##12#14\")){Int64}},getfield(Main, Symbol(\"##5#6\")){Float64,getfield(Main, Symbol(\"##12#14\")){Int64}}},getfield(Main, Symbol(\"##5#6\")){Float64,getfield(Main, Symbol(\"##12#14\")){Int64}}},getfield(Main, Symbol(\"##5#6\")){Float64,getfield(Main, Symbol(\"##12#14\")){Int64}}},getfield(Main, Symbol(\"##5#6\")){Float64,getfield(Main, Symbol(\"##12#14\")){Int64}}},getfield(Main, Symbol(\"##5#6\")){Float64,getfield(Main, Symbol(\"##12#14\")){Int64}}},getfield(Main, Symbol(\"##5#6\")){Float64,getfield(Main, Symbol(\"##12#14\")){Int64}}},getfield(Main, Symbol(\"##5#6\")){Float64,getfield(Main, Symbol(\"##12#14\")){Int64}}},getfield(Main, Symbol(\"##5#6\")){Float64,getfield(Main, Symbol(\"##12#14\")){Int64}}},getfield(Main, Symbol(\"##5#6\")){Float64,getfield(Main, Symbol(\"##12#14\")){Int64}}},getfield(Main, Symbol(\"##5#6\")){Float64,getfield(Main, Symbol(\"##12#14\")){Int64}}}})(::Float64) at ./In[7]:5",
      " [12] (::getfield(Main, Symbol(\"##19#20\")))(::Float64) at ./In[10]:6",
      " [13] iterate at ./generator.jl:47 [inlined]",
      " [14] collect at ./array.jl:619 [inlined]",
      " [15] #adapted_grid#25(::Int64, ::Function, ::getfield(Main, Symbol(\"##19#20\")), ::Tuple{Int64,Int64}) at /home/shashi/.julia/packages/PlotUtils/GxT73/src/adapted_grid.jl:43",
      " [16] adapted_grid(::Function, ::Tuple{Int64,Int64}) at /home/shashi/.julia/packages/PlotUtils/GxT73/src/adapted_grid.jl:16",
      " [17] macro expansion at /home/shashi/.julia/packages/Plots/rmogG/src/series.jl:520 [inlined]",
      " [18] apply_recipe(::Dict{Symbol,Any}, ::Function, ::Int64, ::Int64) at /home/shashi/.julia/packages/RecipesBase/Uz5AO/src/RecipesBase.jl:275",
      " [19] _process_userrecipes(::Plots.Plot{Plots.GRBackend}, ::Dict{Symbol,Any}, ::Tuple{getfield(Main, Symbol(\"##19#20\")),Int64,Int64}) at /home/shashi/.julia/packages/Plots/rmogG/src/pipeline.jl:83",
      " [20] macro expansion at ./logging.jl:305 [inlined]",
      " [21] _plot!(::Plots.Plot{Plots.GRBackend}, ::Dict{Symbol,Any}, ::Tuple{getfield(Main, Symbol(\"##19#20\")),Int64,Int64}) at /home/shashi/.julia/packages/Plots/rmogG/src/plot.jl:171",
      " [22] #plot#132(::Base.Iterators.Pairs{Symbol,String,Tuple{Symbol},NamedTuple{(:label,),Tuple{String}}}, ::Function, ::Function, ::Vararg{Any,N} where N) at /home/shashi/.julia/packages/Plots/rmogG/src/plot.jl:57",
      " [23] (::getfield(RecipesBase, Symbol(\"#kw##plot\")))(::NamedTuple{(:label,),Tuple{String}}, ::typeof(plot), ::Function, ::Int64, ::Vararg{Int64,N} where N) at ./none:0",
      " [24] top-level scope at In[10]:6"
     ]
    }
   ],
   "source": [
    "#l = @layout [a b]\n",
    "#p = plot(f, lo, hi, layout=l,label=\"function\")\n",
    "#@manipulate for k=2:100\n",
    "\n",
    "plot(pp, lo, hi, label=\"interpolant\")\n",
    "plot( x-> log10(abs((f-pp)(x))), lo, hi, label=\"error of the interpolant\")\n",
    "#plot!( x-> log10(abs((f-ttk(10))(x))), lo, hi, label=\"error in taylor\")\n",
    "#end"
   ]
  },
  {
   "cell_type": "markdown",
   "metadata": {},
   "source": [
    "However, this goes wrong for certain functions:"
   ]
  },
  {
   "cell_type": "code",
   "execution_count": 11,
   "metadata": {},
   "outputs": [
    {
     "data": {
      "text/plain": [
       "h (generic function with 1 method)"
      ]
     },
     "execution_count": 11,
     "metadata": {},
     "output_type": "execute_result"
    }
   ],
   "source": [
    "h(x) = 1 / (1 + 25x^2)  # the Runge function"
   ]
  },
  {
   "cell_type": "code",
   "execution_count": 12,
   "metadata": {},
   "outputs": [
    {
     "data": {
      "text/plain": [
       "-1.0:0.2:1.0"
      ]
     },
     "execution_count": 12,
     "metadata": {},
     "output_type": "execute_result"
    }
   ],
   "source": [
    "x"
   ]
  },
  {
   "cell_type": "code",
   "execution_count": 13,
   "metadata": {},
   "outputs": [
    {
     "data": {
      "text/plain": [
       "interpolate (generic function with 1 method)"
      ]
     },
     "execution_count": 13,
     "metadata": {},
     "output_type": "execute_result"
    }
   ],
   "source": [
    "function interpolate(f, x)\n",
    "    lo, hi = -1.0, 1.0\n",
    "    M = vander(x)\n",
    "    y = f.(x)\n",
    "\n",
    "    a = M \\ y\n",
    "\n",
    "    p = sum(a[i]*(x->x^(i-1)) for i in 1:length(a))\n",
    "        \n",
    "    return p, y, a\n",
    "end"
   ]
  },
  {
   "cell_type": "code",
   "execution_count": 14,
   "metadata": {},
   "outputs": [],
   "source": [
    "using Interact"
   ]
  },
  {
   "cell_type": "code",
   "execution_count": 40,
   "metadata": {},
   "outputs": [
    {
     "data": {
      "application/vnd.webio.node+json": {
       "children": [
        {
         "children": [
          {
           "children": [
            {
             "children": [
              {
               "children": [
                {
                 "children": [
                  "n"
                 ],
                 "instanceArgs": {
                  "namespace": "html",
                  "tag": "label"
                 },
                 "nodeType": "DOM",
                 "props": {
                  "className": "interact ",
                  "style": {
                   "padding": "5px 10px 0px 10px"
                  }
                 },
                 "type": "node"
                }
               ],
               "instanceArgs": {
                "namespace": "html",
                "tag": "div"
               },
               "nodeType": "DOM",
               "props": {
                "attributes": {
                 "style": "text-align:right;width:18%"
                }
               },
               "type": "node"
              },
              {
               "children": [
                {
                 "children": [],
                 "instanceArgs": {
                  "namespace": "html",
                  "tag": "input"
                 },
                 "nodeType": "DOM",
                 "props": {
                  "attributes": {
                   "data-bind": "numericValue: value, valueUpdate: 'input', event: {change : function () {this.changes(this.changes()+1)}}",
                   "orient": "horizontal",
                   "type": "range"
                  },
                  "className": "slider slider is-fullwidth",
                  "max": 20,
                  "min": 2,
                  "step": 1,
                  "style": {}
                 },
                 "type": "node"
                }
               ],
               "instanceArgs": {
                "namespace": "html",
                "tag": "div"
               },
               "nodeType": "DOM",
               "props": {
                "attributes": {
                 "style": "flex-grow:1; margin: 0 2%"
                }
               },
               "type": "node"
              },
              {
               "children": [
                {
                 "children": [],
                 "instanceArgs": {
                  "namespace": "html",
                  "tag": "p"
                 },
                 "nodeType": "DOM",
                 "props": {
                  "attributes": {
                   "data-bind": "text: value"
                  }
                 },
                 "type": "node"
                }
               ],
               "instanceArgs": {
                "namespace": "html",
                "tag": "div"
               },
               "nodeType": "DOM",
               "props": {
                "attributes": {
                 "style": "width:18%"
                }
               },
               "type": "node"
              }
             ],
             "instanceArgs": {
              "namespace": "html",
              "tag": "div"
             },
             "nodeType": "DOM",
             "props": {
              "attributes": {
               "style": "display:flex; justify-content:center; align-items:center;"
              }
             },
             "type": "node"
            }
           ],
           "instanceArgs": {
            "handlers": {
             "_promises": {
              "importsLoaded": [
               "function (ko, koPunches) {\n    ko.punches.enableAll();\n    ko.bindingHandlers.numericValue = {\n        init : function(element, valueAccessor, allBindings, data, context) {\n            var stringified = ko.observable(ko.unwrap(valueAccessor()));\n            stringified.subscribe(function(value) {\n                var val = parseFloat(value);\n                if (!isNaN(val)) {\n                    valueAccessor()(val);\n                }\n            })\n            valueAccessor().subscribe(function(value) {\n                var str = JSON.stringify(value);\n                if ((str == \"0\") && ([\"-0\", \"-0.\"].indexOf(stringified()) >= 0))\n                     return;\n                 if ([\"null\", \"\"].indexOf(str) >= 0)\n                     return;\n                stringified(str);\n            })\n            ko.applyBindingsToNode(element, { value: stringified, valueUpdate: allBindings.get('valueUpdate')}, context);\n        }\n    };\n    var json_data = JSON.parse(\"{\\\"changes\\\":0,\\\"value\\\":11}\");\n    var self = this;\n    function AppViewModel() {\n        for (var key in json_data) {\n            var el = json_data[key];\n            this[key] = Array.isArray(el) ? ko.observableArray(el) : ko.observable(el);\n        }\n        \n        \n        [this[\"changes\"].subscribe((function (val){!(this.valueFromJulia[\"changes\"]) ? (WebIO.setval({\"name\":\"changes\",\"scope\":\"knockout-component-f339b53a-fdd6-4bbf-8c8d-58f53dd0a2b0\",\"id\":\"ob_08\",\"type\":\"observable\"},val)) : undefined; return this.valueFromJulia[\"changes\"]=false}),self),this[\"value\"].subscribe((function (val){!(this.valueFromJulia[\"value\"]) ? (WebIO.setval({\"name\":\"value\",\"scope\":\"knockout-component-f339b53a-fdd6-4bbf-8c8d-58f53dd0a2b0\",\"id\":\"ob_07\",\"type\":\"observable\"},val)) : undefined; return this.valueFromJulia[\"value\"]=false}),self)]\n        \n    }\n    self.model = new AppViewModel();\n    self.valueFromJulia = {};\n    for (var key in json_data) {\n        self.valueFromJulia[key] = false;\n    }\n    ko.applyBindings(self.model, self.dom);\n}\n"
              ]
             },
             "changes": [
              "(function (val){return (val!=this.model[\"changes\"]()) ? (this.valueFromJulia[\"changes\"]=true, this.model[\"changes\"](val)) : undefined})"
             ],
             "value": [
              "(function (val){return (val!=this.model[\"value\"]()) ? (this.valueFromJulia[\"value\"]=true, this.model[\"value\"](val)) : undefined})"
             ]
            },
            "id": "knockout-component-f339b53a-fdd6-4bbf-8c8d-58f53dd0a2b0",
            "imports": {
             "data": [
              {
               "name": "knockout",
               "type": "js",
               "url": "/assetserver/14729442142be2033c67c08d3f6ed58cf9e9306f-knockout.js"
              },
              {
               "name": "knockout_punches",
               "type": "js",
               "url": "/assetserver/0773a38c0aca1f5643d9ec49fad13ea9b3293506-knockout_punches.js"
              },
              {
               "name": null,
               "type": "js",
               "url": "/assetserver/56cd7e6e51b361c8e5378d2500dfd1b39707ca7c-all.js"
              },
              {
               "name": null,
               "type": "css",
               "url": "/assetserver/d226c2708e3ef23c5404b7f624792b7c5b133545-style.css"
              },
              {
               "name": null,
               "type": "css",
               "url": "/assetserver/742c1b9efe7657f980837af18d11a905cd62440b-main.css"
              }
             ],
             "type": "async_block"
            },
            "observables": {
             "changes": {
              "id": "ob_08",
              "sync": false,
              "value": 0
             },
             "value": {
              "id": "ob_07",
              "sync": true,
              "value": 11
             }
            },
            "systemjs_options": null
           },
           "nodeType": "Scope",
           "props": {},
           "type": "node"
          }
         ],
         "instanceArgs": {
          "namespace": "html",
          "tag": "div"
         },
         "nodeType": "DOM",
         "props": {
          "className": "field"
         },
         "type": "node"
        },
        {
         "children": [
          {
           "children": [],
           "instanceArgs": {
            "id": "ob_13",
            "name": "obs-node"
           },
           "nodeType": "ObservableNode",
           "props": {},
           "type": "node"
          }
         ],
         "instanceArgs": {
          "handlers": {},
          "id": "scope-e2eab80b-de5e-4a16-a7c9-6635da77aeb3",
          "imports": {
           "data": [],
           "type": "async_block"
          },
          "observables": {
           "obs-node": {
            "id": "ob_13",
            "sync": false,
            "value": {
             "children": [
              {
               "children": [],
               "instanceArgs": {
                "namespace": "html",
                "tag": "div"
               },
               "nodeType": "DOM",
               "props": {
                "setInnerHtml": "<?xml version=\"1.0\" encoding=\"utf-8\"?>\n<svg xmlns=\"http://www.w3.org/2000/svg\" xmlns:xlink=\"http://www.w3.org/1999/xlink\" width=\"600\" height=\"400\" viewBox=\"0 0 2400 1600\">\n<defs>\n  <clipPath id=\"clip9700\">\n    <rect x=\"0\" y=\"0\" width=\"2000\" height=\"2000\"/>\n  </clipPath>\n</defs>\n<defs>\n  <clipPath id=\"clip9701\">\n    <rect x=\"0\" y=\"0\" width=\"2400\" height=\"1600\"/>\n  </clipPath>\n</defs>\n<polygon clip-path=\"url(#clip9701)\" points=\"\n0,1600 2400,1600 2400,0 0,0 \n  \" fill=\"#ffffff\" fill-opacity=\"1\"/>\n<defs>\n  <clipPath id=\"clip9702\">\n    <rect x=\"480\" y=\"0\" width=\"1681\" height=\"1600\"/>\n  </clipPath>\n</defs>\n<polygon clip-path=\"url(#clip9701)\" points=\"\n188.156,1503.47 2321.26,1503.47 2321.26,47.2441 188.156,47.2441 \n  \" fill=\"#ffffff\" fill-opacity=\"1\"/>\n<defs>\n  <clipPath id=\"clip9703\">\n    <rect x=\"188\" y=\"47\" width=\"2134\" height=\"1457\"/>\n  </clipPath>\n</defs>\n<polyline clip-path=\"url(#clip9703)\" style=\"stroke:#000000; stroke-width:2; stroke-opacity:0.1; fill:none\" points=\"\n  248.527,1503.47 248.527,47.2441 \n  \"/>\n<polyline clip-path=\"url(#clip9703)\" style=\"stroke:#000000; stroke-width:2; stroke-opacity:0.1; fill:none\" points=\"\n  751.618,1503.47 751.618,47.2441 \n  \"/>\n<polyline clip-path=\"url(#clip9703)\" style=\"stroke:#000000; stroke-width:2; stroke-opacity:0.1; fill:none\" points=\"\n  1254.71,1503.47 1254.71,47.2441 \n  \"/>\n<polyline clip-path=\"url(#clip9703)\" style=\"stroke:#000000; stroke-width:2; stroke-opacity:0.1; fill:none\" points=\"\n  1757.8,1503.47 1757.8,47.2441 \n  \"/>\n<polyline clip-path=\"url(#clip9703)\" style=\"stroke:#000000; stroke-width:2; stroke-opacity:0.1; fill:none\" points=\"\n  2260.89,1503.47 2260.89,47.2441 \n  \"/>\n<polyline clip-path=\"url(#clip9703)\" style=\"stroke:#000000; stroke-width:2; stroke-opacity:0.1; fill:none\" points=\"\n  188.156,1410.89 2321.26,1410.89 \n  \"/>\n<polyline clip-path=\"url(#clip9703)\" style=\"stroke:#000000; stroke-width:2; stroke-opacity:0.1; fill:none\" points=\"\n  188.156,1080.08 2321.26,1080.08 \n  \"/>\n<polyline clip-path=\"url(#clip9703)\" style=\"stroke:#000000; stroke-width:2; stroke-opacity:0.1; fill:none\" points=\"\n  188.156,749.271 2321.26,749.271 \n  \"/>\n<polyline clip-path=\"url(#clip9703)\" style=\"stroke:#000000; stroke-width:2; stroke-opacity:0.1; fill:none\" points=\"\n  188.156,418.462 2321.26,418.462 \n  \"/>\n<polyline clip-path=\"url(#clip9703)\" style=\"stroke:#000000; stroke-width:2; stroke-opacity:0.1; fill:none\" points=\"\n  188.156,87.6529 2321.26,87.6529 \n  \"/>\n<polyline clip-path=\"url(#clip9701)\" style=\"stroke:#000000; stroke-width:4; stroke-opacity:1; fill:none\" points=\"\n  188.156,1503.47 2321.26,1503.47 \n  \"/>\n<polyline clip-path=\"url(#clip9701)\" style=\"stroke:#000000; stroke-width:4; stroke-opacity:1; fill:none\" points=\"\n  188.156,1503.47 188.156,47.2441 \n  \"/>\n<polyline clip-path=\"url(#clip9701)\" style=\"stroke:#000000; stroke-width:4; stroke-opacity:1; fill:none\" points=\"\n  248.527,1503.47 248.527,1481.63 \n  \"/>\n<polyline clip-path=\"url(#clip9701)\" style=\"stroke:#000000; stroke-width:4; stroke-opacity:1; fill:none\" points=\"\n  751.618,1503.47 751.618,1481.63 \n  \"/>\n<polyline clip-path=\"url(#clip9701)\" style=\"stroke:#000000; stroke-width:4; stroke-opacity:1; fill:none\" points=\"\n  1254.71,1503.47 1254.71,1481.63 \n  \"/>\n<polyline clip-path=\"url(#clip9701)\" style=\"stroke:#000000; stroke-width:4; stroke-opacity:1; fill:none\" points=\"\n  1757.8,1503.47 1757.8,1481.63 \n  \"/>\n<polyline clip-path=\"url(#clip9701)\" style=\"stroke:#000000; stroke-width:4; stroke-opacity:1; fill:none\" points=\"\n  2260.89,1503.47 2260.89,1481.63 \n  \"/>\n<polyline clip-path=\"url(#clip9701)\" style=\"stroke:#000000; stroke-width:4; stroke-opacity:1; fill:none\" points=\"\n  188.156,1410.89 220.153,1410.89 \n  \"/>\n<polyline clip-path=\"url(#clip9701)\" style=\"stroke:#000000; stroke-width:4; stroke-opacity:1; fill:none\" points=\"\n  188.156,1080.08 220.153,1080.08 \n  \"/>\n<polyline clip-path=\"url(#clip9701)\" style=\"stroke:#000000; stroke-width:4; stroke-opacity:1; fill:none\" points=\"\n  188.156,749.271 220.153,749.271 \n  \"/>\n<polyline clip-path=\"url(#clip9701)\" style=\"stroke:#000000; stroke-width:4; stroke-opacity:1; fill:none\" points=\"\n  188.156,418.462 220.153,418.462 \n  \"/>\n<polyline clip-path=\"url(#clip9701)\" style=\"stroke:#000000; stroke-width:4; stroke-opacity:1; fill:none\" points=\"\n  188.156,87.6529 220.153,87.6529 \n  \"/>\n<g clip-path=\"url(#clip9701)\">\n<text style=\"fill:#000000; fill-opacity:1; font-family:Arial,Helvetica Neue,Helvetica,sans-serif; font-size:48px; text-anchor:middle;\" transform=\"rotate(0, 248.527, 1557.47)\" x=\"248.527\" y=\"1557.47\">-1.0</text>\n</g>\n<g clip-path=\"url(#clip9701)\">\n<text style=\"fill:#000000; fill-opacity:1; font-family:Arial,Helvetica Neue,Helvetica,sans-serif; font-size:48px; text-anchor:middle;\" transform=\"rotate(0, 751.618, 1557.47)\" x=\"751.618\" y=\"1557.47\">-0.5</text>\n</g>\n<g clip-path=\"url(#clip9701)\">\n<text style=\"fill:#000000; fill-opacity:1; font-family:Arial,Helvetica Neue,Helvetica,sans-serif; font-size:48px; text-anchor:middle;\" transform=\"rotate(0, 1254.71, 1557.47)\" x=\"1254.71\" y=\"1557.47\">0.0</text>\n</g>\n<g clip-path=\"url(#clip9701)\">\n<text style=\"fill:#000000; fill-opacity:1; font-family:Arial,Helvetica Neue,Helvetica,sans-serif; font-size:48px; text-anchor:middle;\" transform=\"rotate(0, 1757.8, 1557.47)\" x=\"1757.8\" y=\"1557.47\">0.5</text>\n</g>\n<g clip-path=\"url(#clip9701)\">\n<text style=\"fill:#000000; fill-opacity:1; font-family:Arial,Helvetica Neue,Helvetica,sans-serif; font-size:48px; text-anchor:middle;\" transform=\"rotate(0, 2260.89, 1557.47)\" x=\"2260.89\" y=\"1557.47\">1.0</text>\n</g>\n<g clip-path=\"url(#clip9701)\">\n<text style=\"fill:#000000; fill-opacity:1; font-family:Arial,Helvetica Neue,Helvetica,sans-serif; font-size:48px; text-anchor:end;\" transform=\"rotate(0, 164.156, 1428.39)\" x=\"164.156\" y=\"1428.39\">0.00</text>\n</g>\n<g clip-path=\"url(#clip9701)\">\n<text style=\"fill:#000000; fill-opacity:1; font-family:Arial,Helvetica Neue,Helvetica,sans-serif; font-size:48px; text-anchor:end;\" transform=\"rotate(0, 164.156, 1097.58)\" x=\"164.156\" y=\"1097.58\">0.25</text>\n</g>\n<g clip-path=\"url(#clip9701)\">\n<text style=\"fill:#000000; fill-opacity:1; font-family:Arial,Helvetica Neue,Helvetica,sans-serif; font-size:48px; text-anchor:end;\" transform=\"rotate(0, 164.156, 766.771)\" x=\"164.156\" y=\"766.771\">0.50</text>\n</g>\n<g clip-path=\"url(#clip9701)\">\n<text style=\"fill:#000000; fill-opacity:1; font-family:Arial,Helvetica Neue,Helvetica,sans-serif; font-size:48px; text-anchor:end;\" transform=\"rotate(0, 164.156, 435.962)\" x=\"164.156\" y=\"435.962\">0.75</text>\n</g>\n<g clip-path=\"url(#clip9701)\">\n<text style=\"fill:#000000; fill-opacity:1; font-family:Arial,Helvetica Neue,Helvetica,sans-serif; font-size:48px; text-anchor:end;\" transform=\"rotate(0, 164.156, 105.153)\" x=\"164.156\" y=\"105.153\">1.00</text>\n</g>\n<polyline clip-path=\"url(#clip9703)\" style=\"stroke:#009af9; stroke-width:4; stroke-opacity:1; fill:none\" points=\"\n  268.18,1358.03 449.894,1333.03 559.097,1308.7 651.426,1278.4 701.574,1256.22 751.722,1228.31 797.954,1195.79 844.186,1154.53 893.752,1097.13 943.317,1021.06 \n  972.03,965.835 1000.74,900.519 1029.46,823.546 1058.17,733.644 1083.69,642.57 1109.2,541.942 1134.72,434.702 1160.24,326.609 1182.61,238.168 1204.99,163.777 \n  1216.18,134.446 1227.37,111.638 1238.55,96.125 1249.74,88.4582 1261.94,89.3598 1274.14,99.875 1286.34,119.552 1298.53,147.572 1310.73,182.835 1322.93,224.056 \n  1335.13,269.877 1347.33,318.953 1371.87,422.626 1396.41,526.268 1420.95,624.389 1445.49,714.007 1472.62,801.841 1499.76,877.933 1526.89,943.212 1554.02,998.96 \n  1579.84,1044.38 1605.66,1083.47 1631.47,1117.18 1657.29,1146.36 1710.97,1195.4 1764.66,1232.6 1809.85,1257.21 1855.05,1277.23 1965.4,1312.67 2069.13,1334.75 \n  2235.31,1357.42 \n  \"/>\n<circle clip-path=\"url(#clip9703)\" style=\"fill:#000000; stroke:none; fill-opacity:1\" cx=\"248.527\" cy=\"1360\" r=\"18\"/>\n<circle clip-path=\"url(#clip9703)\" style=\"fill:#e26f46; stroke:none; fill-opacity:1\" cx=\"248.527\" cy=\"1360\" r=\"14\"/>\n<circle clip-path=\"url(#clip9703)\" style=\"fill:#000000; stroke:none; fill-opacity:1\" cx=\"431.469\" cy=\"1336.28\" r=\"18\"/>\n<circle clip-path=\"url(#clip9703)\" style=\"fill:#e26f46; stroke:none; fill-opacity:1\" cx=\"431.469\" cy=\"1336.28\" r=\"14\"/>\n<circle clip-path=\"url(#clip9703)\" style=\"fill:#000000; stroke:none; fill-opacity:1\" cx=\"614.411\" cy=\"1291.94\" r=\"18\"/>\n<circle clip-path=\"url(#clip9703)\" style=\"fill:#e26f46; stroke:none; fill-opacity:1\" cx=\"614.411\" cy=\"1291.94\" r=\"14\"/>\n<circle clip-path=\"url(#clip9703)\" style=\"fill:#000000; stroke:none; fill-opacity:1\" cx=\"797.353\" cy=\"1196.26\" r=\"18\"/>\n<circle clip-path=\"url(#clip9703)\" style=\"fill:#e26f46; stroke:none; fill-opacity:1\" cx=\"797.353\" cy=\"1196.26\" r=\"14\"/>\n<circle clip-path=\"url(#clip9703)\" style=\"fill:#000000; stroke:none; fill-opacity:1\" cx=\"980.295\" cy=\"948.139\" r=\"18\"/>\n<circle clip-path=\"url(#clip9703)\" style=\"fill:#e26f46; stroke:none; fill-opacity:1\" cx=\"980.295\" cy=\"948.139\" r=\"14\"/>\n<circle clip-path=\"url(#clip9703)\" style=\"fill:#000000; stroke:none; fill-opacity:1\" cx=\"1163.24\" cy=\"314.235\" r=\"18\"/>\n<circle clip-path=\"url(#clip9703)\" style=\"fill:#e26f46; stroke:none; fill-opacity:1\" cx=\"1163.24\" cy=\"314.235\" r=\"14\"/>\n<circle clip-path=\"url(#clip9703)\" style=\"fill:#000000; stroke:none; fill-opacity:1\" cx=\"1346.18\" cy=\"314.235\" r=\"18\"/>\n<circle clip-path=\"url(#clip9703)\" style=\"fill:#e26f46; stroke:none; fill-opacity:1\" cx=\"1346.18\" cy=\"314.235\" r=\"14\"/>\n<circle clip-path=\"url(#clip9703)\" style=\"fill:#000000; stroke:none; fill-opacity:1\" cx=\"1529.12\" cy=\"948.139\" r=\"18\"/>\n<circle clip-path=\"url(#clip9703)\" style=\"fill:#e26f46; stroke:none; fill-opacity:1\" cx=\"1529.12\" cy=\"948.139\" r=\"14\"/>\n<circle clip-path=\"url(#clip9703)\" style=\"fill:#000000; stroke:none; fill-opacity:1\" cx=\"1712.06\" cy=\"1196.26\" r=\"18\"/>\n<circle clip-path=\"url(#clip9703)\" style=\"fill:#e26f46; stroke:none; fill-opacity:1\" cx=\"1712.06\" cy=\"1196.26\" r=\"14\"/>\n<circle clip-path=\"url(#clip9703)\" style=\"fill:#000000; stroke:none; fill-opacity:1\" cx=\"1895.01\" cy=\"1291.94\" r=\"18\"/>\n<circle clip-path=\"url(#clip9703)\" style=\"fill:#e26f46; stroke:none; fill-opacity:1\" cx=\"1895.01\" cy=\"1291.94\" r=\"14\"/>\n<circle clip-path=\"url(#clip9703)\" style=\"fill:#000000; stroke:none; fill-opacity:1\" cx=\"2077.95\" cy=\"1336.28\" r=\"18\"/>\n<circle clip-path=\"url(#clip9703)\" style=\"fill:#e26f46; stroke:none; fill-opacity:1\" cx=\"2077.95\" cy=\"1336.28\" r=\"14\"/>\n<circle clip-path=\"url(#clip9703)\" style=\"fill:#000000; stroke:none; fill-opacity:1\" cx=\"2260.89\" cy=\"1360\" r=\"18\"/>\n<circle clip-path=\"url(#clip9703)\" style=\"fill:#e26f46; stroke:none; fill-opacity:1\" cx=\"2260.89\" cy=\"1360\" r=\"14\"/>\n<polyline clip-path=\"url(#clip9703)\" style=\"stroke:#3da44d; stroke-width:4; stroke-opacity:1; fill:none\" points=\"\n  250.984,1282.91 253.44,1211.3 255.897,1144.94 258.353,1083.58 260.81,1027.02 263.267,975.054 265.723,927.463 268.18,884.054 271.019,838.839 273.858,798.666 \n  276.697,763.258 279.537,732.349 285.215,683.011 290.894,648.715 296.572,627.67 302.251,618.224 307.93,618.858 313.608,628.174 319.287,644.893 324.965,667.844 \n  330.644,695.962 336.323,728.274 347.68,802.058 359.037,883.16 381.751,1049 404.465,1198.74 415.823,1262.64 427.18,1317.82 438.537,1363.82 449.894,1400.56 \n  463.544,1432.82 477.195,1452.88 490.845,1461.92 504.495,1461.37 518.146,1452.77 531.796,1437.71 545.447,1417.79 559.097,1394.5 582.179,1351.27 605.262,1308.06 \n  628.344,1269.17 651.426,1237.44 676.5,1212.63 701.574,1197.89 726.648,1191.77 751.722,1191.72 797.954,1196.29 844.186,1188.07 868.969,1171.53 893.752,1143.7 \n  918.534,1103.33 943.317,1050.09 972.03,973.08 1000.74,881.833 1029.46,779.952 1058.17,672.087 1083.69,575.515 1109.2,482.405 1134.72,396.702 1160.24,322.114 \n  1171.43,293.774 1182.61,268.45 1193.8,246.359 1204.99,227.689 1216.18,212.601 1227.37,201.226 1238.55,193.662 1249.74,189.974 1261.94,190.406 1274.14,195.478 \n  1286.34,205.138 1298.53,219.288 1310.73,237.781 1322.93,260.429 1335.13,287 1347.33,317.224 1371.87,387.823 1396.41,469.064 1420.95,557.688 1445.49,650.205 \n  1472.62,752.757 1499.76,851.133 1526.89,941.209 1554.02,1019.61 1566.93,1052.08 1579.84,1081.19 1592.75,1106.82 1605.66,1128.94 1618.56,1147.59 1631.47,1162.84 \n  1644.38,1174.87 1657.29,1183.89 1684.13,1194.33 1710.97,1196.31 1737.82,1193.83 1764.66,1191.3 1787.26,1192.34 1809.85,1198.73 1832.45,1212.26 1855.05,1233.99 \n  1882.63,1271.6 1910.22,1319.14 1937.81,1371.38 1965.4,1420.05 1978.36,1438.67 1991.33,1452.82 2004.29,1461.14 2017.26,1462.26 2030.23,1454.85 2043.19,1437.68 \n  2056.16,1409.69 2069.13,1370.09 2079.51,1329.69 2089.9,1281.57 2100.29,1225.99 2110.67,1163.51 2131.45,1021.95 2152.22,869.731 2162.61,796.076 2172.99,728.876 \n  2178.19,699.114 2183.38,672.781 2188.57,650.608 2193.77,633.395 2198.96,622.009 2204.15,617.396 2209.35,620.581 2214.54,632.67 2219.73,654.86 2224.93,688.442 \n  2230.12,734.803 2235.31,795.434 2238.51,840.543 2241.71,892.059 2244.9,950.393 2248.1,1015.97 2251.3,1089.25 2254.5,1170.69 2257.69,1260.77 \n  \"/>\n<polygon clip-path=\"url(#clip9701)\" points=\"\n1781.83,372.684 2249.26,372.684 2249.26,130.764 1781.83,130.764 \n  \" fill=\"#ffffff\" fill-opacity=\"1\"/>\n<polyline clip-path=\"url(#clip9701)\" style=\"stroke:#000000; stroke-width:4; stroke-opacity:1; fill:none\" points=\"\n  1781.83,372.684 2249.26,372.684 2249.26,130.764 1781.83,130.764 1781.83,372.684 \n  \"/>\n<polyline clip-path=\"url(#clip9701)\" style=\"stroke:#009af9; stroke-width:4; stroke-opacity:1; fill:none\" points=\"\n  1805.83,191.244 1949.83,191.244 \n  \"/>\n<g clip-path=\"url(#clip9701)\">\n<text style=\"fill:#000000; fill-opacity:1; font-family:Arial,Helvetica Neue,Helvetica,sans-serif; font-size:48px; text-anchor:start;\" transform=\"rotate(0, 1973.83, 208.744)\" x=\"1973.83\" y=\"208.744\">y1</text>\n</g>\n<circle clip-path=\"url(#clip9701)\" style=\"fill:#000000; stroke:none; fill-opacity:1\" cx=\"1889.83\" cy=\"251.724\" r=\"25\"/>\n<circle clip-path=\"url(#clip9701)\" style=\"fill:#e26f46; stroke:none; fill-opacity:1\" cx=\"1889.83\" cy=\"251.724\" r=\"21\"/>\n<g clip-path=\"url(#clip9701)\">\n<text style=\"fill:#000000; fill-opacity:1; font-family:Arial,Helvetica Neue,Helvetica,sans-serif; font-size:48px; text-anchor:start;\" transform=\"rotate(0, 1973.83, 269.224)\" x=\"1973.83\" y=\"269.224\">y2</text>\n</g>\n<polyline clip-path=\"url(#clip9701)\" style=\"stroke:#3da44d; stroke-width:4; stroke-opacity:1; fill:none\" points=\"\n  1805.83,312.204 1949.83,312.204 \n  \"/>\n<g clip-path=\"url(#clip9701)\">\n<text style=\"fill:#000000; fill-opacity:1; font-family:Arial,Helvetica Neue,Helvetica,sans-serif; font-size:48px; text-anchor:start;\" transform=\"rotate(0, 1973.83, 329.704)\" x=\"1973.83\" y=\"329.704\">Interpolant</text>\n</g>\n</svg>\n"
               },
               "type": "node"
              }
             ],
             "instanceArgs": {
              "namespace": "html",
              "tag": "div"
             },
             "nodeType": "DOM",
             "props": {
              "attributes": {
               "style": "display:flex; justify-content:center; align-items:center;"
              }
             },
             "type": "node"
            }
           }
          },
          "systemjs_options": null
         },
         "nodeType": "Scope",
         "props": {},
         "type": "node"
        }
       ],
       "instanceArgs": {
        "namespace": "html",
        "tag": "div"
       },
       "nodeType": "DOM",
       "props": {},
       "type": "node"
      },
      "text/html": [
       "<div\n",
       "    class=\"webio-mountpoint\"\n",
       "    data-webio-mountpoint=\"9107861159214022270\"\n",
       ">\n",
       "    <script>\n",
       "    if (window.require && require.defined && require.defined(\"nbextensions/webio/main\")) {\n",
       "        console.log(\"Jupyter WebIO extension detected, not mounting.\");\n",
       "    } else if (window.WebIO) {\n",
       "        WebIO.mount(\n",
       "            document.querySelector('[data-webio-mountpoint=\"9107861159214022270\"]'),\n",
       "            {\"props\":{},\"nodeType\":\"DOM\",\"type\":\"node\",\"instanceArgs\":{\"namespace\":\"html\",\"tag\":\"div\"},\"children\":[{\"props\":{\"className\":\"field\"},\"nodeType\":\"DOM\",\"type\":\"node\",\"instanceArgs\":{\"namespace\":\"html\",\"tag\":\"div\"},\"children\":[{\"props\":{},\"nodeType\":\"Scope\",\"type\":\"node\",\"instanceArgs\":{\"imports\":{\"data\":[{\"name\":\"knockout\",\"type\":\"js\",\"url\":\"\\/assetserver\\/14729442142be2033c67c08d3f6ed58cf9e9306f-knockout.js\"},{\"name\":\"knockout_punches\",\"type\":\"js\",\"url\":\"\\/assetserver\\/0773a38c0aca1f5643d9ec49fad13ea9b3293506-knockout_punches.js\"},{\"name\":null,\"type\":\"js\",\"url\":\"\\/assetserver\\/56cd7e6e51b361c8e5378d2500dfd1b39707ca7c-all.js\"},{\"name\":null,\"type\":\"css\",\"url\":\"\\/assetserver\\/d226c2708e3ef23c5404b7f624792b7c5b133545-style.css\"},{\"name\":null,\"type\":\"css\",\"url\":\"\\/assetserver\\/742c1b9efe7657f980837af18d11a905cd62440b-main.css\"}],\"type\":\"async_block\"},\"id\":\"knockout-component-f339b53a-fdd6-4bbf-8c8d-58f53dd0a2b0\",\"handlers\":{\"_promises\":{\"importsLoaded\":[\"function (ko, koPunches) {\\n    ko.punches.enableAll();\\n    ko.bindingHandlers.numericValue = {\\n        init : function(element, valueAccessor, allBindings, data, context) {\\n            var stringified = ko.observable(ko.unwrap(valueAccessor()));\\n            stringified.subscribe(function(value) {\\n                var val = parseFloat(value);\\n                if (!isNaN(val)) {\\n                    valueAccessor()(val);\\n                }\\n            })\\n            valueAccessor().subscribe(function(value) {\\n                var str = JSON.stringify(value);\\n                if ((str == \\\"0\\\") && ([\\\"-0\\\", \\\"-0.\\\"].indexOf(stringified()) >= 0))\\n                     return;\\n                 if ([\\\"null\\\", \\\"\\\"].indexOf(str) >= 0)\\n                     return;\\n                stringified(str);\\n            })\\n            ko.applyBindingsToNode(element, { value: stringified, valueUpdate: allBindings.get('valueUpdate')}, context);\\n        }\\n    };\\n    var json_data = JSON.parse(\\\"{\\\\\\\"changes\\\\\\\":0,\\\\\\\"value\\\\\\\":11}\\\");\\n    var self = this;\\n    function AppViewModel() {\\n        for (var key in json_data) {\\n            var el = json_data[key];\\n            this[key] = Array.isArray(el) ? ko.observableArray(el) : ko.observable(el);\\n        }\\n        \\n        \\n        [this[\\\"changes\\\"].subscribe((function (val){!(this.valueFromJulia[\\\"changes\\\"]) ? (WebIO.setval({\\\"name\\\":\\\"changes\\\",\\\"scope\\\":\\\"knockout-component-f339b53a-fdd6-4bbf-8c8d-58f53dd0a2b0\\\",\\\"id\\\":\\\"ob_08\\\",\\\"type\\\":\\\"observable\\\"},val)) : undefined; return this.valueFromJulia[\\\"changes\\\"]=false}),self),this[\\\"value\\\"].subscribe((function (val){!(this.valueFromJulia[\\\"value\\\"]) ? (WebIO.setval({\\\"name\\\":\\\"value\\\",\\\"scope\\\":\\\"knockout-component-f339b53a-fdd6-4bbf-8c8d-58f53dd0a2b0\\\",\\\"id\\\":\\\"ob_07\\\",\\\"type\\\":\\\"observable\\\"},val)) : undefined; return this.valueFromJulia[\\\"value\\\"]=false}),self)]\\n        \\n    }\\n    self.model = new AppViewModel();\\n    self.valueFromJulia = {};\\n    for (var key in json_data) {\\n        self.valueFromJulia[key] = false;\\n    }\\n    ko.applyBindings(self.model, self.dom);\\n}\\n\"]},\"changes\":[\"(function (val){return (val!=this.model[\\\"changes\\\"]()) ? (this.valueFromJulia[\\\"changes\\\"]=true, this.model[\\\"changes\\\"](val)) : undefined})\"],\"value\":[\"(function (val){return (val!=this.model[\\\"value\\\"]()) ? (this.valueFromJulia[\\\"value\\\"]=true, this.model[\\\"value\\\"](val)) : undefined})\"]},\"systemjs_options\":null,\"observables\":{\"changes\":{\"sync\":false,\"id\":\"ob_08\",\"value\":0},\"value\":{\"sync\":true,\"id\":\"ob_07\",\"value\":11}}},\"children\":[{\"props\":{\"attributes\":{\"style\":\"display:flex; justify-content:center; align-items:center;\"}},\"nodeType\":\"DOM\",\"type\":\"node\",\"instanceArgs\":{\"namespace\":\"html\",\"tag\":\"div\"},\"children\":[{\"props\":{\"attributes\":{\"style\":\"text-align:right;width:18%\"}},\"nodeType\":\"DOM\",\"type\":\"node\",\"instanceArgs\":{\"namespace\":\"html\",\"tag\":\"div\"},\"children\":[{\"props\":{\"className\":\"interact \",\"style\":{\"padding\":\"5px 10px 0px 10px\"}},\"nodeType\":\"DOM\",\"type\":\"node\",\"instanceArgs\":{\"namespace\":\"html\",\"tag\":\"label\"},\"children\":[\"n\"]}]},{\"props\":{\"attributes\":{\"style\":\"flex-grow:1; margin: 0 2%\"}},\"nodeType\":\"DOM\",\"type\":\"node\",\"instanceArgs\":{\"namespace\":\"html\",\"tag\":\"div\"},\"children\":[{\"props\":{\"max\":20,\"min\":2,\"attributes\":{\"type\":\"range\",\"data-bind\":\"numericValue: value, valueUpdate: 'input', event: {change : function () {this.changes(this.changes()+1)}}\",\"orient\":\"horizontal\"},\"step\":1,\"className\":\"slider slider is-fullwidth\",\"style\":{}},\"nodeType\":\"DOM\",\"type\":\"node\",\"instanceArgs\":{\"namespace\":\"html\",\"tag\":\"input\"},\"children\":[]}]},{\"props\":{\"attributes\":{\"style\":\"width:18%\"}},\"nodeType\":\"DOM\",\"type\":\"node\",\"instanceArgs\":{\"namespace\":\"html\",\"tag\":\"div\"},\"children\":[{\"props\":{\"attributes\":{\"data-bind\":\"text: value\"}},\"nodeType\":\"DOM\",\"type\":\"node\",\"instanceArgs\":{\"namespace\":\"html\",\"tag\":\"p\"},\"children\":[]}]}]}]}]},{\"props\":{},\"nodeType\":\"Scope\",\"type\":\"node\",\"instanceArgs\":{\"imports\":{\"data\":[],\"type\":\"async_block\"},\"id\":\"scope-b900db51-d98e-4151-a084-aa0a200d7dfc\",\"handlers\":{},\"systemjs_options\":null,\"observables\":{\"obs-node\":{\"sync\":false,\"id\":\"ob_11\",\"value\":{\"props\":{\"attributes\":{\"style\":\"display:flex; justify-content:center; align-items:center;\"}},\"nodeType\":\"DOM\",\"type\":\"node\",\"instanceArgs\":{\"namespace\":\"html\",\"tag\":\"div\"},\"children\":[{\"props\":{\"setInnerHtml\":\"<?xml version=\\\"1.0\\\" encoding=\\\"utf-8\\\"?>\\n<svg xmlns=\\\"http:\\/\\/www.w3.org\\/2000\\/svg\\\" xmlns:xlink=\\\"http:\\/\\/www.w3.org\\/1999\\/xlink\\\" width=\\\"600\\\" height=\\\"400\\\" viewBox=\\\"0 0 2400 1600\\\">\\n<defs>\\n  <clipPath id=\\\"clip9500\\\">\\n    <rect x=\\\"0\\\" y=\\\"0\\\" width=\\\"2000\\\" height=\\\"2000\\\"\\/>\\n  <\\/clipPath>\\n<\\/defs>\\n<defs>\\n  <clipPath id=\\\"clip9501\\\">\\n    <rect x=\\\"0\\\" y=\\\"0\\\" width=\\\"2400\\\" height=\\\"1600\\\"\\/>\\n  <\\/clipPath>\\n<\\/defs>\\n<polygon clip-path=\\\"url(#clip9501)\\\" points=\\\"\\n0,1600 2400,1600 2400,0 0,0 \\n  \\\" fill=\\\"#ffffff\\\" fill-opacity=\\\"1\\\"\\/>\\n<defs>\\n  <clipPath id=\\\"clip9502\\\">\\n    <rect x=\\\"480\\\" y=\\\"0\\\" width=\\\"1681\\\" height=\\\"1600\\\"\\/>\\n  <\\/clipPath>\\n<\\/defs>\\n<polygon clip-path=\\\"url(#clip9501)\\\" points=\\\"\\n188.156,1503.47 2321.26,1503.47 2321.26,47.2441 188.156,47.2441 \\n  \\\" fill=\\\"#ffffff\\\" fill-opacity=\\\"1\\\"\\/>\\n<defs>\\n  <clipPath id=\\\"clip9503\\\">\\n    <rect x=\\\"188\\\" y=\\\"47\\\" width=\\\"2134\\\" height=\\\"1457\\\"\\/>\\n  <\\/clipPath>\\n<\\/defs>\\n<polyline clip-path=\\\"url(#clip9503)\\\" style=\\\"stroke:#000000; stroke-width:2; stroke-opacity:0.1; fill:none\\\" points=\\\"\\n  248.527,1503.47 248.527,47.2441 \\n  \\\"\\/>\\n<polyline clip-path=\\\"url(#clip9503)\\\" style=\\\"stroke:#000000; stroke-width:2; stroke-opacity:0.1; fill:none\\\" points=\\\"\\n  751.618,1503.47 751.618,47.2441 \\n  \\\"\\/>\\n<polyline clip-path=\\\"url(#clip9503)\\\" style=\\\"stroke:#000000; stroke-width:2; stroke-opacity:0.1; fill:none\\\" points=\\\"\\n  1254.71,1503.47 1254.71,47.2441 \\n  \\\"\\/>\\n<polyline clip-path=\\\"url(#clip9503)\\\" style=\\\"stroke:#000000; stroke-width:2; stroke-opacity:0.1; fill:none\\\" points=\\\"\\n  1757.8,1503.47 1757.8,47.2441 \\n  \\\"\\/>\\n<polyline clip-path=\\\"url(#clip9503)\\\" style=\\\"stroke:#000000; stroke-width:2; stroke-opacity:0.1; fill:none\\\" points=\\\"\\n  2260.89,1503.47 2260.89,47.2441 \\n  \\\"\\/>\\n<polyline clip-path=\\\"url(#clip9503)\\\" style=\\\"stroke:#000000; stroke-width:2; stroke-opacity:0.1; fill:none\\\" points=\\\"\\n  188.156,1410.89 2321.26,1410.89 \\n  \\\"\\/>\\n<polyline clip-path=\\\"url(#clip9503)\\\" style=\\\"stroke:#000000; stroke-width:2; stroke-opacity:0.1; fill:none\\\" points=\\\"\\n  188.156,1080.08 2321.26,1080.08 \\n  \\\"\\/>\\n<polyline clip-path=\\\"url(#clip9503)\\\" style=\\\"stroke:#000000; stroke-width:2; stroke-opacity:0.1; fill:none\\\" points=\\\"\\n  188.156,749.271 2321.26,749.271 \\n  \\\"\\/>\\n<polyline clip-path=\\\"url(#clip9503)\\\" style=\\\"stroke:#000000; stroke-width:2; stroke-opacity:0.1; fill:none\\\" points=\\\"\\n  188.156,418.462 2321.26,418.462 \\n  \\\"\\/>\\n<polyline clip-path=\\\"url(#clip9503)\\\" style=\\\"stroke:#000000; stroke-width:2; stroke-opacity:0.1; fill:none\\\" points=\\\"\\n  188.156,87.6529 2321.26,87.6529 \\n  \\\"\\/>\\n<polyline clip-path=\\\"url(#clip9501)\\\" style=\\\"stroke:#000000; stroke-width:4; stroke-opacity:1; fill:none\\\" points=\\\"\\n  188.156,1503.47 2321.26,1503.47 \\n  \\\"\\/>\\n<polyline clip-path=\\\"url(#clip9501)\\\" style=\\\"stroke:#000000; stroke-width:4; stroke-opacity:1; fill:none\\\" points=\\\"\\n  188.156,1503.47 188.156,47.2441 \\n  \\\"\\/>\\n<polyline clip-path=\\\"url(#clip9501)\\\" style=\\\"stroke:#000000; stroke-width:4; stroke-opacity:1; fill:none\\\" points=\\\"\\n  248.527,1503.47 248.527,1481.63 \\n  \\\"\\/>\\n<polyline clip-path=\\\"url(#clip9501)\\\" style=\\\"stroke:#000000; stroke-width:4; stroke-opacity:1; fill:none\\\" points=\\\"\\n  751.618,1503.47 751.618,1481.63 \\n  \\\"\\/>\\n<polyline clip-path=\\\"url(#clip9501)\\\" style=\\\"stroke:#000000; stroke-width:4; stroke-opacity:1; fill:none\\\" points=\\\"\\n  1254.71,1503.47 1254.71,1481.63 \\n  \\\"\\/>\\n<polyline clip-path=\\\"url(#clip9501)\\\" style=\\\"stroke:#000000; stroke-width:4; stroke-opacity:1; fill:none\\\" points=\\\"\\n  1757.8,1503.47 1757.8,1481.63 \\n  \\\"\\/>\\n<polyline clip-path=\\\"url(#clip9501)\\\" style=\\\"stroke:#000000; stroke-width:4; stroke-opacity:1; fill:none\\\" points=\\\"\\n  2260.89,1503.47 2260.89,1481.63 \\n  \\\"\\/>\\n<polyline clip-path=\\\"url(#clip9501)\\\" style=\\\"stroke:#000000; stroke-width:4; stroke-opacity:1; fill:none\\\" points=\\\"\\n  188.156,1410.89 220.153,1410.89 \\n  \\\"\\/>\\n<polyline clip-path=\\\"url(#clip9501)\\\" style=\\\"stroke:#000000; stroke-width:4; stroke-opacity:1; fill:none\\\" points=\\\"\\n  188.156,1080.08 220.153,1080.08 \\n  \\\"\\/>\\n<polyline clip-path=\\\"url(#clip9501)\\\" style=\\\"stroke:#000000; stroke-width:4; stroke-opacity:1; fill:none\\\" points=\\\"\\n  188.156,749.271 220.153,749.271 \\n  \\\"\\/>\\n<polyline clip-path=\\\"url(#clip9501)\\\" style=\\\"stroke:#000000; stroke-width:4; stroke-opacity:1; fill:none\\\" points=\\\"\\n  188.156,418.462 220.153,418.462 \\n  \\\"\\/>\\n<polyline clip-path=\\\"url(#clip9501)\\\" style=\\\"stroke:#000000; stroke-width:4; stroke-opacity:1; fill:none\\\" points=\\\"\\n  188.156,87.6529 220.153,87.6529 \\n  \\\"\\/>\\n<g clip-path=\\\"url(#clip9501)\\\">\\n<text style=\\\"fill:#000000; fill-opacity:1; font-family:Arial,Helvetica Neue,Helvetica,sans-serif; font-size:48px; text-anchor:middle;\\\" transform=\\\"rotate(0, 248.527, 1557.47)\\\" x=\\\"248.527\\\" y=\\\"1557.47\\\">-1.0<\\/text>\\n<\\/g>\\n<g clip-path=\\\"url(#clip9501)\\\">\\n<text style=\\\"fill:#000000; fill-opacity:1; font-family:Arial,Helvetica Neue,Helvetica,sans-serif; font-size:48px; text-anchor:middle;\\\" transform=\\\"rotate(0, 751.618, 1557.47)\\\" x=\\\"751.618\\\" y=\\\"1557.47\\\">-0.5<\\/text>\\n<\\/g>\\n<g clip-path=\\\"url(#clip9501)\\\">\\n<text style=\\\"fill:#000000; fill-opacity:1; font-family:Arial,Helvetica Neue,Helvetica,sans-serif; font-size:48px; text-anchor:middle;\\\" transform=\\\"rotate(0, 1254.71, 1557.47)\\\" x=\\\"1254.71\\\" y=\\\"1557.47\\\">0.0<\\/text>\\n<\\/g>\\n<g clip-path=\\\"url(#clip9501)\\\">\\n<text style=\\\"fill:#000000; fill-opacity:1; font-family:Arial,Helvetica Neue,Helvetica,sans-serif; font-size:48px; text-anchor:middle;\\\" transform=\\\"rotate(0, 1757.8, 1557.47)\\\" x=\\\"1757.8\\\" y=\\\"1557.47\\\">0.5<\\/text>\\n<\\/g>\\n<g clip-path=\\\"url(#clip9501)\\\">\\n<text style=\\\"fill:#000000; fill-opacity:1; font-family:Arial,Helvetica Neue,Helvetica,sans-serif; font-size:48px; text-anchor:middle;\\\" transform=\\\"rotate(0, 2260.89, 1557.47)\\\" x=\\\"2260.89\\\" y=\\\"1557.47\\\">1.0<\\/text>\\n<\\/g>\\n<g clip-path=\\\"url(#clip9501)\\\">\\n<text style=\\\"fill:#000000; fill-opacity:1; font-family:Arial,Helvetica Neue,Helvetica,sans-serif; font-size:48px; text-anchor:end;\\\" transform=\\\"rotate(0, 164.156, 1428.39)\\\" x=\\\"164.156\\\" y=\\\"1428.39\\\">0.00<\\/text>\\n<\\/g>\\n<g clip-path=\\\"url(#clip9501)\\\">\\n<text style=\\\"fill:#000000; fill-opacity:1; font-family:Arial,Helvetica Neue,Helvetica,sans-serif; font-size:48px; text-anchor:end;\\\" transform=\\\"rotate(0, 164.156, 1097.58)\\\" x=\\\"164.156\\\" y=\\\"1097.58\\\">0.25<\\/text>\\n<\\/g>\\n<g clip-path=\\\"url(#clip9501)\\\">\\n<text style=\\\"fill:#000000; fill-opacity:1; font-family:Arial,Helvetica Neue,Helvetica,sans-serif; font-size:48px; text-anchor:end;\\\" transform=\\\"rotate(0, 164.156, 766.771)\\\" x=\\\"164.156\\\" y=\\\"766.771\\\">0.50<\\/text>\\n<\\/g>\\n<g clip-path=\\\"url(#clip9501)\\\">\\n<text style=\\\"fill:#000000; fill-opacity:1; font-family:Arial,Helvetica Neue,Helvetica,sans-serif; font-size:48px; text-anchor:end;\\\" transform=\\\"rotate(0, 164.156, 435.962)\\\" x=\\\"164.156\\\" y=\\\"435.962\\\">0.75<\\/text>\\n<\\/g>\\n<g clip-path=\\\"url(#clip9501)\\\">\\n<text style=\\\"fill:#000000; fill-opacity:1; font-family:Arial,Helvetica Neue,Helvetica,sans-serif; font-size:48px; text-anchor:end;\\\" transform=\\\"rotate(0, 164.156, 105.153)\\\" x=\\\"164.156\\\" y=\\\"105.153\\\">1.00<\\/text>\\n<\\/g>\\n<polyline clip-path=\\\"url(#clip9503)\\\" style=\\\"stroke:#009af9; stroke-width:4; stroke-opacity:1; fill:none\\\" points=\\\"\\n  268.18,1358.03 449.894,1333.03 559.097,1308.7 651.426,1278.4 701.574,1256.22 751.722,1228.31 797.954,1195.79 844.186,1154.53 893.752,1097.13 943.317,1021.06 \\n  972.03,965.835 1000.74,900.519 1029.46,823.546 1058.17,733.644 1083.69,642.57 1109.2,541.942 1134.72,434.702 1160.24,326.609 1182.61,238.168 1204.99,163.777 \\n  1216.18,134.446 1227.37,111.638 1238.55,96.125 1249.74,88.4582 1261.94,89.3598 1274.14,99.875 1286.34,119.552 1298.53,147.572 1310.73,182.835 1322.93,224.056 \\n  1335.13,269.877 1347.33,318.953 1371.87,422.626 1396.41,526.268 1420.95,624.389 1445.49,714.007 1472.62,801.841 1499.76,877.933 1526.89,943.212 1554.02,998.96 \\n  1579.84,1044.38 1605.66,1083.47 1631.47,1117.18 1657.29,1146.36 1710.97,1195.4 1764.66,1232.6 1809.85,1257.21 1855.05,1277.23 1965.4,1312.67 2069.13,1334.75 \\n  2235.31,1357.42 \\n  \\\"\\/>\\n<circle clip-path=\\\"url(#clip9503)\\\" style=\\\"fill:#000000; stroke:none; fill-opacity:1\\\" cx=\\\"248.527\\\" cy=\\\"1360\\\" r=\\\"18\\\"\\/>\\n<circle clip-path=\\\"url(#clip9503)\\\" style=\\\"fill:#e26f46; stroke:none; fill-opacity:1\\\" cx=\\\"248.527\\\" cy=\\\"1360\\\" r=\\\"14\\\"\\/>\\n<circle clip-path=\\\"url(#clip9503)\\\" style=\\\"fill:#000000; stroke:none; fill-opacity:1\\\" cx=\\\"431.469\\\" cy=\\\"1336.28\\\" r=\\\"18\\\"\\/>\\n<circle clip-path=\\\"url(#clip9503)\\\" style=\\\"fill:#e26f46; stroke:none; fill-opacity:1\\\" cx=\\\"431.469\\\" cy=\\\"1336.28\\\" r=\\\"14\\\"\\/>\\n<circle clip-path=\\\"url(#clip9503)\\\" style=\\\"fill:#000000; stroke:none; fill-opacity:1\\\" cx=\\\"614.411\\\" cy=\\\"1291.94\\\" r=\\\"18\\\"\\/>\\n<circle clip-path=\\\"url(#clip9503)\\\" style=\\\"fill:#e26f46; stroke:none; fill-opacity:1\\\" cx=\\\"614.411\\\" cy=\\\"1291.94\\\" r=\\\"14\\\"\\/>\\n<circle clip-path=\\\"url(#clip9503)\\\" style=\\\"fill:#000000; stroke:none; fill-opacity:1\\\" cx=\\\"797.353\\\" cy=\\\"1196.26\\\" r=\\\"18\\\"\\/>\\n<circle clip-path=\\\"url(#clip9503)\\\" style=\\\"fill:#e26f46; stroke:none; fill-opacity:1\\\" cx=\\\"797.353\\\" cy=\\\"1196.26\\\" r=\\\"14\\\"\\/>\\n<circle clip-path=\\\"url(#clip9503)\\\" style=\\\"fill:#000000; stroke:none; fill-opacity:1\\\" cx=\\\"980.295\\\" cy=\\\"948.139\\\" r=\\\"18\\\"\\/>\\n<circle clip-path=\\\"url(#clip9503)\\\" style=\\\"fill:#e26f46; stroke:none; fill-opacity:1\\\" cx=\\\"980.295\\\" cy=\\\"948.139\\\" r=\\\"14\\\"\\/>\\n<circle clip-path=\\\"url(#clip9503)\\\" style=\\\"fill:#000000; stroke:none; fill-opacity:1\\\" cx=\\\"1163.24\\\" cy=\\\"314.235\\\" r=\\\"18\\\"\\/>\\n<circle clip-path=\\\"url(#clip9503)\\\" style=\\\"fill:#e26f46; stroke:none; fill-opacity:1\\\" cx=\\\"1163.24\\\" cy=\\\"314.235\\\" r=\\\"14\\\"\\/>\\n<circle clip-path=\\\"url(#clip9503)\\\" style=\\\"fill:#000000; stroke:none; fill-opacity:1\\\" cx=\\\"1346.18\\\" cy=\\\"314.235\\\" r=\\\"18\\\"\\/>\\n<circle clip-path=\\\"url(#clip9503)\\\" style=\\\"fill:#e26f46; stroke:none; fill-opacity:1\\\" cx=\\\"1346.18\\\" cy=\\\"314.235\\\" r=\\\"14\\\"\\/>\\n<circle clip-path=\\\"url(#clip9503)\\\" style=\\\"fill:#000000; stroke:none; fill-opacity:1\\\" cx=\\\"1529.12\\\" cy=\\\"948.139\\\" r=\\\"18\\\"\\/>\\n<circle clip-path=\\\"url(#clip9503)\\\" style=\\\"fill:#e26f46; stroke:none; fill-opacity:1\\\" cx=\\\"1529.12\\\" cy=\\\"948.139\\\" r=\\\"14\\\"\\/>\\n<circle clip-path=\\\"url(#clip9503)\\\" style=\\\"fill:#000000; stroke:none; fill-opacity:1\\\" cx=\\\"1712.06\\\" cy=\\\"1196.26\\\" r=\\\"18\\\"\\/>\\n<circle clip-path=\\\"url(#clip9503)\\\" style=\\\"fill:#e26f46; stroke:none; fill-opacity:1\\\" cx=\\\"1712.06\\\" cy=\\\"1196.26\\\" r=\\\"14\\\"\\/>\\n<circle clip-path=\\\"url(#clip9503)\\\" style=\\\"fill:#000000; stroke:none; fill-opacity:1\\\" cx=\\\"1895.01\\\" cy=\\\"1291.94\\\" r=\\\"18\\\"\\/>\\n<circle clip-path=\\\"url(#clip9503)\\\" style=\\\"fill:#e26f46; stroke:none; fill-opacity:1\\\" cx=\\\"1895.01\\\" cy=\\\"1291.94\\\" r=\\\"14\\\"\\/>\\n<circle clip-path=\\\"url(#clip9503)\\\" style=\\\"fill:#000000; stroke:none; fill-opacity:1\\\" cx=\\\"2077.95\\\" cy=\\\"1336.28\\\" r=\\\"18\\\"\\/>\\n<circle clip-path=\\\"url(#clip9503)\\\" style=\\\"fill:#e26f46; stroke:none; fill-opacity:1\\\" cx=\\\"2077.95\\\" cy=\\\"1336.28\\\" r=\\\"14\\\"\\/>\\n<circle clip-path=\\\"url(#clip9503)\\\" style=\\\"fill:#000000; stroke:none; fill-opacity:1\\\" cx=\\\"2260.89\\\" cy=\\\"1360\\\" r=\\\"18\\\"\\/>\\n<circle clip-path=\\\"url(#clip9503)\\\" style=\\\"fill:#e26f46; stroke:none; fill-opacity:1\\\" cx=\\\"2260.89\\\" cy=\\\"1360\\\" r=\\\"14\\\"\\/>\\n<polyline clip-path=\\\"url(#clip9503)\\\" style=\\\"stroke:#3da44d; stroke-width:4; stroke-opacity:1; fill:none\\\" points=\\\"\\n  250.984,1282.91 253.44,1211.3 255.897,1144.94 258.353,1083.58 260.81,1027.02 263.267,975.054 265.723,927.463 268.18,884.054 271.019,838.839 273.858,798.666 \\n  276.697,763.258 279.537,732.349 285.215,683.011 290.894,648.715 296.572,627.67 302.251,618.224 307.93,618.858 313.608,628.174 319.287,644.893 324.965,667.844 \\n  330.644,695.962 336.323,728.274 347.68,802.058 359.037,883.16 381.751,1049 404.465,1198.74 415.823,1262.64 427.18,1317.82 438.537,1363.82 449.894,1400.56 \\n  463.544,1432.82 477.195,1452.88 490.845,1461.92 504.495,1461.37 518.146,1452.77 531.796,1437.71 545.447,1417.79 559.097,1394.5 582.179,1351.27 605.262,1308.06 \\n  628.344,1269.17 651.426,1237.44 676.5,1212.63 701.574,1197.89 726.648,1191.77 751.722,1191.72 797.954,1196.29 844.186,1188.07 868.969,1171.53 893.752,1143.7 \\n  918.534,1103.33 943.317,1050.09 972.03,973.08 1000.74,881.833 1029.46,779.952 1058.17,672.087 1083.69,575.515 1109.2,482.405 1134.72,396.702 1160.24,322.114 \\n  1171.43,293.774 1182.61,268.45 1193.8,246.359 1204.99,227.689 1216.18,212.601 1227.37,201.226 1238.55,193.662 1249.74,189.974 1261.94,190.406 1274.14,195.478 \\n  1286.34,205.138 1298.53,219.288 1310.73,237.781 1322.93,260.429 1335.13,287 1347.33,317.224 1371.87,387.823 1396.41,469.064 1420.95,557.688 1445.49,650.205 \\n  1472.62,752.757 1499.76,851.133 1526.89,941.209 1554.02,1019.61 1566.93,1052.08 1579.84,1081.19 1592.75,1106.82 1605.66,1128.94 1618.56,1147.59 1631.47,1162.84 \\n  1644.38,1174.87 1657.29,1183.89 1684.13,1194.33 1710.97,1196.31 1737.82,1193.83 1764.66,1191.3 1787.26,1192.34 1809.85,1198.73 1832.45,1212.26 1855.05,1233.99 \\n  1882.63,1271.6 1910.22,1319.14 1937.81,1371.38 1965.4,1420.05 1978.36,1438.67 1991.33,1452.82 2004.29,1461.14 2017.26,1462.26 2030.23,1454.85 2043.19,1437.68 \\n  2056.16,1409.69 2069.13,1370.09 2079.51,1329.69 2089.9,1281.57 2100.29,1225.99 2110.67,1163.51 2131.45,1021.95 2152.22,869.731 2162.61,796.076 2172.99,728.876 \\n  2178.19,699.114 2183.38,672.781 2188.57,650.608 2193.77,633.395 2198.96,622.009 2204.15,617.396 2209.35,620.581 2214.54,632.67 2219.73,654.86 2224.93,688.442 \\n  2230.12,734.803 2235.31,795.434 2238.51,840.543 2241.71,892.059 2244.9,950.393 2248.1,1015.97 2251.3,1089.25 2254.5,1170.69 2257.69,1260.77 \\n  \\\"\\/>\\n<polygon clip-path=\\\"url(#clip9501)\\\" points=\\\"\\n1781.83,372.684 2249.26,372.684 2249.26,130.764 1781.83,130.764 \\n  \\\" fill=\\\"#ffffff\\\" fill-opacity=\\\"1\\\"\\/>\\n<polyline clip-path=\\\"url(#clip9501)\\\" style=\\\"stroke:#000000; stroke-width:4; stroke-opacity:1; fill:none\\\" points=\\\"\\n  1781.83,372.684 2249.26,372.684 2249.26,130.764 1781.83,130.764 1781.83,372.684 \\n  \\\"\\/>\\n<polyline clip-path=\\\"url(#clip9501)\\\" style=\\\"stroke:#009af9; stroke-width:4; stroke-opacity:1; fill:none\\\" points=\\\"\\n  1805.83,191.244 1949.83,191.244 \\n  \\\"\\/>\\n<g clip-path=\\\"url(#clip9501)\\\">\\n<text style=\\\"fill:#000000; fill-opacity:1; font-family:Arial,Helvetica Neue,Helvetica,sans-serif; font-size:48px; text-anchor:start;\\\" transform=\\\"rotate(0, 1973.83, 208.744)\\\" x=\\\"1973.83\\\" y=\\\"208.744\\\">y1<\\/text>\\n<\\/g>\\n<circle clip-path=\\\"url(#clip9501)\\\" style=\\\"fill:#000000; stroke:none; fill-opacity:1\\\" cx=\\\"1889.83\\\" cy=\\\"251.724\\\" r=\\\"25\\\"\\/>\\n<circle clip-path=\\\"url(#clip9501)\\\" style=\\\"fill:#e26f46; stroke:none; fill-opacity:1\\\" cx=\\\"1889.83\\\" cy=\\\"251.724\\\" r=\\\"21\\\"\\/>\\n<g clip-path=\\\"url(#clip9501)\\\">\\n<text style=\\\"fill:#000000; fill-opacity:1; font-family:Arial,Helvetica Neue,Helvetica,sans-serif; font-size:48px; text-anchor:start;\\\" transform=\\\"rotate(0, 1973.83, 269.224)\\\" x=\\\"1973.83\\\" y=\\\"269.224\\\">y2<\\/text>\\n<\\/g>\\n<polyline clip-path=\\\"url(#clip9501)\\\" style=\\\"stroke:#3da44d; stroke-width:4; stroke-opacity:1; fill:none\\\" points=\\\"\\n  1805.83,312.204 1949.83,312.204 \\n  \\\"\\/>\\n<g clip-path=\\\"url(#clip9501)\\\">\\n<text style=\\\"fill:#000000; fill-opacity:1; font-family:Arial,Helvetica Neue,Helvetica,sans-serif; font-size:48px; text-anchor:start;\\\" transform=\\\"rotate(0, 1973.83, 329.704)\\\" x=\\\"1973.83\\\" y=\\\"329.704\\\">Interpolant<\\/text>\\n<\\/g>\\n<\\/svg>\\n\"},\"nodeType\":\"DOM\",\"type\":\"node\",\"instanceArgs\":{\"namespace\":\"html\",\"tag\":\"div\"},\"children\":[]}]}}}},\"children\":[{\"props\":{},\"nodeType\":\"ObservableNode\",\"type\":\"node\",\"instanceArgs\":{\"id\":\"ob_11\",\"name\":\"obs-node\"},\"children\":[]}]}]},\n",
       "        );\n",
       "    } else {\n",
       "        document\n",
       "            .querySelector('[data-webio-mountpoint=\"9107861159214022270\"]')\n",
       "            .innerHTML = '<strong>WebIO not detected.</strong>';\n",
       "    }\n",
       "    </script>\n",
       "</div>\n"
      ],
      "text/plain": [
       "Widget{:manipulate,Any}(OrderedDict{Symbol,Any}(:n=>Widget{:slider,Int64}(OrderedDict{Symbol,Any}(:changes=>Observable{Int64}(\"ob_08\", 0, Any[SyncCallback(Scope(\"knockout-component-f339b53a-fdd6-4bbf-8c8d-58f53dd0a2b0\", Node{DOM}(DOM(:html, :div), Any[Node{DOM}(DOM(:html, :div), Any[Node{DOM}(DOM(:html, :label), Any[\"n\"], Dict{Symbol,Any}(:className=>\"interact \",:style=>Dict{Any,Any}(:padding=>\"5px 10px 0px 10px\")), 1)], Dict{Symbol,Any}(:attributes=>Dict(\"style\"=>\"text-align:right;width:18%\")), 2), Node{DOM}(DOM(:html, :div), Any[Node{DOM}(DOM(:html, :input), Any[], Dict{Symbol,Any}(:max=>20,:min=>2,:attributes=>Dict{Any,Any}(:type=>\"range\",Symbol(\"data-bind\")=>\"numericValue: value, valueUpdate: 'input', event: {change : function () {this.changes(this.changes()+1)}}\",\"orient\"=>\"horizontal\"),:step=>1,:className=>\"slider slider is-fullwidth\",:style=>Dict{Any,Any}()), 0)], Dict{Symbol,Any}(:attributes=>Dict(\"style\"=>\"flex-grow:1; margin: 0 2%\")), 1), Node{DOM}(DOM(:html, :div), Any[Node{DOM}(DOM(:html, :p), Any[], Dict{Symbol,Any}(:attributes=>Dict(\"data-bind\"=>\"text: value\")), 0)], Dict{Symbol,Any}(:attributes=>Dict(\"style\"=>\"width:18%\")), 1)], Dict{Symbol,Any}(:attributes=>Dict(\"style\"=>\"display:flex; justify-content:center; align-items:center;\")), 7), Dict{String,Tuple{Observables.AbstractObservable,Union{Nothing, Bool}}}(\"changes\"=>(Observable{Int64}(#= circular reference @-6 =#), nothing),\"value\"=>(Observable{Int64}(\"ob_07\", 11, Any[SyncCallback(Scope(#= circular reference @-6 =#), SyncCallback(Scope(#= circular reference @-7 =#), ##36#38{Scope,String}(Scope(#= circular reference @-8 =#), \"value\"))), #g#15{##16#17{##67#70,Observable{Any}},Tuple{Observable{Int64}}}(##16#17{##67#70,Observable{Any}}(##67#70(), Observable{Any}(\"ob_09\", Plot{Plots.GRBackend() n=3}, Any[])), (Observable{Int64}(#= circular reference @-4 =#),))]), nothing)), Set(String[]), nothing, Any[\"knockout\"=>\"/home/shashi/.julia/packages/Knockout/JIqpG/src/../assets/knockout.js\", \"knockout_punches\"=>\"/home/shashi/.julia/packages/Knockout/JIqpG/src/../assets/knockout_punches.js\", \"/home/shashi/.julia/packages/InteractBase/Q4IkI/src/../assets/all.js\", \"/home/shashi/.julia/packages/InteractBase/Q4IkI/src/../assets/style.css\", \"/home/shashi/.julia/packages/InteractBulma/Ohu5Y/src/../assets/main.css\"], Dict{Any,Any}(\"_promises\"=>Dict{Any,Any}(\"importsLoaded\"=>Any[JSString(\"function (ko, koPunches) {\\n    ko.punches.enableAll();\\n    ko.bindingHandlers.numericValue = {\\n        init : function(element, valueAccessor, allBindings, data, context) {\\n            var stringified = ko.observable(ko.unwrap(valueAccessor()));\\n            stringified.subscribe(function(value) {\\n                var val = parseFloat(value);\\n                if (!isNaN(val)) {\\n                    valueAccessor()(val);\\n                }\\n            })\\n            valueAccessor().subscribe(function(value) {\\n                var str = JSON.stringify(value);\\n                if ((str == \\\"0\\\") && ([\\\"-0\\\", \\\"-0.\\\"].indexOf(stringified()) >= 0))\\n                     return;\\n                 if ([\\\"null\\\", \\\"\\\"].indexOf(str) >= 0)\\n                     return;\\n                stringified(str);\\n            })\\n            ko.applyBindingsToNode(element, { value: stringified, valueUpdate: allBindings.get('valueUpdate')}, context);\\n        }\\n    };\\n    var json_data = JSON.parse(\\\"{\\\\\\\"changes\\\\\\\":0,\\\\\\\"value\\\\\\\":11}\\\");\\n    var self = this;\\n    function AppViewModel() {\\n        for (var key in json_data) {\\n            var el = json_data[key];\\n            this[key] = Array.isArray(el) ? ko.observableArray(el) : ko.observable(el);\\n        }\\n        \\n        \\n        [this[\\\"changes\\\"].subscribe((function (val){!(this.valueFromJulia[\\\"changes\\\"]) ? (WebIO.setval({\\\"name\\\":\\\"changes\\\",\\\"scope\\\":\\\"knockout-component-f339b53a-fdd6-4bbf-8c8d-58f53dd0a2b0\\\",\\\"id\\\":\\\"ob_08\\\",\\\"type\\\":\\\"observable\\\"},val)) : undefined; return this.valueFromJulia[\\\"changes\\\"]=false}),self),this[\\\"value\\\"].subscribe((function (val){!(this.valueFromJulia[\\\"value\\\"]) ? (WebIO.setval({\\\"name\\\":\\\"value\\\",\\\"scope\\\":\\\"knockout-component-f339b53a-fdd6-4bbf-8c8d-58f53dd0a2b0\\\",\\\"id\\\":\\\"ob_07\\\",\\\"type\\\":\\\"observable\\\"},val)) : undefined; return this.valueFromJulia[\\\"value\\\"]=false}),self)]\\n        \\n    }\\n    self.model = new AppViewModel();\\n    self.valueFromJulia = {};\\n    for (var key in json_data) {\\n        self.valueFromJulia[key] = false;\\n    }\\n    ko.applyBindings(self.model, self.dom);\\n}\\n\")]),\"changes\"=>Any[JSString(\"(function (val){return (val!=this.model[\\\"changes\\\"]()) ? (this.valueFromJulia[\\\"changes\\\"]=true, this.model[\\\"changes\\\"](val)) : undefined})\")],\"value\"=>Any[JSString(\"(function (val){return (val!=this.model[\\\"value\\\"]()) ? (this.valueFromJulia[\\\"value\\\"]=true, this.model[\\\"value\\\"](val)) : undefined})\")]), ConnectionPool(Channel{Any}(sz_max:9223372036854775807,sz_curr:0), Set(AbstractConnection[]), Channel{AbstractConnection}(sz_max:32,sz_curr:0))), SyncCallback(Scope(\"knockout-component-f339b53a-fdd6-4bbf-8c8d-58f53dd0a2b0\", Node{DOM}(DOM(:html, :div), Any[Node{DOM}(DOM(:html, :div), Any[Node{DOM}(DOM(:html, :label), Any[\"n\"], Dict{Symbol,Any}(:className=>\"interact \",:style=>Dict{Any,Any}(:padding=>\"5px 10px 0px 10px\")), 1)], Dict{Symbol,Any}(:attributes=>Dict(\"style\"=>\"text-align:right;width:18%\")), 2), Node{DOM}(DOM(:html, :div), Any[Node{DOM}(DOM(:html, :input), Any[], Dict{Symbol,Any}(:max=>20,:min=>2,:attributes=>Dict{Any,Any}(:type=>\"range\",Symbol(\"data-bind\")=>\"numericValue: value, valueUpdate: 'input', event: {change : function () {this.changes(this.changes()+1)}}\",\"orient\"=>\"horizontal\"),:step=>1,:className=>\"slider slider is-fullwidth\",:style=>Dict{Any,Any}()), 0)], Dict{Symbol,Any}(:attributes=>Dict(\"style\"=>\"flex-grow:1; margin: 0 2%\")), 1), Node{DOM}(DOM(:html, :div), Any[Node{DOM}(DOM(:html, :p), Any[], Dict{Symbol,Any}(:attributes=>Dict(\"data-bind\"=>\"text: value\")), 0)], Dict{Symbol,Any}(:attributes=>Dict(\"style\"=>\"width:18%\")), 1)], Dict{Symbol,Any}(:attributes=>Dict(\"style\"=>\"display:flex; justify-content:center; align-items:center;\")), 7), Dict{String,Tuple{Observables.AbstractObservable,Union{Nothing, Bool}}}(\"changes\"=>(Observable{Int64}(#= circular reference @-7 =#), nothing),\"value\"=>(Observable{Int64}(\"ob_07\", 11, Any[SyncCallback(Scope(#= circular reference @-6 =#), SyncCallback(Scope(#= circular reference @-7 =#), ##36#38{Scope,String}(Scope(#= circular reference @-8 =#), \"value\"))), #g#15{##16#17{##67#70,Observable{Any}},Tuple{Observable{Int64}}}(##16#17{##67#70,Observable{Any}}(##67#70(), Observable{Any}(\"ob_09\", Plot{Plots.GRBackend() n=3}, Any[])), (Observable{Int64}(#= circular reference @-4 =#),))]), nothing)), Set(String[]), nothing, Any[\"knockout\"=>\"/home/shashi/.julia/packages/Knockout/JIqpG/src/../assets/knockout.js\", \"knockout_punches\"=>\"/home/shashi/.julia/packages/Knockout/JIqpG/src/../assets/knockout_punches.js\", \"/home/shashi/.julia/packages/InteractBase/Q4IkI/src/../assets/all.js\", \"/home/shashi/.julia/packages/InteractBase/Q4IkI/src/../assets/style.css\", \"/home/shashi/.julia/packages/InteractBulma/Ohu5Y/src/../assets/main.css\"], Dict{Any,Any}(\"_promises\"=>Dict{Any,Any}(\"importsLoaded\"=>Any[JSString(\"function (ko, koPunches) {\\n    ko.punches.enableAll();\\n    ko.bindingHandlers.numericValue = {\\n        init : function(element, valueAccessor, allBindings, data, context) {\\n            var stringified = ko.observable(ko.unwrap(valueAccessor()));\\n            stringified.subscribe(function(value) {\\n                var val = parseFloat(value);\\n                if (!isNaN(val)) {\\n                    valueAccessor()(val);\\n                }\\n            })\\n            valueAccessor().subscribe(function(value) {\\n                var str = JSON.stringify(value);\\n                if ((str == \\\"0\\\") && ([\\\"-0\\\", \\\"-0.\\\"].indexOf(stringified()) >= 0))\\n                     return;\\n                 if ([\\\"null\\\", \\\"\\\"].indexOf(str) >= 0)\\n                     return;\\n                stringified(str);\\n            })\\n            ko.applyBindingsToNode(element, { value: stringified, valueUpdate: allBindings.get('valueUpdate')}, context);\\n        }\\n    };\\n    var json_data = JSON.parse(\\\"{\\\\\\\"changes\\\\\\\":0,\\\\\\\"value\\\\\\\":11}\\\");\\n    var self = this;\\n    function AppViewModel() {\\n        for (var key in json_data) {\\n            var el = json_data[key];\\n            this[key] = Array.isArray(el) ? ko.observableArray(el) : ko.observable(el);\\n        }\\n        \\n        \\n        [this[\\\"changes\\\"].subscribe((function (val){!(this.valueFromJulia[\\\"changes\\\"]) ? (WebIO.setval({\\\"name\\\":\\\"changes\\\",\\\"scope\\\":\\\"knockout-component-f339b53a-fdd6-4bbf-8c8d-58f53dd0a2b0\\\",\\\"id\\\":\\\"ob_08\\\",\\\"type\\\":\\\"observable\\\"},val)) : undefined; return this.valueFromJulia[\\\"changes\\\"]=false}),self),this[\\\"value\\\"].subscribe((function (val){!(this.valueFromJulia[\\\"value\\\"]) ? (WebIO.setval({\\\"name\\\":\\\"value\\\",\\\"scope\\\":\\\"knockout-component-f339b53a-fdd6-4bbf-8c8d-58f53dd0a2b0\\\",\\\"id\\\":\\\"ob_07\\\",\\\"type\\\":\\\"observable\\\"},val)) : undefined; return this.valueFromJulia[\\\"value\\\"]=false}),self)]\\n        \\n    }\\n    self.model = new AppViewModel();\\n    self.valueFromJulia = {};\\n    for (var key in json_data) {\\n        self.valueFromJulia[key] = false;\\n    }\\n    ko.applyBindings(self.model, self.dom);\\n}\\n\")]),\"changes\"=>Any[JSString(\"(function (val){return (val!=this.model[\\\"changes\\\"]()) ? (this.valueFromJulia[\\\"changes\\\"]=true, this.model[\\\"changes\\\"](val)) : undefined})\")],\"value\"=>Any[JSString(\"(function (val){return (val!=this.model[\\\"value\\\"]()) ? (this.valueFromJulia[\\\"value\\\"]=true, this.model[\\\"value\\\"](val)) : undefined})\")]), ConnectionPool(Channel{Any}(sz_max:9223372036854775807,sz_curr:0), Set(AbstractConnection[]), Channel{AbstractConnection}(sz_max:32,sz_curr:0))), ##36#38{Scope,String}(Scope(\"knockout-component-f339b53a-fdd6-4bbf-8c8d-58f53dd0a2b0\", Node{DOM}(DOM(:html, :div), Any[Node{DOM}(DOM(:html, :div), Any[Node{DOM}(DOM(:html, :label), Any[\"n\"], Dict{Symbol,Any}(:className=>\"interact \",:style=>Dict{Any,Any}(:padding=>\"5px 10px 0px 10px\")), 1)], Dict{Symbol,Any}(:attributes=>Dict(\"style\"=>\"text-align:right;width:18%\")), 2), Node{DOM}(DOM(:html, :div), Any[Node{DOM}(DOM(:html, :input), Any[], Dict{Symbol,Any}(:max=>20,:min=>2,:attributes=>Dict{Any,Any}(:type=>\"range\",Symbol(\"data-bind\")=>\"numericValue: value, valueUpdate: 'input', event: {change : function () {this.changes(this.changes()+1)}}\",\"orient\"=>\"horizontal\"),:step=>1,:className=>\"slider slider is-fullwidth\",:style=>Dict{Any,Any}()), 0)], Dict{Symbol,Any}(:attributes=>Dict(\"style\"=>\"flex-grow:1; margin: 0 2%\")), 1), Node{DOM}(DOM(:html, :div), Any[Node{DOM}(DOM(:html, :p), Any[], Dict{Symbol,Any}(:attributes=>Dict(\"data-bind\"=>\"text: value\")), 0)], Dict{Symbol,Any}(:attributes=>Dict(\"style\"=>\"width:18%\")), 1)], Dict{Symbol,Any}(:attributes=>Dict(\"style\"=>\"display:flex; justify-content:center; align-items:center;\")), 7), Dict{String,Tuple{Observables.AbstractObservable,Union{Nothing, Bool}}}(\"changes\"=>(Observable{Int64}(#= circular reference @-8 =#), nothing),\"value\"=>(Observable{Int64}(\"ob_07\", 11, Any[SyncCallback(Scope(#= circular reference @-6 =#), SyncCallback(Scope(#= circular reference @-7 =#), ##36#38{Scope,String}(Scope(#= circular reference @-8 =#), \"value\"))), #g#15{##16#17{##67#70,Observable{Any}},Tuple{Observable{Int64}}}(##16#17{##67#70,Observable{Any}}(##67#70(), Observable{Any}(\"ob_09\", Plot{Plots.GRBackend() n=3}, Any[])), (Observable{Int64}(#= circular reference @-4 =#),))]), nothing)), Set(String[]), nothing, Any[\"knockout\"=>\"/home/shashi/.julia/packages/Knockout/JIqpG/src/../assets/knockout.js\", \"knockout_punches\"=>\"/home/shashi/.julia/packages/Knockout/JIqpG/src/../assets/knockout_punches.js\", \"/home/shashi/.julia/packages/InteractBase/Q4IkI/src/../assets/all.js\", \"/home/shashi/.julia/packages/InteractBase/Q4IkI/src/../assets/style.css\", \"/home/shashi/.julia/packages/InteractBulma/Ohu5Y/src/../assets/main.css\"], Dict{Any,Any}(\"_promises\"=>Dict{Any,Any}(\"importsLoaded\"=>Any[JSString(\"function (ko, koPunches) {\\n    ko.punches.enableAll();\\n    ko.bindingHandlers.numericValue = {\\n        init : function(element, valueAccessor, allBindings, data, context) {\\n            var stringified = ko.observable(ko.unwrap(valueAccessor()));\\n            stringified.subscribe(function(value) {\\n                var val = parseFloat(value);\\n                if (!isNaN(val)) {\\n                    valueAccessor()(val);\\n                }\\n            })\\n            valueAccessor().subscribe(function(value) {\\n                var str = JSON.stringify(value);\\n                if ((str == \\\"0\\\") && ([\\\"-0\\\", \\\"-0.\\\"].indexOf(stringified()) >= 0))\\n                     return;\\n                 if ([\\\"null\\\", \\\"\\\"].indexOf(str) >= 0)\\n                     return;\\n                stringified(str);\\n            })\\n            ko.applyBindingsToNode(element, { value: stringified, valueUpdate: allBindings.get('valueUpdate')}, context);\\n        }\\n    };\\n    var json_data = JSON.parse(\\\"{\\\\\\\"changes\\\\\\\":0,\\\\\\\"value\\\\\\\":11}\\\");\\n    var self = this;\\n    function AppViewModel() {\\n        for (var key in json_data) {\\n            var el = json_data[key];\\n            this[key] = Array.isArray(el) ? ko.observableArray(el) : ko.observable(el);\\n        }\\n        \\n        \\n        [this[\\\"changes\\\"].subscribe((function (val){!(this.valueFromJulia[\\\"changes\\\"]) ? (WebIO.setval({\\\"name\\\":\\\"changes\\\",\\\"scope\\\":\\\"knockout-component-f339b53a-fdd6-4bbf-8c8d-58f53dd0a2b0\\\",\\\"id\\\":\\\"ob_08\\\",\\\"type\\\":\\\"observable\\\"},val)) : undefined; return this.valueFromJulia[\\\"changes\\\"]=false}),self),this[\\\"value\\\"].subscribe((function (val){!(this.valueFromJulia[\\\"value\\\"]) ? (WebIO.setval({\\\"name\\\":\\\"value\\\",\\\"scope\\\":\\\"knockout-component-f339b53a-fdd6-4bbf-8c8d-58f53dd0a2b0\\\",\\\"id\\\":\\\"ob_07\\\",\\\"type\\\":\\\"observable\\\"},val)) : undefined; return this.valueFromJulia[\\\"value\\\"]=false}),self)]\\n        \\n    }\\n    self.model = new AppViewModel();\\n    self.valueFromJulia = {};\\n    for (var key in json_data) {\\n        self.valueFromJulia[key] = false;\\n    }\\n    ko.applyBindings(self.model, self.dom);\\n}\\n\")]),\"changes\"=>Any[JSString(\"(function (val){return (val!=this.model[\\\"changes\\\"]()) ? (this.valueFromJulia[\\\"changes\\\"]=true, this.model[\\\"changes\\\"](val)) : undefined})\")],\"value\"=>Any[JSString(\"(function (val){return (val!=this.model[\\\"value\\\"]()) ? (this.valueFromJulia[\\\"value\\\"]=true, this.model[\\\"value\\\"](val)) : undefined})\")]), ConnectionPool(Channel{Any}(sz_max:9223372036854775807,sz_curr:0), Set(AbstractConnection[]), Channel{AbstractConnection}(sz_max:32,sz_curr:0))), \"changes\")))]),:value=>Observable{Int64}(\"ob_07\", 11, Any[SyncCallback(Scope(\"knockout-component-f339b53a-fdd6-4bbf-8c8d-58f53dd0a2b0\", Node{DOM}(DOM(:html, :div), Any[Node{DOM}(DOM(:html, :div), Any[Node{DOM}(DOM(:html, :label), Any[\"n\"], Dict{Symbol,Any}(:className=>\"interact \",:style=>Dict{Any,Any}(:padding=>\"5px 10px 0px 10px\")), 1)], Dict{Symbol,Any}(:attributes=>Dict(\"style\"=>\"text-align:right;width:18%\")), 2), Node{DOM}(DOM(:html, :div), Any[Node{DOM}(DOM(:html, :input), Any[], Dict{Symbol,Any}(:max=>20,:min=>2,:attributes=>Dict{Any,Any}(:type=>\"range\",Symbol(\"data-bind\")=>\"numericValue: value, valueUpdate: 'input', event: {change : function () {this.changes(this.changes()+1)}}\",\"orient\"=>\"horizontal\"),:step=>1,:className=>\"slider slider is-fullwidth\",:style=>Dict{Any,Any}()), 0)], Dict{Symbol,Any}(:attributes=>Dict(\"style\"=>\"flex-grow:1; margin: 0 2%\")), 1), Node{DOM}(DOM(:html, :div), Any[Node{DOM}(DOM(:html, :p), Any[], Dict{Symbol,Any}(:attributes=>Dict(\"data-bind\"=>\"text: value\")), 0)], Dict{Symbol,Any}(:attributes=>Dict(\"style\"=>\"width:18%\")), 1)], Dict{Symbol,Any}(:attributes=>Dict(\"style\"=>\"display:flex; justify-content:center; align-items:center;\")), 7), Dict{String,Tuple{Observables.AbstractObservable,Union{Nothing, Bool}}}(\"changes\"=>(Observable{Int64}(\"ob_08\", 0, Any[SyncCallback(Scope(#= circular reference @-6 =#), SyncCallback(Scope(#= circular reference @-7 =#), ##36#38{Scope,String}(Scope(#= circular reference @-8 =#), \"changes\")))]), nothing),\"value\"=>(Observable{Int64}(#= circular reference @-6 =#), nothing)), Set(String[]), nothing, Any[\"knockout\"=>\"/home/shashi/.julia/packages/Knockout/JIqpG/src/../assets/knockout.js\", \"knockout_punches\"=>\"/home/shashi/.julia/packages/Knockout/JIqpG/src/../assets/knockout_punches.js\", \"/home/shashi/.julia/packages/InteractBase/Q4IkI/src/../assets/all.js\", \"/home/shashi/.julia/packages/InteractBase/Q4IkI/src/../assets/style.css\", \"/home/shashi/.julia/packages/InteractBulma/Ohu5Y/src/../assets/main.css\"], Dict{Any,Any}(\"_promises\"=>Dict{Any,Any}(\"importsLoaded\"=>Any[JSString(\"function (ko, koPunches) {\\n    ko.punches.enableAll();\\n    ko.bindingHandlers.numericValue = {\\n        init : function(element, valueAccessor, allBindings, data, context) {\\n            var stringified = ko.observable(ko.unwrap(valueAccessor()));\\n            stringified.subscribe(function(value) {\\n                var val = parseFloat(value);\\n                if (!isNaN(val)) {\\n                    valueAccessor()(val);\\n                }\\n            })\\n            valueAccessor().subscribe(function(value) {\\n                var str = JSON.stringify(value);\\n                if ((str == \\\"0\\\") && ([\\\"-0\\\", \\\"-0.\\\"].indexOf(stringified()) >= 0))\\n                     return;\\n                 if ([\\\"null\\\", \\\"\\\"].indexOf(str) >= 0)\\n                     return;\\n                stringified(str);\\n            })\\n            ko.applyBindingsToNode(element, { value: stringified, valueUpdate: allBindings.get('valueUpdate')}, context);\\n        }\\n    };\\n    var json_data = JSON.parse(\\\"{\\\\\\\"changes\\\\\\\":0,\\\\\\\"value\\\\\\\":11}\\\");\\n    var self = this;\\n    function AppViewModel() {\\n        for (var key in json_data) {\\n            var el = json_data[key];\\n            this[key] = Array.isArray(el) ? ko.observableArray(el) : ko.observable(el);\\n        }\\n        \\n        \\n        [this[\\\"changes\\\"].subscribe((function (val){!(this.valueFromJulia[\\\"changes\\\"]) ? (WebIO.setval({\\\"name\\\":\\\"changes\\\",\\\"scope\\\":\\\"knockout-component-f339b53a-fdd6-4bbf-8c8d-58f53dd0a2b0\\\",\\\"id\\\":\\\"ob_08\\\",\\\"type\\\":\\\"observable\\\"},val)) : undefined; return this.valueFromJulia[\\\"changes\\\"]=false}),self),this[\\\"value\\\"].subscribe((function (val){!(this.valueFromJulia[\\\"value\\\"]) ? (WebIO.setval({\\\"name\\\":\\\"value\\\",\\\"scope\\\":\\\"knockout-component-f339b53a-fdd6-4bbf-8c8d-58f53dd0a2b0\\\",\\\"id\\\":\\\"ob_07\\\",\\\"type\\\":\\\"observable\\\"},val)) : undefined; return this.valueFromJulia[\\\"value\\\"]=false}),self)]\\n        \\n    }\\n    self.model = new AppViewModel();\\n    self.valueFromJulia = {};\\n    for (var key in json_data) {\\n        self.valueFromJulia[key] = false;\\n    }\\n    ko.applyBindings(self.model, self.dom);\\n}\\n\")]),\"changes\"=>Any[JSString(\"(function (val){return (val!=this.model[\\\"changes\\\"]()) ? (this.valueFromJulia[\\\"changes\\\"]=true, this.model[\\\"changes\\\"](val)) : undefined})\")],\"value\"=>Any[JSString(\"(function (val){return (val!=this.model[\\\"value\\\"]()) ? (this.valueFromJulia[\\\"value\\\"]=true, this.model[\\\"value\\\"](val)) : undefined})\")]), ConnectionPool(Channel{Any}(sz_max:9223372036854775807,sz_curr:0), Set(AbstractConnection[]), Channel{AbstractConnection}(sz_max:32,sz_curr:0))), SyncCallback(Scope(\"knockout-component-f339b53a-fdd6-4bbf-8c8d-58f53dd0a2b0\", Node{DOM}(DOM(:html, :div), Any[Node{DOM}(DOM(:html, :div), Any[Node{DOM}(DOM(:html, :label), Any[\"n\"], Dict{Symbol,Any}(:className=>\"interact \",:style=>Dict{Any,Any}(:padding=>\"5px 10px 0px 10px\")), 1)], Dict{Symbol,Any}(:attributes=>Dict(\"style\"=>\"text-align:right;width:18%\")), 2), Node{DOM}(DOM(:html, :div), Any[Node{DOM}(DOM(:html, :input), Any[], Dict{Symbol,Any}(:max=>20,:min=>2,:attributes=>Dict{Any,Any}(:type=>\"range\",Symbol(\"data-bind\")=>\"numericValue: value, valueUpdate: 'input', event: {change : function () {this.changes(this.changes()+1)}}\",\"orient\"=>\"horizontal\"),:step=>1,:className=>\"slider slider is-fullwidth\",:style=>Dict{Any,Any}()), 0)], Dict{Symbol,Any}(:attributes=>Dict(\"style\"=>\"flex-grow:1; margin: 0 2%\")), 1), Node{DOM}(DOM(:html, :div), Any[Node{DOM}(DOM(:html, :p), Any[], Dict{Symbol,Any}(:attributes=>Dict(\"data-bind\"=>\"text: value\")), 0)], Dict{Symbol,Any}(:attributes=>Dict(\"style\"=>\"width:18%\")), 1)], Dict{Symbol,Any}(:attributes=>Dict(\"style\"=>\"display:flex; justify-content:center; align-items:center;\")), 7), Dict{String,Tuple{Observables.AbstractObservable,Union{Nothing, Bool}}}(\"changes\"=>(Observable{Int64}(\"ob_08\", 0, Any[SyncCallback(Scope(#= circular reference @-6 =#), SyncCallback(Scope(#= circular reference @-7 =#), ##36#38{Scope,String}(Scope(#= circular reference @-8 =#), \"changes\")))]), nothing),\"value\"=>(Observable{Int64}(#= circular reference @-7 =#), nothing)), Set(String[]), nothing, Any[\"knockout\"=>\"/home/shashi/.julia/packages/Knockout/JIqpG/src/../assets/knockout.js\", \"knockout_punches\"=>\"/home/shashi/.julia/packages/Knockout/JIqpG/src/../assets/knockout_punches.js\", \"/home/shashi/.julia/packages/InteractBase/Q4IkI/src/../assets/all.js\", \"/home/shashi/.julia/packages/InteractBase/Q4IkI/src/../assets/style.css\", \"/home/shashi/.julia/packages/InteractBulma/Ohu5Y/src/../assets/main.css\"], Dict{Any,Any}(\"_promises\"=>Dict{Any,Any}(\"importsLoaded\"=>Any[JSString(\"function (ko, koPunches) {\\n    ko.punches.enableAll();\\n    ko.bindingHandlers.numericValue = {\\n        init : function(element, valueAccessor, allBindings, data, context) {\\n            var stringified = ko.observable(ko.unwrap(valueAccessor()));\\n            stringified.subscribe(function(value) {\\n                var val = parseFloat(value);\\n                if (!isNaN(val)) {\\n                    valueAccessor()(val);\\n                }\\n            })\\n            valueAccessor().subscribe(function(value) {\\n                var str = JSON.stringify(value);\\n                if ((str == \\\"0\\\") && ([\\\"-0\\\", \\\"-0.\\\"].indexOf(stringified()) >= 0))\\n                     return;\\n                 if ([\\\"null\\\", \\\"\\\"].indexOf(str) >= 0)\\n                     return;\\n                stringified(str);\\n            })\\n            ko.applyBindingsToNode(element, { value: stringified, valueUpdate: allBindings.get('valueUpdate')}, context);\\n        }\\n    };\\n    var json_data = JSON.parse(\\\"{\\\\\\\"changes\\\\\\\":0,\\\\\\\"value\\\\\\\":11}\\\");\\n    var self = this;\\n    function AppViewModel() {\\n        for (var key in json_data) {\\n            var el = json_data[key];\\n            this[key] = Array.isArray(el) ? ko.observableArray(el) : ko.observable(el);\\n        }\\n        \\n        \\n        [this[\\\"changes\\\"].subscribe((function (val){!(this.valueFromJulia[\\\"changes\\\"]) ? (WebIO.setval({\\\"name\\\":\\\"changes\\\",\\\"scope\\\":\\\"knockout-component-f339b53a-fdd6-4bbf-8c8d-58f53dd0a2b0\\\",\\\"id\\\":\\\"ob_08\\\",\\\"type\\\":\\\"observable\\\"},val)) : undefined; return this.valueFromJulia[\\\"changes\\\"]=false}),self),this[\\\"value\\\"].subscribe((function (val){!(this.valueFromJulia[\\\"value\\\"]) ? (WebIO.setval({\\\"name\\\":\\\"value\\\",\\\"scope\\\":\\\"knockout-component-f339b53a-fdd6-4bbf-8c8d-58f53dd0a2b0\\\",\\\"id\\\":\\\"ob_07\\\",\\\"type\\\":\\\"observable\\\"},val)) : undefined; return this.valueFromJulia[\\\"value\\\"]=false}),self)]\\n        \\n    }\\n    self.model = new AppViewModel();\\n    self.valueFromJulia = {};\\n    for (var key in json_data) {\\n        self.valueFromJulia[key] = false;\\n    }\\n    ko.applyBindings(self.model, self.dom);\\n}\\n\")]),\"changes\"=>Any[JSString(\"(function (val){return (val!=this.model[\\\"changes\\\"]()) ? (this.valueFromJulia[\\\"changes\\\"]=true, this.model[\\\"changes\\\"](val)) : undefined})\")],\"value\"=>Any[JSString(\"(function (val){return (val!=this.model[\\\"value\\\"]()) ? (this.valueFromJulia[\\\"value\\\"]=true, this.model[\\\"value\\\"](val)) : undefined})\")]), ConnectionPool(Channel{Any}(sz_max:9223372036854775807,sz_curr:0), Set(AbstractConnection[]), Channel{AbstractConnection}(sz_max:32,sz_curr:0))), ##36#38{Scope,String}(Scope(\"knockout-component-f339b53a-fdd6-4bbf-8c8d-58f53dd0a2b0\", Node{DOM}(DOM(:html, :div), Any[Node{DOM}(DOM(:html, :div), Any[Node{DOM}(DOM(:html, :label), Any[\"n\"], Dict{Symbol,Any}(:className=>\"interact \",:style=>Dict{Any,Any}(:padding=>\"5px 10px 0px 10px\")), 1)], Dict{Symbol,Any}(:attributes=>Dict(\"style\"=>\"text-align:right;width:18%\")), 2), Node{DOM}(DOM(:html, :div), Any[Node{DOM}(DOM(:html, :input), Any[], Dict{Symbol,Any}(:max=>20,:min=>2,:attributes=>Dict{Any,Any}(:type=>\"range\",Symbol(\"data-bind\")=>\"numericValue: value, valueUpdate: 'input', event: {change : function () {this.changes(this.changes()+1)}}\",\"orient\"=>\"horizontal\"),:step=>1,:className=>\"slider slider is-fullwidth\",:style=>Dict{Any,Any}()), 0)], Dict{Symbol,Any}(:attributes=>Dict(\"style\"=>\"flex-grow:1; margin: 0 2%\")), 1), Node{DOM}(DOM(:html, :div), Any[Node{DOM}(DOM(:html, :p), Any[], Dict{Symbol,Any}(:attributes=>Dict(\"data-bind\"=>\"text: value\")), 0)], Dict{Symbol,Any}(:attributes=>Dict(\"style\"=>\"width:18%\")), 1)], Dict{Symbol,Any}(:attributes=>Dict(\"style\"=>\"display:flex; justify-content:center; align-items:center;\")), 7), Dict{String,Tuple{Observables.AbstractObservable,Union{Nothing, Bool}}}(\"changes\"=>(Observable{Int64}(\"ob_08\", 0, Any[SyncCallback(Scope(#= circular reference @-6 =#), SyncCallback(Scope(#= circular reference @-7 =#), ##36#38{Scope,String}(Scope(#= circular reference @-8 =#), \"changes\")))]), nothing),\"value\"=>(Observable{Int64}(#= circular reference @-8 =#), nothing)), Set(String[]), nothing, Any[\"knockout\"=>\"/home/shashi/.julia/packages/Knockout/JIqpG/src/../assets/knockout.js\", \"knockout_punches\"=>\"/home/shashi/.julia/packages/Knockout/JIqpG/src/../assets/knockout_punches.js\", \"/home/shashi/.julia/packages/InteractBase/Q4IkI/src/../assets/all.js\", \"/home/shashi/.julia/packages/InteractBase/Q4IkI/src/../assets/style.css\", \"/home/shashi/.julia/packages/InteractBulma/Ohu5Y/src/../assets/main.css\"], Dict{Any,Any}(\"_promises\"=>Dict{Any,Any}(\"importsLoaded\"=>Any[JSString(\"function (ko, koPunches) {\\n    ko.punches.enableAll();\\n    ko.bindingHandlers.numericValue = {\\n        init : function(element, valueAccessor, allBindings, data, context) {\\n            var stringified = ko.observable(ko.unwrap(valueAccessor()));\\n            stringified.subscribe(function(value) {\\n                var val = parseFloat(value);\\n                if (!isNaN(val)) {\\n                    valueAccessor()(val);\\n                }\\n            })\\n            valueAccessor().subscribe(function(value) {\\n                var str = JSON.stringify(value);\\n                if ((str == \\\"0\\\") && ([\\\"-0\\\", \\\"-0.\\\"].indexOf(stringified()) >= 0))\\n                     return;\\n                 if ([\\\"null\\\", \\\"\\\"].indexOf(str) >= 0)\\n                     return;\\n                stringified(str);\\n            })\\n            ko.applyBindingsToNode(element, { value: stringified, valueUpdate: allBindings.get('valueUpdate')}, context);\\n        }\\n    };\\n    var json_data = JSON.parse(\\\"{\\\\\\\"changes\\\\\\\":0,\\\\\\\"value\\\\\\\":11}\\\");\\n    var self = this;\\n    function AppViewModel() {\\n        for (var key in json_data) {\\n            var el = json_data[key];\\n            this[key] = Array.isArray(el) ? ko.observableArray(el) : ko.observable(el);\\n        }\\n        \\n        \\n        [this[\\\"changes\\\"].subscribe((function (val){!(this.valueFromJulia[\\\"changes\\\"]) ? (WebIO.setval({\\\"name\\\":\\\"changes\\\",\\\"scope\\\":\\\"knockout-component-f339b53a-fdd6-4bbf-8c8d-58f53dd0a2b0\\\",\\\"id\\\":\\\"ob_08\\\",\\\"type\\\":\\\"observable\\\"},val)) : undefined; return this.valueFromJulia[\\\"changes\\\"]=false}),self),this[\\\"value\\\"].subscribe((function (val){!(this.valueFromJulia[\\\"value\\\"]) ? (WebIO.setval({\\\"name\\\":\\\"value\\\",\\\"scope\\\":\\\"knockout-component-f339b53a-fdd6-4bbf-8c8d-58f53dd0a2b0\\\",\\\"id\\\":\\\"ob_07\\\",\\\"type\\\":\\\"observable\\\"},val)) : undefined; return this.valueFromJulia[\\\"value\\\"]=false}),self)]\\n        \\n    }\\n    self.model = new AppViewModel();\\n    self.valueFromJulia = {};\\n    for (var key in json_data) {\\n        self.valueFromJulia[key] = false;\\n    }\\n    ko.applyBindings(self.model, self.dom);\\n}\\n\")]),\"changes\"=>Any[JSString(\"(function (val){return (val!=this.model[\\\"changes\\\"]()) ? (this.valueFromJulia[\\\"changes\\\"]=true, this.model[\\\"changes\\\"](val)) : undefined})\")],\"value\"=>Any[JSString(\"(function (val){return (val!=this.model[\\\"value\\\"]()) ? (this.valueFromJulia[\\\"value\\\"]=true, this.model[\\\"value\\\"](val)) : undefined})\")]), ConnectionPool(Channel{Any}(sz_max:9223372036854775807,sz_curr:0), Set(AbstractConnection[]), Channel{AbstractConnection}(sz_max:32,sz_curr:0))), \"value\"))), #g#15{##16#17{##67#70,Observable{Any}},Tuple{Observable{Int64}}}(##16#17{##67#70,Observable{Any}}(##67#70(), Observable{Any}(\"ob_09\", Plot{Plots.GRBackend() n=3}, Any[])), (Observable{Int64}(#= circular reference @-4 =#),))])), Observable{Int64}(\"ob_07\", 11, Any[SyncCallback(Scope(\"knockout-component-f339b53a-fdd6-4bbf-8c8d-58f53dd0a2b0\", Node{DOM}(DOM(:html, :div), Any[Node{DOM}(DOM(:html, :div), Any[Node{DOM}(DOM(:html, :label), Any[\"n\"], Dict{Symbol,Any}(:className=>\"interact \",:style=>Dict{Any,Any}(:padding=>\"5px 10px 0px 10px\")), 1)], Dict{Symbol,Any}(:attributes=>Dict(\"style\"=>\"text-align:right;width:18%\")), 2), Node{DOM}(DOM(:html, :div), Any[Node{DOM}(DOM(:html, :input), Any[], Dict{Symbol,Any}(:max=>20,:min=>2,:attributes=>Dict{Any,Any}(:type=>\"range\",Symbol(\"data-bind\")=>\"numericValue: value, valueUpdate: 'input', event: {change : function () {this.changes(this.changes()+1)}}\",\"orient\"=>\"horizontal\"),:step=>1,:className=>\"slider slider is-fullwidth\",:style=>Dict{Any,Any}()), 0)], Dict{Symbol,Any}(:attributes=>Dict(\"style\"=>\"flex-grow:1; margin: 0 2%\")), 1), Node{DOM}(DOM(:html, :div), Any[Node{DOM}(DOM(:html, :p), Any[], Dict{Symbol,Any}(:attributes=>Dict(\"data-bind\"=>\"text: value\")), 0)], Dict{Symbol,Any}(:attributes=>Dict(\"style\"=>\"width:18%\")), 1)], Dict{Symbol,Any}(:attributes=>Dict(\"style\"=>\"display:flex; justify-content:center; align-items:center;\")), 7), Dict{String,Tuple{Observables.AbstractObservable,Union{Nothing, Bool}}}(\"changes\"=>(Observable{Int64}(\"ob_08\", 0, Any[SyncCallback(Scope(#= circular reference @-6 =#), SyncCallback(Scope(#= circular reference @-7 =#), ##36#38{Scope,String}(Scope(#= circular reference @-8 =#), \"changes\")))]), nothing),\"value\"=>(Observable{Int64}(#= circular reference @-6 =#), nothing)), Set(String[]), nothing, Any[\"knockout\"=>\"/home/shashi/.julia/packages/Knockout/JIqpG/src/../assets/knockout.js\", \"knockout_punches\"=>\"/home/shashi/.julia/packages/Knockout/JIqpG/src/../assets/knockout_punches.js\", \"/home/shashi/.julia/packages/InteractBase/Q4IkI/src/../assets/all.js\", \"/home/shashi/.julia/packages/InteractBase/Q4IkI/src/../assets/style.css\", \"/home/shashi/.julia/packages/InteractBulma/Ohu5Y/src/../assets/main.css\"], Dict{Any,Any}(\"_promises\"=>Dict{Any,Any}(\"importsLoaded\"=>Any[JSString(\"function (ko, koPunches) {\\n    ko.punches.enableAll();\\n    ko.bindingHandlers.numericValue = {\\n        init : function(element, valueAccessor, allBindings, data, context) {\\n            var stringified = ko.observable(ko.unwrap(valueAccessor()));\\n            stringified.subscribe(function(value) {\\n                var val = parseFloat(value);\\n                if (!isNaN(val)) {\\n                    valueAccessor()(val);\\n                }\\n            })\\n            valueAccessor().subscribe(function(value) {\\n                var str = JSON.stringify(value);\\n                if ((str == \\\"0\\\") && ([\\\"-0\\\", \\\"-0.\\\"].indexOf(stringified()) >= 0))\\n                     return;\\n                 if ([\\\"null\\\", \\\"\\\"].indexOf(str) >= 0)\\n                     return;\\n                stringified(str);\\n            })\\n            ko.applyBindingsToNode(element, { value: stringified, valueUpdate: allBindings.get('valueUpdate')}, context);\\n        }\\n    };\\n    var json_data = JSON.parse(\\\"{\\\\\\\"changes\\\\\\\":0,\\\\\\\"value\\\\\\\":11}\\\");\\n    var self = this;\\n    function AppViewModel() {\\n        for (var key in json_data) {\\n            var el = json_data[key];\\n            this[key] = Array.isArray(el) ? ko.observableArray(el) : ko.observable(el);\\n        }\\n        \\n        \\n        [this[\\\"changes\\\"].subscribe((function (val){!(this.valueFromJulia[\\\"changes\\\"]) ? (WebIO.setval({\\\"name\\\":\\\"changes\\\",\\\"scope\\\":\\\"knockout-component-f339b53a-fdd6-4bbf-8c8d-58f53dd0a2b0\\\",\\\"id\\\":\\\"ob_08\\\",\\\"type\\\":\\\"observable\\\"},val)) : undefined; return this.valueFromJulia[\\\"changes\\\"]=false}),self),this[\\\"value\\\"].subscribe((function (val){!(this.valueFromJulia[\\\"value\\\"]) ? (WebIO.setval({\\\"name\\\":\\\"value\\\",\\\"scope\\\":\\\"knockout-component-f339b53a-fdd6-4bbf-8c8d-58f53dd0a2b0\\\",\\\"id\\\":\\\"ob_07\\\",\\\"type\\\":\\\"observable\\\"},val)) : undefined; return this.valueFromJulia[\\\"value\\\"]=false}),self)]\\n        \\n    }\\n    self.model = new AppViewModel();\\n    self.valueFromJulia = {};\\n    for (var key in json_data) {\\n        self.valueFromJulia[key] = false;\\n    }\\n    ko.applyBindings(self.model, self.dom);\\n}\\n\")]),\"changes\"=>Any[JSString(\"(function (val){return (val!=this.model[\\\"changes\\\"]()) ? (this.valueFromJulia[\\\"changes\\\"]=true, this.model[\\\"changes\\\"](val)) : undefined})\")],\"value\"=>Any[JSString(\"(function (val){return (val!=this.model[\\\"value\\\"]()) ? (this.valueFromJulia[\\\"value\\\"]=true, this.model[\\\"value\\\"](val)) : undefined})\")]), ConnectionPool(Channel{Any}(sz_max:9223372036854775807,sz_curr:0), Set(AbstractConnection[]), Channel{AbstractConnection}(sz_max:32,sz_curr:0))), SyncCallback(Scope(\"knockout-component-f339b53a-fdd6-4bbf-8c8d-58f53dd0a2b0\", Node{DOM}(DOM(:html, :div), Any[Node{DOM}(DOM(:html, :div), Any[Node{DOM}(DOM(:html, :label), Any[\"n\"], Dict{Symbol,Any}(:className=>\"interact \",:style=>Dict{Any,Any}(:padding=>\"5px 10px 0px 10px\")), 1)], Dict{Symbol,Any}(:attributes=>Dict(\"style\"=>\"text-align:right;width:18%\")), 2), Node{DOM}(DOM(:html, :div), Any[Node{DOM}(DOM(:html, :input), Any[], Dict{Symbol,Any}(:max=>20,:min=>2,:attributes=>Dict{Any,Any}(:type=>\"range\",Symbol(\"data-bind\")=>\"numericValue: value, valueUpdate: 'input', event: {change : function () {this.changes(this.changes()+1)}}\",\"orient\"=>\"horizontal\"),:step=>1,:className=>\"slider slider is-fullwidth\",:style=>Dict{Any,Any}()), 0)], Dict{Symbol,Any}(:attributes=>Dict(\"style\"=>\"flex-grow:1; margin: 0 2%\")), 1), Node{DOM}(DOM(:html, :div), Any[Node{DOM}(DOM(:html, :p), Any[], Dict{Symbol,Any}(:attributes=>Dict(\"data-bind\"=>\"text: value\")), 0)], Dict{Symbol,Any}(:attributes=>Dict(\"style\"=>\"width:18%\")), 1)], Dict{Symbol,Any}(:attributes=>Dict(\"style\"=>\"display:flex; justify-content:center; align-items:center;\")), 7), Dict{String,Tuple{Observables.AbstractObservable,Union{Nothing, Bool}}}(\"changes\"=>(Observable{Int64}(\"ob_08\", 0, Any[SyncCallback(Scope(#= circular reference @-6 =#), SyncCallback(Scope(#= circular reference @-7 =#), ##36#38{Scope,String}(Scope(#= circular reference @-8 =#), \"changes\")))]), nothing),\"value\"=>(Observable{Int64}(#= circular reference @-7 =#), nothing)), Set(String[]), nothing, Any[\"knockout\"=>\"/home/shashi/.julia/packages/Knockout/JIqpG/src/../assets/knockout.js\", \"knockout_punches\"=>\"/home/shashi/.julia/packages/Knockout/JIqpG/src/../assets/knockout_punches.js\", \"/home/shashi/.julia/packages/InteractBase/Q4IkI/src/../assets/all.js\", \"/home/shashi/.julia/packages/InteractBase/Q4IkI/src/../assets/style.css\", \"/home/shashi/.julia/packages/InteractBulma/Ohu5Y/src/../assets/main.css\"], Dict{Any,Any}(\"_promises\"=>Dict{Any,Any}(\"importsLoaded\"=>Any[JSString(\"function (ko, koPunches) {\\n    ko.punches.enableAll();\\n    ko.bindingHandlers.numericValue = {\\n        init : function(element, valueAccessor, allBindings, data, context) {\\n            var stringified = ko.observable(ko.unwrap(valueAccessor()));\\n            stringified.subscribe(function(value) {\\n                var val = parseFloat(value);\\n                if (!isNaN(val)) {\\n                    valueAccessor()(val);\\n                }\\n            })\\n            valueAccessor().subscribe(function(value) {\\n                var str = JSON.stringify(value);\\n                if ((str == \\\"0\\\") && ([\\\"-0\\\", \\\"-0.\\\"].indexOf(stringified()) >= 0))\\n                     return;\\n                 if ([\\\"null\\\", \\\"\\\"].indexOf(str) >= 0)\\n                     return;\\n                stringified(str);\\n            })\\n            ko.applyBindingsToNode(element, { value: stringified, valueUpdate: allBindings.get('valueUpdate')}, context);\\n        }\\n    };\\n    var json_data = JSON.parse(\\\"{\\\\\\\"changes\\\\\\\":0,\\\\\\\"value\\\\\\\":11}\\\");\\n    var self = this;\\n    function AppViewModel() {\\n        for (var key in json_data) {\\n            var el = json_data[key];\\n            this[key] = Array.isArray(el) ? ko.observableArray(el) : ko.observable(el);\\n        }\\n        \\n        \\n        [this[\\\"changes\\\"].subscribe((function (val){!(this.valueFromJulia[\\\"changes\\\"]) ? (WebIO.setval({\\\"name\\\":\\\"changes\\\",\\\"scope\\\":\\\"knockout-component-f339b53a-fdd6-4bbf-8c8d-58f53dd0a2b0\\\",\\\"id\\\":\\\"ob_08\\\",\\\"type\\\":\\\"observable\\\"},val)) : undefined; return this.valueFromJulia[\\\"changes\\\"]=false}),self),this[\\\"value\\\"].subscribe((function (val){!(this.valueFromJulia[\\\"value\\\"]) ? (WebIO.setval({\\\"name\\\":\\\"value\\\",\\\"scope\\\":\\\"knockout-component-f339b53a-fdd6-4bbf-8c8d-58f53dd0a2b0\\\",\\\"id\\\":\\\"ob_07\\\",\\\"type\\\":\\\"observable\\\"},val)) : undefined; return this.valueFromJulia[\\\"value\\\"]=false}),self)]\\n        \\n    }\\n    self.model = new AppViewModel();\\n    self.valueFromJulia = {};\\n    for (var key in json_data) {\\n        self.valueFromJulia[key] = false;\\n    }\\n    ko.applyBindings(self.model, self.dom);\\n}\\n\")]),\"changes\"=>Any[JSString(\"(function (val){return (val!=this.model[\\\"changes\\\"]()) ? (this.valueFromJulia[\\\"changes\\\"]=true, this.model[\\\"changes\\\"](val)) : undefined})\")],\"value\"=>Any[JSString(\"(function (val){return (val!=this.model[\\\"value\\\"]()) ? (this.valueFromJulia[\\\"value\\\"]=true, this.model[\\\"value\\\"](val)) : undefined})\")]), ConnectionPool(Channel{Any}(sz_max:9223372036854775807,sz_curr:0), Set(AbstractConnection[]), Channel{AbstractConnection}(sz_max:32,sz_curr:0))), ##36#38{Scope,String}(Scope(\"knockout-component-f339b53a-fdd6-4bbf-8c8d-58f53dd0a2b0\", Node{DOM}(DOM(:html, :div), Any[Node{DOM}(DOM(:html, :div), Any[Node{DOM}(DOM(:html, :label), Any[\"n\"], Dict{Symbol,Any}(:className=>\"interact \",:style=>Dict{Any,Any}(:padding=>\"5px 10px 0px 10px\")), 1)], Dict{Symbol,Any}(:attributes=>Dict(\"style\"=>\"text-align:right;width:18%\")), 2), Node{DOM}(DOM(:html, :div), Any[Node{DOM}(DOM(:html, :input), Any[], Dict{Symbol,Any}(:max=>20,:min=>2,:attributes=>Dict{Any,Any}(:type=>\"range\",Symbol(\"data-bind\")=>\"numericValue: value, valueUpdate: 'input', event: {change : function () {this.changes(this.changes()+1)}}\",\"orient\"=>\"horizontal\"),:step=>1,:className=>\"slider slider is-fullwidth\",:style=>Dict{Any,Any}()), 0)], Dict{Symbol,Any}(:attributes=>Dict(\"style\"=>\"flex-grow:1; margin: 0 2%\")), 1), Node{DOM}(DOM(:html, :div), Any[Node{DOM}(DOM(:html, :p), Any[], Dict{Symbol,Any}(:attributes=>Dict(\"data-bind\"=>\"text: value\")), 0)], Dict{Symbol,Any}(:attributes=>Dict(\"style\"=>\"width:18%\")), 1)], Dict{Symbol,Any}(:attributes=>Dict(\"style\"=>\"display:flex; justify-content:center; align-items:center;\")), 7), Dict{String,Tuple{Observables.AbstractObservable,Union{Nothing, Bool}}}(\"changes\"=>(Observable{Int64}(\"ob_08\", 0, Any[SyncCallback(Scope(#= circular reference @-6 =#), SyncCallback(Scope(#= circular reference @-7 =#), ##36#38{Scope,String}(Scope(#= circular reference @-8 =#), \"changes\")))]), nothing),\"value\"=>(Observable{Int64}(#= circular reference @-8 =#), nothing)), Set(String[]), nothing, Any[\"knockout\"=>\"/home/shashi/.julia/packages/Knockout/JIqpG/src/../assets/knockout.js\", \"knockout_punches\"=>\"/home/shashi/.julia/packages/Knockout/JIqpG/src/../assets/knockout_punches.js\", \"/home/shashi/.julia/packages/InteractBase/Q4IkI/src/../assets/all.js\", \"/home/shashi/.julia/packages/InteractBase/Q4IkI/src/../assets/style.css\", \"/home/shashi/.julia/packages/InteractBulma/Ohu5Y/src/../assets/main.css\"], Dict{Any,Any}(\"_promises\"=>Dict{Any,Any}(\"importsLoaded\"=>Any[JSString(\"function (ko, koPunches) {\\n    ko.punches.enableAll();\\n    ko.bindingHandlers.numericValue = {\\n        init : function(element, valueAccessor, allBindings, data, context) {\\n            var stringified = ko.observable(ko.unwrap(valueAccessor()));\\n            stringified.subscribe(function(value) {\\n                var val = parseFloat(value);\\n                if (!isNaN(val)) {\\n                    valueAccessor()(val);\\n                }\\n            })\\n            valueAccessor().subscribe(function(value) {\\n                var str = JSON.stringify(value);\\n                if ((str == \\\"0\\\") && ([\\\"-0\\\", \\\"-0.\\\"].indexOf(stringified()) >= 0))\\n                     return;\\n                 if ([\\\"null\\\", \\\"\\\"].indexOf(str) >= 0)\\n                     return;\\n                stringified(str);\\n            })\\n            ko.applyBindingsToNode(element, { value: stringified, valueUpdate: allBindings.get('valueUpdate')}, context);\\n        }\\n    };\\n    var json_data = JSON.parse(\\\"{\\\\\\\"changes\\\\\\\":0,\\\\\\\"value\\\\\\\":11}\\\");\\n    var self = this;\\n    function AppViewModel() {\\n        for (var key in json_data) {\\n            var el = json_data[key];\\n            this[key] = Array.isArray(el) ? ko.observableArray(el) : ko.observable(el);\\n        }\\n        \\n        \\n        [this[\\\"changes\\\"].subscribe((function (val){!(this.valueFromJulia[\\\"changes\\\"]) ? (WebIO.setval({\\\"name\\\":\\\"changes\\\",\\\"scope\\\":\\\"knockout-component-f339b53a-fdd6-4bbf-8c8d-58f53dd0a2b0\\\",\\\"id\\\":\\\"ob_08\\\",\\\"type\\\":\\\"observable\\\"},val)) : undefined; return this.valueFromJulia[\\\"changes\\\"]=false}),self),this[\\\"value\\\"].subscribe((function (val){!(this.valueFromJulia[\\\"value\\\"]) ? (WebIO.setval({\\\"name\\\":\\\"value\\\",\\\"scope\\\":\\\"knockout-component-f339b53a-fdd6-4bbf-8c8d-58f53dd0a2b0\\\",\\\"id\\\":\\\"ob_07\\\",\\\"type\\\":\\\"observable\\\"},val)) : undefined; return this.valueFromJulia[\\\"value\\\"]=false}),self)]\\n        \\n    }\\n    self.model = new AppViewModel();\\n    self.valueFromJulia = {};\\n    for (var key in json_data) {\\n        self.valueFromJulia[key] = false;\\n    }\\n    ko.applyBindings(self.model, self.dom);\\n}\\n\")]),\"changes\"=>Any[JSString(\"(function (val){return (val!=this.model[\\\"changes\\\"]()) ? (this.valueFromJulia[\\\"changes\\\"]=true, this.model[\\\"changes\\\"](val)) : undefined})\")],\"value\"=>Any[JSString(\"(function (val){return (val!=this.model[\\\"value\\\"]()) ? (this.valueFromJulia[\\\"value\\\"]=true, this.model[\\\"value\\\"](val)) : undefined})\")]), ConnectionPool(Channel{Any}(sz_max:9223372036854775807,sz_curr:0), Set(AbstractConnection[]), Channel{AbstractConnection}(sz_max:32,sz_curr:0))), \"value\"))), #g#15{##16#17{##67#70,Observable{Any}},Tuple{Observable{Int64}}}(##16#17{##67#70,Observable{Any}}(##67#70(), Observable{Any}(\"ob_09\", Plot{Plots.GRBackend() n=3}, Any[])), (Observable{Int64}(#= circular reference @-4 =#),))]), Scope(\"knockout-component-f339b53a-fdd6-4bbf-8c8d-58f53dd0a2b0\", Node{DOM}(DOM(:html, :div), Any[Node{DOM}(DOM(:html, :div), Any[Node{DOM}(DOM(:html, :label), Any[\"n\"], Dict{Symbol,Any}(:className=>\"interact \",:style=>Dict{Any,Any}(:padding=>\"5px 10px 0px 10px\")), 1)], Dict{Symbol,Any}(:attributes=>Dict(\"style\"=>\"text-align:right;width:18%\")), 2), Node{DOM}(DOM(:html, :div), Any[Node{DOM}(DOM(:html, :input), Any[], Dict{Symbol,Any}(:max=>20,:min=>2,:attributes=>Dict{Any,Any}(:type=>\"range\",Symbol(\"data-bind\")=>\"numericValue: value, valueUpdate: 'input', event: {change : function () {this.changes(this.changes()+1)}}\",\"orient\"=>\"horizontal\"),:step=>1,:className=>\"slider slider is-fullwidth\",:style=>Dict{Any,Any}()), 0)], Dict{Symbol,Any}(:attributes=>Dict(\"style\"=>\"flex-grow:1; margin: 0 2%\")), 1), Node{DOM}(DOM(:html, :div), Any[Node{DOM}(DOM(:html, :p), Any[], Dict{Symbol,Any}(:attributes=>Dict(\"data-bind\"=>\"text: value\")), 0)], Dict{Symbol,Any}(:attributes=>Dict(\"style\"=>\"width:18%\")), 1)], Dict{Symbol,Any}(:attributes=>Dict(\"style\"=>\"display:flex; justify-content:center; align-items:center;\")), 7), Dict{String,Tuple{Observables.AbstractObservable,Union{Nothing, Bool}}}(\"changes\"=>(Observable{Int64}(\"ob_08\", 0, Any[SyncCallback(Scope(#= circular reference @-6 =#), SyncCallback(Scope(#= circular reference @-7 =#), ##36#38{Scope,String}(Scope(#= circular reference @-8 =#), \"changes\")))]), nothing),\"value\"=>(Observable{Int64}(\"ob_07\", 11, Any[SyncCallback(Scope(#= circular reference @-6 =#), SyncCallback(Scope(#= circular reference @-7 =#), ##36#38{Scope,String}(Scope(#= circular reference @-8 =#), \"value\"))), #g#15{##16#17{##67#70,Observable{Any}},Tuple{Observable{Int64}}}(##16#17{##67#70,Observable{Any}}(##67#70(), Observable{Any}(\"ob_09\", Plot{Plots.GRBackend() n=3}, Any[])), (Observable{Int64}(#= circular reference @-4 =#),))]), nothing)), Set(String[]), nothing, Any[\"knockout\"=>\"/home/shashi/.julia/packages/Knockout/JIqpG/src/../assets/knockout.js\", \"knockout_punches\"=>\"/home/shashi/.julia/packages/Knockout/JIqpG/src/../assets/knockout_punches.js\", \"/home/shashi/.julia/packages/InteractBase/Q4IkI/src/../assets/all.js\", \"/home/shashi/.julia/packages/InteractBase/Q4IkI/src/../assets/style.css\", \"/home/shashi/.julia/packages/InteractBulma/Ohu5Y/src/../assets/main.css\"], Dict{Any,Any}(\"_promises\"=>Dict{Any,Any}(\"importsLoaded\"=>Any[JSString(\"function (ko, koPunches) {\\n    ko.punches.enableAll();\\n    ko.bindingHandlers.numericValue = {\\n        init : function(element, valueAccessor, allBindings, data, context) {\\n            var stringified = ko.observable(ko.unwrap(valueAccessor()));\\n            stringified.subscribe(function(value) {\\n                var val = parseFloat(value);\\n                if (!isNaN(val)) {\\n                    valueAccessor()(val);\\n                }\\n            })\\n            valueAccessor().subscribe(function(value) {\\n                var str = JSON.stringify(value);\\n                if ((str == \\\"0\\\") && ([\\\"-0\\\", \\\"-0.\\\"].indexOf(stringified()) >= 0))\\n                     return;\\n                 if ([\\\"null\\\", \\\"\\\"].indexOf(str) >= 0)\\n                     return;\\n                stringified(str);\\n            })\\n            ko.applyBindingsToNode(element, { value: stringified, valueUpdate: allBindings.get('valueUpdate')}, context);\\n        }\\n    };\\n    var json_data = JSON.parse(\\\"{\\\\\\\"changes\\\\\\\":0,\\\\\\\"value\\\\\\\":11}\\\");\\n    var self = this;\\n    function AppViewModel() {\\n        for (var key in json_data) {\\n            var el = json_data[key];\\n            this[key] = Array.isArray(el) ? ko.observableArray(el) : ko.observable(el);\\n        }\\n        \\n        \\n        [this[\\\"changes\\\"].subscribe((function (val){!(this.valueFromJulia[\\\"changes\\\"]) ? (WebIO.setval({\\\"name\\\":\\\"changes\\\",\\\"scope\\\":\\\"knockout-component-f339b53a-fdd6-4bbf-8c8d-58f53dd0a2b0\\\",\\\"id\\\":\\\"ob_08\\\",\\\"type\\\":\\\"observable\\\"},val)) : undefined; return this.valueFromJulia[\\\"changes\\\"]=false}),self),this[\\\"value\\\"].subscribe((function (val){!(this.valueFromJulia[\\\"value\\\"]) ? (WebIO.setval({\\\"name\\\":\\\"value\\\",\\\"scope\\\":\\\"knockout-component-f339b53a-fdd6-4bbf-8c8d-58f53dd0a2b0\\\",\\\"id\\\":\\\"ob_07\\\",\\\"type\\\":\\\"observable\\\"},val)) : undefined; return this.valueFromJulia[\\\"value\\\"]=false}),self)]\\n        \\n    }\\n    self.model = new AppViewModel();\\n    self.valueFromJulia = {};\\n    for (var key in json_data) {\\n        self.valueFromJulia[key] = false;\\n    }\\n    ko.applyBindings(self.model, self.dom);\\n}\\n\")]),\"changes\"=>Any[JSString(\"(function (val){return (val!=this.model[\\\"changes\\\"]()) ? (this.valueFromJulia[\\\"changes\\\"]=true, this.model[\\\"changes\\\"](val)) : undefined})\")],\"value\"=>Any[JSString(\"(function (val){return (val!=this.model[\\\"value\\\"]()) ? (this.valueFromJulia[\\\"value\\\"]=true, this.model[\\\"value\\\"](val)) : undefined})\")]), ConnectionPool(Channel{Any}(sz_max:9223372036854775807,sz_curr:0), Set(AbstractConnection[]), Channel{AbstractConnection}(sz_max:32,sz_curr:0))), ##52#53{#dom#13{##dom#11#12{Dict{Any,Any},DOM}},typeof(scope)}(#dom#13{##dom#11#12{Dict{Any,Any},DOM}}(##dom#11#12{Dict{Any,Any},DOM}(Dict{Any,Any}(:className=>\"field\"), DOM(:html, :div))), scope))), Observable{Any}(\"ob_09\", Plot{Plots.GRBackend() n=3}, Any[]), nothing, getfield(Main, Symbol(\"##69#72\")){Observable{Any}}(Observable{Any}(\"ob_09\", Plot{Plots.GRBackend() n=3}, Any[])))"
      ]
     },
     "execution_count": 40,
     "metadata": {
      "application/vnd.webio.node+json": {
       "kernelId": null
      }
     },
     "output_type": "execute_result"
    }
   ],
   "source": [
    "h(x) = 1 / (1 + 25x^2)  # the Runge function\n",
    "\n",
    "#n = 20\n",
    "@manipulate for n in 2:20\n",
    "    x = LinRange(-1, 1, n+1)\n",
    "    @time p, y = interpolate(h, x)\n",
    "\n",
    "    plot(x->h(x), lo, hi)\n",
    "    scatter!(x, y)\n",
    "    plot!(p, lo, hi, label=\"Interpolant\")\n",
    "end"
   ]
  },
  {
   "cell_type": "markdown",
   "metadata": {},
   "source": [
    "## Chebyshev points"
   ]
  },
  {
   "cell_type": "markdown",
   "metadata": {},
   "source": [
    "This problem can be **eliminated** by choosing interpolation points which **cluster near the boundary** in a certain way. A simple set are the Chebyshev points, defined by projecting down equi-spaced points on the unit circle to the $x$-axis."
   ]
  },
  {
   "cell_type": "code",
   "execution_count": 41,
   "metadata": {},
   "outputs": [
    {
     "data": {
      "text/plain": [
       "Plots.GRBackend()"
      ]
     },
     "execution_count": 41,
     "metadata": {},
     "output_type": "execute_result"
    }
   ],
   "source": [
    "using Plots\n",
    "gr()"
   ]
  },
  {
   "cell_type": "code",
   "execution_count": 50,
   "metadata": {},
   "outputs": [
    {
     "data": {
      "application/vnd.webio.node+json": {
       "children": [
        {
         "children": [
          {
           "children": [
            {
             "children": [
              {
               "children": [
                {
                 "children": [
                  "n"
                 ],
                 "instanceArgs": {
                  "namespace": "html",
                  "tag": "label"
                 },
                 "nodeType": "DOM",
                 "props": {
                  "className": "interact ",
                  "style": {
                   "padding": "5px 10px 0px 10px"
                  }
                 },
                 "type": "node"
                }
               ],
               "instanceArgs": {
                "namespace": "html",
                "tag": "div"
               },
               "nodeType": "DOM",
               "props": {
                "attributes": {
                 "style": "text-align:right;width:18%"
                }
               },
               "type": "node"
              },
              {
               "children": [
                {
                 "children": [],
                 "instanceArgs": {
                  "namespace": "html",
                  "tag": "input"
                 },
                 "nodeType": "DOM",
                 "props": {
                  "attributes": {
                   "data-bind": "numericValue: value, valueUpdate: 'input', event: {change : function () {this.changes(this.changes()+1)}}",
                   "orient": "horizontal",
                   "type": "range"
                  },
                  "className": "slider slider is-fullwidth",
                  "max": 100,
                  "min": 2,
                  "step": 1,
                  "style": {}
                 },
                 "type": "node"
                }
               ],
               "instanceArgs": {
                "namespace": "html",
                "tag": "div"
               },
               "nodeType": "DOM",
               "props": {
                "attributes": {
                 "style": "flex-grow:1; margin: 0 2%"
                }
               },
               "type": "node"
              },
              {
               "children": [
                {
                 "children": [],
                 "instanceArgs": {
                  "namespace": "html",
                  "tag": "p"
                 },
                 "nodeType": "DOM",
                 "props": {
                  "attributes": {
                   "data-bind": "text: value"
                  }
                 },
                 "type": "node"
                }
               ],
               "instanceArgs": {
                "namespace": "html",
                "tag": "div"
               },
               "nodeType": "DOM",
               "props": {
                "attributes": {
                 "style": "width:18%"
                }
               },
               "type": "node"
              }
             ],
             "instanceArgs": {
              "namespace": "html",
              "tag": "div"
             },
             "nodeType": "DOM",
             "props": {
              "attributes": {
               "style": "display:flex; justify-content:center; align-items:center;"
              }
             },
             "type": "node"
            }
           ],
           "instanceArgs": {
            "handlers": {
             "_promises": {
              "importsLoaded": [
               "function (ko, koPunches) {\n    ko.punches.enableAll();\n    ko.bindingHandlers.numericValue = {\n        init : function(element, valueAccessor, allBindings, data, context) {\n            var stringified = ko.observable(ko.unwrap(valueAccessor()));\n            stringified.subscribe(function(value) {\n                var val = parseFloat(value);\n                if (!isNaN(val)) {\n                    valueAccessor()(val);\n                }\n            })\n            valueAccessor().subscribe(function(value) {\n                var str = JSON.stringify(value);\n                if ((str == \"0\") && ([\"-0\", \"-0.\"].indexOf(stringified()) >= 0))\n                     return;\n                 if ([\"null\", \"\"].indexOf(str) >= 0)\n                     return;\n                stringified(str);\n            })\n            ko.applyBindingsToNode(element, { value: stringified, valueUpdate: allBindings.get('valueUpdate')}, context);\n        }\n    };\n    var json_data = JSON.parse(\"{\\\"changes\\\":0,\\\"value\\\":51}\");\n    var self = this;\n    function AppViewModel() {\n        for (var key in json_data) {\n            var el = json_data[key];\n            this[key] = Array.isArray(el) ? ko.observableArray(el) : ko.observable(el);\n        }\n        \n        \n        [this[\"changes\"].subscribe((function (val){!(this.valueFromJulia[\"changes\"]) ? (WebIO.setval({\"name\":\"changes\",\"scope\":\"knockout-component-083fe6af-a3a5-4652-9a72-1fcd52fb361e\",\"id\":\"ob_27\",\"type\":\"observable\"},val)) : undefined; return this.valueFromJulia[\"changes\"]=false}),self),this[\"value\"].subscribe((function (val){!(this.valueFromJulia[\"value\"]) ? (WebIO.setval({\"name\":\"value\",\"scope\":\"knockout-component-083fe6af-a3a5-4652-9a72-1fcd52fb361e\",\"id\":\"ob_26\",\"type\":\"observable\"},val)) : undefined; return this.valueFromJulia[\"value\"]=false}),self)]\n        \n    }\n    self.model = new AppViewModel();\n    self.valueFromJulia = {};\n    for (var key in json_data) {\n        self.valueFromJulia[key] = false;\n    }\n    ko.applyBindings(self.model, self.dom);\n}\n"
              ]
             },
             "changes": [
              "(function (val){return (val!=this.model[\"changes\"]()) ? (this.valueFromJulia[\"changes\"]=true, this.model[\"changes\"](val)) : undefined})"
             ],
             "value": [
              "(function (val){return (val!=this.model[\"value\"]()) ? (this.valueFromJulia[\"value\"]=true, this.model[\"value\"](val)) : undefined})"
             ]
            },
            "id": "knockout-component-083fe6af-a3a5-4652-9a72-1fcd52fb361e",
            "imports": {
             "data": [
              {
               "name": "knockout",
               "type": "js",
               "url": "/assetserver/14729442142be2033c67c08d3f6ed58cf9e9306f-knockout.js"
              },
              {
               "name": "knockout_punches",
               "type": "js",
               "url": "/assetserver/0773a38c0aca1f5643d9ec49fad13ea9b3293506-knockout_punches.js"
              },
              {
               "name": null,
               "type": "js",
               "url": "/assetserver/56cd7e6e51b361c8e5378d2500dfd1b39707ca7c-all.js"
              },
              {
               "name": null,
               "type": "css",
               "url": "/assetserver/d226c2708e3ef23c5404b7f624792b7c5b133545-style.css"
              },
              {
               "name": null,
               "type": "css",
               "url": "/assetserver/742c1b9efe7657f980837af18d11a905cd62440b-main.css"
              }
             ],
             "type": "async_block"
            },
            "observables": {
             "changes": {
              "id": "ob_27",
              "sync": false,
              "value": 0
             },
             "value": {
              "id": "ob_26",
              "sync": true,
              "value": 51
             }
            },
            "systemjs_options": null
           },
           "nodeType": "Scope",
           "props": {},
           "type": "node"
          }
         ],
         "instanceArgs": {
          "namespace": "html",
          "tag": "div"
         },
         "nodeType": "DOM",
         "props": {
          "className": "field"
         },
         "type": "node"
        },
        {
         "children": [
          {
           "children": [],
           "instanceArgs": {
            "id": "ob_32",
            "name": "obs-node"
           },
           "nodeType": "ObservableNode",
           "props": {},
           "type": "node"
          }
         ],
         "instanceArgs": {
          "handlers": {},
          "id": "scope-d75bd83a-cc9c-4b3b-a963-2efd1a7cc6ee",
          "imports": {
           "data": [],
           "type": "async_block"
          },
          "observables": {
           "obs-node": {
            "id": "ob_32",
            "sync": false,
            "value": {
             "children": [
              {
               "children": [],
               "instanceArgs": {
                "namespace": "html",
                "tag": "div"
               },
               "nodeType": "DOM",
               "props": {
                "setInnerHtml": "<?xml version=\"1.0\" encoding=\"utf-8\"?>\n<svg xmlns=\"http://www.w3.org/2000/svg\" xmlns:xlink=\"http://www.w3.org/1999/xlink\" width=\"600\" height=\"400\" viewBox=\"0 0 2400 1600\">\n<defs>\n  <clipPath id=\"clip0900\">\n    <rect x=\"0\" y=\"0\" width=\"2000\" height=\"2000\"/>\n  </clipPath>\n</defs>\n<defs>\n  <clipPath id=\"clip0901\">\n    <rect x=\"0\" y=\"0\" width=\"2400\" height=\"1600\"/>\n  </clipPath>\n</defs>\n<polygon clip-path=\"url(#clip0901)\" points=\"\n0,1600 2400,1600 2400,0 0,0 \n  \" fill=\"#ffffff\" fill-opacity=\"1\"/>\n<defs>\n  <clipPath id=\"clip0902\">\n    <rect x=\"480\" y=\"0\" width=\"1681\" height=\"1600\"/>\n  </clipPath>\n</defs>\n<polygon clip-path=\"url(#clip0901)\" points=\"\n161.394,1284.76 2321.26,1284.76 2321.26,265.957 161.394,265.957 \n  \" fill=\"#ffffff\" fill-opacity=\"1\"/>\n<defs>\n  <clipPath id=\"clip0903\">\n    <rect x=\"161\" y=\"265\" width=\"2161\" height=\"1020\"/>\n  </clipPath>\n</defs>\n<polyline clip-path=\"url(#clip0903)\" style=\"stroke:#000000; stroke-width:2; stroke-opacity:0.1; fill:none\" points=\"\n  222.522,1284.76 222.522,265.957 \n  \"/>\n<polyline clip-path=\"url(#clip0903)\" style=\"stroke:#000000; stroke-width:2; stroke-opacity:0.1; fill:none\" points=\"\n  731.925,1284.76 731.925,265.957 \n  \"/>\n<polyline clip-path=\"url(#clip0903)\" style=\"stroke:#000000; stroke-width:2; stroke-opacity:0.1; fill:none\" points=\"\n  1241.33,1284.76 1241.33,265.957 \n  \"/>\n<polyline clip-path=\"url(#clip0903)\" style=\"stroke:#000000; stroke-width:2; stroke-opacity:0.1; fill:none\" points=\"\n  1750.73,1284.76 1750.73,265.957 \n  \"/>\n<polyline clip-path=\"url(#clip0903)\" style=\"stroke:#000000; stroke-width:2; stroke-opacity:0.1; fill:none\" points=\"\n  2260.13,1284.76 2260.13,265.957 \n  \"/>\n<polyline clip-path=\"url(#clip0903)\" style=\"stroke:#000000; stroke-width:2; stroke-opacity:0.1; fill:none\" points=\"\n  161.394,1284.76 2321.26,1284.76 \n  \"/>\n<polyline clip-path=\"url(#clip0903)\" style=\"stroke:#000000; stroke-width:2; stroke-opacity:0.1; fill:none\" points=\"\n  161.394,1081 2321.26,1081 \n  \"/>\n<polyline clip-path=\"url(#clip0903)\" style=\"stroke:#000000; stroke-width:2; stroke-opacity:0.1; fill:none\" points=\"\n  161.394,877.24 2321.26,877.24 \n  \"/>\n<polyline clip-path=\"url(#clip0903)\" style=\"stroke:#000000; stroke-width:2; stroke-opacity:0.1; fill:none\" points=\"\n  161.394,673.479 2321.26,673.479 \n  \"/>\n<polyline clip-path=\"url(#clip0903)\" style=\"stroke:#000000; stroke-width:2; stroke-opacity:0.1; fill:none\" points=\"\n  161.394,469.718 2321.26,469.718 \n  \"/>\n<polyline clip-path=\"url(#clip0903)\" style=\"stroke:#000000; stroke-width:2; stroke-opacity:0.1; fill:none\" points=\"\n  161.394,265.957 2321.26,265.957 \n  \"/>\n<polyline clip-path=\"url(#clip0901)\" style=\"stroke:#000000; stroke-width:4; stroke-opacity:1; fill:none\" points=\"\n  161.394,1284.76 2321.26,1284.76 \n  \"/>\n<polyline clip-path=\"url(#clip0901)\" style=\"stroke:#000000; stroke-width:4; stroke-opacity:1; fill:none\" points=\"\n  161.394,1284.76 161.394,265.957 \n  \"/>\n<polyline clip-path=\"url(#clip0901)\" style=\"stroke:#000000; stroke-width:4; stroke-opacity:1; fill:none\" points=\"\n  222.522,1284.76 222.522,1269.48 \n  \"/>\n<polyline clip-path=\"url(#clip0901)\" style=\"stroke:#000000; stroke-width:4; stroke-opacity:1; fill:none\" points=\"\n  731.925,1284.76 731.925,1269.48 \n  \"/>\n<polyline clip-path=\"url(#clip0901)\" style=\"stroke:#000000; stroke-width:4; stroke-opacity:1; fill:none\" points=\"\n  1241.33,1284.76 1241.33,1269.48 \n  \"/>\n<polyline clip-path=\"url(#clip0901)\" style=\"stroke:#000000; stroke-width:4; stroke-opacity:1; fill:none\" points=\"\n  1750.73,1284.76 1750.73,1269.48 \n  \"/>\n<polyline clip-path=\"url(#clip0901)\" style=\"stroke:#000000; stroke-width:4; stroke-opacity:1; fill:none\" points=\"\n  2260.13,1284.76 2260.13,1269.48 \n  \"/>\n<polyline clip-path=\"url(#clip0901)\" style=\"stroke:#000000; stroke-width:4; stroke-opacity:1; fill:none\" points=\"\n  161.394,1284.76 193.792,1284.76 \n  \"/>\n<polyline clip-path=\"url(#clip0901)\" style=\"stroke:#000000; stroke-width:4; stroke-opacity:1; fill:none\" points=\"\n  161.394,1081 193.792,1081 \n  \"/>\n<polyline clip-path=\"url(#clip0901)\" style=\"stroke:#000000; stroke-width:4; stroke-opacity:1; fill:none\" points=\"\n  161.394,877.24 193.792,877.24 \n  \"/>\n<polyline clip-path=\"url(#clip0901)\" style=\"stroke:#000000; stroke-width:4; stroke-opacity:1; fill:none\" points=\"\n  161.394,673.479 193.792,673.479 \n  \"/>\n<polyline clip-path=\"url(#clip0901)\" style=\"stroke:#000000; stroke-width:4; stroke-opacity:1; fill:none\" points=\"\n  161.394,469.718 193.792,469.718 \n  \"/>\n<polyline clip-path=\"url(#clip0901)\" style=\"stroke:#000000; stroke-width:4; stroke-opacity:1; fill:none\" points=\"\n  161.394,265.957 193.792,265.957 \n  \"/>\n<g clip-path=\"url(#clip0901)\">\n<text style=\"fill:#000000; fill-opacity:1; font-family:Arial,Helvetica Neue,Helvetica,sans-serif; font-size:48px; text-anchor:middle;\" transform=\"rotate(0, 222.522, 1338.76)\" x=\"222.522\" y=\"1338.76\">-1.0</text>\n</g>\n<g clip-path=\"url(#clip0901)\">\n<text style=\"fill:#000000; fill-opacity:1; font-family:Arial,Helvetica Neue,Helvetica,sans-serif; font-size:48px; text-anchor:middle;\" transform=\"rotate(0, 731.925, 1338.76)\" x=\"731.925\" y=\"1338.76\">-0.5</text>\n</g>\n<g clip-path=\"url(#clip0901)\">\n<text style=\"fill:#000000; fill-opacity:1; font-family:Arial,Helvetica Neue,Helvetica,sans-serif; font-size:48px; text-anchor:middle;\" transform=\"rotate(0, 1241.33, 1338.76)\" x=\"1241.33\" y=\"1338.76\">0.0</text>\n</g>\n<g clip-path=\"url(#clip0901)\">\n<text style=\"fill:#000000; fill-opacity:1; font-family:Arial,Helvetica Neue,Helvetica,sans-serif; font-size:48px; text-anchor:middle;\" transform=\"rotate(0, 1750.73, 1338.76)\" x=\"1750.73\" y=\"1338.76\">0.5</text>\n</g>\n<g clip-path=\"url(#clip0901)\">\n<text style=\"fill:#000000; fill-opacity:1; font-family:Arial,Helvetica Neue,Helvetica,sans-serif; font-size:48px; text-anchor:middle;\" transform=\"rotate(0, 2260.13, 1338.76)\" x=\"2260.13\" y=\"1338.76\">1.0</text>\n</g>\n<g clip-path=\"url(#clip0901)\">\n<text style=\"fill:#000000; fill-opacity:1; font-family:Arial,Helvetica Neue,Helvetica,sans-serif; font-size:48px; text-anchor:end;\" transform=\"rotate(0, 137.394, 1302.26)\" x=\"137.394\" y=\"1302.26\">0.0</text>\n</g>\n<g clip-path=\"url(#clip0901)\">\n<text style=\"fill:#000000; fill-opacity:1; font-family:Arial,Helvetica Neue,Helvetica,sans-serif; font-size:48px; text-anchor:end;\" transform=\"rotate(0, 137.394, 1098.5)\" x=\"137.394\" y=\"1098.5\">0.2</text>\n</g>\n<g clip-path=\"url(#clip0901)\">\n<text style=\"fill:#000000; fill-opacity:1; font-family:Arial,Helvetica Neue,Helvetica,sans-serif; font-size:48px; text-anchor:end;\" transform=\"rotate(0, 137.394, 894.74)\" x=\"137.394\" y=\"894.74\">0.4</text>\n</g>\n<g clip-path=\"url(#clip0901)\">\n<text style=\"fill:#000000; fill-opacity:1; font-family:Arial,Helvetica Neue,Helvetica,sans-serif; font-size:48px; text-anchor:end;\" transform=\"rotate(0, 137.394, 690.979)\" x=\"137.394\" y=\"690.979\">0.6</text>\n</g>\n<g clip-path=\"url(#clip0901)\">\n<text style=\"fill:#000000; fill-opacity:1; font-family:Arial,Helvetica Neue,Helvetica,sans-serif; font-size:48px; text-anchor:end;\" transform=\"rotate(0, 137.394, 487.218)\" x=\"137.394\" y=\"487.218\">0.8</text>\n</g>\n<g clip-path=\"url(#clip0901)\">\n<text style=\"fill:#000000; fill-opacity:1; font-family:Arial,Helvetica Neue,Helvetica,sans-serif; font-size:48px; text-anchor:end;\" transform=\"rotate(0, 137.394, 283.457)\" x=\"137.394\" y=\"283.457\">1.0</text>\n</g>\n<polyline clip-path=\"url(#clip0903)\" style=\"stroke:#009af9; stroke-width:4; stroke-opacity:1; fill:none\" points=\"\n  225.01,1213.61 227.497,1184.2 229.984,1161.68 232.472,1142.73 234.959,1126.06 237.447,1111.02 239.934,1097.21 242.421,1084.39 253.921,1033.78 265.421,992.239 \n  276.92,956.307 288.42,924.302 311.419,868.548 334.418,820.564 357.418,778.138 380.417,739.971 403.416,705.22 426.416,673.303 454.059,638.1 481.702,605.841 \n  509.345,576.125 536.988,548.643 583.732,506.602 630.476,469.394 732.031,402.39 825.654,354.612 875.842,333.771 926.029,315.974 984.176,298.944 1042.32,285.582 \n  1145.67,270.458 1236.3,265.97 1335.11,270.282 1434.5,284.439 1544.4,312.079 1648.96,351.059 1703.32,376.727 1757.68,406.499 1803.44,435.059 1849.2,467.169 \n  1905.06,511.834 1960.93,563.559 1987.19,590.749 2013.45,620.086 2039.71,651.868 2065.96,686.483 2108.03,749.238 2150.1,824.224 2171.13,868.321 2192.17,918.886 \n  2202.68,947.486 2213.2,979.11 2223.72,1014.82 2234.24,1056.52 2237.47,1071.09 2240.71,1086.78 2243.95,1103.88 2247.18,1122.85 2250.42,1144.43 2253.66,1170.09 \n  2256.89,1203.61 \n  \"/>\n<polyline clip-path=\"url(#clip0903)\" style=\"stroke:#e26f46; stroke-width:4; stroke-opacity:1; fill:none\" stroke-dasharray=\"2, 4\" points=\"\n  2260.13,1284.76 2260.13,1284.76 \n  \"/>\n<polyline clip-path=\"url(#clip0903)\" style=\"stroke:#3da44d; stroke-width:4; stroke-opacity:1; fill:none\" stroke-dasharray=\"2, 4\" points=\"\n  2258.12,1284.76 2258.12,1220.79 \n  \"/>\n<polyline clip-path=\"url(#clip0903)\" style=\"stroke:#c271d2; stroke-width:4; stroke-opacity:1; fill:none\" stroke-dasharray=\"2, 4\" points=\"\n  2252.1,1284.76 2252.1,1157.07 \n  \"/>\n<polyline clip-path=\"url(#clip0903)\" style=\"stroke:#ac8d18; stroke-width:4; stroke-opacity:1; fill:none\" stroke-dasharray=\"2, 4\" points=\"\n  2242.09,1284.76 2242.09,1093.86 \n  \"/>\n<polyline clip-path=\"url(#clip0903)\" style=\"stroke:#00a9ad; stroke-width:4; stroke-opacity:1; fill:none\" stroke-dasharray=\"2, 4\" points=\"\n  2228.12,1284.76 2228.12,1031.4 \n  \"/>\n<polyline clip-path=\"url(#clip0903)\" style=\"stroke:#ed5d92; stroke-width:4; stroke-opacity:1; fill:none\" stroke-dasharray=\"2, 4\" points=\"\n  2210.27,1284.76 2210.27,969.934 \n  \"/>\n<polyline clip-path=\"url(#clip0903)\" style=\"stroke:#c68125; stroke-width:4; stroke-opacity:1; fill:none\" stroke-dasharray=\"2, 4\" points=\"\n  2188.59,1284.76 2188.59,909.715 \n  \"/>\n<polyline clip-path=\"url(#clip0903)\" style=\"stroke:#00a98d; stroke-width:4; stroke-opacity:1; fill:none\" stroke-dasharray=\"2, 4\" points=\"\n  2163.17,1284.76 2163.17,850.976 \n  \"/>\n<polyline clip-path=\"url(#clip0903)\" style=\"stroke:#8e971d; stroke-width:4; stroke-opacity:1; fill:none\" stroke-dasharray=\"2, 4\" points=\"\n  2134.11,1284.76 2134.11,793.949 \n  \"/>\n<polyline clip-path=\"url(#clip0903)\" style=\"stroke:#00a8cb; stroke-width:4; stroke-opacity:1; fill:none\" stroke-dasharray=\"2, 4\" points=\"\n  2101.53,1284.76 2101.53,738.859 \n  \"/>\n<polyline clip-path=\"url(#clip0903)\" style=\"stroke:#9b7fe8; stroke-width:4; stroke-opacity:1; fill:none\" stroke-dasharray=\"2, 4\" points=\"\n  2065.56,1284.76 2065.56,685.923 \n  \"/>\n<polyline clip-path=\"url(#clip0903)\" style=\"stroke:#608cf6; stroke-width:4; stroke-opacity:1; fill:none\" stroke-dasharray=\"2, 4\" points=\"\n  2026.33,1284.76 2026.33,635.351 \n  \"/>\n<polyline clip-path=\"url(#clip0903)\" style=\"stroke:#f05f73; stroke-width:4; stroke-opacity:1; fill:none\" stroke-dasharray=\"2, 4\" points=\"\n  1984,1284.76 1984,587.342 \n  \"/>\n<polyline clip-path=\"url(#clip0903)\" style=\"stroke:#dd64b5; stroke-width:4; stroke-opacity:1; fill:none\" stroke-dasharray=\"2, 4\" points=\"\n  1938.75,1284.76 1938.75,542.085 \n  \"/>\n<polyline clip-path=\"url(#clip0903)\" style=\"stroke:#6b9e32; stroke-width:4; stroke-opacity:1; fill:none\" stroke-dasharray=\"2, 4\" points=\"\n  1890.74,1284.76 1890.74,499.759 \n  \"/>\n<polyline clip-path=\"url(#clip0903)\" style=\"stroke:#718c69; stroke-width:4; stroke-opacity:1; fill:none\" stroke-dasharray=\"2, 4\" points=\"\n  1840.17,1284.76 1840.17,460.531 \n  \"/>\n<polyline clip-path=\"url(#clip0903)\" style=\"stroke:#47988b; stroke-width:4; stroke-opacity:1; fill:none\" stroke-dasharray=\"2, 4\" points=\"\n  1787.23,1284.76 1787.23,424.557 \n  \"/>\n<polyline clip-path=\"url(#clip0903)\" style=\"stroke:#1ea68c; stroke-width:4; stroke-opacity:1; fill:none\" stroke-dasharray=\"2, 4\" points=\"\n  1732.14,1284.76 1732.14,391.976 \n  \"/>\n<polyline clip-path=\"url(#clip0903)\" style=\"stroke:#af78dd; stroke-width:4; stroke-opacity:1; fill:none\" stroke-dasharray=\"2, 4\" points=\"\n  1675.11,1284.76 1675.11,362.92 \n  \"/>\n<polyline clip-path=\"url(#clip0903)\" style=\"stroke:#868d87; stroke-width:4; stroke-opacity:1; fill:none\" stroke-dasharray=\"2, 4\" points=\"\n  1616.37,1284.76 1616.37,337.501 \n  \"/>\n<polyline clip-path=\"url(#clip0903)\" style=\"stroke:#47a065; stroke-width:4; stroke-opacity:1; fill:none\" stroke-dasharray=\"2, 4\" points=\"\n  1556.15,1284.76 1556.15,315.821 \n  \"/>\n<polyline clip-path=\"url(#clip0903)\" style=\"stroke:#7683af; stroke-width:4; stroke-opacity:1; fill:none\" stroke-dasharray=\"2, 4\" points=\"\n  1494.69,1284.76 1494.69,297.965 \n  \"/>\n<polyline clip-path=\"url(#clip0903)\" style=\"stroke:#b08086; stroke-width:4; stroke-opacity:1; fill:none\" stroke-dasharray=\"2, 4\" points=\"\n  1432.23,1284.76 1432.23,284.003 \n  \"/>\n<polyline clip-path=\"url(#clip0903)\" style=\"stroke:#309ac1; stroke-width:4; stroke-opacity:1; fill:none\" stroke-dasharray=\"2, 4\" points=\"\n  1369.02,1284.76 1369.02,273.991 \n  \"/>\n<polyline clip-path=\"url(#clip0903)\" style=\"stroke:#788490; stroke-width:4; stroke-opacity:1; fill:none\" stroke-dasharray=\"2, 4\" points=\"\n  1305.3,1284.76 1305.3,267.967 \n  \"/>\n<polyline clip-path=\"url(#clip0903)\" style=\"stroke:#e561a4; stroke-width:4; stroke-opacity:1; fill:none\" stroke-dasharray=\"2, 4\" points=\"\n  1241.33,1284.76 1241.33,265.957 \n  \"/>\n<polyline clip-path=\"url(#clip0903)\" style=\"stroke:#99902c; stroke-width:4; stroke-opacity:1; fill:none\" stroke-dasharray=\"2, 4\" points=\"\n  1177.36,1284.76 1177.36,267.967 \n  \"/>\n<polyline clip-path=\"url(#clip0903)\" style=\"stroke:#389a7b; stroke-width:4; stroke-opacity:1; fill:none\" stroke-dasharray=\"2, 4\" points=\"\n  1113.64,1284.76 1113.64,273.991 \n  \"/>\n<polyline clip-path=\"url(#clip0903)\" style=\"stroke:#d968a2; stroke-width:4; stroke-opacity:1; fill:none\" stroke-dasharray=\"2, 4\" points=\"\n  1050.42,1284.76 1050.42,284.003 \n  \"/>\n<polyline clip-path=\"url(#clip0903)\" style=\"stroke:#009af9; stroke-width:4; stroke-opacity:1; fill:none\" stroke-dasharray=\"2, 4\" points=\"\n  987.961,1284.76 987.961,297.965 \n  \"/>\n<polyline clip-path=\"url(#clip0903)\" style=\"stroke:#e26f46; stroke-width:4; stroke-opacity:1; fill:none\" stroke-dasharray=\"2, 4\" points=\"\n  926.499,1284.76 926.499,315.821 \n  \"/>\n<polyline clip-path=\"url(#clip0903)\" style=\"stroke:#3da44d; stroke-width:4; stroke-opacity:1; fill:none\" stroke-dasharray=\"2, 4\" points=\"\n  866.28,1284.76 866.28,337.501 \n  \"/>\n<polyline clip-path=\"url(#clip0903)\" style=\"stroke:#c271d2; stroke-width:4; stroke-opacity:1; fill:none\" stroke-dasharray=\"2, 4\" points=\"\n  807.541,1284.76 807.541,362.92 \n  \"/>\n<polyline clip-path=\"url(#clip0903)\" style=\"stroke:#ac8d18; stroke-width:4; stroke-opacity:1; fill:none\" stroke-dasharray=\"2, 4\" points=\"\n  750.514,1284.76 750.514,391.976 \n  \"/>\n<polyline clip-path=\"url(#clip0903)\" style=\"stroke:#00a9ad; stroke-width:4; stroke-opacity:1; fill:none\" stroke-dasharray=\"2, 4\" points=\"\n  695.424,1284.76 695.424,424.557 \n  \"/>\n<polyline clip-path=\"url(#clip0903)\" style=\"stroke:#ed5d92; stroke-width:4; stroke-opacity:1; fill:none\" stroke-dasharray=\"2, 4\" points=\"\n  642.489,1284.76 642.489,460.531 \n  \"/>\n<polyline clip-path=\"url(#clip0903)\" style=\"stroke:#c68125; stroke-width:4; stroke-opacity:1; fill:none\" stroke-dasharray=\"2, 4\" points=\"\n  591.916,1284.76 591.916,499.759 \n  \"/>\n<polyline clip-path=\"url(#clip0903)\" style=\"stroke:#00a98d; stroke-width:4; stroke-opacity:1; fill:none\" stroke-dasharray=\"2, 4\" points=\"\n  543.907,1284.76 543.907,542.085 \n  \"/>\n<polyline clip-path=\"url(#clip0903)\" style=\"stroke:#8e971d; stroke-width:4; stroke-opacity:1; fill:none\" stroke-dasharray=\"2, 4\" points=\"\n  498.65,1284.76 498.65,587.342 \n  \"/>\n<polyline clip-path=\"url(#clip0903)\" style=\"stroke:#00a8cb; stroke-width:4; stroke-opacity:1; fill:none\" stroke-dasharray=\"2, 4\" points=\"\n  456.324,1284.76 456.324,635.351 \n  \"/>\n<polyline clip-path=\"url(#clip0903)\" style=\"stroke:#9b7fe8; stroke-width:4; stroke-opacity:1; fill:none\" stroke-dasharray=\"2, 4\" points=\"\n  417.097,1284.76 417.097,685.923 \n  \"/>\n<polyline clip-path=\"url(#clip0903)\" style=\"stroke:#608cf6; stroke-width:4; stroke-opacity:1; fill:none\" stroke-dasharray=\"2, 4\" points=\"\n  381.122,1284.76 381.122,738.859 \n  \"/>\n<polyline clip-path=\"url(#clip0903)\" style=\"stroke:#f05f73; stroke-width:4; stroke-opacity:1; fill:none\" stroke-dasharray=\"2, 4\" points=\"\n  348.542,1284.76 348.542,793.949 \n  \"/>\n<polyline clip-path=\"url(#clip0903)\" style=\"stroke:#dd64b5; stroke-width:4; stroke-opacity:1; fill:none\" stroke-dasharray=\"2, 4\" points=\"\n  319.485,1284.76 319.485,850.976 \n  \"/>\n<polyline clip-path=\"url(#clip0903)\" style=\"stroke:#6b9e32; stroke-width:4; stroke-opacity:1; fill:none\" stroke-dasharray=\"2, 4\" points=\"\n  294.066,1284.76 294.066,909.715 \n  \"/>\n<polyline clip-path=\"url(#clip0903)\" style=\"stroke:#718c69; stroke-width:4; stroke-opacity:1; fill:none\" stroke-dasharray=\"2, 4\" points=\"\n  272.386,1284.76 272.386,969.934 \n  \"/>\n<polyline clip-path=\"url(#clip0903)\" style=\"stroke:#47988b; stroke-width:4; stroke-opacity:1; fill:none\" stroke-dasharray=\"2, 4\" points=\"\n  254.53,1284.76 254.53,1031.4 \n  \"/>\n<polyline clip-path=\"url(#clip0903)\" style=\"stroke:#1ea68c; stroke-width:4; stroke-opacity:1; fill:none\" stroke-dasharray=\"2, 4\" points=\"\n  240.568,1284.76 240.568,1093.86 \n  \"/>\n<polyline clip-path=\"url(#clip0903)\" style=\"stroke:#af78dd; stroke-width:4; stroke-opacity:1; fill:none\" stroke-dasharray=\"2, 4\" points=\"\n  230.556,1284.76 230.556,1157.07 \n  \"/>\n<polyline clip-path=\"url(#clip0903)\" style=\"stroke:#868d87; stroke-width:4; stroke-opacity:1; fill:none\" stroke-dasharray=\"2, 4\" points=\"\n  224.533,1284.76 224.533,1220.79 \n  \"/>\n<polyline clip-path=\"url(#clip0903)\" style=\"stroke:#47a065; stroke-width:4; stroke-opacity:1; fill:none\" stroke-dasharray=\"2, 4\" points=\"\n  222.522,1284.76 222.522,1284.76 \n  \"/>\n<circle clip-path=\"url(#clip0903)\" style=\"fill:#000000; stroke:none; fill-opacity:1\" cx=\"2260.13\" cy=\"1284.76\" r=\"7\"/>\n<circle clip-path=\"url(#clip0903)\" style=\"fill:#7683af; stroke:none; fill-opacity:1\" cx=\"2260.13\" cy=\"1284.76\" r=\"3\"/>\n<circle clip-path=\"url(#clip0903)\" style=\"fill:#000000; stroke:none; fill-opacity:1\" cx=\"2258.12\" cy=\"1220.79\" r=\"7\"/>\n<circle clip-path=\"url(#clip0903)\" style=\"fill:#7683af; stroke:none; fill-opacity:1\" cx=\"2258.12\" cy=\"1220.79\" r=\"3\"/>\n<circle clip-path=\"url(#clip0903)\" style=\"fill:#000000; stroke:none; fill-opacity:1\" cx=\"2252.1\" cy=\"1157.07\" r=\"7\"/>\n<circle clip-path=\"url(#clip0903)\" style=\"fill:#7683af; stroke:none; fill-opacity:1\" cx=\"2252.1\" cy=\"1157.07\" r=\"3\"/>\n<circle clip-path=\"url(#clip0903)\" style=\"fill:#000000; stroke:none; fill-opacity:1\" cx=\"2242.09\" cy=\"1093.86\" r=\"7\"/>\n<circle clip-path=\"url(#clip0903)\" style=\"fill:#7683af; stroke:none; fill-opacity:1\" cx=\"2242.09\" cy=\"1093.86\" r=\"3\"/>\n<circle clip-path=\"url(#clip0903)\" style=\"fill:#000000; stroke:none; fill-opacity:1\" cx=\"2228.12\" cy=\"1031.4\" r=\"7\"/>\n<circle clip-path=\"url(#clip0903)\" style=\"fill:#7683af; stroke:none; fill-opacity:1\" cx=\"2228.12\" cy=\"1031.4\" r=\"3\"/>\n<circle clip-path=\"url(#clip0903)\" style=\"fill:#000000; stroke:none; fill-opacity:1\" cx=\"2210.27\" cy=\"969.934\" r=\"7\"/>\n<circle clip-path=\"url(#clip0903)\" style=\"fill:#7683af; stroke:none; fill-opacity:1\" cx=\"2210.27\" cy=\"969.934\" r=\"3\"/>\n<circle clip-path=\"url(#clip0903)\" style=\"fill:#000000; stroke:none; fill-opacity:1\" cx=\"2188.59\" cy=\"909.715\" r=\"7\"/>\n<circle clip-path=\"url(#clip0903)\" style=\"fill:#7683af; stroke:none; fill-opacity:1\" cx=\"2188.59\" cy=\"909.715\" r=\"3\"/>\n<circle clip-path=\"url(#clip0903)\" style=\"fill:#000000; stroke:none; fill-opacity:1\" cx=\"2163.17\" cy=\"850.976\" r=\"7\"/>\n<circle clip-path=\"url(#clip0903)\" style=\"fill:#7683af; stroke:none; fill-opacity:1\" cx=\"2163.17\" cy=\"850.976\" r=\"3\"/>\n<circle clip-path=\"url(#clip0903)\" style=\"fill:#000000; stroke:none; fill-opacity:1\" cx=\"2134.11\" cy=\"793.949\" r=\"7\"/>\n<circle clip-path=\"url(#clip0903)\" style=\"fill:#7683af; stroke:none; fill-opacity:1\" cx=\"2134.11\" cy=\"793.949\" r=\"3\"/>\n<circle clip-path=\"url(#clip0903)\" style=\"fill:#000000; stroke:none; fill-opacity:1\" cx=\"2101.53\" cy=\"738.859\" r=\"7\"/>\n<circle clip-path=\"url(#clip0903)\" style=\"fill:#7683af; stroke:none; fill-opacity:1\" cx=\"2101.53\" cy=\"738.859\" r=\"3\"/>\n<circle clip-path=\"url(#clip0903)\" style=\"fill:#000000; stroke:none; fill-opacity:1\" cx=\"2065.56\" cy=\"685.923\" r=\"7\"/>\n<circle clip-path=\"url(#clip0903)\" style=\"fill:#7683af; stroke:none; fill-opacity:1\" cx=\"2065.56\" cy=\"685.923\" r=\"3\"/>\n<circle clip-path=\"url(#clip0903)\" style=\"fill:#000000; stroke:none; fill-opacity:1\" cx=\"2026.33\" cy=\"635.351\" r=\"7\"/>\n<circle clip-path=\"url(#clip0903)\" style=\"fill:#7683af; stroke:none; fill-opacity:1\" cx=\"2026.33\" cy=\"635.351\" r=\"3\"/>\n<circle clip-path=\"url(#clip0903)\" style=\"fill:#000000; stroke:none; fill-opacity:1\" cx=\"1984\" cy=\"587.342\" r=\"7\"/>\n<circle clip-path=\"url(#clip0903)\" style=\"fill:#7683af; stroke:none; fill-opacity:1\" cx=\"1984\" cy=\"587.342\" r=\"3\"/>\n<circle clip-path=\"url(#clip0903)\" style=\"fill:#000000; stroke:none; fill-opacity:1\" cx=\"1938.75\" cy=\"542.085\" r=\"7\"/>\n<circle clip-path=\"url(#clip0903)\" style=\"fill:#7683af; stroke:none; fill-opacity:1\" cx=\"1938.75\" cy=\"542.085\" r=\"3\"/>\n<circle clip-path=\"url(#clip0903)\" style=\"fill:#000000; stroke:none; fill-opacity:1\" cx=\"1890.74\" cy=\"499.759\" r=\"7\"/>\n<circle clip-path=\"url(#clip0903)\" style=\"fill:#7683af; stroke:none; fill-opacity:1\" cx=\"1890.74\" cy=\"499.759\" r=\"3\"/>\n<circle clip-path=\"url(#clip0903)\" style=\"fill:#000000; stroke:none; fill-opacity:1\" cx=\"1840.17\" cy=\"460.531\" r=\"7\"/>\n<circle clip-path=\"url(#clip0903)\" style=\"fill:#7683af; stroke:none; fill-opacity:1\" cx=\"1840.17\" cy=\"460.531\" r=\"3\"/>\n<circle clip-path=\"url(#clip0903)\" style=\"fill:#000000; stroke:none; fill-opacity:1\" cx=\"1787.23\" cy=\"424.557\" r=\"7\"/>\n<circle clip-path=\"url(#clip0903)\" style=\"fill:#7683af; stroke:none; fill-opacity:1\" cx=\"1787.23\" cy=\"424.557\" r=\"3\"/>\n<circle clip-path=\"url(#clip0903)\" style=\"fill:#000000; stroke:none; fill-opacity:1\" cx=\"1732.14\" cy=\"391.976\" r=\"7\"/>\n<circle clip-path=\"url(#clip0903)\" style=\"fill:#7683af; stroke:none; fill-opacity:1\" cx=\"1732.14\" cy=\"391.976\" r=\"3\"/>\n<circle clip-path=\"url(#clip0903)\" style=\"fill:#000000; stroke:none; fill-opacity:1\" cx=\"1675.11\" cy=\"362.92\" r=\"7\"/>\n<circle clip-path=\"url(#clip0903)\" style=\"fill:#7683af; stroke:none; fill-opacity:1\" cx=\"1675.11\" cy=\"362.92\" r=\"3\"/>\n<circle clip-path=\"url(#clip0903)\" style=\"fill:#000000; stroke:none; fill-opacity:1\" cx=\"1616.37\" cy=\"337.501\" r=\"7\"/>\n<circle clip-path=\"url(#clip0903)\" style=\"fill:#7683af; stroke:none; fill-opacity:1\" cx=\"1616.37\" cy=\"337.501\" r=\"3\"/>\n<circle clip-path=\"url(#clip0903)\" style=\"fill:#000000; stroke:none; fill-opacity:1\" cx=\"1556.15\" cy=\"315.821\" r=\"7\"/>\n<circle clip-path=\"url(#clip0903)\" style=\"fill:#7683af; stroke:none; fill-opacity:1\" cx=\"1556.15\" cy=\"315.821\" r=\"3\"/>\n<circle clip-path=\"url(#clip0903)\" style=\"fill:#000000; stroke:none; fill-opacity:1\" cx=\"1494.69\" cy=\"297.965\" r=\"7\"/>\n<circle clip-path=\"url(#clip0903)\" style=\"fill:#7683af; stroke:none; fill-opacity:1\" cx=\"1494.69\" cy=\"297.965\" r=\"3\"/>\n<circle clip-path=\"url(#clip0903)\" style=\"fill:#000000; stroke:none; fill-opacity:1\" cx=\"1432.23\" cy=\"284.003\" r=\"7\"/>\n<circle clip-path=\"url(#clip0903)\" style=\"fill:#7683af; stroke:none; fill-opacity:1\" cx=\"1432.23\" cy=\"284.003\" r=\"3\"/>\n<circle clip-path=\"url(#clip0903)\" style=\"fill:#000000; stroke:none; fill-opacity:1\" cx=\"1369.02\" cy=\"273.991\" r=\"7\"/>\n<circle clip-path=\"url(#clip0903)\" style=\"fill:#7683af; stroke:none; fill-opacity:1\" cx=\"1369.02\" cy=\"273.991\" r=\"3\"/>\n<circle clip-path=\"url(#clip0903)\" style=\"fill:#000000; stroke:none; fill-opacity:1\" cx=\"1305.3\" cy=\"267.967\" r=\"7\"/>\n<circle clip-path=\"url(#clip0903)\" style=\"fill:#7683af; stroke:none; fill-opacity:1\" cx=\"1305.3\" cy=\"267.967\" r=\"3\"/>\n<circle clip-path=\"url(#clip0903)\" style=\"fill:#000000; stroke:none; fill-opacity:1\" cx=\"1241.33\" cy=\"265.957\" r=\"7\"/>\n<circle clip-path=\"url(#clip0903)\" style=\"fill:#7683af; stroke:none; fill-opacity:1\" cx=\"1241.33\" cy=\"265.957\" r=\"3\"/>\n<circle clip-path=\"url(#clip0903)\" style=\"fill:#000000; stroke:none; fill-opacity:1\" cx=\"1177.36\" cy=\"267.967\" r=\"7\"/>\n<circle clip-path=\"url(#clip0903)\" style=\"fill:#7683af; stroke:none; fill-opacity:1\" cx=\"1177.36\" cy=\"267.967\" r=\"3\"/>\n<circle clip-path=\"url(#clip0903)\" style=\"fill:#000000; stroke:none; fill-opacity:1\" cx=\"1113.64\" cy=\"273.991\" r=\"7\"/>\n<circle clip-path=\"url(#clip0903)\" style=\"fill:#7683af; stroke:none; fill-opacity:1\" cx=\"1113.64\" cy=\"273.991\" r=\"3\"/>\n<circle clip-path=\"url(#clip0903)\" style=\"fill:#000000; stroke:none; fill-opacity:1\" cx=\"1050.42\" cy=\"284.003\" r=\"7\"/>\n<circle clip-path=\"url(#clip0903)\" style=\"fill:#7683af; stroke:none; fill-opacity:1\" cx=\"1050.42\" cy=\"284.003\" r=\"3\"/>\n<circle clip-path=\"url(#clip0903)\" style=\"fill:#000000; stroke:none; fill-opacity:1\" cx=\"987.961\" cy=\"297.965\" r=\"7\"/>\n<circle clip-path=\"url(#clip0903)\" style=\"fill:#7683af; stroke:none; fill-opacity:1\" cx=\"987.961\" cy=\"297.965\" r=\"3\"/>\n<circle clip-path=\"url(#clip0903)\" style=\"fill:#000000; stroke:none; fill-opacity:1\" cx=\"926.499\" cy=\"315.821\" r=\"7\"/>\n<circle clip-path=\"url(#clip0903)\" style=\"fill:#7683af; stroke:none; fill-opacity:1\" cx=\"926.499\" cy=\"315.821\" r=\"3\"/>\n<circle clip-path=\"url(#clip0903)\" style=\"fill:#000000; stroke:none; fill-opacity:1\" cx=\"866.28\" cy=\"337.501\" r=\"7\"/>\n<circle clip-path=\"url(#clip0903)\" style=\"fill:#7683af; stroke:none; fill-opacity:1\" cx=\"866.28\" cy=\"337.501\" r=\"3\"/>\n<circle clip-path=\"url(#clip0903)\" style=\"fill:#000000; stroke:none; fill-opacity:1\" cx=\"807.541\" cy=\"362.92\" r=\"7\"/>\n<circle clip-path=\"url(#clip0903)\" style=\"fill:#7683af; stroke:none; fill-opacity:1\" cx=\"807.541\" cy=\"362.92\" r=\"3\"/>\n<circle clip-path=\"url(#clip0903)\" style=\"fill:#000000; stroke:none; fill-opacity:1\" cx=\"750.514\" cy=\"391.976\" r=\"7\"/>\n<circle clip-path=\"url(#clip0903)\" style=\"fill:#7683af; stroke:none; fill-opacity:1\" cx=\"750.514\" cy=\"391.976\" r=\"3\"/>\n<circle clip-path=\"url(#clip0903)\" style=\"fill:#000000; stroke:none; fill-opacity:1\" cx=\"695.424\" cy=\"424.557\" r=\"7\"/>\n<circle clip-path=\"url(#clip0903)\" style=\"fill:#7683af; stroke:none; fill-opacity:1\" cx=\"695.424\" cy=\"424.557\" r=\"3\"/>\n<circle clip-path=\"url(#clip0903)\" style=\"fill:#000000; stroke:none; fill-opacity:1\" cx=\"642.489\" cy=\"460.531\" r=\"7\"/>\n<circle clip-path=\"url(#clip0903)\" style=\"fill:#7683af; stroke:none; fill-opacity:1\" cx=\"642.489\" cy=\"460.531\" r=\"3\"/>\n<circle clip-path=\"url(#clip0903)\" style=\"fill:#000000; stroke:none; fill-opacity:1\" cx=\"591.916\" cy=\"499.759\" r=\"7\"/>\n<circle clip-path=\"url(#clip0903)\" style=\"fill:#7683af; stroke:none; fill-opacity:1\" cx=\"591.916\" cy=\"499.759\" r=\"3\"/>\n<circle clip-path=\"url(#clip0903)\" style=\"fill:#000000; stroke:none; fill-opacity:1\" cx=\"543.907\" cy=\"542.085\" r=\"7\"/>\n<circle clip-path=\"url(#clip0903)\" style=\"fill:#7683af; stroke:none; fill-opacity:1\" cx=\"543.907\" cy=\"542.085\" r=\"3\"/>\n<circle clip-path=\"url(#clip0903)\" style=\"fill:#000000; stroke:none; fill-opacity:1\" cx=\"498.65\" cy=\"587.342\" r=\"7\"/>\n<circle clip-path=\"url(#clip0903)\" style=\"fill:#7683af; stroke:none; fill-opacity:1\" cx=\"498.65\" cy=\"587.342\" r=\"3\"/>\n<circle clip-path=\"url(#clip0903)\" style=\"fill:#000000; stroke:none; fill-opacity:1\" cx=\"456.324\" cy=\"635.351\" r=\"7\"/>\n<circle clip-path=\"url(#clip0903)\" style=\"fill:#7683af; stroke:none; fill-opacity:1\" cx=\"456.324\" cy=\"635.351\" r=\"3\"/>\n<circle clip-path=\"url(#clip0903)\" style=\"fill:#000000; stroke:none; fill-opacity:1\" cx=\"417.097\" cy=\"685.923\" r=\"7\"/>\n<circle clip-path=\"url(#clip0903)\" style=\"fill:#7683af; stroke:none; fill-opacity:1\" cx=\"417.097\" cy=\"685.923\" r=\"3\"/>\n<circle clip-path=\"url(#clip0903)\" style=\"fill:#000000; stroke:none; fill-opacity:1\" cx=\"381.122\" cy=\"738.859\" r=\"7\"/>\n<circle clip-path=\"url(#clip0903)\" style=\"fill:#7683af; stroke:none; fill-opacity:1\" cx=\"381.122\" cy=\"738.859\" r=\"3\"/>\n<circle clip-path=\"url(#clip0903)\" style=\"fill:#000000; stroke:none; fill-opacity:1\" cx=\"348.542\" cy=\"793.949\" r=\"7\"/>\n<circle clip-path=\"url(#clip0903)\" style=\"fill:#7683af; stroke:none; fill-opacity:1\" cx=\"348.542\" cy=\"793.949\" r=\"3\"/>\n<circle clip-path=\"url(#clip0903)\" style=\"fill:#000000; stroke:none; fill-opacity:1\" cx=\"319.485\" cy=\"850.976\" r=\"7\"/>\n<circle clip-path=\"url(#clip0903)\" style=\"fill:#7683af; stroke:none; fill-opacity:1\" cx=\"319.485\" cy=\"850.976\" r=\"3\"/>\n<circle clip-path=\"url(#clip0903)\" style=\"fill:#000000; stroke:none; fill-opacity:1\" cx=\"294.066\" cy=\"909.715\" r=\"7\"/>\n<circle clip-path=\"url(#clip0903)\" style=\"fill:#7683af; stroke:none; fill-opacity:1\" cx=\"294.066\" cy=\"909.715\" r=\"3\"/>\n<circle clip-path=\"url(#clip0903)\" style=\"fill:#000000; stroke:none; fill-opacity:1\" cx=\"272.386\" cy=\"969.934\" r=\"7\"/>\n<circle clip-path=\"url(#clip0903)\" style=\"fill:#7683af; stroke:none; fill-opacity:1\" cx=\"272.386\" cy=\"969.934\" r=\"3\"/>\n<circle clip-path=\"url(#clip0903)\" style=\"fill:#000000; stroke:none; fill-opacity:1\" cx=\"254.53\" cy=\"1031.4\" r=\"7\"/>\n<circle clip-path=\"url(#clip0903)\" style=\"fill:#7683af; stroke:none; fill-opacity:1\" cx=\"254.53\" cy=\"1031.4\" r=\"3\"/>\n<circle clip-path=\"url(#clip0903)\" style=\"fill:#000000; stroke:none; fill-opacity:1\" cx=\"240.568\" cy=\"1093.86\" r=\"7\"/>\n<circle clip-path=\"url(#clip0903)\" style=\"fill:#7683af; stroke:none; fill-opacity:1\" cx=\"240.568\" cy=\"1093.86\" r=\"3\"/>\n<circle clip-path=\"url(#clip0903)\" style=\"fill:#000000; stroke:none; fill-opacity:1\" cx=\"230.556\" cy=\"1157.07\" r=\"7\"/>\n<circle clip-path=\"url(#clip0903)\" style=\"fill:#7683af; stroke:none; fill-opacity:1\" cx=\"230.556\" cy=\"1157.07\" r=\"3\"/>\n<circle clip-path=\"url(#clip0903)\" style=\"fill:#000000; stroke:none; fill-opacity:1\" cx=\"224.533\" cy=\"1220.79\" r=\"7\"/>\n<circle clip-path=\"url(#clip0903)\" style=\"fill:#7683af; stroke:none; fill-opacity:1\" cx=\"224.533\" cy=\"1220.79\" r=\"3\"/>\n<circle clip-path=\"url(#clip0903)\" style=\"fill:#000000; stroke:none; fill-opacity:1\" cx=\"222.522\" cy=\"1284.76\" r=\"7\"/>\n<circle clip-path=\"url(#clip0903)\" style=\"fill:#7683af; stroke:none; fill-opacity:1\" cx=\"222.522\" cy=\"1284.76\" r=\"3\"/>\n<circle clip-path=\"url(#clip0903)\" style=\"fill:#000000; stroke:none; fill-opacity:1\" cx=\"2260.13\" cy=\"1284.76\" r=\"7\"/>\n<circle clip-path=\"url(#clip0903)\" style=\"fill:#b08086; stroke:none; fill-opacity:1\" cx=\"2260.13\" cy=\"1284.76\" r=\"3\"/>\n<circle clip-path=\"url(#clip0903)\" style=\"fill:#000000; stroke:none; fill-opacity:1\" cx=\"2258.12\" cy=\"1284.76\" r=\"7\"/>\n<circle clip-path=\"url(#clip0903)\" style=\"fill:#b08086; stroke:none; fill-opacity:1\" cx=\"2258.12\" cy=\"1284.76\" r=\"3\"/>\n<circle clip-path=\"url(#clip0903)\" style=\"fill:#000000; stroke:none; fill-opacity:1\" cx=\"2252.1\" cy=\"1284.76\" r=\"7\"/>\n<circle clip-path=\"url(#clip0903)\" style=\"fill:#b08086; stroke:none; fill-opacity:1\" cx=\"2252.1\" cy=\"1284.76\" r=\"3\"/>\n<circle clip-path=\"url(#clip0903)\" style=\"fill:#000000; stroke:none; fill-opacity:1\" cx=\"2242.09\" cy=\"1284.76\" r=\"7\"/>\n<circle clip-path=\"url(#clip0903)\" style=\"fill:#b08086; stroke:none; fill-opacity:1\" cx=\"2242.09\" cy=\"1284.76\" r=\"3\"/>\n<circle clip-path=\"url(#clip0903)\" style=\"fill:#000000; stroke:none; fill-opacity:1\" cx=\"2228.12\" cy=\"1284.76\" r=\"7\"/>\n<circle clip-path=\"url(#clip0903)\" style=\"fill:#b08086; stroke:none; fill-opacity:1\" cx=\"2228.12\" cy=\"1284.76\" r=\"3\"/>\n<circle clip-path=\"url(#clip0903)\" style=\"fill:#000000; stroke:none; fill-opacity:1\" cx=\"2210.27\" cy=\"1284.76\" r=\"7\"/>\n<circle clip-path=\"url(#clip0903)\" style=\"fill:#b08086; stroke:none; fill-opacity:1\" cx=\"2210.27\" cy=\"1284.76\" r=\"3\"/>\n<circle clip-path=\"url(#clip0903)\" style=\"fill:#000000; stroke:none; fill-opacity:1\" cx=\"2188.59\" cy=\"1284.76\" r=\"7\"/>\n<circle clip-path=\"url(#clip0903)\" style=\"fill:#b08086; stroke:none; fill-opacity:1\" cx=\"2188.59\" cy=\"1284.76\" r=\"3\"/>\n<circle clip-path=\"url(#clip0903)\" style=\"fill:#000000; stroke:none; fill-opacity:1\" cx=\"2163.17\" cy=\"1284.76\" r=\"7\"/>\n<circle clip-path=\"url(#clip0903)\" style=\"fill:#b08086; stroke:none; fill-opacity:1\" cx=\"2163.17\" cy=\"1284.76\" r=\"3\"/>\n<circle clip-path=\"url(#clip0903)\" style=\"fill:#000000; stroke:none; fill-opacity:1\" cx=\"2134.11\" cy=\"1284.76\" r=\"7\"/>\n<circle clip-path=\"url(#clip0903)\" style=\"fill:#b08086; stroke:none; fill-opacity:1\" cx=\"2134.11\" cy=\"1284.76\" r=\"3\"/>\n<circle clip-path=\"url(#clip0903)\" style=\"fill:#000000; stroke:none; fill-opacity:1\" cx=\"2101.53\" cy=\"1284.76\" r=\"7\"/>\n<circle clip-path=\"url(#clip0903)\" style=\"fill:#b08086; stroke:none; fill-opacity:1\" cx=\"2101.53\" cy=\"1284.76\" r=\"3\"/>\n<circle clip-path=\"url(#clip0903)\" style=\"fill:#000000; stroke:none; fill-opacity:1\" cx=\"2065.56\" cy=\"1284.76\" r=\"7\"/>\n<circle clip-path=\"url(#clip0903)\" style=\"fill:#b08086; stroke:none; fill-opacity:1\" cx=\"2065.56\" cy=\"1284.76\" r=\"3\"/>\n<circle clip-path=\"url(#clip0903)\" style=\"fill:#000000; stroke:none; fill-opacity:1\" cx=\"2026.33\" cy=\"1284.76\" r=\"7\"/>\n<circle clip-path=\"url(#clip0903)\" style=\"fill:#b08086; stroke:none; fill-opacity:1\" cx=\"2026.33\" cy=\"1284.76\" r=\"3\"/>\n<circle clip-path=\"url(#clip0903)\" style=\"fill:#000000; stroke:none; fill-opacity:1\" cx=\"1984\" cy=\"1284.76\" r=\"7\"/>\n<circle clip-path=\"url(#clip0903)\" style=\"fill:#b08086; stroke:none; fill-opacity:1\" cx=\"1984\" cy=\"1284.76\" r=\"3\"/>\n<circle clip-path=\"url(#clip0903)\" style=\"fill:#000000; stroke:none; fill-opacity:1\" cx=\"1938.75\" cy=\"1284.76\" r=\"7\"/>\n<circle clip-path=\"url(#clip0903)\" style=\"fill:#b08086; stroke:none; fill-opacity:1\" cx=\"1938.75\" cy=\"1284.76\" r=\"3\"/>\n<circle clip-path=\"url(#clip0903)\" style=\"fill:#000000; stroke:none; fill-opacity:1\" cx=\"1890.74\" cy=\"1284.76\" r=\"7\"/>\n<circle clip-path=\"url(#clip0903)\" style=\"fill:#b08086; stroke:none; fill-opacity:1\" cx=\"1890.74\" cy=\"1284.76\" r=\"3\"/>\n<circle clip-path=\"url(#clip0903)\" style=\"fill:#000000; stroke:none; fill-opacity:1\" cx=\"1840.17\" cy=\"1284.76\" r=\"7\"/>\n<circle clip-path=\"url(#clip0903)\" style=\"fill:#b08086; stroke:none; fill-opacity:1\" cx=\"1840.17\" cy=\"1284.76\" r=\"3\"/>\n<circle clip-path=\"url(#clip0903)\" style=\"fill:#000000; stroke:none; fill-opacity:1\" cx=\"1787.23\" cy=\"1284.76\" r=\"7\"/>\n<circle clip-path=\"url(#clip0903)\" style=\"fill:#b08086; stroke:none; fill-opacity:1\" cx=\"1787.23\" cy=\"1284.76\" r=\"3\"/>\n<circle clip-path=\"url(#clip0903)\" style=\"fill:#000000; stroke:none; fill-opacity:1\" cx=\"1732.14\" cy=\"1284.76\" r=\"7\"/>\n<circle clip-path=\"url(#clip0903)\" style=\"fill:#b08086; stroke:none; fill-opacity:1\" cx=\"1732.14\" cy=\"1284.76\" r=\"3\"/>\n<circle clip-path=\"url(#clip0903)\" style=\"fill:#000000; stroke:none; fill-opacity:1\" cx=\"1675.11\" cy=\"1284.76\" r=\"7\"/>\n<circle clip-path=\"url(#clip0903)\" style=\"fill:#b08086; stroke:none; fill-opacity:1\" cx=\"1675.11\" cy=\"1284.76\" r=\"3\"/>\n<circle clip-path=\"url(#clip0903)\" style=\"fill:#000000; stroke:none; fill-opacity:1\" cx=\"1616.37\" cy=\"1284.76\" r=\"7\"/>\n<circle clip-path=\"url(#clip0903)\" style=\"fill:#b08086; stroke:none; fill-opacity:1\" cx=\"1616.37\" cy=\"1284.76\" r=\"3\"/>\n<circle clip-path=\"url(#clip0903)\" style=\"fill:#000000; stroke:none; fill-opacity:1\" cx=\"1556.15\" cy=\"1284.76\" r=\"7\"/>\n<circle clip-path=\"url(#clip0903)\" style=\"fill:#b08086; stroke:none; fill-opacity:1\" cx=\"1556.15\" cy=\"1284.76\" r=\"3\"/>\n<circle clip-path=\"url(#clip0903)\" style=\"fill:#000000; stroke:none; fill-opacity:1\" cx=\"1494.69\" cy=\"1284.76\" r=\"7\"/>\n<circle clip-path=\"url(#clip0903)\" style=\"fill:#b08086; stroke:none; fill-opacity:1\" cx=\"1494.69\" cy=\"1284.76\" r=\"3\"/>\n<circle clip-path=\"url(#clip0903)\" style=\"fill:#000000; stroke:none; fill-opacity:1\" cx=\"1432.23\" cy=\"1284.76\" r=\"7\"/>\n<circle clip-path=\"url(#clip0903)\" style=\"fill:#b08086; stroke:none; fill-opacity:1\" cx=\"1432.23\" cy=\"1284.76\" r=\"3\"/>\n<circle clip-path=\"url(#clip0903)\" style=\"fill:#000000; stroke:none; fill-opacity:1\" cx=\"1369.02\" cy=\"1284.76\" r=\"7\"/>\n<circle clip-path=\"url(#clip0903)\" style=\"fill:#b08086; stroke:none; fill-opacity:1\" cx=\"1369.02\" cy=\"1284.76\" r=\"3\"/>\n<circle clip-path=\"url(#clip0903)\" style=\"fill:#000000; stroke:none; fill-opacity:1\" cx=\"1305.3\" cy=\"1284.76\" r=\"7\"/>\n<circle clip-path=\"url(#clip0903)\" style=\"fill:#b08086; stroke:none; fill-opacity:1\" cx=\"1305.3\" cy=\"1284.76\" r=\"3\"/>\n<circle clip-path=\"url(#clip0903)\" style=\"fill:#000000; stroke:none; fill-opacity:1\" cx=\"1241.33\" cy=\"1284.76\" r=\"7\"/>\n<circle clip-path=\"url(#clip0903)\" style=\"fill:#b08086; stroke:none; fill-opacity:1\" cx=\"1241.33\" cy=\"1284.76\" r=\"3\"/>\n<circle clip-path=\"url(#clip0903)\" style=\"fill:#000000; stroke:none; fill-opacity:1\" cx=\"1177.36\" cy=\"1284.76\" r=\"7\"/>\n<circle clip-path=\"url(#clip0903)\" style=\"fill:#b08086; stroke:none; fill-opacity:1\" cx=\"1177.36\" cy=\"1284.76\" r=\"3\"/>\n<circle clip-path=\"url(#clip0903)\" style=\"fill:#000000; stroke:none; fill-opacity:1\" cx=\"1113.64\" cy=\"1284.76\" r=\"7\"/>\n<circle clip-path=\"url(#clip0903)\" style=\"fill:#b08086; stroke:none; fill-opacity:1\" cx=\"1113.64\" cy=\"1284.76\" r=\"3\"/>\n<circle clip-path=\"url(#clip0903)\" style=\"fill:#000000; stroke:none; fill-opacity:1\" cx=\"1050.42\" cy=\"1284.76\" r=\"7\"/>\n<circle clip-path=\"url(#clip0903)\" style=\"fill:#b08086; stroke:none; fill-opacity:1\" cx=\"1050.42\" cy=\"1284.76\" r=\"3\"/>\n<circle clip-path=\"url(#clip0903)\" style=\"fill:#000000; stroke:none; fill-opacity:1\" cx=\"987.961\" cy=\"1284.76\" r=\"7\"/>\n<circle clip-path=\"url(#clip0903)\" style=\"fill:#b08086; stroke:none; fill-opacity:1\" cx=\"987.961\" cy=\"1284.76\" r=\"3\"/>\n<circle clip-path=\"url(#clip0903)\" style=\"fill:#000000; stroke:none; fill-opacity:1\" cx=\"926.499\" cy=\"1284.76\" r=\"7\"/>\n<circle clip-path=\"url(#clip0903)\" style=\"fill:#b08086; stroke:none; fill-opacity:1\" cx=\"926.499\" cy=\"1284.76\" r=\"3\"/>\n<circle clip-path=\"url(#clip0903)\" style=\"fill:#000000; stroke:none; fill-opacity:1\" cx=\"866.28\" cy=\"1284.76\" r=\"7\"/>\n<circle clip-path=\"url(#clip0903)\" style=\"fill:#b08086; stroke:none; fill-opacity:1\" cx=\"866.28\" cy=\"1284.76\" r=\"3\"/>\n<circle clip-path=\"url(#clip0903)\" style=\"fill:#000000; stroke:none; fill-opacity:1\" cx=\"807.541\" cy=\"1284.76\" r=\"7\"/>\n<circle clip-path=\"url(#clip0903)\" style=\"fill:#b08086; stroke:none; fill-opacity:1\" cx=\"807.541\" cy=\"1284.76\" r=\"3\"/>\n<circle clip-path=\"url(#clip0903)\" style=\"fill:#000000; stroke:none; fill-opacity:1\" cx=\"750.514\" cy=\"1284.76\" r=\"7\"/>\n<circle clip-path=\"url(#clip0903)\" style=\"fill:#b08086; stroke:none; fill-opacity:1\" cx=\"750.514\" cy=\"1284.76\" r=\"3\"/>\n<circle clip-path=\"url(#clip0903)\" style=\"fill:#000000; stroke:none; fill-opacity:1\" cx=\"695.424\" cy=\"1284.76\" r=\"7\"/>\n<circle clip-path=\"url(#clip0903)\" style=\"fill:#b08086; stroke:none; fill-opacity:1\" cx=\"695.424\" cy=\"1284.76\" r=\"3\"/>\n<circle clip-path=\"url(#clip0903)\" style=\"fill:#000000; stroke:none; fill-opacity:1\" cx=\"642.489\" cy=\"1284.76\" r=\"7\"/>\n<circle clip-path=\"url(#clip0903)\" style=\"fill:#b08086; stroke:none; fill-opacity:1\" cx=\"642.489\" cy=\"1284.76\" r=\"3\"/>\n<circle clip-path=\"url(#clip0903)\" style=\"fill:#000000; stroke:none; fill-opacity:1\" cx=\"591.916\" cy=\"1284.76\" r=\"7\"/>\n<circle clip-path=\"url(#clip0903)\" style=\"fill:#b08086; stroke:none; fill-opacity:1\" cx=\"591.916\" cy=\"1284.76\" r=\"3\"/>\n<circle clip-path=\"url(#clip0903)\" style=\"fill:#000000; stroke:none; fill-opacity:1\" cx=\"543.907\" cy=\"1284.76\" r=\"7\"/>\n<circle clip-path=\"url(#clip0903)\" style=\"fill:#b08086; stroke:none; fill-opacity:1\" cx=\"543.907\" cy=\"1284.76\" r=\"3\"/>\n<circle clip-path=\"url(#clip0903)\" style=\"fill:#000000; stroke:none; fill-opacity:1\" cx=\"498.65\" cy=\"1284.76\" r=\"7\"/>\n<circle clip-path=\"url(#clip0903)\" style=\"fill:#b08086; stroke:none; fill-opacity:1\" cx=\"498.65\" cy=\"1284.76\" r=\"3\"/>\n<circle clip-path=\"url(#clip0903)\" style=\"fill:#000000; stroke:none; fill-opacity:1\" cx=\"456.324\" cy=\"1284.76\" r=\"7\"/>\n<circle clip-path=\"url(#clip0903)\" style=\"fill:#b08086; stroke:none; fill-opacity:1\" cx=\"456.324\" cy=\"1284.76\" r=\"3\"/>\n<circle clip-path=\"url(#clip0903)\" style=\"fill:#000000; stroke:none; fill-opacity:1\" cx=\"417.097\" cy=\"1284.76\" r=\"7\"/>\n<circle clip-path=\"url(#clip0903)\" style=\"fill:#b08086; stroke:none; fill-opacity:1\" cx=\"417.097\" cy=\"1284.76\" r=\"3\"/>\n<circle clip-path=\"url(#clip0903)\" style=\"fill:#000000; stroke:none; fill-opacity:1\" cx=\"381.122\" cy=\"1284.76\" r=\"7\"/>\n<circle clip-path=\"url(#clip0903)\" style=\"fill:#b08086; stroke:none; fill-opacity:1\" cx=\"381.122\" cy=\"1284.76\" r=\"3\"/>\n<circle clip-path=\"url(#clip0903)\" style=\"fill:#000000; stroke:none; fill-opacity:1\" cx=\"348.542\" cy=\"1284.76\" r=\"7\"/>\n<circle clip-path=\"url(#clip0903)\" style=\"fill:#b08086; stroke:none; fill-opacity:1\" cx=\"348.542\" cy=\"1284.76\" r=\"3\"/>\n<circle clip-path=\"url(#clip0903)\" style=\"fill:#000000; stroke:none; fill-opacity:1\" cx=\"319.485\" cy=\"1284.76\" r=\"7\"/>\n<circle clip-path=\"url(#clip0903)\" style=\"fill:#b08086; stroke:none; fill-opacity:1\" cx=\"319.485\" cy=\"1284.76\" r=\"3\"/>\n<circle clip-path=\"url(#clip0903)\" style=\"fill:#000000; stroke:none; fill-opacity:1\" cx=\"294.066\" cy=\"1284.76\" r=\"7\"/>\n<circle clip-path=\"url(#clip0903)\" style=\"fill:#b08086; stroke:none; fill-opacity:1\" cx=\"294.066\" cy=\"1284.76\" r=\"3\"/>\n<circle clip-path=\"url(#clip0903)\" style=\"fill:#000000; stroke:none; fill-opacity:1\" cx=\"272.386\" cy=\"1284.76\" r=\"7\"/>\n<circle clip-path=\"url(#clip0903)\" style=\"fill:#b08086; stroke:none; fill-opacity:1\" cx=\"272.386\" cy=\"1284.76\" r=\"3\"/>\n<circle clip-path=\"url(#clip0903)\" style=\"fill:#000000; stroke:none; fill-opacity:1\" cx=\"254.53\" cy=\"1284.76\" r=\"7\"/>\n<circle clip-path=\"url(#clip0903)\" style=\"fill:#b08086; stroke:none; fill-opacity:1\" cx=\"254.53\" cy=\"1284.76\" r=\"3\"/>\n<circle clip-path=\"url(#clip0903)\" style=\"fill:#000000; stroke:none; fill-opacity:1\" cx=\"240.568\" cy=\"1284.76\" r=\"7\"/>\n<circle clip-path=\"url(#clip0903)\" style=\"fill:#b08086; stroke:none; fill-opacity:1\" cx=\"240.568\" cy=\"1284.76\" r=\"3\"/>\n<circle clip-path=\"url(#clip0903)\" style=\"fill:#000000; stroke:none; fill-opacity:1\" cx=\"230.556\" cy=\"1284.76\" r=\"7\"/>\n<circle clip-path=\"url(#clip0903)\" style=\"fill:#b08086; stroke:none; fill-opacity:1\" cx=\"230.556\" cy=\"1284.76\" r=\"3\"/>\n<circle clip-path=\"url(#clip0903)\" style=\"fill:#000000; stroke:none; fill-opacity:1\" cx=\"224.533\" cy=\"1284.76\" r=\"7\"/>\n<circle clip-path=\"url(#clip0903)\" style=\"fill:#b08086; stroke:none; fill-opacity:1\" cx=\"224.533\" cy=\"1284.76\" r=\"3\"/>\n<circle clip-path=\"url(#clip0903)\" style=\"fill:#000000; stroke:none; fill-opacity:1\" cx=\"222.522\" cy=\"1284.76\" r=\"7\"/>\n<circle clip-path=\"url(#clip0903)\" style=\"fill:#b08086; stroke:none; fill-opacity:1\" cx=\"222.522\" cy=\"1284.76\" r=\"3\"/>\n</svg>\n"
               },
               "type": "node"
              }
             ],
             "instanceArgs": {
              "namespace": "html",
              "tag": "div"
             },
             "nodeType": "DOM",
             "props": {
              "attributes": {
               "style": "display:flex; justify-content:center; align-items:center;"
              }
             },
             "type": "node"
            }
           }
          },
          "systemjs_options": null
         },
         "nodeType": "Scope",
         "props": {},
         "type": "node"
        }
       ],
       "instanceArgs": {
        "namespace": "html",
        "tag": "div"
       },
       "nodeType": "DOM",
       "props": {},
       "type": "node"
      },
      "text/html": [
       "<div\n",
       "    class=\"webio-mountpoint\"\n",
       "    data-webio-mountpoint=\"11349088194170072954\"\n",
       ">\n",
       "    <script>\n",
       "    if (window.require && require.defined && require.defined(\"nbextensions/webio/main\")) {\n",
       "        console.log(\"Jupyter WebIO extension detected, not mounting.\");\n",
       "    } else if (window.WebIO) {\n",
       "        WebIO.mount(\n",
       "            document.querySelector('[data-webio-mountpoint=\"11349088194170072954\"]'),\n",
       "            {\"props\":{},\"nodeType\":\"DOM\",\"type\":\"node\",\"instanceArgs\":{\"namespace\":\"html\",\"tag\":\"div\"},\"children\":[{\"props\":{\"className\":\"field\"},\"nodeType\":\"DOM\",\"type\":\"node\",\"instanceArgs\":{\"namespace\":\"html\",\"tag\":\"div\"},\"children\":[{\"props\":{},\"nodeType\":\"Scope\",\"type\":\"node\",\"instanceArgs\":{\"imports\":{\"data\":[{\"name\":\"knockout\",\"type\":\"js\",\"url\":\"\\/assetserver\\/14729442142be2033c67c08d3f6ed58cf9e9306f-knockout.js\"},{\"name\":\"knockout_punches\",\"type\":\"js\",\"url\":\"\\/assetserver\\/0773a38c0aca1f5643d9ec49fad13ea9b3293506-knockout_punches.js\"},{\"name\":null,\"type\":\"js\",\"url\":\"\\/assetserver\\/56cd7e6e51b361c8e5378d2500dfd1b39707ca7c-all.js\"},{\"name\":null,\"type\":\"css\",\"url\":\"\\/assetserver\\/d226c2708e3ef23c5404b7f624792b7c5b133545-style.css\"},{\"name\":null,\"type\":\"css\",\"url\":\"\\/assetserver\\/742c1b9efe7657f980837af18d11a905cd62440b-main.css\"}],\"type\":\"async_block\"},\"id\":\"knockout-component-083fe6af-a3a5-4652-9a72-1fcd52fb361e\",\"handlers\":{\"_promises\":{\"importsLoaded\":[\"function (ko, koPunches) {\\n    ko.punches.enableAll();\\n    ko.bindingHandlers.numericValue = {\\n        init : function(element, valueAccessor, allBindings, data, context) {\\n            var stringified = ko.observable(ko.unwrap(valueAccessor()));\\n            stringified.subscribe(function(value) {\\n                var val = parseFloat(value);\\n                if (!isNaN(val)) {\\n                    valueAccessor()(val);\\n                }\\n            })\\n            valueAccessor().subscribe(function(value) {\\n                var str = JSON.stringify(value);\\n                if ((str == \\\"0\\\") && ([\\\"-0\\\", \\\"-0.\\\"].indexOf(stringified()) >= 0))\\n                     return;\\n                 if ([\\\"null\\\", \\\"\\\"].indexOf(str) >= 0)\\n                     return;\\n                stringified(str);\\n            })\\n            ko.applyBindingsToNode(element, { value: stringified, valueUpdate: allBindings.get('valueUpdate')}, context);\\n        }\\n    };\\n    var json_data = JSON.parse(\\\"{\\\\\\\"changes\\\\\\\":0,\\\\\\\"value\\\\\\\":51}\\\");\\n    var self = this;\\n    function AppViewModel() {\\n        for (var key in json_data) {\\n            var el = json_data[key];\\n            this[key] = Array.isArray(el) ? ko.observableArray(el) : ko.observable(el);\\n        }\\n        \\n        \\n        [this[\\\"changes\\\"].subscribe((function (val){!(this.valueFromJulia[\\\"changes\\\"]) ? (WebIO.setval({\\\"name\\\":\\\"changes\\\",\\\"scope\\\":\\\"knockout-component-083fe6af-a3a5-4652-9a72-1fcd52fb361e\\\",\\\"id\\\":\\\"ob_27\\\",\\\"type\\\":\\\"observable\\\"},val)) : undefined; return this.valueFromJulia[\\\"changes\\\"]=false}),self),this[\\\"value\\\"].subscribe((function (val){!(this.valueFromJulia[\\\"value\\\"]) ? (WebIO.setval({\\\"name\\\":\\\"value\\\",\\\"scope\\\":\\\"knockout-component-083fe6af-a3a5-4652-9a72-1fcd52fb361e\\\",\\\"id\\\":\\\"ob_26\\\",\\\"type\\\":\\\"observable\\\"},val)) : undefined; return this.valueFromJulia[\\\"value\\\"]=false}),self)]\\n        \\n    }\\n    self.model = new AppViewModel();\\n    self.valueFromJulia = {};\\n    for (var key in json_data) {\\n        self.valueFromJulia[key] = false;\\n    }\\n    ko.applyBindings(self.model, self.dom);\\n}\\n\"]},\"changes\":[\"(function (val){return (val!=this.model[\\\"changes\\\"]()) ? (this.valueFromJulia[\\\"changes\\\"]=true, this.model[\\\"changes\\\"](val)) : undefined})\"],\"value\":[\"(function (val){return (val!=this.model[\\\"value\\\"]()) ? (this.valueFromJulia[\\\"value\\\"]=true, this.model[\\\"value\\\"](val)) : undefined})\"]},\"systemjs_options\":null,\"observables\":{\"changes\":{\"sync\":false,\"id\":\"ob_27\",\"value\":0},\"value\":{\"sync\":true,\"id\":\"ob_26\",\"value\":51}}},\"children\":[{\"props\":{\"attributes\":{\"style\":\"display:flex; justify-content:center; align-items:center;\"}},\"nodeType\":\"DOM\",\"type\":\"node\",\"instanceArgs\":{\"namespace\":\"html\",\"tag\":\"div\"},\"children\":[{\"props\":{\"attributes\":{\"style\":\"text-align:right;width:18%\"}},\"nodeType\":\"DOM\",\"type\":\"node\",\"instanceArgs\":{\"namespace\":\"html\",\"tag\":\"div\"},\"children\":[{\"props\":{\"className\":\"interact \",\"style\":{\"padding\":\"5px 10px 0px 10px\"}},\"nodeType\":\"DOM\",\"type\":\"node\",\"instanceArgs\":{\"namespace\":\"html\",\"tag\":\"label\"},\"children\":[\"n\"]}]},{\"props\":{\"attributes\":{\"style\":\"flex-grow:1; margin: 0 2%\"}},\"nodeType\":\"DOM\",\"type\":\"node\",\"instanceArgs\":{\"namespace\":\"html\",\"tag\":\"div\"},\"children\":[{\"props\":{\"max\":100,\"min\":2,\"attributes\":{\"type\":\"range\",\"data-bind\":\"numericValue: value, valueUpdate: 'input', event: {change : function () {this.changes(this.changes()+1)}}\",\"orient\":\"horizontal\"},\"step\":1,\"className\":\"slider slider is-fullwidth\",\"style\":{}},\"nodeType\":\"DOM\",\"type\":\"node\",\"instanceArgs\":{\"namespace\":\"html\",\"tag\":\"input\"},\"children\":[]}]},{\"props\":{\"attributes\":{\"style\":\"width:18%\"}},\"nodeType\":\"DOM\",\"type\":\"node\",\"instanceArgs\":{\"namespace\":\"html\",\"tag\":\"div\"},\"children\":[{\"props\":{\"attributes\":{\"data-bind\":\"text: value\"}},\"nodeType\":\"DOM\",\"type\":\"node\",\"instanceArgs\":{\"namespace\":\"html\",\"tag\":\"p\"},\"children\":[]}]}]}]}]},{\"props\":{},\"nodeType\":\"Scope\",\"type\":\"node\",\"instanceArgs\":{\"imports\":{\"data\":[],\"type\":\"async_block\"},\"id\":\"scope-bbaabdb1-be28-4d33-b1bc-562b560d2535\",\"handlers\":{},\"systemjs_options\":null,\"observables\":{\"obs-node\":{\"sync\":false,\"id\":\"ob_30\",\"value\":{\"props\":{\"attributes\":{\"style\":\"display:flex; justify-content:center; align-items:center;\"}},\"nodeType\":\"DOM\",\"type\":\"node\",\"instanceArgs\":{\"namespace\":\"html\",\"tag\":\"div\"},\"children\":[{\"props\":{\"setInnerHtml\":\"<?xml version=\\\"1.0\\\" encoding=\\\"utf-8\\\"?>\\n<svg xmlns=\\\"http:\\/\\/www.w3.org\\/2000\\/svg\\\" xmlns:xlink=\\\"http:\\/\\/www.w3.org\\/1999\\/xlink\\\" width=\\\"600\\\" height=\\\"400\\\" viewBox=\\\"0 0 2400 1600\\\">\\n<defs>\\n  <clipPath id=\\\"clip0700\\\">\\n    <rect x=\\\"0\\\" y=\\\"0\\\" width=\\\"2000\\\" height=\\\"2000\\\"\\/>\\n  <\\/clipPath>\\n<\\/defs>\\n<defs>\\n  <clipPath id=\\\"clip0701\\\">\\n    <rect x=\\\"0\\\" y=\\\"0\\\" width=\\\"2400\\\" height=\\\"1600\\\"\\/>\\n  <\\/clipPath>\\n<\\/defs>\\n<polygon clip-path=\\\"url(#clip0701)\\\" points=\\\"\\n0,1600 2400,1600 2400,0 0,0 \\n  \\\" fill=\\\"#ffffff\\\" fill-opacity=\\\"1\\\"\\/>\\n<defs>\\n  <clipPath id=\\\"clip0702\\\">\\n    <rect x=\\\"480\\\" y=\\\"0\\\" width=\\\"1681\\\" height=\\\"1600\\\"\\/>\\n  <\\/clipPath>\\n<\\/defs>\\n<polygon clip-path=\\\"url(#clip0701)\\\" points=\\\"\\n161.394,1284.76 2321.26,1284.76 2321.26,265.957 161.394,265.957 \\n  \\\" fill=\\\"#ffffff\\\" fill-opacity=\\\"1\\\"\\/>\\n<defs>\\n  <clipPath id=\\\"clip0703\\\">\\n    <rect x=\\\"161\\\" y=\\\"265\\\" width=\\\"2161\\\" height=\\\"1020\\\"\\/>\\n  <\\/clipPath>\\n<\\/defs>\\n<polyline clip-path=\\\"url(#clip0703)\\\" style=\\\"stroke:#000000; stroke-width:2; stroke-opacity:0.1; fill:none\\\" points=\\\"\\n  222.522,1284.76 222.522,265.957 \\n  \\\"\\/>\\n<polyline clip-path=\\\"url(#clip0703)\\\" style=\\\"stroke:#000000; stroke-width:2; stroke-opacity:0.1; fill:none\\\" points=\\\"\\n  731.925,1284.76 731.925,265.957 \\n  \\\"\\/>\\n<polyline clip-path=\\\"url(#clip0703)\\\" style=\\\"stroke:#000000; stroke-width:2; stroke-opacity:0.1; fill:none\\\" points=\\\"\\n  1241.33,1284.76 1241.33,265.957 \\n  \\\"\\/>\\n<polyline clip-path=\\\"url(#clip0703)\\\" style=\\\"stroke:#000000; stroke-width:2; stroke-opacity:0.1; fill:none\\\" points=\\\"\\n  1750.73,1284.76 1750.73,265.957 \\n  \\\"\\/>\\n<polyline clip-path=\\\"url(#clip0703)\\\" style=\\\"stroke:#000000; stroke-width:2; stroke-opacity:0.1; fill:none\\\" points=\\\"\\n  2260.13,1284.76 2260.13,265.957 \\n  \\\"\\/>\\n<polyline clip-path=\\\"url(#clip0703)\\\" style=\\\"stroke:#000000; stroke-width:2; stroke-opacity:0.1; fill:none\\\" points=\\\"\\n  161.394,1284.76 2321.26,1284.76 \\n  \\\"\\/>\\n<polyline clip-path=\\\"url(#clip0703)\\\" style=\\\"stroke:#000000; stroke-width:2; stroke-opacity:0.1; fill:none\\\" points=\\\"\\n  161.394,1081 2321.26,1081 \\n  \\\"\\/>\\n<polyline clip-path=\\\"url(#clip0703)\\\" style=\\\"stroke:#000000; stroke-width:2; stroke-opacity:0.1; fill:none\\\" points=\\\"\\n  161.394,877.24 2321.26,877.24 \\n  \\\"\\/>\\n<polyline clip-path=\\\"url(#clip0703)\\\" style=\\\"stroke:#000000; stroke-width:2; stroke-opacity:0.1; fill:none\\\" points=\\\"\\n  161.394,673.479 2321.26,673.479 \\n  \\\"\\/>\\n<polyline clip-path=\\\"url(#clip0703)\\\" style=\\\"stroke:#000000; stroke-width:2; stroke-opacity:0.1; fill:none\\\" points=\\\"\\n  161.394,469.718 2321.26,469.718 \\n  \\\"\\/>\\n<polyline clip-path=\\\"url(#clip0703)\\\" style=\\\"stroke:#000000; stroke-width:2; stroke-opacity:0.1; fill:none\\\" points=\\\"\\n  161.394,265.957 2321.26,265.957 \\n  \\\"\\/>\\n<polyline clip-path=\\\"url(#clip0701)\\\" style=\\\"stroke:#000000; stroke-width:4; stroke-opacity:1; fill:none\\\" points=\\\"\\n  161.394,1284.76 2321.26,1284.76 \\n  \\\"\\/>\\n<polyline clip-path=\\\"url(#clip0701)\\\" style=\\\"stroke:#000000; stroke-width:4; stroke-opacity:1; fill:none\\\" points=\\\"\\n  161.394,1284.76 161.394,265.957 \\n  \\\"\\/>\\n<polyline clip-path=\\\"url(#clip0701)\\\" style=\\\"stroke:#000000; stroke-width:4; stroke-opacity:1; fill:none\\\" points=\\\"\\n  222.522,1284.76 222.522,1269.48 \\n  \\\"\\/>\\n<polyline clip-path=\\\"url(#clip0701)\\\" style=\\\"stroke:#000000; stroke-width:4; stroke-opacity:1; fill:none\\\" points=\\\"\\n  731.925,1284.76 731.925,1269.48 \\n  \\\"\\/>\\n<polyline clip-path=\\\"url(#clip0701)\\\" style=\\\"stroke:#000000; stroke-width:4; stroke-opacity:1; fill:none\\\" points=\\\"\\n  1241.33,1284.76 1241.33,1269.48 \\n  \\\"\\/>\\n<polyline clip-path=\\\"url(#clip0701)\\\" style=\\\"stroke:#000000; stroke-width:4; stroke-opacity:1; fill:none\\\" points=\\\"\\n  1750.73,1284.76 1750.73,1269.48 \\n  \\\"\\/>\\n<polyline clip-path=\\\"url(#clip0701)\\\" style=\\\"stroke:#000000; stroke-width:4; stroke-opacity:1; fill:none\\\" points=\\\"\\n  2260.13,1284.76 2260.13,1269.48 \\n  \\\"\\/>\\n<polyline clip-path=\\\"url(#clip0701)\\\" style=\\\"stroke:#000000; stroke-width:4; stroke-opacity:1; fill:none\\\" points=\\\"\\n  161.394,1284.76 193.792,1284.76 \\n  \\\"\\/>\\n<polyline clip-path=\\\"url(#clip0701)\\\" style=\\\"stroke:#000000; stroke-width:4; stroke-opacity:1; fill:none\\\" points=\\\"\\n  161.394,1081 193.792,1081 \\n  \\\"\\/>\\n<polyline clip-path=\\\"url(#clip0701)\\\" style=\\\"stroke:#000000; stroke-width:4; stroke-opacity:1; fill:none\\\" points=\\\"\\n  161.394,877.24 193.792,877.24 \\n  \\\"\\/>\\n<polyline clip-path=\\\"url(#clip0701)\\\" style=\\\"stroke:#000000; stroke-width:4; stroke-opacity:1; fill:none\\\" points=\\\"\\n  161.394,673.479 193.792,673.479 \\n  \\\"\\/>\\n<polyline clip-path=\\\"url(#clip0701)\\\" style=\\\"stroke:#000000; stroke-width:4; stroke-opacity:1; fill:none\\\" points=\\\"\\n  161.394,469.718 193.792,469.718 \\n  \\\"\\/>\\n<polyline clip-path=\\\"url(#clip0701)\\\" style=\\\"stroke:#000000; stroke-width:4; stroke-opacity:1; fill:none\\\" points=\\\"\\n  161.394,265.957 193.792,265.957 \\n  \\\"\\/>\\n<g clip-path=\\\"url(#clip0701)\\\">\\n<text style=\\\"fill:#000000; fill-opacity:1; font-family:Arial,Helvetica Neue,Helvetica,sans-serif; font-size:48px; text-anchor:middle;\\\" transform=\\\"rotate(0, 222.522, 1338.76)\\\" x=\\\"222.522\\\" y=\\\"1338.76\\\">-1.0<\\/text>\\n<\\/g>\\n<g clip-path=\\\"url(#clip0701)\\\">\\n<text style=\\\"fill:#000000; fill-opacity:1; font-family:Arial,Helvetica Neue,Helvetica,sans-serif; font-size:48px; text-anchor:middle;\\\" transform=\\\"rotate(0, 731.925, 1338.76)\\\" x=\\\"731.925\\\" y=\\\"1338.76\\\">-0.5<\\/text>\\n<\\/g>\\n<g clip-path=\\\"url(#clip0701)\\\">\\n<text style=\\\"fill:#000000; fill-opacity:1; font-family:Arial,Helvetica Neue,Helvetica,sans-serif; font-size:48px; text-anchor:middle;\\\" transform=\\\"rotate(0, 1241.33, 1338.76)\\\" x=\\\"1241.33\\\" y=\\\"1338.76\\\">0.0<\\/text>\\n<\\/g>\\n<g clip-path=\\\"url(#clip0701)\\\">\\n<text style=\\\"fill:#000000; fill-opacity:1; font-family:Arial,Helvetica Neue,Helvetica,sans-serif; font-size:48px; text-anchor:middle;\\\" transform=\\\"rotate(0, 1750.73, 1338.76)\\\" x=\\\"1750.73\\\" y=\\\"1338.76\\\">0.5<\\/text>\\n<\\/g>\\n<g clip-path=\\\"url(#clip0701)\\\">\\n<text style=\\\"fill:#000000; fill-opacity:1; font-family:Arial,Helvetica Neue,Helvetica,sans-serif; font-size:48px; text-anchor:middle;\\\" transform=\\\"rotate(0, 2260.13, 1338.76)\\\" x=\\\"2260.13\\\" y=\\\"1338.76\\\">1.0<\\/text>\\n<\\/g>\\n<g clip-path=\\\"url(#clip0701)\\\">\\n<text style=\\\"fill:#000000; fill-opacity:1; font-family:Arial,Helvetica Neue,Helvetica,sans-serif; font-size:48px; text-anchor:end;\\\" transform=\\\"rotate(0, 137.394, 1302.26)\\\" x=\\\"137.394\\\" y=\\\"1302.26\\\">0.0<\\/text>\\n<\\/g>\\n<g clip-path=\\\"url(#clip0701)\\\">\\n<text style=\\\"fill:#000000; fill-opacity:1; font-family:Arial,Helvetica Neue,Helvetica,sans-serif; font-size:48px; text-anchor:end;\\\" transform=\\\"rotate(0, 137.394, 1098.5)\\\" x=\\\"137.394\\\" y=\\\"1098.5\\\">0.2<\\/text>\\n<\\/g>\\n<g clip-path=\\\"url(#clip0701)\\\">\\n<text style=\\\"fill:#000000; fill-opacity:1; font-family:Arial,Helvetica Neue,Helvetica,sans-serif; font-size:48px; text-anchor:end;\\\" transform=\\\"rotate(0, 137.394, 894.74)\\\" x=\\\"137.394\\\" y=\\\"894.74\\\">0.4<\\/text>\\n<\\/g>\\n<g clip-path=\\\"url(#clip0701)\\\">\\n<text style=\\\"fill:#000000; fill-opacity:1; font-family:Arial,Helvetica Neue,Helvetica,sans-serif; font-size:48px; text-anchor:end;\\\" transform=\\\"rotate(0, 137.394, 690.979)\\\" x=\\\"137.394\\\" y=\\\"690.979\\\">0.6<\\/text>\\n<\\/g>\\n<g clip-path=\\\"url(#clip0701)\\\">\\n<text style=\\\"fill:#000000; fill-opacity:1; font-family:Arial,Helvetica Neue,Helvetica,sans-serif; font-size:48px; text-anchor:end;\\\" transform=\\\"rotate(0, 137.394, 487.218)\\\" x=\\\"137.394\\\" y=\\\"487.218\\\">0.8<\\/text>\\n<\\/g>\\n<g clip-path=\\\"url(#clip0701)\\\">\\n<text style=\\\"fill:#000000; fill-opacity:1; font-family:Arial,Helvetica Neue,Helvetica,sans-serif; font-size:48px; text-anchor:end;\\\" transform=\\\"rotate(0, 137.394, 283.457)\\\" x=\\\"137.394\\\" y=\\\"283.457\\\">1.0<\\/text>\\n<\\/g>\\n<polyline clip-path=\\\"url(#clip0703)\\\" style=\\\"stroke:#009af9; stroke-width:4; stroke-opacity:1; fill:none\\\" points=\\\"\\n  225.01,1213.61 227.497,1184.2 229.984,1161.68 232.472,1142.73 234.959,1126.06 237.447,1111.02 239.934,1097.21 242.421,1084.39 253.921,1033.78 265.421,992.239 \\n  276.92,956.307 288.42,924.302 311.419,868.548 334.418,820.564 357.418,778.138 380.417,739.971 403.416,705.22 426.416,673.303 454.059,638.1 481.702,605.841 \\n  509.345,576.125 536.988,548.643 583.732,506.602 630.476,469.394 732.031,402.39 825.654,354.612 875.842,333.771 926.029,315.974 984.176,298.944 1042.32,285.582 \\n  1145.67,270.458 1236.3,265.97 1335.11,270.282 1434.5,284.439 1544.4,312.079 1648.96,351.059 1703.32,376.727 1757.68,406.499 1803.44,435.059 1849.2,467.169 \\n  1905.06,511.834 1960.93,563.559 1987.19,590.749 2013.45,620.086 2039.71,651.868 2065.96,686.483 2108.03,749.238 2150.1,824.224 2171.13,868.321 2192.17,918.886 \\n  2202.68,947.486 2213.2,979.11 2223.72,1014.82 2234.24,1056.52 2237.47,1071.09 2240.71,1086.78 2243.95,1103.88 2247.18,1122.85 2250.42,1144.43 2253.66,1170.09 \\n  2256.89,1203.61 \\n  \\\"\\/>\\n<polyline clip-path=\\\"url(#clip0703)\\\" style=\\\"stroke:#e26f46; stroke-width:4; stroke-opacity:1; fill:none\\\" stroke-dasharray=\\\"2, 4\\\" points=\\\"\\n  2260.13,1284.76 2260.13,1284.76 \\n  \\\"\\/>\\n<polyline clip-path=\\\"url(#clip0703)\\\" style=\\\"stroke:#3da44d; stroke-width:4; stroke-opacity:1; fill:none\\\" stroke-dasharray=\\\"2, 4\\\" points=\\\"\\n  2258.12,1284.76 2258.12,1220.79 \\n  \\\"\\/>\\n<polyline clip-path=\\\"url(#clip0703)\\\" style=\\\"stroke:#c271d2; stroke-width:4; stroke-opacity:1; fill:none\\\" stroke-dasharray=\\\"2, 4\\\" points=\\\"\\n  2252.1,1284.76 2252.1,1157.07 \\n  \\\"\\/>\\n<polyline clip-path=\\\"url(#clip0703)\\\" style=\\\"stroke:#ac8d18; stroke-width:4; stroke-opacity:1; fill:none\\\" stroke-dasharray=\\\"2, 4\\\" points=\\\"\\n  2242.09,1284.76 2242.09,1093.86 \\n  \\\"\\/>\\n<polyline clip-path=\\\"url(#clip0703)\\\" style=\\\"stroke:#00a9ad; stroke-width:4; stroke-opacity:1; fill:none\\\" stroke-dasharray=\\\"2, 4\\\" points=\\\"\\n  2228.12,1284.76 2228.12,1031.4 \\n  \\\"\\/>\\n<polyline clip-path=\\\"url(#clip0703)\\\" style=\\\"stroke:#ed5d92; stroke-width:4; stroke-opacity:1; fill:none\\\" stroke-dasharray=\\\"2, 4\\\" points=\\\"\\n  2210.27,1284.76 2210.27,969.934 \\n  \\\"\\/>\\n<polyline clip-path=\\\"url(#clip0703)\\\" style=\\\"stroke:#c68125; stroke-width:4; stroke-opacity:1; fill:none\\\" stroke-dasharray=\\\"2, 4\\\" points=\\\"\\n  2188.59,1284.76 2188.59,909.715 \\n  \\\"\\/>\\n<polyline clip-path=\\\"url(#clip0703)\\\" style=\\\"stroke:#00a98d; stroke-width:4; stroke-opacity:1; fill:none\\\" stroke-dasharray=\\\"2, 4\\\" points=\\\"\\n  2163.17,1284.76 2163.17,850.976 \\n  \\\"\\/>\\n<polyline clip-path=\\\"url(#clip0703)\\\" style=\\\"stroke:#8e971d; stroke-width:4; stroke-opacity:1; fill:none\\\" stroke-dasharray=\\\"2, 4\\\" points=\\\"\\n  2134.11,1284.76 2134.11,793.949 \\n  \\\"\\/>\\n<polyline clip-path=\\\"url(#clip0703)\\\" style=\\\"stroke:#00a8cb; stroke-width:4; stroke-opacity:1; fill:none\\\" stroke-dasharray=\\\"2, 4\\\" points=\\\"\\n  2101.53,1284.76 2101.53,738.859 \\n  \\\"\\/>\\n<polyline clip-path=\\\"url(#clip0703)\\\" style=\\\"stroke:#9b7fe8; stroke-width:4; stroke-opacity:1; fill:none\\\" stroke-dasharray=\\\"2, 4\\\" points=\\\"\\n  2065.56,1284.76 2065.56,685.923 \\n  \\\"\\/>\\n<polyline clip-path=\\\"url(#clip0703)\\\" style=\\\"stroke:#608cf6; stroke-width:4; stroke-opacity:1; fill:none\\\" stroke-dasharray=\\\"2, 4\\\" points=\\\"\\n  2026.33,1284.76 2026.33,635.351 \\n  \\\"\\/>\\n<polyline clip-path=\\\"url(#clip0703)\\\" style=\\\"stroke:#f05f73; stroke-width:4; stroke-opacity:1; fill:none\\\" stroke-dasharray=\\\"2, 4\\\" points=\\\"\\n  1984,1284.76 1984,587.342 \\n  \\\"\\/>\\n<polyline clip-path=\\\"url(#clip0703)\\\" style=\\\"stroke:#dd64b5; stroke-width:4; stroke-opacity:1; fill:none\\\" stroke-dasharray=\\\"2, 4\\\" points=\\\"\\n  1938.75,1284.76 1938.75,542.085 \\n  \\\"\\/>\\n<polyline clip-path=\\\"url(#clip0703)\\\" style=\\\"stroke:#6b9e32; stroke-width:4; stroke-opacity:1; fill:none\\\" stroke-dasharray=\\\"2, 4\\\" points=\\\"\\n  1890.74,1284.76 1890.74,499.759 \\n  \\\"\\/>\\n<polyline clip-path=\\\"url(#clip0703)\\\" style=\\\"stroke:#718c69; stroke-width:4; stroke-opacity:1; fill:none\\\" stroke-dasharray=\\\"2, 4\\\" points=\\\"\\n  1840.17,1284.76 1840.17,460.531 \\n  \\\"\\/>\\n<polyline clip-path=\\\"url(#clip0703)\\\" style=\\\"stroke:#47988b; stroke-width:4; stroke-opacity:1; fill:none\\\" stroke-dasharray=\\\"2, 4\\\" points=\\\"\\n  1787.23,1284.76 1787.23,424.557 \\n  \\\"\\/>\\n<polyline clip-path=\\\"url(#clip0703)\\\" style=\\\"stroke:#1ea68c; stroke-width:4; stroke-opacity:1; fill:none\\\" stroke-dasharray=\\\"2, 4\\\" points=\\\"\\n  1732.14,1284.76 1732.14,391.976 \\n  \\\"\\/>\\n<polyline clip-path=\\\"url(#clip0703)\\\" style=\\\"stroke:#af78dd; stroke-width:4; stroke-opacity:1; fill:none\\\" stroke-dasharray=\\\"2, 4\\\" points=\\\"\\n  1675.11,1284.76 1675.11,362.92 \\n  \\\"\\/>\\n<polyline clip-path=\\\"url(#clip0703)\\\" style=\\\"stroke:#868d87; stroke-width:4; stroke-opacity:1; fill:none\\\" stroke-dasharray=\\\"2, 4\\\" points=\\\"\\n  1616.37,1284.76 1616.37,337.501 \\n  \\\"\\/>\\n<polyline clip-path=\\\"url(#clip0703)\\\" style=\\\"stroke:#47a065; stroke-width:4; stroke-opacity:1; fill:none\\\" stroke-dasharray=\\\"2, 4\\\" points=\\\"\\n  1556.15,1284.76 1556.15,315.821 \\n  \\\"\\/>\\n<polyline clip-path=\\\"url(#clip0703)\\\" style=\\\"stroke:#7683af; stroke-width:4; stroke-opacity:1; fill:none\\\" stroke-dasharray=\\\"2, 4\\\" points=\\\"\\n  1494.69,1284.76 1494.69,297.965 \\n  \\\"\\/>\\n<polyline clip-path=\\\"url(#clip0703)\\\" style=\\\"stroke:#b08086; stroke-width:4; stroke-opacity:1; fill:none\\\" stroke-dasharray=\\\"2, 4\\\" points=\\\"\\n  1432.23,1284.76 1432.23,284.003 \\n  \\\"\\/>\\n<polyline clip-path=\\\"url(#clip0703)\\\" style=\\\"stroke:#309ac1; stroke-width:4; stroke-opacity:1; fill:none\\\" stroke-dasharray=\\\"2, 4\\\" points=\\\"\\n  1369.02,1284.76 1369.02,273.991 \\n  \\\"\\/>\\n<polyline clip-path=\\\"url(#clip0703)\\\" style=\\\"stroke:#788490; stroke-width:4; stroke-opacity:1; fill:none\\\" stroke-dasharray=\\\"2, 4\\\" points=\\\"\\n  1305.3,1284.76 1305.3,267.967 \\n  \\\"\\/>\\n<polyline clip-path=\\\"url(#clip0703)\\\" style=\\\"stroke:#e561a4; stroke-width:4; stroke-opacity:1; fill:none\\\" stroke-dasharray=\\\"2, 4\\\" points=\\\"\\n  1241.33,1284.76 1241.33,265.957 \\n  \\\"\\/>\\n<polyline clip-path=\\\"url(#clip0703)\\\" style=\\\"stroke:#99902c; stroke-width:4; stroke-opacity:1; fill:none\\\" stroke-dasharray=\\\"2, 4\\\" points=\\\"\\n  1177.36,1284.76 1177.36,267.967 \\n  \\\"\\/>\\n<polyline clip-path=\\\"url(#clip0703)\\\" style=\\\"stroke:#389a7b; stroke-width:4; stroke-opacity:1; fill:none\\\" stroke-dasharray=\\\"2, 4\\\" points=\\\"\\n  1113.64,1284.76 1113.64,273.991 \\n  \\\"\\/>\\n<polyline clip-path=\\\"url(#clip0703)\\\" style=\\\"stroke:#d968a2; stroke-width:4; stroke-opacity:1; fill:none\\\" stroke-dasharray=\\\"2, 4\\\" points=\\\"\\n  1050.42,1284.76 1050.42,284.003 \\n  \\\"\\/>\\n<polyline clip-path=\\\"url(#clip0703)\\\" style=\\\"stroke:#009af9; stroke-width:4; stroke-opacity:1; fill:none\\\" stroke-dasharray=\\\"2, 4\\\" points=\\\"\\n  987.961,1284.76 987.961,297.965 \\n  \\\"\\/>\\n<polyline clip-path=\\\"url(#clip0703)\\\" style=\\\"stroke:#e26f46; stroke-width:4; stroke-opacity:1; fill:none\\\" stroke-dasharray=\\\"2, 4\\\" points=\\\"\\n  926.499,1284.76 926.499,315.821 \\n  \\\"\\/>\\n<polyline clip-path=\\\"url(#clip0703)\\\" style=\\\"stroke:#3da44d; stroke-width:4; stroke-opacity:1; fill:none\\\" stroke-dasharray=\\\"2, 4\\\" points=\\\"\\n  866.28,1284.76 866.28,337.501 \\n  \\\"\\/>\\n<polyline clip-path=\\\"url(#clip0703)\\\" style=\\\"stroke:#c271d2; stroke-width:4; stroke-opacity:1; fill:none\\\" stroke-dasharray=\\\"2, 4\\\" points=\\\"\\n  807.541,1284.76 807.541,362.92 \\n  \\\"\\/>\\n<polyline clip-path=\\\"url(#clip0703)\\\" style=\\\"stroke:#ac8d18; stroke-width:4; stroke-opacity:1; fill:none\\\" stroke-dasharray=\\\"2, 4\\\" points=\\\"\\n  750.514,1284.76 750.514,391.976 \\n  \\\"\\/>\\n<polyline clip-path=\\\"url(#clip0703)\\\" style=\\\"stroke:#00a9ad; stroke-width:4; stroke-opacity:1; fill:none\\\" stroke-dasharray=\\\"2, 4\\\" points=\\\"\\n  695.424,1284.76 695.424,424.557 \\n  \\\"\\/>\\n<polyline clip-path=\\\"url(#clip0703)\\\" style=\\\"stroke:#ed5d92; stroke-width:4; stroke-opacity:1; fill:none\\\" stroke-dasharray=\\\"2, 4\\\" points=\\\"\\n  642.489,1284.76 642.489,460.531 \\n  \\\"\\/>\\n<polyline clip-path=\\\"url(#clip0703)\\\" style=\\\"stroke:#c68125; stroke-width:4; stroke-opacity:1; fill:none\\\" stroke-dasharray=\\\"2, 4\\\" points=\\\"\\n  591.916,1284.76 591.916,499.759 \\n  \\\"\\/>\\n<polyline clip-path=\\\"url(#clip0703)\\\" style=\\\"stroke:#00a98d; stroke-width:4; stroke-opacity:1; fill:none\\\" stroke-dasharray=\\\"2, 4\\\" points=\\\"\\n  543.907,1284.76 543.907,542.085 \\n  \\\"\\/>\\n<polyline clip-path=\\\"url(#clip0703)\\\" style=\\\"stroke:#8e971d; stroke-width:4; stroke-opacity:1; fill:none\\\" stroke-dasharray=\\\"2, 4\\\" points=\\\"\\n  498.65,1284.76 498.65,587.342 \\n  \\\"\\/>\\n<polyline clip-path=\\\"url(#clip0703)\\\" style=\\\"stroke:#00a8cb; stroke-width:4; stroke-opacity:1; fill:none\\\" stroke-dasharray=\\\"2, 4\\\" points=\\\"\\n  456.324,1284.76 456.324,635.351 \\n  \\\"\\/>\\n<polyline clip-path=\\\"url(#clip0703)\\\" style=\\\"stroke:#9b7fe8; stroke-width:4; stroke-opacity:1; fill:none\\\" stroke-dasharray=\\\"2, 4\\\" points=\\\"\\n  417.097,1284.76 417.097,685.923 \\n  \\\"\\/>\\n<polyline clip-path=\\\"url(#clip0703)\\\" style=\\\"stroke:#608cf6; stroke-width:4; stroke-opacity:1; fill:none\\\" stroke-dasharray=\\\"2, 4\\\" points=\\\"\\n  381.122,1284.76 381.122,738.859 \\n  \\\"\\/>\\n<polyline clip-path=\\\"url(#clip0703)\\\" style=\\\"stroke:#f05f73; stroke-width:4; stroke-opacity:1; fill:none\\\" stroke-dasharray=\\\"2, 4\\\" points=\\\"\\n  348.542,1284.76 348.542,793.949 \\n  \\\"\\/>\\n<polyline clip-path=\\\"url(#clip0703)\\\" style=\\\"stroke:#dd64b5; stroke-width:4; stroke-opacity:1; fill:none\\\" stroke-dasharray=\\\"2, 4\\\" points=\\\"\\n  319.485,1284.76 319.485,850.976 \\n  \\\"\\/>\\n<polyline clip-path=\\\"url(#clip0703)\\\" style=\\\"stroke:#6b9e32; stroke-width:4; stroke-opacity:1; fill:none\\\" stroke-dasharray=\\\"2, 4\\\" points=\\\"\\n  294.066,1284.76 294.066,909.715 \\n  \\\"\\/>\\n<polyline clip-path=\\\"url(#clip0703)\\\" style=\\\"stroke:#718c69; stroke-width:4; stroke-opacity:1; fill:none\\\" stroke-dasharray=\\\"2, 4\\\" points=\\\"\\n  272.386,1284.76 272.386,969.934 \\n  \\\"\\/>\\n<polyline clip-path=\\\"url(#clip0703)\\\" style=\\\"stroke:#47988b; stroke-width:4; stroke-opacity:1; fill:none\\\" stroke-dasharray=\\\"2, 4\\\" points=\\\"\\n  254.53,1284.76 254.53,1031.4 \\n  \\\"\\/>\\n<polyline clip-path=\\\"url(#clip0703)\\\" style=\\\"stroke:#1ea68c; stroke-width:4; stroke-opacity:1; fill:none\\\" stroke-dasharray=\\\"2, 4\\\" points=\\\"\\n  240.568,1284.76 240.568,1093.86 \\n  \\\"\\/>\\n<polyline clip-path=\\\"url(#clip0703)\\\" style=\\\"stroke:#af78dd; stroke-width:4; stroke-opacity:1; fill:none\\\" stroke-dasharray=\\\"2, 4\\\" points=\\\"\\n  230.556,1284.76 230.556,1157.07 \\n  \\\"\\/>\\n<polyline clip-path=\\\"url(#clip0703)\\\" style=\\\"stroke:#868d87; stroke-width:4; stroke-opacity:1; fill:none\\\" stroke-dasharray=\\\"2, 4\\\" points=\\\"\\n  224.533,1284.76 224.533,1220.79 \\n  \\\"\\/>\\n<polyline clip-path=\\\"url(#clip0703)\\\" style=\\\"stroke:#47a065; stroke-width:4; stroke-opacity:1; fill:none\\\" stroke-dasharray=\\\"2, 4\\\" points=\\\"\\n  222.522,1284.76 222.522,1284.76 \\n  \\\"\\/>\\n<circle clip-path=\\\"url(#clip0703)\\\" style=\\\"fill:#000000; stroke:none; fill-opacity:1\\\" cx=\\\"2260.13\\\" cy=\\\"1284.76\\\" r=\\\"7\\\"\\/>\\n<circle clip-path=\\\"url(#clip0703)\\\" style=\\\"fill:#7683af; stroke:none; fill-opacity:1\\\" cx=\\\"2260.13\\\" cy=\\\"1284.76\\\" r=\\\"3\\\"\\/>\\n<circle clip-path=\\\"url(#clip0703)\\\" style=\\\"fill:#000000; stroke:none; fill-opacity:1\\\" cx=\\\"2258.12\\\" cy=\\\"1220.79\\\" r=\\\"7\\\"\\/>\\n<circle clip-path=\\\"url(#clip0703)\\\" style=\\\"fill:#7683af; stroke:none; fill-opacity:1\\\" cx=\\\"2258.12\\\" cy=\\\"1220.79\\\" r=\\\"3\\\"\\/>\\n<circle clip-path=\\\"url(#clip0703)\\\" style=\\\"fill:#000000; stroke:none; fill-opacity:1\\\" cx=\\\"2252.1\\\" cy=\\\"1157.07\\\" r=\\\"7\\\"\\/>\\n<circle clip-path=\\\"url(#clip0703)\\\" style=\\\"fill:#7683af; stroke:none; fill-opacity:1\\\" cx=\\\"2252.1\\\" cy=\\\"1157.07\\\" r=\\\"3\\\"\\/>\\n<circle clip-path=\\\"url(#clip0703)\\\" style=\\\"fill:#000000; stroke:none; fill-opacity:1\\\" cx=\\\"2242.09\\\" cy=\\\"1093.86\\\" r=\\\"7\\\"\\/>\\n<circle clip-path=\\\"url(#clip0703)\\\" style=\\\"fill:#7683af; stroke:none; fill-opacity:1\\\" cx=\\\"2242.09\\\" cy=\\\"1093.86\\\" r=\\\"3\\\"\\/>\\n<circle clip-path=\\\"url(#clip0703)\\\" style=\\\"fill:#000000; stroke:none; fill-opacity:1\\\" cx=\\\"2228.12\\\" cy=\\\"1031.4\\\" r=\\\"7\\\"\\/>\\n<circle clip-path=\\\"url(#clip0703)\\\" style=\\\"fill:#7683af; stroke:none; fill-opacity:1\\\" cx=\\\"2228.12\\\" cy=\\\"1031.4\\\" r=\\\"3\\\"\\/>\\n<circle clip-path=\\\"url(#clip0703)\\\" style=\\\"fill:#000000; stroke:none; fill-opacity:1\\\" cx=\\\"2210.27\\\" cy=\\\"969.934\\\" r=\\\"7\\\"\\/>\\n<circle clip-path=\\\"url(#clip0703)\\\" style=\\\"fill:#7683af; stroke:none; fill-opacity:1\\\" cx=\\\"2210.27\\\" cy=\\\"969.934\\\" r=\\\"3\\\"\\/>\\n<circle clip-path=\\\"url(#clip0703)\\\" style=\\\"fill:#000000; stroke:none; fill-opacity:1\\\" cx=\\\"2188.59\\\" cy=\\\"909.715\\\" r=\\\"7\\\"\\/>\\n<circle clip-path=\\\"url(#clip0703)\\\" style=\\\"fill:#7683af; stroke:none; fill-opacity:1\\\" cx=\\\"2188.59\\\" cy=\\\"909.715\\\" r=\\\"3\\\"\\/>\\n<circle clip-path=\\\"url(#clip0703)\\\" style=\\\"fill:#000000; stroke:none; fill-opacity:1\\\" cx=\\\"2163.17\\\" cy=\\\"850.976\\\" r=\\\"7\\\"\\/>\\n<circle clip-path=\\\"url(#clip0703)\\\" style=\\\"fill:#7683af; stroke:none; fill-opacity:1\\\" cx=\\\"2163.17\\\" cy=\\\"850.976\\\" r=\\\"3\\\"\\/>\\n<circle clip-path=\\\"url(#clip0703)\\\" style=\\\"fill:#000000; stroke:none; fill-opacity:1\\\" cx=\\\"2134.11\\\" cy=\\\"793.949\\\" r=\\\"7\\\"\\/>\\n<circle clip-path=\\\"url(#clip0703)\\\" style=\\\"fill:#7683af; stroke:none; fill-opacity:1\\\" cx=\\\"2134.11\\\" cy=\\\"793.949\\\" r=\\\"3\\\"\\/>\\n<circle clip-path=\\\"url(#clip0703)\\\" style=\\\"fill:#000000; stroke:none; fill-opacity:1\\\" cx=\\\"2101.53\\\" cy=\\\"738.859\\\" r=\\\"7\\\"\\/>\\n<circle clip-path=\\\"url(#clip0703)\\\" style=\\\"fill:#7683af; stroke:none; fill-opacity:1\\\" cx=\\\"2101.53\\\" cy=\\\"738.859\\\" r=\\\"3\\\"\\/>\\n<circle clip-path=\\\"url(#clip0703)\\\" style=\\\"fill:#000000; stroke:none; fill-opacity:1\\\" cx=\\\"2065.56\\\" cy=\\\"685.923\\\" r=\\\"7\\\"\\/>\\n<circle clip-path=\\\"url(#clip0703)\\\" style=\\\"fill:#7683af; stroke:none; fill-opacity:1\\\" cx=\\\"2065.56\\\" cy=\\\"685.923\\\" r=\\\"3\\\"\\/>\\n<circle clip-path=\\\"url(#clip0703)\\\" style=\\\"fill:#000000; stroke:none; fill-opacity:1\\\" cx=\\\"2026.33\\\" cy=\\\"635.351\\\" r=\\\"7\\\"\\/>\\n<circle clip-path=\\\"url(#clip0703)\\\" style=\\\"fill:#7683af; stroke:none; fill-opacity:1\\\" cx=\\\"2026.33\\\" cy=\\\"635.351\\\" r=\\\"3\\\"\\/>\\n<circle clip-path=\\\"url(#clip0703)\\\" style=\\\"fill:#000000; stroke:none; fill-opacity:1\\\" cx=\\\"1984\\\" cy=\\\"587.342\\\" r=\\\"7\\\"\\/>\\n<circle clip-path=\\\"url(#clip0703)\\\" style=\\\"fill:#7683af; stroke:none; fill-opacity:1\\\" cx=\\\"1984\\\" cy=\\\"587.342\\\" r=\\\"3\\\"\\/>\\n<circle clip-path=\\\"url(#clip0703)\\\" style=\\\"fill:#000000; stroke:none; fill-opacity:1\\\" cx=\\\"1938.75\\\" cy=\\\"542.085\\\" r=\\\"7\\\"\\/>\\n<circle clip-path=\\\"url(#clip0703)\\\" style=\\\"fill:#7683af; stroke:none; fill-opacity:1\\\" cx=\\\"1938.75\\\" cy=\\\"542.085\\\" r=\\\"3\\\"\\/>\\n<circle clip-path=\\\"url(#clip0703)\\\" style=\\\"fill:#000000; stroke:none; fill-opacity:1\\\" cx=\\\"1890.74\\\" cy=\\\"499.759\\\" r=\\\"7\\\"\\/>\\n<circle clip-path=\\\"url(#clip0703)\\\" style=\\\"fill:#7683af; stroke:none; fill-opacity:1\\\" cx=\\\"1890.74\\\" cy=\\\"499.759\\\" r=\\\"3\\\"\\/>\\n<circle clip-path=\\\"url(#clip0703)\\\" style=\\\"fill:#000000; stroke:none; fill-opacity:1\\\" cx=\\\"1840.17\\\" cy=\\\"460.531\\\" r=\\\"7\\\"\\/>\\n<circle clip-path=\\\"url(#clip0703)\\\" style=\\\"fill:#7683af; stroke:none; fill-opacity:1\\\" cx=\\\"1840.17\\\" cy=\\\"460.531\\\" r=\\\"3\\\"\\/>\\n<circle clip-path=\\\"url(#clip0703)\\\" style=\\\"fill:#000000; stroke:none; fill-opacity:1\\\" cx=\\\"1787.23\\\" cy=\\\"424.557\\\" r=\\\"7\\\"\\/>\\n<circle clip-path=\\\"url(#clip0703)\\\" style=\\\"fill:#7683af; stroke:none; fill-opacity:1\\\" cx=\\\"1787.23\\\" cy=\\\"424.557\\\" r=\\\"3\\\"\\/>\\n<circle clip-path=\\\"url(#clip0703)\\\" style=\\\"fill:#000000; stroke:none; fill-opacity:1\\\" cx=\\\"1732.14\\\" cy=\\\"391.976\\\" r=\\\"7\\\"\\/>\\n<circle clip-path=\\\"url(#clip0703)\\\" style=\\\"fill:#7683af; stroke:none; fill-opacity:1\\\" cx=\\\"1732.14\\\" cy=\\\"391.976\\\" r=\\\"3\\\"\\/>\\n<circle clip-path=\\\"url(#clip0703)\\\" style=\\\"fill:#000000; stroke:none; fill-opacity:1\\\" cx=\\\"1675.11\\\" cy=\\\"362.92\\\" r=\\\"7\\\"\\/>\\n<circle clip-path=\\\"url(#clip0703)\\\" style=\\\"fill:#7683af; stroke:none; fill-opacity:1\\\" cx=\\\"1675.11\\\" cy=\\\"362.92\\\" r=\\\"3\\\"\\/>\\n<circle clip-path=\\\"url(#clip0703)\\\" style=\\\"fill:#000000; stroke:none; fill-opacity:1\\\" cx=\\\"1616.37\\\" cy=\\\"337.501\\\" r=\\\"7\\\"\\/>\\n<circle clip-path=\\\"url(#clip0703)\\\" style=\\\"fill:#7683af; stroke:none; fill-opacity:1\\\" cx=\\\"1616.37\\\" cy=\\\"337.501\\\" r=\\\"3\\\"\\/>\\n<circle clip-path=\\\"url(#clip0703)\\\" style=\\\"fill:#000000; stroke:none; fill-opacity:1\\\" cx=\\\"1556.15\\\" cy=\\\"315.821\\\" r=\\\"7\\\"\\/>\\n<circle clip-path=\\\"url(#clip0703)\\\" style=\\\"fill:#7683af; stroke:none; fill-opacity:1\\\" cx=\\\"1556.15\\\" cy=\\\"315.821\\\" r=\\\"3\\\"\\/>\\n<circle clip-path=\\\"url(#clip0703)\\\" style=\\\"fill:#000000; stroke:none; fill-opacity:1\\\" cx=\\\"1494.69\\\" cy=\\\"297.965\\\" r=\\\"7\\\"\\/>\\n<circle clip-path=\\\"url(#clip0703)\\\" style=\\\"fill:#7683af; stroke:none; fill-opacity:1\\\" cx=\\\"1494.69\\\" cy=\\\"297.965\\\" r=\\\"3\\\"\\/>\\n<circle clip-path=\\\"url(#clip0703)\\\" style=\\\"fill:#000000; stroke:none; fill-opacity:1\\\" cx=\\\"1432.23\\\" cy=\\\"284.003\\\" r=\\\"7\\\"\\/>\\n<circle clip-path=\\\"url(#clip0703)\\\" style=\\\"fill:#7683af; stroke:none; fill-opacity:1\\\" cx=\\\"1432.23\\\" cy=\\\"284.003\\\" r=\\\"3\\\"\\/>\\n<circle clip-path=\\\"url(#clip0703)\\\" style=\\\"fill:#000000; stroke:none; fill-opacity:1\\\" cx=\\\"1369.02\\\" cy=\\\"273.991\\\" r=\\\"7\\\"\\/>\\n<circle clip-path=\\\"url(#clip0703)\\\" style=\\\"fill:#7683af; stroke:none; fill-opacity:1\\\" cx=\\\"1369.02\\\" cy=\\\"273.991\\\" r=\\\"3\\\"\\/>\\n<circle clip-path=\\\"url(#clip0703)\\\" style=\\\"fill:#000000; stroke:none; fill-opacity:1\\\" cx=\\\"1305.3\\\" cy=\\\"267.967\\\" r=\\\"7\\\"\\/>\\n<circle clip-path=\\\"url(#clip0703)\\\" style=\\\"fill:#7683af; stroke:none; fill-opacity:1\\\" cx=\\\"1305.3\\\" cy=\\\"267.967\\\" r=\\\"3\\\"\\/>\\n<circle clip-path=\\\"url(#clip0703)\\\" style=\\\"fill:#000000; stroke:none; fill-opacity:1\\\" cx=\\\"1241.33\\\" cy=\\\"265.957\\\" r=\\\"7\\\"\\/>\\n<circle clip-path=\\\"url(#clip0703)\\\" style=\\\"fill:#7683af; stroke:none; fill-opacity:1\\\" cx=\\\"1241.33\\\" cy=\\\"265.957\\\" r=\\\"3\\\"\\/>\\n<circle clip-path=\\\"url(#clip0703)\\\" style=\\\"fill:#000000; stroke:none; fill-opacity:1\\\" cx=\\\"1177.36\\\" cy=\\\"267.967\\\" r=\\\"7\\\"\\/>\\n<circle clip-path=\\\"url(#clip0703)\\\" style=\\\"fill:#7683af; stroke:none; fill-opacity:1\\\" cx=\\\"1177.36\\\" cy=\\\"267.967\\\" r=\\\"3\\\"\\/>\\n<circle clip-path=\\\"url(#clip0703)\\\" style=\\\"fill:#000000; stroke:none; fill-opacity:1\\\" cx=\\\"1113.64\\\" cy=\\\"273.991\\\" r=\\\"7\\\"\\/>\\n<circle clip-path=\\\"url(#clip0703)\\\" style=\\\"fill:#7683af; stroke:none; fill-opacity:1\\\" cx=\\\"1113.64\\\" cy=\\\"273.991\\\" r=\\\"3\\\"\\/>\\n<circle clip-path=\\\"url(#clip0703)\\\" style=\\\"fill:#000000; stroke:none; fill-opacity:1\\\" cx=\\\"1050.42\\\" cy=\\\"284.003\\\" r=\\\"7\\\"\\/>\\n<circle clip-path=\\\"url(#clip0703)\\\" style=\\\"fill:#7683af; stroke:none; fill-opacity:1\\\" cx=\\\"1050.42\\\" cy=\\\"284.003\\\" r=\\\"3\\\"\\/>\\n<circle clip-path=\\\"url(#clip0703)\\\" style=\\\"fill:#000000; stroke:none; fill-opacity:1\\\" cx=\\\"987.961\\\" cy=\\\"297.965\\\" r=\\\"7\\\"\\/>\\n<circle clip-path=\\\"url(#clip0703)\\\" style=\\\"fill:#7683af; stroke:none; fill-opacity:1\\\" cx=\\\"987.961\\\" cy=\\\"297.965\\\" r=\\\"3\\\"\\/>\\n<circle clip-path=\\\"url(#clip0703)\\\" style=\\\"fill:#000000; stroke:none; fill-opacity:1\\\" cx=\\\"926.499\\\" cy=\\\"315.821\\\" r=\\\"7\\\"\\/>\\n<circle clip-path=\\\"url(#clip0703)\\\" style=\\\"fill:#7683af; stroke:none; fill-opacity:1\\\" cx=\\\"926.499\\\" cy=\\\"315.821\\\" r=\\\"3\\\"\\/>\\n<circle clip-path=\\\"url(#clip0703)\\\" style=\\\"fill:#000000; stroke:none; fill-opacity:1\\\" cx=\\\"866.28\\\" cy=\\\"337.501\\\" r=\\\"7\\\"\\/>\\n<circle clip-path=\\\"url(#clip0703)\\\" style=\\\"fill:#7683af; stroke:none; fill-opacity:1\\\" cx=\\\"866.28\\\" cy=\\\"337.501\\\" r=\\\"3\\\"\\/>\\n<circle clip-path=\\\"url(#clip0703)\\\" style=\\\"fill:#000000; stroke:none; fill-opacity:1\\\" cx=\\\"807.541\\\" cy=\\\"362.92\\\" r=\\\"7\\\"\\/>\\n<circle clip-path=\\\"url(#clip0703)\\\" style=\\\"fill:#7683af; stroke:none; fill-opacity:1\\\" cx=\\\"807.541\\\" cy=\\\"362.92\\\" r=\\\"3\\\"\\/>\\n<circle clip-path=\\\"url(#clip0703)\\\" style=\\\"fill:#000000; stroke:none; fill-opacity:1\\\" cx=\\\"750.514\\\" cy=\\\"391.976\\\" r=\\\"7\\\"\\/>\\n<circle clip-path=\\\"url(#clip0703)\\\" style=\\\"fill:#7683af; stroke:none; fill-opacity:1\\\" cx=\\\"750.514\\\" cy=\\\"391.976\\\" r=\\\"3\\\"\\/>\\n<circle clip-path=\\\"url(#clip0703)\\\" style=\\\"fill:#000000; stroke:none; fill-opacity:1\\\" cx=\\\"695.424\\\" cy=\\\"424.557\\\" r=\\\"7\\\"\\/>\\n<circle clip-path=\\\"url(#clip0703)\\\" style=\\\"fill:#7683af; stroke:none; fill-opacity:1\\\" cx=\\\"695.424\\\" cy=\\\"424.557\\\" r=\\\"3\\\"\\/>\\n<circle clip-path=\\\"url(#clip0703)\\\" style=\\\"fill:#000000; stroke:none; fill-opacity:1\\\" cx=\\\"642.489\\\" cy=\\\"460.531\\\" r=\\\"7\\\"\\/>\\n<circle clip-path=\\\"url(#clip0703)\\\" style=\\\"fill:#7683af; stroke:none; fill-opacity:1\\\" cx=\\\"642.489\\\" cy=\\\"460.531\\\" r=\\\"3\\\"\\/>\\n<circle clip-path=\\\"url(#clip0703)\\\" style=\\\"fill:#000000; stroke:none; fill-opacity:1\\\" cx=\\\"591.916\\\" cy=\\\"499.759\\\" r=\\\"7\\\"\\/>\\n<circle clip-path=\\\"url(#clip0703)\\\" style=\\\"fill:#7683af; stroke:none; fill-opacity:1\\\" cx=\\\"591.916\\\" cy=\\\"499.759\\\" r=\\\"3\\\"\\/>\\n<circle clip-path=\\\"url(#clip0703)\\\" style=\\\"fill:#000000; stroke:none; fill-opacity:1\\\" cx=\\\"543.907\\\" cy=\\\"542.085\\\" r=\\\"7\\\"\\/>\\n<circle clip-path=\\\"url(#clip0703)\\\" style=\\\"fill:#7683af; stroke:none; fill-opacity:1\\\" cx=\\\"543.907\\\" cy=\\\"542.085\\\" r=\\\"3\\\"\\/>\\n<circle clip-path=\\\"url(#clip0703)\\\" style=\\\"fill:#000000; stroke:none; fill-opacity:1\\\" cx=\\\"498.65\\\" cy=\\\"587.342\\\" r=\\\"7\\\"\\/>\\n<circle clip-path=\\\"url(#clip0703)\\\" style=\\\"fill:#7683af; stroke:none; fill-opacity:1\\\" cx=\\\"498.65\\\" cy=\\\"587.342\\\" r=\\\"3\\\"\\/>\\n<circle clip-path=\\\"url(#clip0703)\\\" style=\\\"fill:#000000; stroke:none; fill-opacity:1\\\" cx=\\\"456.324\\\" cy=\\\"635.351\\\" r=\\\"7\\\"\\/>\\n<circle clip-path=\\\"url(#clip0703)\\\" style=\\\"fill:#7683af; stroke:none; fill-opacity:1\\\" cx=\\\"456.324\\\" cy=\\\"635.351\\\" r=\\\"3\\\"\\/>\\n<circle clip-path=\\\"url(#clip0703)\\\" style=\\\"fill:#000000; stroke:none; fill-opacity:1\\\" cx=\\\"417.097\\\" cy=\\\"685.923\\\" r=\\\"7\\\"\\/>\\n<circle clip-path=\\\"url(#clip0703)\\\" style=\\\"fill:#7683af; stroke:none; fill-opacity:1\\\" cx=\\\"417.097\\\" cy=\\\"685.923\\\" r=\\\"3\\\"\\/>\\n<circle clip-path=\\\"url(#clip0703)\\\" style=\\\"fill:#000000; stroke:none; fill-opacity:1\\\" cx=\\\"381.122\\\" cy=\\\"738.859\\\" r=\\\"7\\\"\\/>\\n<circle clip-path=\\\"url(#clip0703)\\\" style=\\\"fill:#7683af; stroke:none; fill-opacity:1\\\" cx=\\\"381.122\\\" cy=\\\"738.859\\\" r=\\\"3\\\"\\/>\\n<circle clip-path=\\\"url(#clip0703)\\\" style=\\\"fill:#000000; stroke:none; fill-opacity:1\\\" cx=\\\"348.542\\\" cy=\\\"793.949\\\" r=\\\"7\\\"\\/>\\n<circle clip-path=\\\"url(#clip0703)\\\" style=\\\"fill:#7683af; stroke:none; fill-opacity:1\\\" cx=\\\"348.542\\\" cy=\\\"793.949\\\" r=\\\"3\\\"\\/>\\n<circle clip-path=\\\"url(#clip0703)\\\" style=\\\"fill:#000000; stroke:none; fill-opacity:1\\\" cx=\\\"319.485\\\" cy=\\\"850.976\\\" r=\\\"7\\\"\\/>\\n<circle clip-path=\\\"url(#clip0703)\\\" style=\\\"fill:#7683af; stroke:none; fill-opacity:1\\\" cx=\\\"319.485\\\" cy=\\\"850.976\\\" r=\\\"3\\\"\\/>\\n<circle clip-path=\\\"url(#clip0703)\\\" style=\\\"fill:#000000; stroke:none; fill-opacity:1\\\" cx=\\\"294.066\\\" cy=\\\"909.715\\\" r=\\\"7\\\"\\/>\\n<circle clip-path=\\\"url(#clip0703)\\\" style=\\\"fill:#7683af; stroke:none; fill-opacity:1\\\" cx=\\\"294.066\\\" cy=\\\"909.715\\\" r=\\\"3\\\"\\/>\\n<circle clip-path=\\\"url(#clip0703)\\\" style=\\\"fill:#000000; stroke:none; fill-opacity:1\\\" cx=\\\"272.386\\\" cy=\\\"969.934\\\" r=\\\"7\\\"\\/>\\n<circle clip-path=\\\"url(#clip0703)\\\" style=\\\"fill:#7683af; stroke:none; fill-opacity:1\\\" cx=\\\"272.386\\\" cy=\\\"969.934\\\" r=\\\"3\\\"\\/>\\n<circle clip-path=\\\"url(#clip0703)\\\" style=\\\"fill:#000000; stroke:none; fill-opacity:1\\\" cx=\\\"254.53\\\" cy=\\\"1031.4\\\" r=\\\"7\\\"\\/>\\n<circle clip-path=\\\"url(#clip0703)\\\" style=\\\"fill:#7683af; stroke:none; fill-opacity:1\\\" cx=\\\"254.53\\\" cy=\\\"1031.4\\\" r=\\\"3\\\"\\/>\\n<circle clip-path=\\\"url(#clip0703)\\\" style=\\\"fill:#000000; stroke:none; fill-opacity:1\\\" cx=\\\"240.568\\\" cy=\\\"1093.86\\\" r=\\\"7\\\"\\/>\\n<circle clip-path=\\\"url(#clip0703)\\\" style=\\\"fill:#7683af; stroke:none; fill-opacity:1\\\" cx=\\\"240.568\\\" cy=\\\"1093.86\\\" r=\\\"3\\\"\\/>\\n<circle clip-path=\\\"url(#clip0703)\\\" style=\\\"fill:#000000; stroke:none; fill-opacity:1\\\" cx=\\\"230.556\\\" cy=\\\"1157.07\\\" r=\\\"7\\\"\\/>\\n<circle clip-path=\\\"url(#clip0703)\\\" style=\\\"fill:#7683af; stroke:none; fill-opacity:1\\\" cx=\\\"230.556\\\" cy=\\\"1157.07\\\" r=\\\"3\\\"\\/>\\n<circle clip-path=\\\"url(#clip0703)\\\" style=\\\"fill:#000000; stroke:none; fill-opacity:1\\\" cx=\\\"224.533\\\" cy=\\\"1220.79\\\" r=\\\"7\\\"\\/>\\n<circle clip-path=\\\"url(#clip0703)\\\" style=\\\"fill:#7683af; stroke:none; fill-opacity:1\\\" cx=\\\"224.533\\\" cy=\\\"1220.79\\\" r=\\\"3\\\"\\/>\\n<circle clip-path=\\\"url(#clip0703)\\\" style=\\\"fill:#000000; stroke:none; fill-opacity:1\\\" cx=\\\"222.522\\\" cy=\\\"1284.76\\\" r=\\\"7\\\"\\/>\\n<circle clip-path=\\\"url(#clip0703)\\\" style=\\\"fill:#7683af; stroke:none; fill-opacity:1\\\" cx=\\\"222.522\\\" cy=\\\"1284.76\\\" r=\\\"3\\\"\\/>\\n<circle clip-path=\\\"url(#clip0703)\\\" style=\\\"fill:#000000; stroke:none; fill-opacity:1\\\" cx=\\\"2260.13\\\" cy=\\\"1284.76\\\" r=\\\"7\\\"\\/>\\n<circle clip-path=\\\"url(#clip0703)\\\" style=\\\"fill:#b08086; stroke:none; fill-opacity:1\\\" cx=\\\"2260.13\\\" cy=\\\"1284.76\\\" r=\\\"3\\\"\\/>\\n<circle clip-path=\\\"url(#clip0703)\\\" style=\\\"fill:#000000; stroke:none; fill-opacity:1\\\" cx=\\\"2258.12\\\" cy=\\\"1284.76\\\" r=\\\"7\\\"\\/>\\n<circle clip-path=\\\"url(#clip0703)\\\" style=\\\"fill:#b08086; stroke:none; fill-opacity:1\\\" cx=\\\"2258.12\\\" cy=\\\"1284.76\\\" r=\\\"3\\\"\\/>\\n<circle clip-path=\\\"url(#clip0703)\\\" style=\\\"fill:#000000; stroke:none; fill-opacity:1\\\" cx=\\\"2252.1\\\" cy=\\\"1284.76\\\" r=\\\"7\\\"\\/>\\n<circle clip-path=\\\"url(#clip0703)\\\" style=\\\"fill:#b08086; stroke:none; fill-opacity:1\\\" cx=\\\"2252.1\\\" cy=\\\"1284.76\\\" r=\\\"3\\\"\\/>\\n<circle clip-path=\\\"url(#clip0703)\\\" style=\\\"fill:#000000; stroke:none; fill-opacity:1\\\" cx=\\\"2242.09\\\" cy=\\\"1284.76\\\" r=\\\"7\\\"\\/>\\n<circle clip-path=\\\"url(#clip0703)\\\" style=\\\"fill:#b08086; stroke:none; fill-opacity:1\\\" cx=\\\"2242.09\\\" cy=\\\"1284.76\\\" r=\\\"3\\\"\\/>\\n<circle clip-path=\\\"url(#clip0703)\\\" style=\\\"fill:#000000; stroke:none; fill-opacity:1\\\" cx=\\\"2228.12\\\" cy=\\\"1284.76\\\" r=\\\"7\\\"\\/>\\n<circle clip-path=\\\"url(#clip0703)\\\" style=\\\"fill:#b08086; stroke:none; fill-opacity:1\\\" cx=\\\"2228.12\\\" cy=\\\"1284.76\\\" r=\\\"3\\\"\\/>\\n<circle clip-path=\\\"url(#clip0703)\\\" style=\\\"fill:#000000; stroke:none; fill-opacity:1\\\" cx=\\\"2210.27\\\" cy=\\\"1284.76\\\" r=\\\"7\\\"\\/>\\n<circle clip-path=\\\"url(#clip0703)\\\" style=\\\"fill:#b08086; stroke:none; fill-opacity:1\\\" cx=\\\"2210.27\\\" cy=\\\"1284.76\\\" r=\\\"3\\\"\\/>\\n<circle clip-path=\\\"url(#clip0703)\\\" style=\\\"fill:#000000; stroke:none; fill-opacity:1\\\" cx=\\\"2188.59\\\" cy=\\\"1284.76\\\" r=\\\"7\\\"\\/>\\n<circle clip-path=\\\"url(#clip0703)\\\" style=\\\"fill:#b08086; stroke:none; fill-opacity:1\\\" cx=\\\"2188.59\\\" cy=\\\"1284.76\\\" r=\\\"3\\\"\\/>\\n<circle clip-path=\\\"url(#clip0703)\\\" style=\\\"fill:#000000; stroke:none; fill-opacity:1\\\" cx=\\\"2163.17\\\" cy=\\\"1284.76\\\" r=\\\"7\\\"\\/>\\n<circle clip-path=\\\"url(#clip0703)\\\" style=\\\"fill:#b08086; stroke:none; fill-opacity:1\\\" cx=\\\"2163.17\\\" cy=\\\"1284.76\\\" r=\\\"3\\\"\\/>\\n<circle clip-path=\\\"url(#clip0703)\\\" style=\\\"fill:#000000; stroke:none; fill-opacity:1\\\" cx=\\\"2134.11\\\" cy=\\\"1284.76\\\" r=\\\"7\\\"\\/>\\n<circle clip-path=\\\"url(#clip0703)\\\" style=\\\"fill:#b08086; stroke:none; fill-opacity:1\\\" cx=\\\"2134.11\\\" cy=\\\"1284.76\\\" r=\\\"3\\\"\\/>\\n<circle clip-path=\\\"url(#clip0703)\\\" style=\\\"fill:#000000; stroke:none; fill-opacity:1\\\" cx=\\\"2101.53\\\" cy=\\\"1284.76\\\" r=\\\"7\\\"\\/>\\n<circle clip-path=\\\"url(#clip0703)\\\" style=\\\"fill:#b08086; stroke:none; fill-opacity:1\\\" cx=\\\"2101.53\\\" cy=\\\"1284.76\\\" r=\\\"3\\\"\\/>\\n<circle clip-path=\\\"url(#clip0703)\\\" style=\\\"fill:#000000; stroke:none; fill-opacity:1\\\" cx=\\\"2065.56\\\" cy=\\\"1284.76\\\" r=\\\"7\\\"\\/>\\n<circle clip-path=\\\"url(#clip0703)\\\" style=\\\"fill:#b08086; stroke:none; fill-opacity:1\\\" cx=\\\"2065.56\\\" cy=\\\"1284.76\\\" r=\\\"3\\\"\\/>\\n<circle clip-path=\\\"url(#clip0703)\\\" style=\\\"fill:#000000; stroke:none; fill-opacity:1\\\" cx=\\\"2026.33\\\" cy=\\\"1284.76\\\" r=\\\"7\\\"\\/>\\n<circle clip-path=\\\"url(#clip0703)\\\" style=\\\"fill:#b08086; stroke:none; fill-opacity:1\\\" cx=\\\"2026.33\\\" cy=\\\"1284.76\\\" r=\\\"3\\\"\\/>\\n<circle clip-path=\\\"url(#clip0703)\\\" style=\\\"fill:#000000; stroke:none; fill-opacity:1\\\" cx=\\\"1984\\\" cy=\\\"1284.76\\\" r=\\\"7\\\"\\/>\\n<circle clip-path=\\\"url(#clip0703)\\\" style=\\\"fill:#b08086; stroke:none; fill-opacity:1\\\" cx=\\\"1984\\\" cy=\\\"1284.76\\\" r=\\\"3\\\"\\/>\\n<circle clip-path=\\\"url(#clip0703)\\\" style=\\\"fill:#000000; stroke:none; fill-opacity:1\\\" cx=\\\"1938.75\\\" cy=\\\"1284.76\\\" r=\\\"7\\\"\\/>\\n<circle clip-path=\\\"url(#clip0703)\\\" style=\\\"fill:#b08086; stroke:none; fill-opacity:1\\\" cx=\\\"1938.75\\\" cy=\\\"1284.76\\\" r=\\\"3\\\"\\/>\\n<circle clip-path=\\\"url(#clip0703)\\\" style=\\\"fill:#000000; stroke:none; fill-opacity:1\\\" cx=\\\"1890.74\\\" cy=\\\"1284.76\\\" r=\\\"7\\\"\\/>\\n<circle clip-path=\\\"url(#clip0703)\\\" style=\\\"fill:#b08086; stroke:none; fill-opacity:1\\\" cx=\\\"1890.74\\\" cy=\\\"1284.76\\\" r=\\\"3\\\"\\/>\\n<circle clip-path=\\\"url(#clip0703)\\\" style=\\\"fill:#000000; stroke:none; fill-opacity:1\\\" cx=\\\"1840.17\\\" cy=\\\"1284.76\\\" r=\\\"7\\\"\\/>\\n<circle clip-path=\\\"url(#clip0703)\\\" style=\\\"fill:#b08086; stroke:none; fill-opacity:1\\\" cx=\\\"1840.17\\\" cy=\\\"1284.76\\\" r=\\\"3\\\"\\/>\\n<circle clip-path=\\\"url(#clip0703)\\\" style=\\\"fill:#000000; stroke:none; fill-opacity:1\\\" cx=\\\"1787.23\\\" cy=\\\"1284.76\\\" r=\\\"7\\\"\\/>\\n<circle clip-path=\\\"url(#clip0703)\\\" style=\\\"fill:#b08086; stroke:none; fill-opacity:1\\\" cx=\\\"1787.23\\\" cy=\\\"1284.76\\\" r=\\\"3\\\"\\/>\\n<circle clip-path=\\\"url(#clip0703)\\\" style=\\\"fill:#000000; stroke:none; fill-opacity:1\\\" cx=\\\"1732.14\\\" cy=\\\"1284.76\\\" r=\\\"7\\\"\\/>\\n<circle clip-path=\\\"url(#clip0703)\\\" style=\\\"fill:#b08086; stroke:none; fill-opacity:1\\\" cx=\\\"1732.14\\\" cy=\\\"1284.76\\\" r=\\\"3\\\"\\/>\\n<circle clip-path=\\\"url(#clip0703)\\\" style=\\\"fill:#000000; stroke:none; fill-opacity:1\\\" cx=\\\"1675.11\\\" cy=\\\"1284.76\\\" r=\\\"7\\\"\\/>\\n<circle clip-path=\\\"url(#clip0703)\\\" style=\\\"fill:#b08086; stroke:none; fill-opacity:1\\\" cx=\\\"1675.11\\\" cy=\\\"1284.76\\\" r=\\\"3\\\"\\/>\\n<circle clip-path=\\\"url(#clip0703)\\\" style=\\\"fill:#000000; stroke:none; fill-opacity:1\\\" cx=\\\"1616.37\\\" cy=\\\"1284.76\\\" r=\\\"7\\\"\\/>\\n<circle clip-path=\\\"url(#clip0703)\\\" style=\\\"fill:#b08086; stroke:none; fill-opacity:1\\\" cx=\\\"1616.37\\\" cy=\\\"1284.76\\\" r=\\\"3\\\"\\/>\\n<circle clip-path=\\\"url(#clip0703)\\\" style=\\\"fill:#000000; stroke:none; fill-opacity:1\\\" cx=\\\"1556.15\\\" cy=\\\"1284.76\\\" r=\\\"7\\\"\\/>\\n<circle clip-path=\\\"url(#clip0703)\\\" style=\\\"fill:#b08086; stroke:none; fill-opacity:1\\\" cx=\\\"1556.15\\\" cy=\\\"1284.76\\\" r=\\\"3\\\"\\/>\\n<circle clip-path=\\\"url(#clip0703)\\\" style=\\\"fill:#000000; stroke:none; fill-opacity:1\\\" cx=\\\"1494.69\\\" cy=\\\"1284.76\\\" r=\\\"7\\\"\\/>\\n<circle clip-path=\\\"url(#clip0703)\\\" style=\\\"fill:#b08086; stroke:none; fill-opacity:1\\\" cx=\\\"1494.69\\\" cy=\\\"1284.76\\\" r=\\\"3\\\"\\/>\\n<circle clip-path=\\\"url(#clip0703)\\\" style=\\\"fill:#000000; stroke:none; fill-opacity:1\\\" cx=\\\"1432.23\\\" cy=\\\"1284.76\\\" r=\\\"7\\\"\\/>\\n<circle clip-path=\\\"url(#clip0703)\\\" style=\\\"fill:#b08086; stroke:none; fill-opacity:1\\\" cx=\\\"1432.23\\\" cy=\\\"1284.76\\\" r=\\\"3\\\"\\/>\\n<circle clip-path=\\\"url(#clip0703)\\\" style=\\\"fill:#000000; stroke:none; fill-opacity:1\\\" cx=\\\"1369.02\\\" cy=\\\"1284.76\\\" r=\\\"7\\\"\\/>\\n<circle clip-path=\\\"url(#clip0703)\\\" style=\\\"fill:#b08086; stroke:none; fill-opacity:1\\\" cx=\\\"1369.02\\\" cy=\\\"1284.76\\\" r=\\\"3\\\"\\/>\\n<circle clip-path=\\\"url(#clip0703)\\\" style=\\\"fill:#000000; stroke:none; fill-opacity:1\\\" cx=\\\"1305.3\\\" cy=\\\"1284.76\\\" r=\\\"7\\\"\\/>\\n<circle clip-path=\\\"url(#clip0703)\\\" style=\\\"fill:#b08086; stroke:none; fill-opacity:1\\\" cx=\\\"1305.3\\\" cy=\\\"1284.76\\\" r=\\\"3\\\"\\/>\\n<circle clip-path=\\\"url(#clip0703)\\\" style=\\\"fill:#000000; stroke:none; fill-opacity:1\\\" cx=\\\"1241.33\\\" cy=\\\"1284.76\\\" r=\\\"7\\\"\\/>\\n<circle clip-path=\\\"url(#clip0703)\\\" style=\\\"fill:#b08086; stroke:none; fill-opacity:1\\\" cx=\\\"1241.33\\\" cy=\\\"1284.76\\\" r=\\\"3\\\"\\/>\\n<circle clip-path=\\\"url(#clip0703)\\\" style=\\\"fill:#000000; stroke:none; fill-opacity:1\\\" cx=\\\"1177.36\\\" cy=\\\"1284.76\\\" r=\\\"7\\\"\\/>\\n<circle clip-path=\\\"url(#clip0703)\\\" style=\\\"fill:#b08086; stroke:none; fill-opacity:1\\\" cx=\\\"1177.36\\\" cy=\\\"1284.76\\\" r=\\\"3\\\"\\/>\\n<circle clip-path=\\\"url(#clip0703)\\\" style=\\\"fill:#000000; stroke:none; fill-opacity:1\\\" cx=\\\"1113.64\\\" cy=\\\"1284.76\\\" r=\\\"7\\\"\\/>\\n<circle clip-path=\\\"url(#clip0703)\\\" style=\\\"fill:#b08086; stroke:none; fill-opacity:1\\\" cx=\\\"1113.64\\\" cy=\\\"1284.76\\\" r=\\\"3\\\"\\/>\\n<circle clip-path=\\\"url(#clip0703)\\\" style=\\\"fill:#000000; stroke:none; fill-opacity:1\\\" cx=\\\"1050.42\\\" cy=\\\"1284.76\\\" r=\\\"7\\\"\\/>\\n<circle clip-path=\\\"url(#clip0703)\\\" style=\\\"fill:#b08086; stroke:none; fill-opacity:1\\\" cx=\\\"1050.42\\\" cy=\\\"1284.76\\\" r=\\\"3\\\"\\/>\\n<circle clip-path=\\\"url(#clip0703)\\\" style=\\\"fill:#000000; stroke:none; fill-opacity:1\\\" cx=\\\"987.961\\\" cy=\\\"1284.76\\\" r=\\\"7\\\"\\/>\\n<circle clip-path=\\\"url(#clip0703)\\\" style=\\\"fill:#b08086; stroke:none; fill-opacity:1\\\" cx=\\\"987.961\\\" cy=\\\"1284.76\\\" r=\\\"3\\\"\\/>\\n<circle clip-path=\\\"url(#clip0703)\\\" style=\\\"fill:#000000; stroke:none; fill-opacity:1\\\" cx=\\\"926.499\\\" cy=\\\"1284.76\\\" r=\\\"7\\\"\\/>\\n<circle clip-path=\\\"url(#clip0703)\\\" style=\\\"fill:#b08086; stroke:none; fill-opacity:1\\\" cx=\\\"926.499\\\" cy=\\\"1284.76\\\" r=\\\"3\\\"\\/>\\n<circle clip-path=\\\"url(#clip0703)\\\" style=\\\"fill:#000000; stroke:none; fill-opacity:1\\\" cx=\\\"866.28\\\" cy=\\\"1284.76\\\" r=\\\"7\\\"\\/>\\n<circle clip-path=\\\"url(#clip0703)\\\" style=\\\"fill:#b08086; stroke:none; fill-opacity:1\\\" cx=\\\"866.28\\\" cy=\\\"1284.76\\\" r=\\\"3\\\"\\/>\\n<circle clip-path=\\\"url(#clip0703)\\\" style=\\\"fill:#000000; stroke:none; fill-opacity:1\\\" cx=\\\"807.541\\\" cy=\\\"1284.76\\\" r=\\\"7\\\"\\/>\\n<circle clip-path=\\\"url(#clip0703)\\\" style=\\\"fill:#b08086; stroke:none; fill-opacity:1\\\" cx=\\\"807.541\\\" cy=\\\"1284.76\\\" r=\\\"3\\\"\\/>\\n<circle clip-path=\\\"url(#clip0703)\\\" style=\\\"fill:#000000; stroke:none; fill-opacity:1\\\" cx=\\\"750.514\\\" cy=\\\"1284.76\\\" r=\\\"7\\\"\\/>\\n<circle clip-path=\\\"url(#clip0703)\\\" style=\\\"fill:#b08086; stroke:none; fill-opacity:1\\\" cx=\\\"750.514\\\" cy=\\\"1284.76\\\" r=\\\"3\\\"\\/>\\n<circle clip-path=\\\"url(#clip0703)\\\" style=\\\"fill:#000000; stroke:none; fill-opacity:1\\\" cx=\\\"695.424\\\" cy=\\\"1284.76\\\" r=\\\"7\\\"\\/>\\n<circle clip-path=\\\"url(#clip0703)\\\" style=\\\"fill:#b08086; stroke:none; fill-opacity:1\\\" cx=\\\"695.424\\\" cy=\\\"1284.76\\\" r=\\\"3\\\"\\/>\\n<circle clip-path=\\\"url(#clip0703)\\\" style=\\\"fill:#000000; stroke:none; fill-opacity:1\\\" cx=\\\"642.489\\\" cy=\\\"1284.76\\\" r=\\\"7\\\"\\/>\\n<circle clip-path=\\\"url(#clip0703)\\\" style=\\\"fill:#b08086; stroke:none; fill-opacity:1\\\" cx=\\\"642.489\\\" cy=\\\"1284.76\\\" r=\\\"3\\\"\\/>\\n<circle clip-path=\\\"url(#clip0703)\\\" style=\\\"fill:#000000; stroke:none; fill-opacity:1\\\" cx=\\\"591.916\\\" cy=\\\"1284.76\\\" r=\\\"7\\\"\\/>\\n<circle clip-path=\\\"url(#clip0703)\\\" style=\\\"fill:#b08086; stroke:none; fill-opacity:1\\\" cx=\\\"591.916\\\" cy=\\\"1284.76\\\" r=\\\"3\\\"\\/>\\n<circle clip-path=\\\"url(#clip0703)\\\" style=\\\"fill:#000000; stroke:none; fill-opacity:1\\\" cx=\\\"543.907\\\" cy=\\\"1284.76\\\" r=\\\"7\\\"\\/>\\n<circle clip-path=\\\"url(#clip0703)\\\" style=\\\"fill:#b08086; stroke:none; fill-opacity:1\\\" cx=\\\"543.907\\\" cy=\\\"1284.76\\\" r=\\\"3\\\"\\/>\\n<circle clip-path=\\\"url(#clip0703)\\\" style=\\\"fill:#000000; stroke:none; fill-opacity:1\\\" cx=\\\"498.65\\\" cy=\\\"1284.76\\\" r=\\\"7\\\"\\/>\\n<circle clip-path=\\\"url(#clip0703)\\\" style=\\\"fill:#b08086; stroke:none; fill-opacity:1\\\" cx=\\\"498.65\\\" cy=\\\"1284.76\\\" r=\\\"3\\\"\\/>\\n<circle clip-path=\\\"url(#clip0703)\\\" style=\\\"fill:#000000; stroke:none; fill-opacity:1\\\" cx=\\\"456.324\\\" cy=\\\"1284.76\\\" r=\\\"7\\\"\\/>\\n<circle clip-path=\\\"url(#clip0703)\\\" style=\\\"fill:#b08086; stroke:none; fill-opacity:1\\\" cx=\\\"456.324\\\" cy=\\\"1284.76\\\" r=\\\"3\\\"\\/>\\n<circle clip-path=\\\"url(#clip0703)\\\" style=\\\"fill:#000000; stroke:none; fill-opacity:1\\\" cx=\\\"417.097\\\" cy=\\\"1284.76\\\" r=\\\"7\\\"\\/>\\n<circle clip-path=\\\"url(#clip0703)\\\" style=\\\"fill:#b08086; stroke:none; fill-opacity:1\\\" cx=\\\"417.097\\\" cy=\\\"1284.76\\\" r=\\\"3\\\"\\/>\\n<circle clip-path=\\\"url(#clip0703)\\\" style=\\\"fill:#000000; stroke:none; fill-opacity:1\\\" cx=\\\"381.122\\\" cy=\\\"1284.76\\\" r=\\\"7\\\"\\/>\\n<circle clip-path=\\\"url(#clip0703)\\\" style=\\\"fill:#b08086; stroke:none; fill-opacity:1\\\" cx=\\\"381.122\\\" cy=\\\"1284.76\\\" r=\\\"3\\\"\\/>\\n<circle clip-path=\\\"url(#clip0703)\\\" style=\\\"fill:#000000; stroke:none; fill-opacity:1\\\" cx=\\\"348.542\\\" cy=\\\"1284.76\\\" r=\\\"7\\\"\\/>\\n<circle clip-path=\\\"url(#clip0703)\\\" style=\\\"fill:#b08086; stroke:none; fill-opacity:1\\\" cx=\\\"348.542\\\" cy=\\\"1284.76\\\" r=\\\"3\\\"\\/>\\n<circle clip-path=\\\"url(#clip0703)\\\" style=\\\"fill:#000000; stroke:none; fill-opacity:1\\\" cx=\\\"319.485\\\" cy=\\\"1284.76\\\" r=\\\"7\\\"\\/>\\n<circle clip-path=\\\"url(#clip0703)\\\" style=\\\"fill:#b08086; stroke:none; fill-opacity:1\\\" cx=\\\"319.485\\\" cy=\\\"1284.76\\\" r=\\\"3\\\"\\/>\\n<circle clip-path=\\\"url(#clip0703)\\\" style=\\\"fill:#000000; stroke:none; fill-opacity:1\\\" cx=\\\"294.066\\\" cy=\\\"1284.76\\\" r=\\\"7\\\"\\/>\\n<circle clip-path=\\\"url(#clip0703)\\\" style=\\\"fill:#b08086; stroke:none; fill-opacity:1\\\" cx=\\\"294.066\\\" cy=\\\"1284.76\\\" r=\\\"3\\\"\\/>\\n<circle clip-path=\\\"url(#clip0703)\\\" style=\\\"fill:#000000; stroke:none; fill-opacity:1\\\" cx=\\\"272.386\\\" cy=\\\"1284.76\\\" r=\\\"7\\\"\\/>\\n<circle clip-path=\\\"url(#clip0703)\\\" style=\\\"fill:#b08086; stroke:none; fill-opacity:1\\\" cx=\\\"272.386\\\" cy=\\\"1284.76\\\" r=\\\"3\\\"\\/>\\n<circle clip-path=\\\"url(#clip0703)\\\" style=\\\"fill:#000000; stroke:none; fill-opacity:1\\\" cx=\\\"254.53\\\" cy=\\\"1284.76\\\" r=\\\"7\\\"\\/>\\n<circle clip-path=\\\"url(#clip0703)\\\" style=\\\"fill:#b08086; stroke:none; fill-opacity:1\\\" cx=\\\"254.53\\\" cy=\\\"1284.76\\\" r=\\\"3\\\"\\/>\\n<circle clip-path=\\\"url(#clip0703)\\\" style=\\\"fill:#000000; stroke:none; fill-opacity:1\\\" cx=\\\"240.568\\\" cy=\\\"1284.76\\\" r=\\\"7\\\"\\/>\\n<circle clip-path=\\\"url(#clip0703)\\\" style=\\\"fill:#b08086; stroke:none; fill-opacity:1\\\" cx=\\\"240.568\\\" cy=\\\"1284.76\\\" r=\\\"3\\\"\\/>\\n<circle clip-path=\\\"url(#clip0703)\\\" style=\\\"fill:#000000; stroke:none; fill-opacity:1\\\" cx=\\\"230.556\\\" cy=\\\"1284.76\\\" r=\\\"7\\\"\\/>\\n<circle clip-path=\\\"url(#clip0703)\\\" style=\\\"fill:#b08086; stroke:none; fill-opacity:1\\\" cx=\\\"230.556\\\" cy=\\\"1284.76\\\" r=\\\"3\\\"\\/>\\n<circle clip-path=\\\"url(#clip0703)\\\" style=\\\"fill:#000000; stroke:none; fill-opacity:1\\\" cx=\\\"224.533\\\" cy=\\\"1284.76\\\" r=\\\"7\\\"\\/>\\n<circle clip-path=\\\"url(#clip0703)\\\" style=\\\"fill:#b08086; stroke:none; fill-opacity:1\\\" cx=\\\"224.533\\\" cy=\\\"1284.76\\\" r=\\\"3\\\"\\/>\\n<circle clip-path=\\\"url(#clip0703)\\\" style=\\\"fill:#000000; stroke:none; fill-opacity:1\\\" cx=\\\"222.522\\\" cy=\\\"1284.76\\\" r=\\\"7\\\"\\/>\\n<circle clip-path=\\\"url(#clip0703)\\\" style=\\\"fill:#b08086; stroke:none; fill-opacity:1\\\" cx=\\\"222.522\\\" cy=\\\"1284.76\\\" r=\\\"3\\\"\\/>\\n<\\/svg>\\n\"},\"nodeType\":\"DOM\",\"type\":\"node\",\"instanceArgs\":{\"namespace\":\"html\",\"tag\":\"div\"},\"children\":[]}]}}}},\"children\":[{\"props\":{},\"nodeType\":\"ObservableNode\",\"type\":\"node\",\"instanceArgs\":{\"id\":\"ob_30\",\"name\":\"obs-node\"},\"children\":[]}]}]},\n",
       "        );\n",
       "    } else {\n",
       "        document\n",
       "            .querySelector('[data-webio-mountpoint=\"11349088194170072954\"]')\n",
       "            .innerHTML = '<strong>WebIO not detected.</strong>';\n",
       "    }\n",
       "    </script>\n",
       "</div>\n"
      ],
      "text/plain": [
       "Widget{:manipulate,Any}(OrderedDict{Symbol,Any}(:n=>Widget{:slider,Int64}(OrderedDict{Symbol,Any}(:changes=>Observable{Int64}(\"ob_27\", 0, Any[SyncCallback(Scope(\"knockout-component-083fe6af-a3a5-4652-9a72-1fcd52fb361e\", Node{DOM}(DOM(:html, :div), Any[Node{DOM}(DOM(:html, :div), Any[Node{DOM}(DOM(:html, :label), Any[\"n\"], Dict{Symbol,Any}(:className=>\"interact \",:style=>Dict{Any,Any}(:padding=>\"5px 10px 0px 10px\")), 1)], Dict{Symbol,Any}(:attributes=>Dict(\"style\"=>\"text-align:right;width:18%\")), 2), Node{DOM}(DOM(:html, :div), Any[Node{DOM}(DOM(:html, :input), Any[], Dict{Symbol,Any}(:max=>100,:min=>2,:attributes=>Dict{Any,Any}(:type=>\"range\",Symbol(\"data-bind\")=>\"numericValue: value, valueUpdate: 'input', event: {change : function () {this.changes(this.changes()+1)}}\",\"orient\"=>\"horizontal\"),:step=>1,:className=>\"slider slider is-fullwidth\",:style=>Dict{Any,Any}()), 0)], Dict{Symbol,Any}(:attributes=>Dict(\"style\"=>\"flex-grow:1; margin: 0 2%\")), 1), Node{DOM}(DOM(:html, :div), Any[Node{DOM}(DOM(:html, :p), Any[], Dict{Symbol,Any}(:attributes=>Dict(\"data-bind\"=>\"text: value\")), 0)], Dict{Symbol,Any}(:attributes=>Dict(\"style\"=>\"width:18%\")), 1)], Dict{Symbol,Any}(:attributes=>Dict(\"style\"=>\"display:flex; justify-content:center; align-items:center;\")), 7), Dict{String,Tuple{Observables.AbstractObservable,Union{Nothing, Bool}}}(\"changes\"=>(Observable{Int64}(#= circular reference @-6 =#), nothing),\"value\"=>(Observable{Int64}(\"ob_26\", 51, Any[SyncCallback(Scope(#= circular reference @-6 =#), SyncCallback(Scope(#= circular reference @-7 =#), ##36#38{Scope,String}(Scope(#= circular reference @-8 =#), \"value\"))), #g#15{##16#17{##109#112,Observable{Any}},Tuple{Observable{Int64}}}(##16#17{##109#112,Observable{Any}}(##109#112(), Observable{Any}(\"ob_28\", Plot{Plots.GRBackend() n=54}, Any[])), (Observable{Int64}(#= circular reference @-4 =#),))]), nothing)), Set(String[]), nothing, Any[\"knockout\"=>\"/home/shashi/.julia/packages/Knockout/JIqpG/src/../assets/knockout.js\", \"knockout_punches\"=>\"/home/shashi/.julia/packages/Knockout/JIqpG/src/../assets/knockout_punches.js\", \"/home/shashi/.julia/packages/InteractBase/Q4IkI/src/../assets/all.js\", \"/home/shashi/.julia/packages/InteractBase/Q4IkI/src/../assets/style.css\", \"/home/shashi/.julia/packages/InteractBulma/Ohu5Y/src/../assets/main.css\"], Dict{Any,Any}(\"_promises\"=>Dict{Any,Any}(\"importsLoaded\"=>Any[JSString(\"function (ko, koPunches) {\\n    ko.punches.enableAll();\\n    ko.bindingHandlers.numericValue = {\\n        init : function(element, valueAccessor, allBindings, data, context) {\\n            var stringified = ko.observable(ko.unwrap(valueAccessor()));\\n            stringified.subscribe(function(value) {\\n                var val = parseFloat(value);\\n                if (!isNaN(val)) {\\n                    valueAccessor()(val);\\n                }\\n            })\\n            valueAccessor().subscribe(function(value) {\\n                var str = JSON.stringify(value);\\n                if ((str == \\\"0\\\") && ([\\\"-0\\\", \\\"-0.\\\"].indexOf(stringified()) >= 0))\\n                     return;\\n                 if ([\\\"null\\\", \\\"\\\"].indexOf(str) >= 0)\\n                     return;\\n                stringified(str);\\n            })\\n            ko.applyBindingsToNode(element, { value: stringified, valueUpdate: allBindings.get('valueUpdate')}, context);\\n        }\\n    };\\n    var json_data = JSON.parse(\\\"{\\\\\\\"changes\\\\\\\":0,\\\\\\\"value\\\\\\\":51}\\\");\\n    var self = this;\\n    function AppViewModel() {\\n        for (var key in json_data) {\\n            var el = json_data[key];\\n            this[key] = Array.isArray(el) ? ko.observableArray(el) : ko.observable(el);\\n        }\\n        \\n        \\n        [this[\\\"changes\\\"].subscribe((function (val){!(this.valueFromJulia[\\\"changes\\\"]) ? (WebIO.setval({\\\"name\\\":\\\"changes\\\",\\\"scope\\\":\\\"knockout-component-083fe6af-a3a5-4652-9a72-1fcd52fb361e\\\",\\\"id\\\":\\\"ob_27\\\",\\\"type\\\":\\\"observable\\\"},val)) : undefined; return this.valueFromJulia[\\\"changes\\\"]=false}),self),this[\\\"value\\\"].subscribe((function (val){!(this.valueFromJulia[\\\"value\\\"]) ? (WebIO.setval({\\\"name\\\":\\\"value\\\",\\\"scope\\\":\\\"knockout-component-083fe6af-a3a5-4652-9a72-1fcd52fb361e\\\",\\\"id\\\":\\\"ob_26\\\",\\\"type\\\":\\\"observable\\\"},val)) : undefined; return this.valueFromJulia[\\\"value\\\"]=false}),self)]\\n        \\n    }\\n    self.model = new AppViewModel();\\n    self.valueFromJulia = {};\\n    for (var key in json_data) {\\n        self.valueFromJulia[key] = false;\\n    }\\n    ko.applyBindings(self.model, self.dom);\\n}\\n\")]),\"changes\"=>Any[JSString(\"(function (val){return (val!=this.model[\\\"changes\\\"]()) ? (this.valueFromJulia[\\\"changes\\\"]=true, this.model[\\\"changes\\\"](val)) : undefined})\")],\"value\"=>Any[JSString(\"(function (val){return (val!=this.model[\\\"value\\\"]()) ? (this.valueFromJulia[\\\"value\\\"]=true, this.model[\\\"value\\\"](val)) : undefined})\")]), ConnectionPool(Channel{Any}(sz_max:9223372036854775807,sz_curr:0), Set(AbstractConnection[]), Channel{AbstractConnection}(sz_max:32,sz_curr:0))), SyncCallback(Scope(\"knockout-component-083fe6af-a3a5-4652-9a72-1fcd52fb361e\", Node{DOM}(DOM(:html, :div), Any[Node{DOM}(DOM(:html, :div), Any[Node{DOM}(DOM(:html, :label), Any[\"n\"], Dict{Symbol,Any}(:className=>\"interact \",:style=>Dict{Any,Any}(:padding=>\"5px 10px 0px 10px\")), 1)], Dict{Symbol,Any}(:attributes=>Dict(\"style\"=>\"text-align:right;width:18%\")), 2), Node{DOM}(DOM(:html, :div), Any[Node{DOM}(DOM(:html, :input), Any[], Dict{Symbol,Any}(:max=>100,:min=>2,:attributes=>Dict{Any,Any}(:type=>\"range\",Symbol(\"data-bind\")=>\"numericValue: value, valueUpdate: 'input', event: {change : function () {this.changes(this.changes()+1)}}\",\"orient\"=>\"horizontal\"),:step=>1,:className=>\"slider slider is-fullwidth\",:style=>Dict{Any,Any}()), 0)], Dict{Symbol,Any}(:attributes=>Dict(\"style\"=>\"flex-grow:1; margin: 0 2%\")), 1), Node{DOM}(DOM(:html, :div), Any[Node{DOM}(DOM(:html, :p), Any[], Dict{Symbol,Any}(:attributes=>Dict(\"data-bind\"=>\"text: value\")), 0)], Dict{Symbol,Any}(:attributes=>Dict(\"style\"=>\"width:18%\")), 1)], Dict{Symbol,Any}(:attributes=>Dict(\"style\"=>\"display:flex; justify-content:center; align-items:center;\")), 7), Dict{String,Tuple{Observables.AbstractObservable,Union{Nothing, Bool}}}(\"changes\"=>(Observable{Int64}(#= circular reference @-7 =#), nothing),\"value\"=>(Observable{Int64}(\"ob_26\", 51, Any[SyncCallback(Scope(#= circular reference @-6 =#), SyncCallback(Scope(#= circular reference @-7 =#), ##36#38{Scope,String}(Scope(#= circular reference @-8 =#), \"value\"))), #g#15{##16#17{##109#112,Observable{Any}},Tuple{Observable{Int64}}}(##16#17{##109#112,Observable{Any}}(##109#112(), Observable{Any}(\"ob_28\", Plot{Plots.GRBackend() n=54}, Any[])), (Observable{Int64}(#= circular reference @-4 =#),))]), nothing)), Set(String[]), nothing, Any[\"knockout\"=>\"/home/shashi/.julia/packages/Knockout/JIqpG/src/../assets/knockout.js\", \"knockout_punches\"=>\"/home/shashi/.julia/packages/Knockout/JIqpG/src/../assets/knockout_punches.js\", \"/home/shashi/.julia/packages/InteractBase/Q4IkI/src/../assets/all.js\", \"/home/shashi/.julia/packages/InteractBase/Q4IkI/src/../assets/style.css\", \"/home/shashi/.julia/packages/InteractBulma/Ohu5Y/src/../assets/main.css\"], Dict{Any,Any}(\"_promises\"=>Dict{Any,Any}(\"importsLoaded\"=>Any[JSString(\"function (ko, koPunches) {\\n    ko.punches.enableAll();\\n    ko.bindingHandlers.numericValue = {\\n        init : function(element, valueAccessor, allBindings, data, context) {\\n            var stringified = ko.observable(ko.unwrap(valueAccessor()));\\n            stringified.subscribe(function(value) {\\n                var val = parseFloat(value);\\n                if (!isNaN(val)) {\\n                    valueAccessor()(val);\\n                }\\n            })\\n            valueAccessor().subscribe(function(value) {\\n                var str = JSON.stringify(value);\\n                if ((str == \\\"0\\\") && ([\\\"-0\\\", \\\"-0.\\\"].indexOf(stringified()) >= 0))\\n                     return;\\n                 if ([\\\"null\\\", \\\"\\\"].indexOf(str) >= 0)\\n                     return;\\n                stringified(str);\\n            })\\n            ko.applyBindingsToNode(element, { value: stringified, valueUpdate: allBindings.get('valueUpdate')}, context);\\n        }\\n    };\\n    var json_data = JSON.parse(\\\"{\\\\\\\"changes\\\\\\\":0,\\\\\\\"value\\\\\\\":51}\\\");\\n    var self = this;\\n    function AppViewModel() {\\n        for (var key in json_data) {\\n            var el = json_data[key];\\n            this[key] = Array.isArray(el) ? ko.observableArray(el) : ko.observable(el);\\n        }\\n        \\n        \\n        [this[\\\"changes\\\"].subscribe((function (val){!(this.valueFromJulia[\\\"changes\\\"]) ? (WebIO.setval({\\\"name\\\":\\\"changes\\\",\\\"scope\\\":\\\"knockout-component-083fe6af-a3a5-4652-9a72-1fcd52fb361e\\\",\\\"id\\\":\\\"ob_27\\\",\\\"type\\\":\\\"observable\\\"},val)) : undefined; return this.valueFromJulia[\\\"changes\\\"]=false}),self),this[\\\"value\\\"].subscribe((function (val){!(this.valueFromJulia[\\\"value\\\"]) ? (WebIO.setval({\\\"name\\\":\\\"value\\\",\\\"scope\\\":\\\"knockout-component-083fe6af-a3a5-4652-9a72-1fcd52fb361e\\\",\\\"id\\\":\\\"ob_26\\\",\\\"type\\\":\\\"observable\\\"},val)) : undefined; return this.valueFromJulia[\\\"value\\\"]=false}),self)]\\n        \\n    }\\n    self.model = new AppViewModel();\\n    self.valueFromJulia = {};\\n    for (var key in json_data) {\\n        self.valueFromJulia[key] = false;\\n    }\\n    ko.applyBindings(self.model, self.dom);\\n}\\n\")]),\"changes\"=>Any[JSString(\"(function (val){return (val!=this.model[\\\"changes\\\"]()) ? (this.valueFromJulia[\\\"changes\\\"]=true, this.model[\\\"changes\\\"](val)) : undefined})\")],\"value\"=>Any[JSString(\"(function (val){return (val!=this.model[\\\"value\\\"]()) ? (this.valueFromJulia[\\\"value\\\"]=true, this.model[\\\"value\\\"](val)) : undefined})\")]), ConnectionPool(Channel{Any}(sz_max:9223372036854775807,sz_curr:0), Set(AbstractConnection[]), Channel{AbstractConnection}(sz_max:32,sz_curr:0))), ##36#38{Scope,String}(Scope(\"knockout-component-083fe6af-a3a5-4652-9a72-1fcd52fb361e\", Node{DOM}(DOM(:html, :div), Any[Node{DOM}(DOM(:html, :div), Any[Node{DOM}(DOM(:html, :label), Any[\"n\"], Dict{Symbol,Any}(:className=>\"interact \",:style=>Dict{Any,Any}(:padding=>\"5px 10px 0px 10px\")), 1)], Dict{Symbol,Any}(:attributes=>Dict(\"style\"=>\"text-align:right;width:18%\")), 2), Node{DOM}(DOM(:html, :div), Any[Node{DOM}(DOM(:html, :input), Any[], Dict{Symbol,Any}(:max=>100,:min=>2,:attributes=>Dict{Any,Any}(:type=>\"range\",Symbol(\"data-bind\")=>\"numericValue: value, valueUpdate: 'input', event: {change : function () {this.changes(this.changes()+1)}}\",\"orient\"=>\"horizontal\"),:step=>1,:className=>\"slider slider is-fullwidth\",:style=>Dict{Any,Any}()), 0)], Dict{Symbol,Any}(:attributes=>Dict(\"style\"=>\"flex-grow:1; margin: 0 2%\")), 1), Node{DOM}(DOM(:html, :div), Any[Node{DOM}(DOM(:html, :p), Any[], Dict{Symbol,Any}(:attributes=>Dict(\"data-bind\"=>\"text: value\")), 0)], Dict{Symbol,Any}(:attributes=>Dict(\"style\"=>\"width:18%\")), 1)], Dict{Symbol,Any}(:attributes=>Dict(\"style\"=>\"display:flex; justify-content:center; align-items:center;\")), 7), Dict{String,Tuple{Observables.AbstractObservable,Union{Nothing, Bool}}}(\"changes\"=>(Observable{Int64}(#= circular reference @-8 =#), nothing),\"value\"=>(Observable{Int64}(\"ob_26\", 51, Any[SyncCallback(Scope(#= circular reference @-6 =#), SyncCallback(Scope(#= circular reference @-7 =#), ##36#38{Scope,String}(Scope(#= circular reference @-8 =#), \"value\"))), #g#15{##16#17{##109#112,Observable{Any}},Tuple{Observable{Int64}}}(##16#17{##109#112,Observable{Any}}(##109#112(), Observable{Any}(\"ob_28\", Plot{Plots.GRBackend() n=54}, Any[])), (Observable{Int64}(#= circular reference @-4 =#),))]), nothing)), Set(String[]), nothing, Any[\"knockout\"=>\"/home/shashi/.julia/packages/Knockout/JIqpG/src/../assets/knockout.js\", \"knockout_punches\"=>\"/home/shashi/.julia/packages/Knockout/JIqpG/src/../assets/knockout_punches.js\", \"/home/shashi/.julia/packages/InteractBase/Q4IkI/src/../assets/all.js\", \"/home/shashi/.julia/packages/InteractBase/Q4IkI/src/../assets/style.css\", \"/home/shashi/.julia/packages/InteractBulma/Ohu5Y/src/../assets/main.css\"], Dict{Any,Any}(\"_promises\"=>Dict{Any,Any}(\"importsLoaded\"=>Any[JSString(\"function (ko, koPunches) {\\n    ko.punches.enableAll();\\n    ko.bindingHandlers.numericValue = {\\n        init : function(element, valueAccessor, allBindings, data, context) {\\n            var stringified = ko.observable(ko.unwrap(valueAccessor()));\\n            stringified.subscribe(function(value) {\\n                var val = parseFloat(value);\\n                if (!isNaN(val)) {\\n                    valueAccessor()(val);\\n                }\\n            })\\n            valueAccessor().subscribe(function(value) {\\n                var str = JSON.stringify(value);\\n                if ((str == \\\"0\\\") && ([\\\"-0\\\", \\\"-0.\\\"].indexOf(stringified()) >= 0))\\n                     return;\\n                 if ([\\\"null\\\", \\\"\\\"].indexOf(str) >= 0)\\n                     return;\\n                stringified(str);\\n            })\\n            ko.applyBindingsToNode(element, { value: stringified, valueUpdate: allBindings.get('valueUpdate')}, context);\\n        }\\n    };\\n    var json_data = JSON.parse(\\\"{\\\\\\\"changes\\\\\\\":0,\\\\\\\"value\\\\\\\":51}\\\");\\n    var self = this;\\n    function AppViewModel() {\\n        for (var key in json_data) {\\n            var el = json_data[key];\\n            this[key] = Array.isArray(el) ? ko.observableArray(el) : ko.observable(el);\\n        }\\n        \\n        \\n        [this[\\\"changes\\\"].subscribe((function (val){!(this.valueFromJulia[\\\"changes\\\"]) ? (WebIO.setval({\\\"name\\\":\\\"changes\\\",\\\"scope\\\":\\\"knockout-component-083fe6af-a3a5-4652-9a72-1fcd52fb361e\\\",\\\"id\\\":\\\"ob_27\\\",\\\"type\\\":\\\"observable\\\"},val)) : undefined; return this.valueFromJulia[\\\"changes\\\"]=false}),self),this[\\\"value\\\"].subscribe((function (val){!(this.valueFromJulia[\\\"value\\\"]) ? (WebIO.setval({\\\"name\\\":\\\"value\\\",\\\"scope\\\":\\\"knockout-component-083fe6af-a3a5-4652-9a72-1fcd52fb361e\\\",\\\"id\\\":\\\"ob_26\\\",\\\"type\\\":\\\"observable\\\"},val)) : undefined; return this.valueFromJulia[\\\"value\\\"]=false}),self)]\\n        \\n    }\\n    self.model = new AppViewModel();\\n    self.valueFromJulia = {};\\n    for (var key in json_data) {\\n        self.valueFromJulia[key] = false;\\n    }\\n    ko.applyBindings(self.model, self.dom);\\n}\\n\")]),\"changes\"=>Any[JSString(\"(function (val){return (val!=this.model[\\\"changes\\\"]()) ? (this.valueFromJulia[\\\"changes\\\"]=true, this.model[\\\"changes\\\"](val)) : undefined})\")],\"value\"=>Any[JSString(\"(function (val){return (val!=this.model[\\\"value\\\"]()) ? (this.valueFromJulia[\\\"value\\\"]=true, this.model[\\\"value\\\"](val)) : undefined})\")]), ConnectionPool(Channel{Any}(sz_max:9223372036854775807,sz_curr:0), Set(AbstractConnection[]), Channel{AbstractConnection}(sz_max:32,sz_curr:0))), \"changes\")))]),:value=>Observable{Int64}(\"ob_26\", 51, Any[SyncCallback(Scope(\"knockout-component-083fe6af-a3a5-4652-9a72-1fcd52fb361e\", Node{DOM}(DOM(:html, :div), Any[Node{DOM}(DOM(:html, :div), Any[Node{DOM}(DOM(:html, :label), Any[\"n\"], Dict{Symbol,Any}(:className=>\"interact \",:style=>Dict{Any,Any}(:padding=>\"5px 10px 0px 10px\")), 1)], Dict{Symbol,Any}(:attributes=>Dict(\"style\"=>\"text-align:right;width:18%\")), 2), Node{DOM}(DOM(:html, :div), Any[Node{DOM}(DOM(:html, :input), Any[], Dict{Symbol,Any}(:max=>100,:min=>2,:attributes=>Dict{Any,Any}(:type=>\"range\",Symbol(\"data-bind\")=>\"numericValue: value, valueUpdate: 'input', event: {change : function () {this.changes(this.changes()+1)}}\",\"orient\"=>\"horizontal\"),:step=>1,:className=>\"slider slider is-fullwidth\",:style=>Dict{Any,Any}()), 0)], Dict{Symbol,Any}(:attributes=>Dict(\"style\"=>\"flex-grow:1; margin: 0 2%\")), 1), Node{DOM}(DOM(:html, :div), Any[Node{DOM}(DOM(:html, :p), Any[], Dict{Symbol,Any}(:attributes=>Dict(\"data-bind\"=>\"text: value\")), 0)], Dict{Symbol,Any}(:attributes=>Dict(\"style\"=>\"width:18%\")), 1)], Dict{Symbol,Any}(:attributes=>Dict(\"style\"=>\"display:flex; justify-content:center; align-items:center;\")), 7), Dict{String,Tuple{Observables.AbstractObservable,Union{Nothing, Bool}}}(\"changes\"=>(Observable{Int64}(\"ob_27\", 0, Any[SyncCallback(Scope(#= circular reference @-6 =#), SyncCallback(Scope(#= circular reference @-7 =#), ##36#38{Scope,String}(Scope(#= circular reference @-8 =#), \"changes\")))]), nothing),\"value\"=>(Observable{Int64}(#= circular reference @-6 =#), nothing)), Set(String[]), nothing, Any[\"knockout\"=>\"/home/shashi/.julia/packages/Knockout/JIqpG/src/../assets/knockout.js\", \"knockout_punches\"=>\"/home/shashi/.julia/packages/Knockout/JIqpG/src/../assets/knockout_punches.js\", \"/home/shashi/.julia/packages/InteractBase/Q4IkI/src/../assets/all.js\", \"/home/shashi/.julia/packages/InteractBase/Q4IkI/src/../assets/style.css\", \"/home/shashi/.julia/packages/InteractBulma/Ohu5Y/src/../assets/main.css\"], Dict{Any,Any}(\"_promises\"=>Dict{Any,Any}(\"importsLoaded\"=>Any[JSString(\"function (ko, koPunches) {\\n    ko.punches.enableAll();\\n    ko.bindingHandlers.numericValue = {\\n        init : function(element, valueAccessor, allBindings, data, context) {\\n            var stringified = ko.observable(ko.unwrap(valueAccessor()));\\n            stringified.subscribe(function(value) {\\n                var val = parseFloat(value);\\n                if (!isNaN(val)) {\\n                    valueAccessor()(val);\\n                }\\n            })\\n            valueAccessor().subscribe(function(value) {\\n                var str = JSON.stringify(value);\\n                if ((str == \\\"0\\\") && ([\\\"-0\\\", \\\"-0.\\\"].indexOf(stringified()) >= 0))\\n                     return;\\n                 if ([\\\"null\\\", \\\"\\\"].indexOf(str) >= 0)\\n                     return;\\n                stringified(str);\\n            })\\n            ko.applyBindingsToNode(element, { value: stringified, valueUpdate: allBindings.get('valueUpdate')}, context);\\n        }\\n    };\\n    var json_data = JSON.parse(\\\"{\\\\\\\"changes\\\\\\\":0,\\\\\\\"value\\\\\\\":51}\\\");\\n    var self = this;\\n    function AppViewModel() {\\n        for (var key in json_data) {\\n            var el = json_data[key];\\n            this[key] = Array.isArray(el) ? ko.observableArray(el) : ko.observable(el);\\n        }\\n        \\n        \\n        [this[\\\"changes\\\"].subscribe((function (val){!(this.valueFromJulia[\\\"changes\\\"]) ? (WebIO.setval({\\\"name\\\":\\\"changes\\\",\\\"scope\\\":\\\"knockout-component-083fe6af-a3a5-4652-9a72-1fcd52fb361e\\\",\\\"id\\\":\\\"ob_27\\\",\\\"type\\\":\\\"observable\\\"},val)) : undefined; return this.valueFromJulia[\\\"changes\\\"]=false}),self),this[\\\"value\\\"].subscribe((function (val){!(this.valueFromJulia[\\\"value\\\"]) ? (WebIO.setval({\\\"name\\\":\\\"value\\\",\\\"scope\\\":\\\"knockout-component-083fe6af-a3a5-4652-9a72-1fcd52fb361e\\\",\\\"id\\\":\\\"ob_26\\\",\\\"type\\\":\\\"observable\\\"},val)) : undefined; return this.valueFromJulia[\\\"value\\\"]=false}),self)]\\n        \\n    }\\n    self.model = new AppViewModel();\\n    self.valueFromJulia = {};\\n    for (var key in json_data) {\\n        self.valueFromJulia[key] = false;\\n    }\\n    ko.applyBindings(self.model, self.dom);\\n}\\n\")]),\"changes\"=>Any[JSString(\"(function (val){return (val!=this.model[\\\"changes\\\"]()) ? (this.valueFromJulia[\\\"changes\\\"]=true, this.model[\\\"changes\\\"](val)) : undefined})\")],\"value\"=>Any[JSString(\"(function (val){return (val!=this.model[\\\"value\\\"]()) ? (this.valueFromJulia[\\\"value\\\"]=true, this.model[\\\"value\\\"](val)) : undefined})\")]), ConnectionPool(Channel{Any}(sz_max:9223372036854775807,sz_curr:0), Set(AbstractConnection[]), Channel{AbstractConnection}(sz_max:32,sz_curr:0))), SyncCallback(Scope(\"knockout-component-083fe6af-a3a5-4652-9a72-1fcd52fb361e\", Node{DOM}(DOM(:html, :div), Any[Node{DOM}(DOM(:html, :div), Any[Node{DOM}(DOM(:html, :label), Any[\"n\"], Dict{Symbol,Any}(:className=>\"interact \",:style=>Dict{Any,Any}(:padding=>\"5px 10px 0px 10px\")), 1)], Dict{Symbol,Any}(:attributes=>Dict(\"style\"=>\"text-align:right;width:18%\")), 2), Node{DOM}(DOM(:html, :div), Any[Node{DOM}(DOM(:html, :input), Any[], Dict{Symbol,Any}(:max=>100,:min=>2,:attributes=>Dict{Any,Any}(:type=>\"range\",Symbol(\"data-bind\")=>\"numericValue: value, valueUpdate: 'input', event: {change : function () {this.changes(this.changes()+1)}}\",\"orient\"=>\"horizontal\"),:step=>1,:className=>\"slider slider is-fullwidth\",:style=>Dict{Any,Any}()), 0)], Dict{Symbol,Any}(:attributes=>Dict(\"style\"=>\"flex-grow:1; margin: 0 2%\")), 1), Node{DOM}(DOM(:html, :div), Any[Node{DOM}(DOM(:html, :p), Any[], Dict{Symbol,Any}(:attributes=>Dict(\"data-bind\"=>\"text: value\")), 0)], Dict{Symbol,Any}(:attributes=>Dict(\"style\"=>\"width:18%\")), 1)], Dict{Symbol,Any}(:attributes=>Dict(\"style\"=>\"display:flex; justify-content:center; align-items:center;\")), 7), Dict{String,Tuple{Observables.AbstractObservable,Union{Nothing, Bool}}}(\"changes\"=>(Observable{Int64}(\"ob_27\", 0, Any[SyncCallback(Scope(#= circular reference @-6 =#), SyncCallback(Scope(#= circular reference @-7 =#), ##36#38{Scope,String}(Scope(#= circular reference @-8 =#), \"changes\")))]), nothing),\"value\"=>(Observable{Int64}(#= circular reference @-7 =#), nothing)), Set(String[]), nothing, Any[\"knockout\"=>\"/home/shashi/.julia/packages/Knockout/JIqpG/src/../assets/knockout.js\", \"knockout_punches\"=>\"/home/shashi/.julia/packages/Knockout/JIqpG/src/../assets/knockout_punches.js\", \"/home/shashi/.julia/packages/InteractBase/Q4IkI/src/../assets/all.js\", \"/home/shashi/.julia/packages/InteractBase/Q4IkI/src/../assets/style.css\", \"/home/shashi/.julia/packages/InteractBulma/Ohu5Y/src/../assets/main.css\"], Dict{Any,Any}(\"_promises\"=>Dict{Any,Any}(\"importsLoaded\"=>Any[JSString(\"function (ko, koPunches) {\\n    ko.punches.enableAll();\\n    ko.bindingHandlers.numericValue = {\\n        init : function(element, valueAccessor, allBindings, data, context) {\\n            var stringified = ko.observable(ko.unwrap(valueAccessor()));\\n            stringified.subscribe(function(value) {\\n                var val = parseFloat(value);\\n                if (!isNaN(val)) {\\n                    valueAccessor()(val);\\n                }\\n            })\\n            valueAccessor().subscribe(function(value) {\\n                var str = JSON.stringify(value);\\n                if ((str == \\\"0\\\") && ([\\\"-0\\\", \\\"-0.\\\"].indexOf(stringified()) >= 0))\\n                     return;\\n                 if ([\\\"null\\\", \\\"\\\"].indexOf(str) >= 0)\\n                     return;\\n                stringified(str);\\n            })\\n            ko.applyBindingsToNode(element, { value: stringified, valueUpdate: allBindings.get('valueUpdate')}, context);\\n        }\\n    };\\n    var json_data = JSON.parse(\\\"{\\\\\\\"changes\\\\\\\":0,\\\\\\\"value\\\\\\\":51}\\\");\\n    var self = this;\\n    function AppViewModel() {\\n        for (var key in json_data) {\\n            var el = json_data[key];\\n            this[key] = Array.isArray(el) ? ko.observableArray(el) : ko.observable(el);\\n        }\\n        \\n        \\n        [this[\\\"changes\\\"].subscribe((function (val){!(this.valueFromJulia[\\\"changes\\\"]) ? (WebIO.setval({\\\"name\\\":\\\"changes\\\",\\\"scope\\\":\\\"knockout-component-083fe6af-a3a5-4652-9a72-1fcd52fb361e\\\",\\\"id\\\":\\\"ob_27\\\",\\\"type\\\":\\\"observable\\\"},val)) : undefined; return this.valueFromJulia[\\\"changes\\\"]=false}),self),this[\\\"value\\\"].subscribe((function (val){!(this.valueFromJulia[\\\"value\\\"]) ? (WebIO.setval({\\\"name\\\":\\\"value\\\",\\\"scope\\\":\\\"knockout-component-083fe6af-a3a5-4652-9a72-1fcd52fb361e\\\",\\\"id\\\":\\\"ob_26\\\",\\\"type\\\":\\\"observable\\\"},val)) : undefined; return this.valueFromJulia[\\\"value\\\"]=false}),self)]\\n        \\n    }\\n    self.model = new AppViewModel();\\n    self.valueFromJulia = {};\\n    for (var key in json_data) {\\n        self.valueFromJulia[key] = false;\\n    }\\n    ko.applyBindings(self.model, self.dom);\\n}\\n\")]),\"changes\"=>Any[JSString(\"(function (val){return (val!=this.model[\\\"changes\\\"]()) ? (this.valueFromJulia[\\\"changes\\\"]=true, this.model[\\\"changes\\\"](val)) : undefined})\")],\"value\"=>Any[JSString(\"(function (val){return (val!=this.model[\\\"value\\\"]()) ? (this.valueFromJulia[\\\"value\\\"]=true, this.model[\\\"value\\\"](val)) : undefined})\")]), ConnectionPool(Channel{Any}(sz_max:9223372036854775807,sz_curr:0), Set(AbstractConnection[]), Channel{AbstractConnection}(sz_max:32,sz_curr:0))), ##36#38{Scope,String}(Scope(\"knockout-component-083fe6af-a3a5-4652-9a72-1fcd52fb361e\", Node{DOM}(DOM(:html, :div), Any[Node{DOM}(DOM(:html, :div), Any[Node{DOM}(DOM(:html, :label), Any[\"n\"], Dict{Symbol,Any}(:className=>\"interact \",:style=>Dict{Any,Any}(:padding=>\"5px 10px 0px 10px\")), 1)], Dict{Symbol,Any}(:attributes=>Dict(\"style\"=>\"text-align:right;width:18%\")), 2), Node{DOM}(DOM(:html, :div), Any[Node{DOM}(DOM(:html, :input), Any[], Dict{Symbol,Any}(:max=>100,:min=>2,:attributes=>Dict{Any,Any}(:type=>\"range\",Symbol(\"data-bind\")=>\"numericValue: value, valueUpdate: 'input', event: {change : function () {this.changes(this.changes()+1)}}\",\"orient\"=>\"horizontal\"),:step=>1,:className=>\"slider slider is-fullwidth\",:style=>Dict{Any,Any}()), 0)], Dict{Symbol,Any}(:attributes=>Dict(\"style\"=>\"flex-grow:1; margin: 0 2%\")), 1), Node{DOM}(DOM(:html, :div), Any[Node{DOM}(DOM(:html, :p), Any[], Dict{Symbol,Any}(:attributes=>Dict(\"data-bind\"=>\"text: value\")), 0)], Dict{Symbol,Any}(:attributes=>Dict(\"style\"=>\"width:18%\")), 1)], Dict{Symbol,Any}(:attributes=>Dict(\"style\"=>\"display:flex; justify-content:center; align-items:center;\")), 7), Dict{String,Tuple{Observables.AbstractObservable,Union{Nothing, Bool}}}(\"changes\"=>(Observable{Int64}(\"ob_27\", 0, Any[SyncCallback(Scope(#= circular reference @-6 =#), SyncCallback(Scope(#= circular reference @-7 =#), ##36#38{Scope,String}(Scope(#= circular reference @-8 =#), \"changes\")))]), nothing),\"value\"=>(Observable{Int64}(#= circular reference @-8 =#), nothing)), Set(String[]), nothing, Any[\"knockout\"=>\"/home/shashi/.julia/packages/Knockout/JIqpG/src/../assets/knockout.js\", \"knockout_punches\"=>\"/home/shashi/.julia/packages/Knockout/JIqpG/src/../assets/knockout_punches.js\", \"/home/shashi/.julia/packages/InteractBase/Q4IkI/src/../assets/all.js\", \"/home/shashi/.julia/packages/InteractBase/Q4IkI/src/../assets/style.css\", \"/home/shashi/.julia/packages/InteractBulma/Ohu5Y/src/../assets/main.css\"], Dict{Any,Any}(\"_promises\"=>Dict{Any,Any}(\"importsLoaded\"=>Any[JSString(\"function (ko, koPunches) {\\n    ko.punches.enableAll();\\n    ko.bindingHandlers.numericValue = {\\n        init : function(element, valueAccessor, allBindings, data, context) {\\n            var stringified = ko.observable(ko.unwrap(valueAccessor()));\\n            stringified.subscribe(function(value) {\\n                var val = parseFloat(value);\\n                if (!isNaN(val)) {\\n                    valueAccessor()(val);\\n                }\\n            })\\n            valueAccessor().subscribe(function(value) {\\n                var str = JSON.stringify(value);\\n                if ((str == \\\"0\\\") && ([\\\"-0\\\", \\\"-0.\\\"].indexOf(stringified()) >= 0))\\n                     return;\\n                 if ([\\\"null\\\", \\\"\\\"].indexOf(str) >= 0)\\n                     return;\\n                stringified(str);\\n            })\\n            ko.applyBindingsToNode(element, { value: stringified, valueUpdate: allBindings.get('valueUpdate')}, context);\\n        }\\n    };\\n    var json_data = JSON.parse(\\\"{\\\\\\\"changes\\\\\\\":0,\\\\\\\"value\\\\\\\":51}\\\");\\n    var self = this;\\n    function AppViewModel() {\\n        for (var key in json_data) {\\n            var el = json_data[key];\\n            this[key] = Array.isArray(el) ? ko.observableArray(el) : ko.observable(el);\\n        }\\n        \\n        \\n        [this[\\\"changes\\\"].subscribe((function (val){!(this.valueFromJulia[\\\"changes\\\"]) ? (WebIO.setval({\\\"name\\\":\\\"changes\\\",\\\"scope\\\":\\\"knockout-component-083fe6af-a3a5-4652-9a72-1fcd52fb361e\\\",\\\"id\\\":\\\"ob_27\\\",\\\"type\\\":\\\"observable\\\"},val)) : undefined; return this.valueFromJulia[\\\"changes\\\"]=false}),self),this[\\\"value\\\"].subscribe((function (val){!(this.valueFromJulia[\\\"value\\\"]) ? (WebIO.setval({\\\"name\\\":\\\"value\\\",\\\"scope\\\":\\\"knockout-component-083fe6af-a3a5-4652-9a72-1fcd52fb361e\\\",\\\"id\\\":\\\"ob_26\\\",\\\"type\\\":\\\"observable\\\"},val)) : undefined; return this.valueFromJulia[\\\"value\\\"]=false}),self)]\\n        \\n    }\\n    self.model = new AppViewModel();\\n    self.valueFromJulia = {};\\n    for (var key in json_data) {\\n        self.valueFromJulia[key] = false;\\n    }\\n    ko.applyBindings(self.model, self.dom);\\n}\\n\")]),\"changes\"=>Any[JSString(\"(function (val){return (val!=this.model[\\\"changes\\\"]()) ? (this.valueFromJulia[\\\"changes\\\"]=true, this.model[\\\"changes\\\"](val)) : undefined})\")],\"value\"=>Any[JSString(\"(function (val){return (val!=this.model[\\\"value\\\"]()) ? (this.valueFromJulia[\\\"value\\\"]=true, this.model[\\\"value\\\"](val)) : undefined})\")]), ConnectionPool(Channel{Any}(sz_max:9223372036854775807,sz_curr:0), Set(AbstractConnection[]), Channel{AbstractConnection}(sz_max:32,sz_curr:0))), \"value\"))), #g#15{##16#17{##109#112,Observable{Any}},Tuple{Observable{Int64}}}(##16#17{##109#112,Observable{Any}}(##109#112(), Observable{Any}(\"ob_28\", Plot{Plots.GRBackend() n=54}, Any[])), (Observable{Int64}(#= circular reference @-4 =#),))])), Observable{Int64}(\"ob_26\", 51, Any[SyncCallback(Scope(\"knockout-component-083fe6af-a3a5-4652-9a72-1fcd52fb361e\", Node{DOM}(DOM(:html, :div), Any[Node{DOM}(DOM(:html, :div), Any[Node{DOM}(DOM(:html, :label), Any[\"n\"], Dict{Symbol,Any}(:className=>\"interact \",:style=>Dict{Any,Any}(:padding=>\"5px 10px 0px 10px\")), 1)], Dict{Symbol,Any}(:attributes=>Dict(\"style\"=>\"text-align:right;width:18%\")), 2), Node{DOM}(DOM(:html, :div), Any[Node{DOM}(DOM(:html, :input), Any[], Dict{Symbol,Any}(:max=>100,:min=>2,:attributes=>Dict{Any,Any}(:type=>\"range\",Symbol(\"data-bind\")=>\"numericValue: value, valueUpdate: 'input', event: {change : function () {this.changes(this.changes()+1)}}\",\"orient\"=>\"horizontal\"),:step=>1,:className=>\"slider slider is-fullwidth\",:style=>Dict{Any,Any}()), 0)], Dict{Symbol,Any}(:attributes=>Dict(\"style\"=>\"flex-grow:1; margin: 0 2%\")), 1), Node{DOM}(DOM(:html, :div), Any[Node{DOM}(DOM(:html, :p), Any[], Dict{Symbol,Any}(:attributes=>Dict(\"data-bind\"=>\"text: value\")), 0)], Dict{Symbol,Any}(:attributes=>Dict(\"style\"=>\"width:18%\")), 1)], Dict{Symbol,Any}(:attributes=>Dict(\"style\"=>\"display:flex; justify-content:center; align-items:center;\")), 7), Dict{String,Tuple{Observables.AbstractObservable,Union{Nothing, Bool}}}(\"changes\"=>(Observable{Int64}(\"ob_27\", 0, Any[SyncCallback(Scope(#= circular reference @-6 =#), SyncCallback(Scope(#= circular reference @-7 =#), ##36#38{Scope,String}(Scope(#= circular reference @-8 =#), \"changes\")))]), nothing),\"value\"=>(Observable{Int64}(#= circular reference @-6 =#), nothing)), Set(String[]), nothing, Any[\"knockout\"=>\"/home/shashi/.julia/packages/Knockout/JIqpG/src/../assets/knockout.js\", \"knockout_punches\"=>\"/home/shashi/.julia/packages/Knockout/JIqpG/src/../assets/knockout_punches.js\", \"/home/shashi/.julia/packages/InteractBase/Q4IkI/src/../assets/all.js\", \"/home/shashi/.julia/packages/InteractBase/Q4IkI/src/../assets/style.css\", \"/home/shashi/.julia/packages/InteractBulma/Ohu5Y/src/../assets/main.css\"], Dict{Any,Any}(\"_promises\"=>Dict{Any,Any}(\"importsLoaded\"=>Any[JSString(\"function (ko, koPunches) {\\n    ko.punches.enableAll();\\n    ko.bindingHandlers.numericValue = {\\n        init : function(element, valueAccessor, allBindings, data, context) {\\n            var stringified = ko.observable(ko.unwrap(valueAccessor()));\\n            stringified.subscribe(function(value) {\\n                var val = parseFloat(value);\\n                if (!isNaN(val)) {\\n                    valueAccessor()(val);\\n                }\\n            })\\n            valueAccessor().subscribe(function(value) {\\n                var str = JSON.stringify(value);\\n                if ((str == \\\"0\\\") && ([\\\"-0\\\", \\\"-0.\\\"].indexOf(stringified()) >= 0))\\n                     return;\\n                 if ([\\\"null\\\", \\\"\\\"].indexOf(str) >= 0)\\n                     return;\\n                stringified(str);\\n            })\\n            ko.applyBindingsToNode(element, { value: stringified, valueUpdate: allBindings.get('valueUpdate')}, context);\\n        }\\n    };\\n    var json_data = JSON.parse(\\\"{\\\\\\\"changes\\\\\\\":0,\\\\\\\"value\\\\\\\":51}\\\");\\n    var self = this;\\n    function AppViewModel() {\\n        for (var key in json_data) {\\n            var el = json_data[key];\\n            this[key] = Array.isArray(el) ? ko.observableArray(el) : ko.observable(el);\\n        }\\n        \\n        \\n        [this[\\\"changes\\\"].subscribe((function (val){!(this.valueFromJulia[\\\"changes\\\"]) ? (WebIO.setval({\\\"name\\\":\\\"changes\\\",\\\"scope\\\":\\\"knockout-component-083fe6af-a3a5-4652-9a72-1fcd52fb361e\\\",\\\"id\\\":\\\"ob_27\\\",\\\"type\\\":\\\"observable\\\"},val)) : undefined; return this.valueFromJulia[\\\"changes\\\"]=false}),self),this[\\\"value\\\"].subscribe((function (val){!(this.valueFromJulia[\\\"value\\\"]) ? (WebIO.setval({\\\"name\\\":\\\"value\\\",\\\"scope\\\":\\\"knockout-component-083fe6af-a3a5-4652-9a72-1fcd52fb361e\\\",\\\"id\\\":\\\"ob_26\\\",\\\"type\\\":\\\"observable\\\"},val)) : undefined; return this.valueFromJulia[\\\"value\\\"]=false}),self)]\\n        \\n    }\\n    self.model = new AppViewModel();\\n    self.valueFromJulia = {};\\n    for (var key in json_data) {\\n        self.valueFromJulia[key] = false;\\n    }\\n    ko.applyBindings(self.model, self.dom);\\n}\\n\")]),\"changes\"=>Any[JSString(\"(function (val){return (val!=this.model[\\\"changes\\\"]()) ? (this.valueFromJulia[\\\"changes\\\"]=true, this.model[\\\"changes\\\"](val)) : undefined})\")],\"value\"=>Any[JSString(\"(function (val){return (val!=this.model[\\\"value\\\"]()) ? (this.valueFromJulia[\\\"value\\\"]=true, this.model[\\\"value\\\"](val)) : undefined})\")]), ConnectionPool(Channel{Any}(sz_max:9223372036854775807,sz_curr:0), Set(AbstractConnection[]), Channel{AbstractConnection}(sz_max:32,sz_curr:0))), SyncCallback(Scope(\"knockout-component-083fe6af-a3a5-4652-9a72-1fcd52fb361e\", Node{DOM}(DOM(:html, :div), Any[Node{DOM}(DOM(:html, :div), Any[Node{DOM}(DOM(:html, :label), Any[\"n\"], Dict{Symbol,Any}(:className=>\"interact \",:style=>Dict{Any,Any}(:padding=>\"5px 10px 0px 10px\")), 1)], Dict{Symbol,Any}(:attributes=>Dict(\"style\"=>\"text-align:right;width:18%\")), 2), Node{DOM}(DOM(:html, :div), Any[Node{DOM}(DOM(:html, :input), Any[], Dict{Symbol,Any}(:max=>100,:min=>2,:attributes=>Dict{Any,Any}(:type=>\"range\",Symbol(\"data-bind\")=>\"numericValue: value, valueUpdate: 'input', event: {change : function () {this.changes(this.changes()+1)}}\",\"orient\"=>\"horizontal\"),:step=>1,:className=>\"slider slider is-fullwidth\",:style=>Dict{Any,Any}()), 0)], Dict{Symbol,Any}(:attributes=>Dict(\"style\"=>\"flex-grow:1; margin: 0 2%\")), 1), Node{DOM}(DOM(:html, :div), Any[Node{DOM}(DOM(:html, :p), Any[], Dict{Symbol,Any}(:attributes=>Dict(\"data-bind\"=>\"text: value\")), 0)], Dict{Symbol,Any}(:attributes=>Dict(\"style\"=>\"width:18%\")), 1)], Dict{Symbol,Any}(:attributes=>Dict(\"style\"=>\"display:flex; justify-content:center; align-items:center;\")), 7), Dict{String,Tuple{Observables.AbstractObservable,Union{Nothing, Bool}}}(\"changes\"=>(Observable{Int64}(\"ob_27\", 0, Any[SyncCallback(Scope(#= circular reference @-6 =#), SyncCallback(Scope(#= circular reference @-7 =#), ##36#38{Scope,String}(Scope(#= circular reference @-8 =#), \"changes\")))]), nothing),\"value\"=>(Observable{Int64}(#= circular reference @-7 =#), nothing)), Set(String[]), nothing, Any[\"knockout\"=>\"/home/shashi/.julia/packages/Knockout/JIqpG/src/../assets/knockout.js\", \"knockout_punches\"=>\"/home/shashi/.julia/packages/Knockout/JIqpG/src/../assets/knockout_punches.js\", \"/home/shashi/.julia/packages/InteractBase/Q4IkI/src/../assets/all.js\", \"/home/shashi/.julia/packages/InteractBase/Q4IkI/src/../assets/style.css\", \"/home/shashi/.julia/packages/InteractBulma/Ohu5Y/src/../assets/main.css\"], Dict{Any,Any}(\"_promises\"=>Dict{Any,Any}(\"importsLoaded\"=>Any[JSString(\"function (ko, koPunches) {\\n    ko.punches.enableAll();\\n    ko.bindingHandlers.numericValue = {\\n        init : function(element, valueAccessor, allBindings, data, context) {\\n            var stringified = ko.observable(ko.unwrap(valueAccessor()));\\n            stringified.subscribe(function(value) {\\n                var val = parseFloat(value);\\n                if (!isNaN(val)) {\\n                    valueAccessor()(val);\\n                }\\n            })\\n            valueAccessor().subscribe(function(value) {\\n                var str = JSON.stringify(value);\\n                if ((str == \\\"0\\\") && ([\\\"-0\\\", \\\"-0.\\\"].indexOf(stringified()) >= 0))\\n                     return;\\n                 if ([\\\"null\\\", \\\"\\\"].indexOf(str) >= 0)\\n                     return;\\n                stringified(str);\\n            })\\n            ko.applyBindingsToNode(element, { value: stringified, valueUpdate: allBindings.get('valueUpdate')}, context);\\n        }\\n    };\\n    var json_data = JSON.parse(\\\"{\\\\\\\"changes\\\\\\\":0,\\\\\\\"value\\\\\\\":51}\\\");\\n    var self = this;\\n    function AppViewModel() {\\n        for (var key in json_data) {\\n            var el = json_data[key];\\n            this[key] = Array.isArray(el) ? ko.observableArray(el) : ko.observable(el);\\n        }\\n        \\n        \\n        [this[\\\"changes\\\"].subscribe((function (val){!(this.valueFromJulia[\\\"changes\\\"]) ? (WebIO.setval({\\\"name\\\":\\\"changes\\\",\\\"scope\\\":\\\"knockout-component-083fe6af-a3a5-4652-9a72-1fcd52fb361e\\\",\\\"id\\\":\\\"ob_27\\\",\\\"type\\\":\\\"observable\\\"},val)) : undefined; return this.valueFromJulia[\\\"changes\\\"]=false}),self),this[\\\"value\\\"].subscribe((function (val){!(this.valueFromJulia[\\\"value\\\"]) ? (WebIO.setval({\\\"name\\\":\\\"value\\\",\\\"scope\\\":\\\"knockout-component-083fe6af-a3a5-4652-9a72-1fcd52fb361e\\\",\\\"id\\\":\\\"ob_26\\\",\\\"type\\\":\\\"observable\\\"},val)) : undefined; return this.valueFromJulia[\\\"value\\\"]=false}),self)]\\n        \\n    }\\n    self.model = new AppViewModel();\\n    self.valueFromJulia = {};\\n    for (var key in json_data) {\\n        self.valueFromJulia[key] = false;\\n    }\\n    ko.applyBindings(self.model, self.dom);\\n}\\n\")]),\"changes\"=>Any[JSString(\"(function (val){return (val!=this.model[\\\"changes\\\"]()) ? (this.valueFromJulia[\\\"changes\\\"]=true, this.model[\\\"changes\\\"](val)) : undefined})\")],\"value\"=>Any[JSString(\"(function (val){return (val!=this.model[\\\"value\\\"]()) ? (this.valueFromJulia[\\\"value\\\"]=true, this.model[\\\"value\\\"](val)) : undefined})\")]), ConnectionPool(Channel{Any}(sz_max:9223372036854775807,sz_curr:0), Set(AbstractConnection[]), Channel{AbstractConnection}(sz_max:32,sz_curr:0))), ##36#38{Scope,String}(Scope(\"knockout-component-083fe6af-a3a5-4652-9a72-1fcd52fb361e\", Node{DOM}(DOM(:html, :div), Any[Node{DOM}(DOM(:html, :div), Any[Node{DOM}(DOM(:html, :label), Any[\"n\"], Dict{Symbol,Any}(:className=>\"interact \",:style=>Dict{Any,Any}(:padding=>\"5px 10px 0px 10px\")), 1)], Dict{Symbol,Any}(:attributes=>Dict(\"style\"=>\"text-align:right;width:18%\")), 2), Node{DOM}(DOM(:html, :div), Any[Node{DOM}(DOM(:html, :input), Any[], Dict{Symbol,Any}(:max=>100,:min=>2,:attributes=>Dict{Any,Any}(:type=>\"range\",Symbol(\"data-bind\")=>\"numericValue: value, valueUpdate: 'input', event: {change : function () {this.changes(this.changes()+1)}}\",\"orient\"=>\"horizontal\"),:step=>1,:className=>\"slider slider is-fullwidth\",:style=>Dict{Any,Any}()), 0)], Dict{Symbol,Any}(:attributes=>Dict(\"style\"=>\"flex-grow:1; margin: 0 2%\")), 1), Node{DOM}(DOM(:html, :div), Any[Node{DOM}(DOM(:html, :p), Any[], Dict{Symbol,Any}(:attributes=>Dict(\"data-bind\"=>\"text: value\")), 0)], Dict{Symbol,Any}(:attributes=>Dict(\"style\"=>\"width:18%\")), 1)], Dict{Symbol,Any}(:attributes=>Dict(\"style\"=>\"display:flex; justify-content:center; align-items:center;\")), 7), Dict{String,Tuple{Observables.AbstractObservable,Union{Nothing, Bool}}}(\"changes\"=>(Observable{Int64}(\"ob_27\", 0, Any[SyncCallback(Scope(#= circular reference @-6 =#), SyncCallback(Scope(#= circular reference @-7 =#), ##36#38{Scope,String}(Scope(#= circular reference @-8 =#), \"changes\")))]), nothing),\"value\"=>(Observable{Int64}(#= circular reference @-8 =#), nothing)), Set(String[]), nothing, Any[\"knockout\"=>\"/home/shashi/.julia/packages/Knockout/JIqpG/src/../assets/knockout.js\", \"knockout_punches\"=>\"/home/shashi/.julia/packages/Knockout/JIqpG/src/../assets/knockout_punches.js\", \"/home/shashi/.julia/packages/InteractBase/Q4IkI/src/../assets/all.js\", \"/home/shashi/.julia/packages/InteractBase/Q4IkI/src/../assets/style.css\", \"/home/shashi/.julia/packages/InteractBulma/Ohu5Y/src/../assets/main.css\"], Dict{Any,Any}(\"_promises\"=>Dict{Any,Any}(\"importsLoaded\"=>Any[JSString(\"function (ko, koPunches) {\\n    ko.punches.enableAll();\\n    ko.bindingHandlers.numericValue = {\\n        init : function(element, valueAccessor, allBindings, data, context) {\\n            var stringified = ko.observable(ko.unwrap(valueAccessor()));\\n            stringified.subscribe(function(value) {\\n                var val = parseFloat(value);\\n                if (!isNaN(val)) {\\n                    valueAccessor()(val);\\n                }\\n            })\\n            valueAccessor().subscribe(function(value) {\\n                var str = JSON.stringify(value);\\n                if ((str == \\\"0\\\") && ([\\\"-0\\\", \\\"-0.\\\"].indexOf(stringified()) >= 0))\\n                     return;\\n                 if ([\\\"null\\\", \\\"\\\"].indexOf(str) >= 0)\\n                     return;\\n                stringified(str);\\n            })\\n            ko.applyBindingsToNode(element, { value: stringified, valueUpdate: allBindings.get('valueUpdate')}, context);\\n        }\\n    };\\n    var json_data = JSON.parse(\\\"{\\\\\\\"changes\\\\\\\":0,\\\\\\\"value\\\\\\\":51}\\\");\\n    var self = this;\\n    function AppViewModel() {\\n        for (var key in json_data) {\\n            var el = json_data[key];\\n            this[key] = Array.isArray(el) ? ko.observableArray(el) : ko.observable(el);\\n        }\\n        \\n        \\n        [this[\\\"changes\\\"].subscribe((function (val){!(this.valueFromJulia[\\\"changes\\\"]) ? (WebIO.setval({\\\"name\\\":\\\"changes\\\",\\\"scope\\\":\\\"knockout-component-083fe6af-a3a5-4652-9a72-1fcd52fb361e\\\",\\\"id\\\":\\\"ob_27\\\",\\\"type\\\":\\\"observable\\\"},val)) : undefined; return this.valueFromJulia[\\\"changes\\\"]=false}),self),this[\\\"value\\\"].subscribe((function (val){!(this.valueFromJulia[\\\"value\\\"]) ? (WebIO.setval({\\\"name\\\":\\\"value\\\",\\\"scope\\\":\\\"knockout-component-083fe6af-a3a5-4652-9a72-1fcd52fb361e\\\",\\\"id\\\":\\\"ob_26\\\",\\\"type\\\":\\\"observable\\\"},val)) : undefined; return this.valueFromJulia[\\\"value\\\"]=false}),self)]\\n        \\n    }\\n    self.model = new AppViewModel();\\n    self.valueFromJulia = {};\\n    for (var key in json_data) {\\n        self.valueFromJulia[key] = false;\\n    }\\n    ko.applyBindings(self.model, self.dom);\\n}\\n\")]),\"changes\"=>Any[JSString(\"(function (val){return (val!=this.model[\\\"changes\\\"]()) ? (this.valueFromJulia[\\\"changes\\\"]=true, this.model[\\\"changes\\\"](val)) : undefined})\")],\"value\"=>Any[JSString(\"(function (val){return (val!=this.model[\\\"value\\\"]()) ? (this.valueFromJulia[\\\"value\\\"]=true, this.model[\\\"value\\\"](val)) : undefined})\")]), ConnectionPool(Channel{Any}(sz_max:9223372036854775807,sz_curr:0), Set(AbstractConnection[]), Channel{AbstractConnection}(sz_max:32,sz_curr:0))), \"value\"))), #g#15{##16#17{##109#112,Observable{Any}},Tuple{Observable{Int64}}}(##16#17{##109#112,Observable{Any}}(##109#112(), Observable{Any}(\"ob_28\", Plot{Plots.GRBackend() n=54}, Any[])), (Observable{Int64}(#= circular reference @-4 =#),))]), Scope(\"knockout-component-083fe6af-a3a5-4652-9a72-1fcd52fb361e\", Node{DOM}(DOM(:html, :div), Any[Node{DOM}(DOM(:html, :div), Any[Node{DOM}(DOM(:html, :label), Any[\"n\"], Dict{Symbol,Any}(:className=>\"interact \",:style=>Dict{Any,Any}(:padding=>\"5px 10px 0px 10px\")), 1)], Dict{Symbol,Any}(:attributes=>Dict(\"style\"=>\"text-align:right;width:18%\")), 2), Node{DOM}(DOM(:html, :div), Any[Node{DOM}(DOM(:html, :input), Any[], Dict{Symbol,Any}(:max=>100,:min=>2,:attributes=>Dict{Any,Any}(:type=>\"range\",Symbol(\"data-bind\")=>\"numericValue: value, valueUpdate: 'input', event: {change : function () {this.changes(this.changes()+1)}}\",\"orient\"=>\"horizontal\"),:step=>1,:className=>\"slider slider is-fullwidth\",:style=>Dict{Any,Any}()), 0)], Dict{Symbol,Any}(:attributes=>Dict(\"style\"=>\"flex-grow:1; margin: 0 2%\")), 1), Node{DOM}(DOM(:html, :div), Any[Node{DOM}(DOM(:html, :p), Any[], Dict{Symbol,Any}(:attributes=>Dict(\"data-bind\"=>\"text: value\")), 0)], Dict{Symbol,Any}(:attributes=>Dict(\"style\"=>\"width:18%\")), 1)], Dict{Symbol,Any}(:attributes=>Dict(\"style\"=>\"display:flex; justify-content:center; align-items:center;\")), 7), Dict{String,Tuple{Observables.AbstractObservable,Union{Nothing, Bool}}}(\"changes\"=>(Observable{Int64}(\"ob_27\", 0, Any[SyncCallback(Scope(#= circular reference @-6 =#), SyncCallback(Scope(#= circular reference @-7 =#), ##36#38{Scope,String}(Scope(#= circular reference @-8 =#), \"changes\")))]), nothing),\"value\"=>(Observable{Int64}(\"ob_26\", 51, Any[SyncCallback(Scope(#= circular reference @-6 =#), SyncCallback(Scope(#= circular reference @-7 =#), ##36#38{Scope,String}(Scope(#= circular reference @-8 =#), \"value\"))), #g#15{##16#17{##109#112,Observable{Any}},Tuple{Observable{Int64}}}(##16#17{##109#112,Observable{Any}}(##109#112(), Observable{Any}(\"ob_28\", Plot{Plots.GRBackend() n=54}, Any[])), (Observable{Int64}(#= circular reference @-4 =#),))]), nothing)), Set(String[]), nothing, Any[\"knockout\"=>\"/home/shashi/.julia/packages/Knockout/JIqpG/src/../assets/knockout.js\", \"knockout_punches\"=>\"/home/shashi/.julia/packages/Knockout/JIqpG/src/../assets/knockout_punches.js\", \"/home/shashi/.julia/packages/InteractBase/Q4IkI/src/../assets/all.js\", \"/home/shashi/.julia/packages/InteractBase/Q4IkI/src/../assets/style.css\", \"/home/shashi/.julia/packages/InteractBulma/Ohu5Y/src/../assets/main.css\"], Dict{Any,Any}(\"_promises\"=>Dict{Any,Any}(\"importsLoaded\"=>Any[JSString(\"function (ko, koPunches) {\\n    ko.punches.enableAll();\\n    ko.bindingHandlers.numericValue = {\\n        init : function(element, valueAccessor, allBindings, data, context) {\\n            var stringified = ko.observable(ko.unwrap(valueAccessor()));\\n            stringified.subscribe(function(value) {\\n                var val = parseFloat(value);\\n                if (!isNaN(val)) {\\n                    valueAccessor()(val);\\n                }\\n            })\\n            valueAccessor().subscribe(function(value) {\\n                var str = JSON.stringify(value);\\n                if ((str == \\\"0\\\") && ([\\\"-0\\\", \\\"-0.\\\"].indexOf(stringified()) >= 0))\\n                     return;\\n                 if ([\\\"null\\\", \\\"\\\"].indexOf(str) >= 0)\\n                     return;\\n                stringified(str);\\n            })\\n            ko.applyBindingsToNode(element, { value: stringified, valueUpdate: allBindings.get('valueUpdate')}, context);\\n        }\\n    };\\n    var json_data = JSON.parse(\\\"{\\\\\\\"changes\\\\\\\":0,\\\\\\\"value\\\\\\\":51}\\\");\\n    var self = this;\\n    function AppViewModel() {\\n        for (var key in json_data) {\\n            var el = json_data[key];\\n            this[key] = Array.isArray(el) ? ko.observableArray(el) : ko.observable(el);\\n        }\\n        \\n        \\n        [this[\\\"changes\\\"].subscribe((function (val){!(this.valueFromJulia[\\\"changes\\\"]) ? (WebIO.setval({\\\"name\\\":\\\"changes\\\",\\\"scope\\\":\\\"knockout-component-083fe6af-a3a5-4652-9a72-1fcd52fb361e\\\",\\\"id\\\":\\\"ob_27\\\",\\\"type\\\":\\\"observable\\\"},val)) : undefined; return this.valueFromJulia[\\\"changes\\\"]=false}),self),this[\\\"value\\\"].subscribe((function (val){!(this.valueFromJulia[\\\"value\\\"]) ? (WebIO.setval({\\\"name\\\":\\\"value\\\",\\\"scope\\\":\\\"knockout-component-083fe6af-a3a5-4652-9a72-1fcd52fb361e\\\",\\\"id\\\":\\\"ob_26\\\",\\\"type\\\":\\\"observable\\\"},val)) : undefined; return this.valueFromJulia[\\\"value\\\"]=false}),self)]\\n        \\n    }\\n    self.model = new AppViewModel();\\n    self.valueFromJulia = {};\\n    for (var key in json_data) {\\n        self.valueFromJulia[key] = false;\\n    }\\n    ko.applyBindings(self.model, self.dom);\\n}\\n\")]),\"changes\"=>Any[JSString(\"(function (val){return (val!=this.model[\\\"changes\\\"]()) ? (this.valueFromJulia[\\\"changes\\\"]=true, this.model[\\\"changes\\\"](val)) : undefined})\")],\"value\"=>Any[JSString(\"(function (val){return (val!=this.model[\\\"value\\\"]()) ? (this.valueFromJulia[\\\"value\\\"]=true, this.model[\\\"value\\\"](val)) : undefined})\")]), ConnectionPool(Channel{Any}(sz_max:9223372036854775807,sz_curr:0), Set(AbstractConnection[]), Channel{AbstractConnection}(sz_max:32,sz_curr:0))), ##52#53{#dom#13{##dom#11#12{Dict{Any,Any},DOM}},typeof(scope)}(#dom#13{##dom#11#12{Dict{Any,Any},DOM}}(##dom#11#12{Dict{Any,Any},DOM}(Dict{Any,Any}(:className=>\"field\"), DOM(:html, :div))), scope))), Observable{Any}(\"ob_28\", Plot{Plots.GRBackend() n=54}, Any[]), nothing, getfield(Main, Symbol(\"##111#114\")){Observable{Any}}(Observable{Any}(\"ob_28\", Plot{Plots.GRBackend() n=54}, Any[])))"
      ]
     },
     "execution_count": 50,
     "metadata": {
      "application/vnd.webio.node+json": {
       "kernelId": null
      }
     },
     "output_type": "execute_result"
    }
   ],
   "source": [
    "@manipulate for n in 2:1:100\n",
    "\n",
    "#n = 100\n",
    "    plot(x->sqrt(1-x^2), -1, 1,ylim=(0,1), aspect_ratio=1,label=\"\")\n",
    "    \n",
    "    θs = LinRange(0, π, n)\n",
    "    c,s = cos.(θs), sin.(θs)\n",
    "    \n",
    "    for i=1:length(c)     \n",
    "        plot!([c[i], c[i]], [0, s[i]], ls=:dot, legend=false, label=\"T$i\")\n",
    "    end\n",
    "    \n",
    "    scatter!(c, s, markersize=1,label=\"\")\n",
    "    scatter!(c, fill(0., length(s)), markersize=1,label=\"\")\n",
    "end"
   ]
  },
  {
   "cell_type": "code",
   "execution_count": 53,
   "metadata": {},
   "outputs": [
    {
     "data": {
      "text/plain": [
       "chebyshev_points (generic function with 1 method)"
      ]
     },
     "execution_count": 53,
     "metadata": {},
     "output_type": "execute_result"
    }
   ],
   "source": [
    "chebyshev_points(n) = cos.(LinRange(0, π, n))"
   ]
  },
  {
   "cell_type": "markdown",
   "metadata": {},
   "source": [
    "Interpolating in these points is **well-behaved**:"
   ]
  },
  {
   "cell_type": "code",
   "execution_count": 54,
   "metadata": {},
   "outputs": [
    {
     "data": {
      "text/plain": [
       "11-element Array{Float64,1}:\n",
       "  1.0                  \n",
       "  0.9510565162951535   \n",
       "  0.8090169943749475   \n",
       "  0.5877852522924731   \n",
       "  0.30901699437494745  \n",
       "  6.123233995736766e-17\n",
       " -0.30901699437494734  \n",
       " -0.587785252292473    \n",
       " -0.8090169943749473   \n",
       " -0.9510565162951535   \n",
       " -1.0                  "
      ]
     },
     "execution_count": 54,
     "metadata": {},
     "output_type": "execute_result"
    }
   ],
   "source": [
    "chebyshev_points(11)"
   ]
  },
  {
   "cell_type": "code",
   "execution_count": 55,
   "metadata": {},
   "outputs": [],
   "source": [
    "using Interact"
   ]
  },
  {
   "cell_type": "code",
   "execution_count": null,
   "metadata": {},
   "outputs": [],
   "source": [
    "h(x) = 1 / (1 + 25x^2)  # the Runge function\n",
    "\n",
    "@manipulate for n in 2:100\n",
    "    \n",
    "#n = 5\n",
    "\n",
    "    x = chebyshev_points(n)\n",
    "    p, y = interpolate(h, x)\n",
    "\n",
    "    plot(h, lo, hi, label=\"Runge function\")\n",
    "    scatter!(x, y)\n",
    "    plot!(p, lo, hi)\n",
    "end"
   ]
  },
  {
   "cell_type": "markdown",
   "metadata": {},
   "source": [
    "So we see that we should choose the polynomial with which to approximate a function $f$ by **interpolation in Chebyshev points**. The question is how many points we should use?"
   ]
  },
  {
   "cell_type": "code",
   "execution_count": null,
   "metadata": {},
   "outputs": [],
   "source": [
    "interpolate(h, chebyshev_points(500))"
   ]
  },
  {
   "cell_type": "code",
   "execution_count": 37,
   "metadata": {},
   "outputs": [],
   "source": [
    "pp, yy, aa = interpolate(exp, big.(chebyshev_points(200)));"
   ]
  },
  {
   "cell_type": "code",
   "execution_count": 38,
   "metadata": {},
   "outputs": [
    {
     "data": {
      "text/plain": [
       "200-element Array{Float64,1}:\n",
       "  1.0        \n",
       "  1.0        \n",
       "  0.5        \n",
       "  0.166667   \n",
       "  0.0416667  \n",
       "  0.00833333 \n",
       "  0.00138889 \n",
       "  0.000198413\n",
       "  2.48016e-5 \n",
       "  2.75573e-6 \n",
       "  2.75573e-7 \n",
       "  2.50521e-8 \n",
       "  2.08768e-9 \n",
       "  ⋮          \n",
       "  9.74733e-15\n",
       " -4.84124e-13\n",
       " -1.41423e-15\n",
       "  5.22069e-14\n",
       "  1.5065e-16 \n",
       " -4.4323e-15 \n",
       " -1.13443e-17\n",
       "  2.7779e-16 \n",
       "  5.44343e-19\n",
       " -1.14268e-17\n",
       " -1.25871e-20\n",
       "  2.31416e-19"
      ]
     },
     "execution_count": 38,
     "metadata": {},
     "output_type": "execute_result"
    }
   ],
   "source": [
    "Float64.(aa)"
   ]
  },
  {
   "cell_type": "markdown",
   "metadata": {},
   "source": [
    "## Approximation by Chebyshev polynomials"
   ]
  },
  {
   "cell_type": "markdown",
   "metadata": {},
   "source": [
    "It turns out that the standard monomial basis ($1$, $x$, $x^2$, ...) is **not** a good basis for polynomial interpolation. A good basis is the set of **Chebyshev polynomials**, defined by\n",
    "\n",
    "$$T_n(x) = \\mathrm{Re}(z^n) = \\cos(n \\theta) = \\cos(n \\cos^{-1}(x))$$"
   ]
  },
  {
   "cell_type": "code",
   "execution_count": null,
   "metadata": {},
   "outputs": [],
   "source": [
    "T(n) = x -> cos(n * acos(x))  # a simple, but unintuitive way to define these in Julia"
   ]
  },
  {
   "cell_type": "markdown",
   "metadata": {},
   "source": [
    "We can do polynomial interpolation using Chebyshev polynomials by writing a similar formula to that above:\n",
    "\n",
    "$$f(x) = \\sum_n \\alpha_n T_n(x)$$\n",
    "\n",
    "and again doing naive interpolation:"
   ]
  },
  {
   "cell_type": "code",
   "execution_count": null,
   "metadata": {},
   "outputs": [],
   "source": [
    "chebyshev_points(n) = cos.(LinRange(0, π, n))"
   ]
  },
  {
   "cell_type": "code",
   "execution_count": null,
   "metadata": {},
   "outputs": [],
   "source": [
    "function chebyshev_interpolate(f, xx)\n",
    "    lo, hi = -1.0, 1.0\n",
    "    \n",
    "    n = length(xx) - 1\n",
    "\n",
    "    yy = [f(x) for x in xx]\n",
    "\n",
    "    M = [T(i)(x) for x in xx, i in 0:n]\n",
    "    \n",
    "\n",
    "    aa = M \\ yy\n",
    "\n",
    "    pp = sum(aa[i]*(x->x^(i-1)) for i in 1:length(aa))\n",
    "        \n",
    "    return pp, yy, aa\n",
    "end"
   ]
  },
  {
   "cell_type": "code",
   "execution_count": null,
   "metadata": {},
   "outputs": [],
   "source": [
    "xx = chebyshev_points(25)\n",
    "pp, yy, aa = chebyshev_interpolate(exp, xx)"
   ]
  },
  {
   "cell_type": "code",
   "execution_count": null,
   "metadata": {},
   "outputs": [],
   "source": [
    "aa"
   ]
  },
  {
   "cell_type": "markdown",
   "metadata": {},
   "source": [
    "The point is that the coefficients decay quickly (until they reach something of order machine epsilon) for smooth functions:"
   ]
  },
  {
   "cell_type": "code",
   "execution_count": null,
   "metadata": {},
   "outputs": [],
   "source": [
    "scatter(abs.(aa), yscale=:log10)"
   ]
  },
  {
   "cell_type": "code",
   "execution_count": null,
   "metadata": {},
   "outputs": [],
   "source": [
    "n = 11\n",
    "xx = chebyshev_points(n)\n",
    "ff = exp.(xx)"
   ]
  },
  {
   "cell_type": "code",
   "execution_count": null,
   "metadata": {},
   "outputs": [],
   "source": [
    "real(fft(ff)) / (n/2)"
   ]
  },
  {
   "cell_type": "markdown",
   "metadata": {},
   "source": [
    "The idea is thus to adaptively choose the number of points at which the function is sampled, until the tail of the  coefficients in the Chebyshev expansion have decayed to machine precision."
   ]
  },
  {
   "cell_type": "markdown",
   "metadata": {},
   "source": [
    "## From data to Chebyshev coefficients"
   ]
  },
  {
   "cell_type": "markdown",
   "metadata": {},
   "source": [
    "It turns out that there is a key relationship between Chebyshev points and Chebyshev polynomials, which enables us to find the coefficients $\\alpha_n$ in the expansion in Chebyshev polynomials in time $\\mathcal{O}(n \\, \\log n)$, instead of the $\\mathcal{O}(n^3)$ that the naive matrix formulation requires. This entails the use of the discrete cosine transform, a close relative of the FFT.\n",
    "\n",
    "The idea is as follows. Suppose that we in fact know the expansion $f = \\sum a_n T_n$. Then evaluating this in a Chebyshev point $x_i$ gives\n",
    "\n",
    "$$f(x_i) = \\sum a_k T_k(x_i)$$.\n",
    "\n",
    "But $x_i = \\cos (i \\pi / n)$ and $T_k(x) = \\cos(k \\cos^{-1}(x))$, so\n",
    "\n",
    "$$f(x_j) = \\sum_k a_k \\cos(j \\, k \\pi / n)$$.\n",
    "\n",
    "That is, the data $f(x_i)$ are given by the **discrete cosine transform** of the coefficients $a_n$. Furthermore, from this we see that we can calculate the $a_n$ by taking the inverse discrete cosine transform of the data. This is very closely related to the FFT and can be similarly calculated in $\\mathcal{O}(n \\, \\log n)$ time:"
   ]
  },
  {
   "cell_type": "markdown",
   "metadata": {},
   "source": [
    "$$\\sum_j f(x_j) \\cos(j l\\pi/n) = \\sum_j \\sum_k a_k \\cos(j k\\pi / n) \\cos(j l\\pi/n)$$\n",
    "\n",
    "$$ = \\sum_k a_k (n/2) \\delta_{kl} = (n/2) a_l$$"
   ]
  },
  {
   "cell_type": "code",
   "execution_count": null,
   "metadata": {},
   "outputs": [],
   "source": [
    "ff"
   ]
  },
  {
   "cell_type": "code",
   "execution_count": null,
   "metadata": {},
   "outputs": [],
   "source": [
    "fft(ff)"
   ]
  },
  {
   "cell_type": "code",
   "execution_count": null,
   "metadata": {},
   "outputs": [],
   "source": [
    "?fft"
   ]
  },
  {
   "cell_type": "markdown",
   "metadata": {},
   "source": [
    "Discrete cosine transform matrix:"
   ]
  },
  {
   "cell_type": "code",
   "execution_count": null,
   "metadata": {},
   "outputs": [],
   "source": [
    "n = 11\n",
    "xx = chebyshev_points(n+1)\n",
    "M = [T(i)(x) for x in xx, i in 0:n]\n"
   ]
  },
  {
   "cell_type": "markdown",
   "metadata": {},
   "source": [
    "Inverse discrete cosine transform matrix:"
   ]
  },
  {
   "cell_type": "code",
   "execution_count": null,
   "metadata": {},
   "outputs": [],
   "source": [
    "(n/2)*inv(M)"
   ]
  },
  {
   "cell_type": "markdown",
   "metadata": {},
   "source": [
    "## Barycentric interpolation"
   ]
  },
  {
   "cell_type": "markdown",
   "metadata": {},
   "source": [
    "One final piece of the puzzle is how to evaluate the interpolating function at different points $x$. We could construct the whole function as the sum $a_n T_n$, but this is not actually necessary. Instead we use barycentric interpolation [Trefethen 2004]: given data $f_j$ at nodes $x_j$, the value of the interpolating polynomial at $x$ is\n",
    "\n",
    "$$p(x) = \\frac{\\sum_j \\frac{w_j}{x-x_j} f_j}{\\sum_j \\frac{w_j}{x - x_j}}$$"
   ]
  },
  {
   "cell_type": "markdown",
   "metadata": {},
   "source": [
    "The weights are given by \n",
    "\n",
    "$$w_j = \\frac{1}{\\prod_{j \\neq k} (x_j - x_k)}$$.\n",
    "\n",
    "These depend **only** on the interpolation points, not on the data. For Chebyshev points, they are\n",
    "\n",
    "$$w_j = (-1)^j \\delta_j,$$\n",
    "\n",
    "where $\\delta_j = 1/2$ for $j=0$ and $j=n$, and $1$ otherwise."
   ]
  },
  {
   "cell_type": "code",
   "execution_count": null,
   "metadata": {},
   "outputs": [],
   "source": [
    "function ww(j)\n",
    "    j -= 1  # 0-based\n",
    "    sign = iseven(j) ? 1 : -1\n",
    "    value = (j==0 || j==n) ? 0.5 : 1.0\n",
    "    \n",
    "    return sign*value\n",
    "end"
   ]
  },
  {
   "cell_type": "code",
   "execution_count": null,
   "metadata": {},
   "outputs": [],
   "source": [
    "n = 11\n",
    "xx = chebyshev_points(n)\n",
    "g(x) = 1 / (1 + 25x^2)\n",
    "ff = g.(xx)"
   ]
  },
  {
   "cell_type": "code",
   "execution_count": null,
   "metadata": {},
   "outputs": [],
   "source": [
    "using Plots"
   ]
  },
  {
   "cell_type": "code",
   "execution_count": null,
   "metadata": {},
   "outputs": [],
   "source": [
    "ppp(x) = sum(ww(j) / (x-xx[j]) * ff[j] for j = 1:length(xx)) / sum(ww(j) / (x-xx[j]) for j = 1:length(xx))"
   ]
  },
  {
   "cell_type": "code",
   "execution_count": null,
   "metadata": {},
   "outputs": [],
   "source": [
    "using Interact"
   ]
  },
  {
   "cell_type": "code",
   "execution_count": null,
   "metadata": {},
   "outputs": [],
   "source": [
    "g(x) = 1 / (1 + 25x^2)\n",
    "n = 15\n",
    "#@manipulate for n in 2:100\n",
    "    xx = chebyshev_points(n)\n",
    "   \n",
    "    ff = g.(xx)\n",
    "\n",
    "    plot(x->ppp(x), -1, 1)\n",
    "    plot!(f, -1, 1)\n",
    "#end"
   ]
  },
  {
   "cell_type": "code",
   "execution_count": null,
   "metadata": {},
   "outputs": [],
   "source": [
    "@manipulate for i in 1:10\n",
    "    i^2\n",
    "end"
   ]
  },
  {
   "cell_type": "code",
   "execution_count": null,
   "metadata": {},
   "outputs": [],
   "source": [
    "using PyCall"
   ]
  },
  {
   "cell_type": "code",
   "execution_count": null,
   "metadata": {},
   "outputs": [],
   "source": [
    "Pkg.add(\"PyPlot\")\n",
    "Pkg.add(\"PlotlyJS\")"
   ]
  },
  {
   "cell_type": "code",
   "execution_count": null,
   "metadata": {},
   "outputs": [],
   "source": [
    "ENV[\"PYTHON\"]=\"\"\n",
    "ENV[\"JUPYTER\"] = \"\"\n",
    "\n",
    "Pkg.build(\"PyCall\")\n",
    "Pkg.build(\"PyPlot\")\n",
    "Pkg.build(\"IJulia\")"
   ]
  },
  {
   "cell_type": "code",
   "execution_count": null,
   "metadata": {},
   "outputs": [],
   "source": [
    "Pkg.build(\"PyCall\")"
   ]
  },
  {
   "cell_type": "code",
   "execution_count": null,
   "metadata": {},
   "outputs": [],
   "source": [
    "Pkg.build(\"Interact\")"
   ]
  },
  {
   "cell_type": "code",
   "execution_count": null,
   "metadata": {},
   "outputs": [],
   "source": [
    "Pkg.build(\"IJulia\")"
   ]
  },
  {
   "cell_type": "code",
   "execution_count": null,
   "metadata": {
    "collapsed": true
   },
   "outputs": [],
   "source": [
    "using Interact"
   ]
  },
  {
   "cell_type": "code",
   "execution_count": null,
   "metadata": {},
   "outputs": [],
   "source": [
    "@manipulate for i in 1:10\n",
    "    i^2\n",
    "end"
   ]
  },
  {
   "cell_type": "markdown",
   "metadata": {},
   "source": [
    "## ApproxFun"
   ]
  },
  {
   "cell_type": "code",
   "execution_count": null,
   "metadata": {},
   "outputs": [],
   "source": [
    "using ApproxFun"
   ]
  },
  {
   "cell_type": "code",
   "execution_count": null,
   "metadata": {},
   "outputs": [],
   "source": [
    "Fun"
   ]
  },
  {
   "cell_type": "code",
   "execution_count": null,
   "metadata": {},
   "outputs": [],
   "source": [
    "x = Fun()"
   ]
  },
  {
   "cell_type": "code",
   "execution_count": null,
   "metadata": {
    "collapsed": true
   },
   "outputs": [],
   "source": [
    "# 0*T_0 + 1.0*T_1 = 0 + x = x"
   ]
  },
  {
   "cell_type": "code",
   "execution_count": null,
   "metadata": {},
   "outputs": [],
   "source": [
    "x(0.3)"
   ]
  },
  {
   "cell_type": "code",
   "execution_count": null,
   "metadata": {},
   "outputs": [],
   "source": [
    "x(1.5)"
   ]
  },
  {
   "cell_type": "code",
   "execution_count": null,
   "metadata": {},
   "outputs": [],
   "source": [
    "x^2"
   ]
  },
  {
   "cell_type": "code",
   "execution_count": null,
   "metadata": {
    "collapsed": true
   },
   "outputs": [],
   "source": [
    "# 0.5 T_0 + 0.5*T_2 = 0.5 + 0.5*(2x^2 - 1) = x^2"
   ]
  },
  {
   "cell_type": "code",
   "execution_count": null,
   "metadata": {},
   "outputs": [],
   "source": [
    "f = sin(x^2)"
   ]
  },
  {
   "cell_type": "code",
   "execution_count": null,
   "metadata": {},
   "outputs": [],
   "source": [
    "f.coefficients"
   ]
  },
  {
   "cell_type": "code",
   "execution_count": null,
   "metadata": {
    "collapsed": true
   },
   "outputs": [],
   "source": [
    "using Plots"
   ]
  },
  {
   "cell_type": "code",
   "execution_count": null,
   "metadata": {},
   "outputs": [],
   "source": [
    "plot(f, -1, 1)"
   ]
  },
  {
   "cell_type": "code",
   "execution_count": null,
   "metadata": {},
   "outputs": [],
   "source": [
    "f"
   ]
  },
  {
   "cell_type": "code",
   "execution_count": null,
   "metadata": {},
   "outputs": [],
   "source": [
    "f'"
   ]
  },
  {
   "cell_type": "code",
   "execution_count": null,
   "metadata": {
    "collapsed": true
   },
   "outputs": [],
   "source": []
  }
 ],
 "metadata": {
  "@webio": {
   "lastCommId": "cd95acc60e3140cdaf3bcbcb17263e88",
   "lastKernelId": "7ec44b56-eb50-43c1-9ff8-779f0c7f52e3"
  },
  "kernelspec": {
   "display_name": "Julia 1.0.2",
   "language": "julia",
   "name": "julia-1.0"
  },
  "language_info": {
   "file_extension": ".jl",
   "mimetype": "application/julia",
   "name": "julia",
   "version": "1.0.2"
  },
  "toc": {
   "nav_menu": {
    "height": "86px",
    "width": "252px"
   },
   "navigate_menu": true,
   "number_sections": true,
   "sideBar": true,
   "threshold": 4,
   "toc_cell": false,
   "toc_section_display": "block",
   "toc_window_display": false
  },
  "widgets": {
   "state": {
    "2dde1b04-10f0-46ff-8bf4-3b41def53ac5": {
     "views": [
      {
       "cell_index": 26
      }
     ]
    },
    "88bcaa8c-07c5-4ab7-87be-7627e4c8eeb1": {
     "views": [
      {
       "cell_index": 18
      }
     ]
    },
    "e1a4dd11-4c5b-439b-96db-b3adae1d36c5": {
     "views": [
      {
       "cell_index": 22
      }
     ]
    }
   },
   "version": "1.2.0"
  }
 },
 "nbformat": 4,
 "nbformat_minor": 1
}
