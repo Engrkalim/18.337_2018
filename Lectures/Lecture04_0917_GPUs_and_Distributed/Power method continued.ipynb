{
 "cells": [
  {
   "cell_type": "markdown",
   "metadata": {},
   "source": [
    "# More power method (continuation of lecture 2)"
   ]
  },
  {
   "cell_type": "markdown",
   "metadata": {},
   "source": [
    "In this continuation of lecture 2, we will see that having a good abstraction of hardware resources allows us to run the **same code** in parallel.\n",
    "\n",
    "\"Parallel computing will have made it when we never have to know any of the internal details.\" Alan Edelman"
   ]
  },
  {
   "cell_type": "markdown",
   "metadata": {},
   "source": [
    "## Using parallel hardware"
   ]
  },
  {
   "cell_type": "code",
   "execution_count": 1,
   "metadata": {},
   "outputs": [],
   "source": [
    "using LinearAlgebra"
   ]
  },
  {
   "cell_type": "code",
   "execution_count": 2,
   "metadata": {},
   "outputs": [
    {
     "data": {
      "text/plain": [
       "power_method (generic function with 1 method)"
      ]
     },
     "execution_count": 2,
     "metadata": {},
     "output_type": "execute_result"
    }
   ],
   "source": [
    "function power_method(M, v)\n",
    "    T = eltype(v)\n",
    "    for i in 1:100\n",
    "        v = M*v        # repeatedly creates a new vector and destroys the old v\n",
    "        v /= T(norm(v))\n",
    "    end\n",
    "    \n",
    "    return v, T(norm(M*v)) / T(norm(v))  # or  (M*v) ./ v\n",
    "end"
   ]
  },
  {
   "cell_type": "markdown",
   "metadata": {},
   "source": [
    "First we create a standard Julia matrix (on the CPU):"
   ]
  },
  {
   "cell_type": "code",
   "execution_count": null,
   "metadata": {},
   "outputs": [],
   "source": [
    "M = [2 1; 1 1.]"
   ]
  },
  {
   "cell_type": "markdown",
   "metadata": {},
   "source": [
    "### DistributedArrays for large arrays spread across different processors"
   ]
  },
  {
   "cell_type": "markdown",
   "metadata": {},
   "source": [
    "The Julia package [DistributedArrays.jl](https://github.com/JuliaParallel/DistributedArrays.jl) defines a `DArray` (\"distributed array\") type, which provides an abstraction that looks like a standard Julia array, but is spread across several different processors.\n",
    "\n",
    "Since modern desktops and laptops often have multiple cores, we can use this.\n",
    "\n",
    "First we allow Julia access to more processes:"
   ]
  },
  {
   "cell_type": "code",
   "execution_count": null,
   "metadata": {},
   "outputs": [],
   "source": [
    "using Distributed"
   ]
  },
  {
   "cell_type": "code",
   "execution_count": null,
   "metadata": {},
   "outputs": [],
   "source": [
    "addprocs(4)   # add cores to your Julia process"
   ]
  },
  {
   "cell_type": "code",
   "execution_count": 6,
   "metadata": {},
   "outputs": [],
   "source": [
    "#]add DistributedArrays"
   ]
  },
  {
   "cell_type": "code",
   "execution_count": 7,
   "metadata": {},
   "outputs": [],
   "source": [
    "using DistributedArrays"
   ]
  },
  {
   "cell_type": "markdown",
   "metadata": {},
   "source": [
    "There are several ways to create `DArray`s:"
   ]
  },
  {
   "cell_type": "code",
   "execution_count": 8,
   "metadata": {},
   "outputs": [
    {
     "data": {
      "text/plain": [
       "10×10 DArray{Float64,2,Array{Float64,2}}:\n",
       " 0.797213  0.951436   0.656916   0.367544  …  0.903086  0.895331    0.348658\n",
       " 0.339716  0.921422   0.799058   0.303904     0.158507  0.00050227  0.212506\n",
       " 0.131629  0.0973171  0.0762106  0.373484     0.531555  0.314167    0.41875 \n",
       " 0.511268  0.449071   0.601008   0.106522     0.762724  0.0451633   0.254405\n",
       " 0.437012  0.922265   0.952716   0.480592     0.591622  0.391823    0.657018\n",
       " 0.569394  0.195423   0.959914   0.488594  …  0.849583  0.99617     0.437544\n",
       " 0.123654  0.280004   0.943045   0.536824     0.287063  0.915536    0.879087\n",
       " 0.686117  0.471247   0.116463   0.520215     0.855908  0.518076    0.750019\n",
       " 0.823241  0.159754   0.17866    0.637679     0.85278   0.112701    0.856088\n",
       " 0.269538  0.757709   0.303293   0.126665     0.161356  0.317337    0.102364"
      ]
     },
     "execution_count": 8,
     "metadata": {},
     "output_type": "execute_result"
    }
   ],
   "source": [
    "M = drand(10, 10)"
   ]
  },
  {
   "cell_type": "markdown",
   "metadata": {},
   "source": [
    "If we really need to, we can find out where Julia is storing each piece of the array:"
   ]
  },
  {
   "cell_type": "code",
   "execution_count": 9,
   "metadata": {},
   "outputs": [
    {
     "data": {
      "text/plain": [
       "2×2 Array{Tuple{UnitRange{Int64},UnitRange{Int64}},2}:\n",
       " (1:5, 1:5)   (1:5, 6:10) \n",
       " (6:10, 1:5)  (6:10, 6:10)"
      ]
     },
     "execution_count": 9,
     "metadata": {},
     "output_type": "execute_result"
    }
   ],
   "source": [
    "M.indices"
   ]
  },
  {
   "cell_type": "markdown",
   "metadata": {},
   "source": [
    "This shows that the array was divided up into equal pieces on each of the four processors."
   ]
  },
  {
   "cell_type": "code",
   "execution_count": 10,
   "metadata": {},
   "outputs": [
    {
     "data": {
      "text/plain": [
       "10-element DArray{Float64,1,Array{Float64,1}}:\n",
       " 0.08812213640942379\n",
       " 0.8799860870671785 \n",
       " 0.6398420530320019 \n",
       " 0.08135629150174095\n",
       " 0.9598502246268485 \n",
       " 0.845547943017942  \n",
       " 0.11628654731689991\n",
       " 0.4286055071471504 \n",
       " 0.38237675695680995\n",
       " 0.6548863175117976 "
      ]
     },
     "execution_count": 10,
     "metadata": {},
     "output_type": "execute_result"
    }
   ],
   "source": [
    "v = drand(10)"
   ]
  },
  {
   "cell_type": "code",
   "execution_count": 11,
   "metadata": {},
   "outputs": [
    {
     "data": {
      "text/plain": [
       "10-element DArray{Float64,1,Array{Float64,1}}:\n",
       " 3.4594512387095055\n",
       " 2.5708100111146392\n",
       " 1.2863793868719497\n",
       " 2.916879741387089 \n",
       " 3.8433751978861492\n",
       " 2.5272485636212085\n",
       " 2.727578909940217 \n",
       " 3.179995093148907 \n",
       " 2.3599963371995325\n",
       " 1.7310246056069172"
      ]
     },
     "execution_count": 11,
     "metadata": {},
     "output_type": "execute_result"
    }
   ],
   "source": [
    "M * v"
   ]
  },
  {
   "cell_type": "markdown",
   "metadata": {},
   "source": [
    "Again, we see that `*` has been defined for these objects, so once again we can just run"
   ]
  },
  {
   "cell_type": "code",
   "execution_count": 12,
   "metadata": {},
   "outputs": [
    {
     "data": {
      "text/plain": [
       "([0.419647, 0.2696, 0.177278, 0.305874, 0.369741, 0.327932, 0.275749, 0.414283, 0.324245, 0.170807], 4.918849245763999)"
      ]
     },
     "execution_count": 12,
     "metadata": {},
     "output_type": "execute_result"
    }
   ],
   "source": [
    "power_method(M, v)"
   ]
  },
  {
   "cell_type": "markdown",
   "metadata": {},
   "source": [
    "## Operators"
   ]
  },
  {
   "cell_type": "markdown",
   "metadata": {},
   "source": [
    "Consider the following averaging operator that we could call a random walk or averaging operator:"
   ]
  },
  {
   "cell_type": "code",
   "execution_count": 3,
   "metadata": {},
   "outputs": [
    {
     "data": {
      "text/plain": [
       "averaging (generic function with 1 method)"
      ]
     },
     "execution_count": 3,
     "metadata": {},
     "output_type": "execute_result"
    }
   ],
   "source": [
    "averaging(n) = 0.5 * SymTridiagonal(zeros(n), ones(n-1))"
   ]
  },
  {
   "cell_type": "code",
   "execution_count": 4,
   "metadata": {},
   "outputs": [
    {
     "data": {
      "text/plain": [
       "7×7 SymTridiagonal{Float64,Array{Float64,1}}:\n",
       " 0.0  0.5   ⋅    ⋅    ⋅    ⋅    ⋅ \n",
       " 0.5  0.0  0.5   ⋅    ⋅    ⋅    ⋅ \n",
       "  ⋅   0.5  0.0  0.5   ⋅    ⋅    ⋅ \n",
       "  ⋅    ⋅   0.5  0.0  0.5   ⋅    ⋅ \n",
       "  ⋅    ⋅    ⋅   0.5  0.0  0.5   ⋅ \n",
       "  ⋅    ⋅    ⋅    ⋅   0.5  0.0  0.5\n",
       "  ⋅    ⋅    ⋅    ⋅    ⋅   0.5  0.0"
      ]
     },
     "execution_count": 4,
     "metadata": {},
     "output_type": "execute_result"
    }
   ],
   "source": [
    "averaging(7)"
   ]
  },
  {
   "cell_type": "code",
   "execution_count": 5,
   "metadata": {},
   "outputs": [
    {
     "data": {
      "text/plain": [
       "7-element Array{Float64,1}:\n",
       "  1.5\n",
       "  3.0\n",
       "  5.0\n",
       "  7.0\n",
       "  9.0\n",
       " 11.0\n",
       "  5.5"
      ]
     },
     "execution_count": 5,
     "metadata": {},
     "output_type": "execute_result"
    }
   ],
   "source": [
    "v = 1.0:2:13\n",
    "averaging(7) * v"
   ]
  },
  {
   "cell_type": "code",
   "execution_count": 16,
   "metadata": {},
   "outputs": [
    {
     "data": {
      "text/plain": [
       "7×7 SymTridiagonal{Float64,Array{Float64,1}}:\n",
       " 0.0  0.5   ⋅    ⋅    ⋅    ⋅    ⋅ \n",
       " 0.5  0.0  0.5   ⋅    ⋅    ⋅    ⋅ \n",
       "  ⋅   0.5  0.0  0.5   ⋅    ⋅    ⋅ \n",
       "  ⋅    ⋅   0.5  0.0  0.5   ⋅    ⋅ \n",
       "  ⋅    ⋅    ⋅   0.5  0.0  0.5   ⋅ \n",
       "  ⋅    ⋅    ⋅    ⋅   0.5  0.0  0.5\n",
       "  ⋅    ⋅    ⋅    ⋅    ⋅   0.5  0.0"
      ]
     },
     "execution_count": 16,
     "metadata": {},
     "output_type": "execute_result"
    }
   ],
   "source": [
    "averaging(7)"
   ]
  },
  {
   "cell_type": "code",
   "execution_count": 17,
   "metadata": {},
   "outputs": [
    {
     "data": {
      "text/plain": [
       "1.0:2.0:13.0"
      ]
     },
     "execution_count": 17,
     "metadata": {},
     "output_type": "execute_result"
    }
   ],
   "source": [
    "v"
   ]
  },
  {
   "cell_type": "code",
   "execution_count": 6,
   "metadata": {},
   "outputs": [
    {
     "data": {
      "text/plain": [
       "([0.198757, 0.339299, 0.479841, 0.479841, 0.479841, 0.339299, 0.198757], 0.9238795325112868)"
      ]
     },
     "execution_count": 6,
     "metadata": {},
     "output_type": "execute_result"
    }
   ],
   "source": [
    "power_method(averaging(7), v)"
   ]
  },
  {
   "cell_type": "markdown",
   "metadata": {},
   "source": [
    "Although we have saved some memory by using a `SymTridiagonal` structure, we clearly are still storing far more information than we need to, since this is just \"0 on the diagonal and 0.5 on the super- and sub-diagonal\".\n",
    "\n",
    "We can define a new type in Julia to reflect this. We realise that we do **not actually need to store any information inside the \"matrix\"**. In fact, we will rather define a **linear operator**, just as we would really like to do in mathematics:"
   ]
  },
  {
   "cell_type": "code",
   "execution_count": 1,
   "metadata": {},
   "outputs": [],
   "source": [
    "struct AveragingOp\n",
    "    # contains *no* information\n",
    "end"
   ]
  },
  {
   "cell_type": "markdown",
   "metadata": {},
   "source": [
    "We have a \"dummy type\" that contains no information. It will be interesting because of \"what it can do\", i.e. the operations that we define that involve objects of this type."
   ]
  },
  {
   "cell_type": "markdown",
   "metadata": {},
   "source": [
    "We create an object of this type, called `A`, with"
   ]
  },
  {
   "cell_type": "code",
   "execution_count": 2,
   "metadata": {},
   "outputs": [
    {
     "data": {
      "text/plain": [
       "AveragingOp()"
      ]
     },
     "execution_count": 2,
     "metadata": {},
     "output_type": "execute_result"
    }
   ],
   "source": [
    "A = AveragingOp()  # default constructor"
   ]
  },
  {
   "cell_type": "code",
   "execution_count": 3,
   "metadata": {},
   "outputs": [
    {
     "data": {
      "text/plain": [
       "AveragingOp()"
      ]
     },
     "execution_count": 3,
     "metadata": {},
     "output_type": "execute_result"
    }
   ],
   "source": [
    "A"
   ]
  },
  {
   "cell_type": "markdown",
   "metadata": {},
   "source": [
    "We will define what it means to multiply an object of this type by a vector. The simplest case would be"
   ]
  },
  {
   "cell_type": "code",
   "execution_count": 4,
   "metadata": {},
   "outputs": [
    {
     "data": {
      "text/plain": [
       "* (generic function with 344 methods)"
      ]
     },
     "execution_count": 4,
     "metadata": {},
     "output_type": "execute_result"
    }
   ],
   "source": [
    "import Base.*  # necessary to overload *\n",
    "\n",
    "function *(A::AveragingOp, v::AbstractVector)\n",
    "    v  # just the identity operator\n",
    "end"
   ]
  },
  {
   "cell_type": "markdown",
   "metadata": {},
   "source": [
    "which gives an identity operator:"
   ]
  },
  {
   "cell_type": "code",
   "execution_count": 5,
   "metadata": {},
   "outputs": [
    {
     "data": {
      "text/plain": [
       "3-element Array{Float64,1}:\n",
       "  1.0\n",
       "  2.0\n",
       " 43.0"
      ]
     },
     "execution_count": 5,
     "metadata": {},
     "output_type": "execute_result"
    }
   ],
   "source": [
    "v = [1, 2, 43.0]\n",
    "A*v"
   ]
  },
  {
   "cell_type": "code",
   "execution_count": 31,
   "metadata": {},
   "outputs": [
    {
     "data": {
      "text/plain": [
       "([0.0232244, 0.0464489, 0.998651], 1.0)"
      ]
     },
     "execution_count": 31,
     "metadata": {},
     "output_type": "execute_result"
    }
   ],
   "source": [
    "power_method(A, v)"
   ]
  },
  {
   "cell_type": "markdown",
   "metadata": {},
   "source": [
    "We now define the actual averaging operation. It takes a vector and returns a new vector:"
   ]
  },
  {
   "cell_type": "code",
   "execution_count": 6,
   "metadata": {},
   "outputs": [
    {
     "data": {
      "text/plain": [
       "* (generic function with 344 methods)"
      ]
     },
     "execution_count": 6,
     "metadata": {},
     "output_type": "execute_result"
    }
   ],
   "source": [
    "function *(A::AveragingOp, v::AbstractVector)\n",
    "    [ v[1];    # ; concatenates\n",
    "      [(v[i-1] + v[i+1])/2  for i in 2:length(v)-1];    # array comprehension\n",
    "      v[end] \n",
    "    ]\n",
    "end"
   ]
  },
  {
   "cell_type": "code",
   "execution_count": 7,
   "metadata": {},
   "outputs": [
    {
     "name": "stdout",
     "output_type": "stream",
     "text": [
      "v = [1, 4, 9, 16, 25, 36, 49]\n"
     ]
    },
    {
     "data": {
      "text/plain": [
       "7-element Array{Float64,1}:\n",
       "  1.0\n",
       "  5.0\n",
       " 10.0\n",
       " 17.0\n",
       " 26.0\n",
       " 37.0\n",
       " 49.0"
      ]
     },
     "execution_count": 7,
     "metadata": {},
     "output_type": "execute_result"
    }
   ],
   "source": [
    "v = (1:7).^2\n",
    "@show v\n",
    "A*v"
   ]
  },
  {
   "cell_type": "code",
   "execution_count": 13,
   "metadata": {},
   "outputs": [
    {
     "name": "stdout",
     "output_type": "stream",
     "text": [
      "AveragingOp AveragingOp()\n"
     ]
    }
   ],
   "source": [
    "dump(A)"
   ]
  },
  {
   "cell_type": "markdown",
   "metadata": {},
   "source": [
    "Since `*` now works, we can again just reuse our some generic `power_method` implementation:"
   ]
  },
  {
   "cell_type": "code",
   "execution_count": 14,
   "metadata": {},
   "outputs": [
    {
     "data": {
      "text/plain": [
       "([0.0127339, 0.114605, 0.216477, 0.318349, 0.42022, 0.522092, 0.623963], 1.0000000107136144)"
      ]
     },
     "execution_count": 14,
     "metadata": {},
     "output_type": "execute_result"
    }
   ],
   "source": [
    "power_method(A, float.(v))"
   ]
  },
  {
   "cell_type": "markdown",
   "metadata": {},
   "source": [
    "You could worry that `*` is not the correct notation. Mathematically, for an operator $\\mathcal{L}$ operating on a vector $\\mathbf{v}$, we might write $\\mathcal{L} \\mathbf{v}$, just using juxtaposition. Unfortunately, we are unable to use this notation in Julia.\n",
    "\n",
    "We could instead use a `⋅` for juxtaposition. Now that we have defined `*`, we can just do"
   ]
  },
  {
   "cell_type": "code",
   "execution_count": 38,
   "metadata": {},
   "outputs": [
    {
     "name": "stderr",
     "output_type": "stream",
     "text": [
      "WARNING: import of LinearAlgebra.⋅ into Main conflicts with an existing identifier; ignored.\n"
     ]
    },
    {
     "data": {
      "text/plain": [
       "⋅ (generic function with 1 method)"
      ]
     },
     "execution_count": 38,
     "metadata": {},
     "output_type": "execute_result"
    }
   ],
   "source": [
    "import LinearAlgebra.⋅\n",
    "A::AveragingOp ⋅ v = A * v"
   ]
  },
  {
   "cell_type": "code",
   "execution_count": 39,
   "metadata": {},
   "outputs": [
    {
     "data": {
      "text/plain": [
       "7-element Array{Float64,1}:\n",
       "  1.0\n",
       "  5.0\n",
       " 10.0\n",
       " 17.0\n",
       " 26.0\n",
       " 37.0\n",
       " 49.0"
      ]
     },
     "execution_count": 39,
     "metadata": {},
     "output_type": "execute_result"
    }
   ],
   "source": [
    "A ⋅ v"
   ]
  },
  {
   "cell_type": "markdown",
   "metadata": {},
   "source": [
    "We can even define $\\mathcal{L}(\\mathbf{v})$:"
   ]
  },
  {
   "cell_type": "code",
   "execution_count": 8,
   "metadata": {},
   "outputs": [],
   "source": [
    "(A::AveragingOp)(v) = A*v\n"
   ]
  },
  {
   "cell_type": "code",
   "execution_count": 9,
   "metadata": {},
   "outputs": [
    {
     "data": {
      "text/plain": [
       "7-element Array{Int64,1}:\n",
       "  1\n",
       "  4\n",
       "  9\n",
       " 16\n",
       " 25\n",
       " 36\n",
       " 49"
      ]
     },
     "execution_count": 9,
     "metadata": {},
     "output_type": "execute_result"
    }
   ],
   "source": [
    "v"
   ]
  },
  {
   "cell_type": "code",
   "execution_count": 10,
   "metadata": {},
   "outputs": [
    {
     "data": {
      "text/plain": [
       "7-element Array{Float64,1}:\n",
       "  1.0\n",
       "  5.0\n",
       " 10.0\n",
       " 17.0\n",
       " 26.0\n",
       " 37.0\n",
       " 49.0"
      ]
     },
     "execution_count": 10,
     "metadata": {},
     "output_type": "execute_result"
    }
   ],
   "source": [
    "A(v)"
   ]
  },
  {
   "cell_type": "code",
   "execution_count": 31,
   "metadata": {},
   "outputs": [
    {
     "data": {
      "text/plain": [
       "7×7 Array{Float64,2}:\n",
       " 1.0  0.0  0.0  0.0  0.0  0.0  0.0\n",
       " 0.5  0.0  0.5  0.0  0.0  0.0  0.0\n",
       " 0.0  0.5  0.0  0.5  0.0  0.0  0.0\n",
       " 0.0  0.0  0.5  0.0  0.5  0.0  0.0\n",
       " 0.0  0.0  0.0  0.5  0.0  0.5  0.0\n",
       " 0.0  0.0  0.0  0.0  0.5  0.0  0.5\n",
       " 0.0  0.0  0.0  0.0  0.0  0.0  1.0"
      ]
     },
     "execution_count": 31,
     "metadata": {},
     "output_type": "execute_result"
    }
   ],
   "source": [
    "hcat([ A * ( ((1:7).==k) .+ 0) for k=1:7]...)"
   ]
  },
  {
   "cell_type": "code",
   "execution_count": 17,
   "metadata": {},
   "outputs": [
    {
     "data": {
      "text/plain": [
       "7"
      ]
     },
     "execution_count": 17,
     "metadata": {},
     "output_type": "execute_result"
    }
   ],
   "source": [
    "identity(7)"
   ]
  },
  {
   "cell_type": "code",
   "execution_count": 47,
   "metadata": {},
   "outputs": [
    {
     "ename": "UndefVarError",
     "evalue": "UndefVarError: n not defined",
     "output_type": "error",
     "traceback": [
      "UndefVarError: n not defined",
      "",
      "Stacktrace:",
      " [1] top-level scope at In[47]:1"
     ]
    }
   ],
   "source": [
    "Matrix{Int}(n,n)"
   ]
  },
  {
   "cell_type": "code",
   "execution_count": 48,
   "metadata": {},
   "outputs": [
    {
     "name": "stdout",
     "output_type": "stream",
     "text": [
      "search: \u001b[0m\u001b[1mM\u001b[22m\u001b[0m\u001b[1ma\u001b[22m\u001b[0m\u001b[1mt\u001b[22m\u001b[0m\u001b[1mr\u001b[22m\u001b[0m\u001b[1mi\u001b[22m\u001b[0m\u001b[1mx\u001b[22m Bit\u001b[0m\u001b[1mM\u001b[22m\u001b[0m\u001b[1ma\u001b[22m\u001b[0m\u001b[1mt\u001b[22m\u001b[0m\u001b[1mr\u001b[22m\u001b[0m\u001b[1mi\u001b[22m\u001b[0m\u001b[1mx\u001b[22m Dense\u001b[0m\u001b[1mM\u001b[22m\u001b[0m\u001b[1ma\u001b[22m\u001b[0m\u001b[1mt\u001b[22m\u001b[0m\u001b[1mr\u001b[22m\u001b[0m\u001b[1mi\u001b[22m\u001b[0m\u001b[1mx\u001b[22m Strided\u001b[0m\u001b[1mM\u001b[22m\u001b[0m\u001b[1ma\u001b[22m\u001b[0m\u001b[1mt\u001b[22m\u001b[0m\u001b[1mr\u001b[22m\u001b[0m\u001b[1mi\u001b[22m\u001b[0m\u001b[1mx\u001b[22m Abstract\u001b[0m\u001b[1mM\u001b[22m\u001b[0m\u001b[1ma\u001b[22m\u001b[0m\u001b[1mt\u001b[22m\u001b[0m\u001b[1mr\u001b[22m\u001b[0m\u001b[1mi\u001b[22m\u001b[0m\u001b[1mx\u001b[22m\n",
      "\n"
     ]
    },
    {
     "data": {
      "text/markdown": [
       "```\n",
       "Matrix{T} <: AbstractMatrix{T}\n",
       "```\n",
       "\n",
       "Two-dimensional dense array with elements of type `T`, often used to represent a mathematical matrix. Alias for [`Array{T,2}`](@ref).\n",
       "\n",
       "---\n",
       "\n",
       "```\n",
       "Matrix{T}(undef, m, n)\n",
       "```\n",
       "\n",
       "Construct an uninitialized [`Matrix{T}`](@ref) of size `m`×`n`. See [`undef`](@ref).\n",
       "\n",
       "# Examples\n",
       "\n",
       "```julia-repl\n",
       "julia> Matrix{Float64}(undef, 2, 3)\n",
       "2×3 Array{Float64,2}:\n",
       " 6.93517e-310  6.93517e-310  6.93517e-310\n",
       " 6.93517e-310  6.93517e-310  1.29396e-320\n",
       "```\n",
       "\n",
       "---\n",
       "\n",
       "```\n",
       "Matrix{T}(nothing, m, n)\n",
       "```\n",
       "\n",
       "Construct a [`Matrix{T}`](@ref) of size `m`×`n`, initialized with [`nothing`](@ref) entries. Element type `T` must be able to hold these values, i.e. `Nothing <: T`.\n",
       "\n",
       "# Examples\n",
       "\n",
       "```jldoctest\n",
       "julia> Matrix{Union{Nothing, String}}(nothing, 2, 3)\n",
       "2×3 Array{Union{Nothing, String},2}:\n",
       " nothing  nothing  nothing\n",
       " nothing  nothing  nothing\n",
       "```\n",
       "\n",
       "---\n",
       "\n",
       "```\n",
       "Matrix{T}(missing, m, n)\n",
       "```\n",
       "\n",
       "Construct a [`Matrix{T}`](@ref) of size `m`×`n`, initialized with [`missing`](@ref) entries. Element type `T` must be able to hold these values, i.e. `Missing <: T`.\n",
       "\n",
       "# Examples\n",
       "\n",
       "```jldoctest\n",
       "julia> Matrix{Union{Missing, String}}(missing, 2, 3)\n",
       "2×3 Array{Union{Missing, String},2}:\n",
       " missing  missing  missing\n",
       " missing  missing  missing\n",
       "```\n"
      ],
      "text/plain": [
       "\u001b[36m  Matrix{T} <: AbstractMatrix{T}\u001b[39m\n",
       "\n",
       "  Two-dimensional dense array with elements of type \u001b[36mT\u001b[39m, often used to represent\n",
       "  a mathematical matrix. Alias for \u001b[36mArray{T,2}\u001b[39m.\n",
       "\n",
       "  ────────────────────────────────────────────────────────────────────────────\n",
       "\n",
       "\u001b[36m  Matrix{T}(undef, m, n)\u001b[39m\n",
       "\n",
       "  Construct an uninitialized \u001b[36mMatrix{T}\u001b[39m of size \u001b[36mm\u001b[39m×\u001b[36mn\u001b[39m. See \u001b[36mundef\u001b[39m.\n",
       "\n",
       "\u001b[1m  Examples\u001b[22m\n",
       "\u001b[1m  ≡≡≡≡≡≡≡≡≡≡\u001b[22m\n",
       "\n",
       "\u001b[36m  julia> Matrix{Float64}(undef, 2, 3)\u001b[39m\n",
       "\u001b[36m  2×3 Array{Float64,2}:\u001b[39m\n",
       "\u001b[36m   6.93517e-310  6.93517e-310  6.93517e-310\u001b[39m\n",
       "\u001b[36m   6.93517e-310  6.93517e-310  1.29396e-320\u001b[39m\n",
       "\n",
       "  ────────────────────────────────────────────────────────────────────────────\n",
       "\n",
       "\u001b[36m  Matrix{T}(nothing, m, n)\u001b[39m\n",
       "\n",
       "  Construct a \u001b[36mMatrix{T}\u001b[39m of size \u001b[36mm\u001b[39m×\u001b[36mn\u001b[39m, initialized with \u001b[36mnothing\u001b[39m entries. Element\n",
       "  type \u001b[36mT\u001b[39m must be able to hold these values, i.e. \u001b[36mNothing <: T\u001b[39m.\n",
       "\n",
       "\u001b[1m  Examples\u001b[22m\n",
       "\u001b[1m  ≡≡≡≡≡≡≡≡≡≡\u001b[22m\n",
       "\n",
       "\u001b[36m  julia> Matrix{Union{Nothing, String}}(nothing, 2, 3)\u001b[39m\n",
       "\u001b[36m  2×3 Array{Union{Nothing, String},2}:\u001b[39m\n",
       "\u001b[36m   nothing  nothing  nothing\u001b[39m\n",
       "\u001b[36m   nothing  nothing  nothing\u001b[39m\n",
       "\n",
       "  ────────────────────────────────────────────────────────────────────────────\n",
       "\n",
       "\u001b[36m  Matrix{T}(missing, m, n)\u001b[39m\n",
       "\n",
       "  Construct a \u001b[36mMatrix{T}\u001b[39m of size \u001b[36mm\u001b[39m×\u001b[36mn\u001b[39m, initialized with \u001b[36mmissing\u001b[39m entries. Element\n",
       "  type \u001b[36mT\u001b[39m must be able to hold these values, i.e. \u001b[36mMissing <: T\u001b[39m.\n",
       "\n",
       "\u001b[1m  Examples\u001b[22m\n",
       "\u001b[1m  ≡≡≡≡≡≡≡≡≡≡\u001b[22m\n",
       "\n",
       "\u001b[36m  julia> Matrix{Union{Missing, String}}(missing, 2, 3)\u001b[39m\n",
       "\u001b[36m  2×3 Array{Union{Missing, String},2}:\u001b[39m\n",
       "\u001b[36m   missing  missing  missing\u001b[39m\n",
       "\u001b[36m   missing  missing  missing\u001b[39m"
      ]
     },
     "execution_count": 48,
     "metadata": {},
     "output_type": "execute_result"
    }
   ],
   "source": [
    "?Matrix"
   ]
  },
  {
   "cell_type": "code",
   "execution_count": 49,
   "metadata": {},
   "outputs": [
    {
     "data": {
      "text/plain": [
       "6×6 Tridiagonal{Float64,Array{Float64,1}}:\n",
       " 0.283719     0.576758   ⋅         ⋅         ⋅         ⋅      \n",
       " 0.000569716  0.753393  0.976017   ⋅         ⋅         ⋅      \n",
       "  ⋅           0.433551  0.295944  0.240744   ⋅         ⋅      \n",
       "  ⋅            ⋅        0.21205   0.554782  0.178021   ⋅      \n",
       "  ⋅            ⋅         ⋅        0.233174  0.368639  0.79962 \n",
       "  ⋅            ⋅         ⋅         ⋅        0.313972  0.454543"
      ]
     },
     "execution_count": 49,
     "metadata": {},
     "output_type": "execute_result"
    }
   ],
   "source": [
    "T = Tridiagonal(rand(5), rand(6), rand(5))"
   ]
  },
  {
   "cell_type": "code",
   "execution_count": 50,
   "metadata": {},
   "outputs": [
    {
     "name": "stdout",
     "output_type": "stream",
     "text": [
      "Tridiagonal{Float64,Array{Float64,1}}\n",
      "  dl: Array{Float64}((5,)) [0.000569716, 0.433551, 0.21205, 0.233174, 0.313972]\n",
      "  d: Array{Float64}((6,)) [0.283719, 0.753393, 0.295944, 0.554782, 0.368639, 0.454543]\n",
      "  du: Array{Float64}((5,)) [0.576758, 0.976017, 0.240744, 0.178021, 0.79962]\n",
      "  du2: #undef\n"
     ]
    }
   ],
   "source": [
    "dump(T)"
   ]
  },
  {
   "cell_type": "code",
   "execution_count": 51,
   "metadata": {},
   "outputs": [
    {
     "data": {
      "text/html": [
       "*<i>{T, S}</i>(A::<b>AbstractArray{T,2}</b>, x::<b>AbstractArray{S,1}</b>) in LinearAlgebra at <a href=\"file:///Users/osx/buildbot/slave/package_osx64/build/usr/share/julia/stdlib/v1.0/LinearAlgebra/src/matmul.jl\" target=\"_blank\">/Users/osx/buildbot/slave/package_osx64/build/usr/share/julia/stdlib/v1.0/LinearAlgebra/src/matmul.jl:49</a>"
      ],
      "text/plain": [
       "*(A::AbstractArray{T,2}, x::AbstractArray{S,1}) where {T, S} in LinearAlgebra at /Users/osx/buildbot/slave/package_osx64/build/usr/share/julia/stdlib/v1.0/LinearAlgebra/src/matmul.jl:49"
      ]
     },
     "execution_count": 51,
     "metadata": {},
     "output_type": "execute_result"
    }
   ],
   "source": [
    "@which T*rand(6)"
   ]
  },
  {
   "cell_type": "code",
   "execution_count": 12,
   "metadata": {},
   "outputs": [],
   "source": [
    "(x::Int64)(y::Int64) = x+y"
   ]
  },
  {
   "cell_type": "code",
   "execution_count": 15,
   "metadata": {},
   "outputs": [
    {
     "data": {
      "text/plain": [
       "11"
      ]
     },
     "execution_count": 15,
     "metadata": {},
     "output_type": "execute_result"
    }
   ],
   "source": [
    "five = 5\n",
    "five(6)"
   ]
  },
  {
   "cell_type": "code",
   "execution_count": 16,
   "metadata": {},
   "outputs": [
    {
     "data": {
      "text/plain": [
       "30"
      ]
     },
     "execution_count": 16,
     "metadata": {},
     "output_type": "execute_result"
    }
   ],
   "source": [
    "5(6)"
   ]
  },
  {
   "cell_type": "code",
   "execution_count": 18,
   "metadata": {},
   "outputs": [],
   "source": [
    "Base.:*(n::Number,::typeof(!)) = factorial(n)"
   ]
  },
  {
   "cell_type": "code",
   "execution_count": 19,
   "metadata": {},
   "outputs": [
    {
     "data": {
      "text/plain": [
       "120"
      ]
     },
     "execution_count": 19,
     "metadata": {},
     "output_type": "execute_result"
    }
   ],
   "source": [
    "5 * !"
   ]
  },
  {
   "cell_type": "code",
   "execution_count": 26,
   "metadata": {},
   "outputs": [],
   "source": [
    "Base.:*(n::Number,f::Function) = f(n)"
   ]
  },
  {
   "cell_type": "code",
   "execution_count": 35,
   "metadata": {},
   "outputs": [
    {
     "data": {
      "text/plain": [
       "6"
      ]
     },
     "execution_count": 35,
     "metadata": {},
     "output_type": "execute_result"
    }
   ],
   "source": [
    "3(!)"
   ]
  },
  {
   "cell_type": "code",
   "execution_count": 33,
   "metadata": {},
   "outputs": [
    {
     "data": {
      "text/plain": [
       "0.9950171283751177"
      ]
     },
     "execution_count": 33,
     "metadata": {},
     "output_type": "execute_result"
    }
   ],
   "source": [
    "3*sin*cos*√"
   ]
  },
  {
   "cell_type": "code",
   "execution_count": 32,
   "metadata": {},
   "outputs": [
    {
     "data": {
      "text/plain": [
       "0.9950171283751177"
      ]
     },
     "execution_count": 32,
     "metadata": {},
     "output_type": "execute_result"
    }
   ],
   "source": [
    "√(cos(sin(3)))"
   ]
  },
  {
   "cell_type": "code",
   "execution_count": 36,
   "metadata": {},
   "outputs": [
    {
     "data": {
      "text/plain": [
       "50"
      ]
     },
     "execution_count": 36,
     "metadata": {},
     "output_type": "execute_result"
    }
   ],
   "source": [
    "x=10\n",
    "5x"
   ]
  },
  {
   "cell_type": "code",
   "execution_count": 37,
   "metadata": {},
   "outputs": [
    {
     "data": {
      "text/plain": [
       "50"
      ]
     },
     "execution_count": 37,
     "metadata": {},
     "output_type": "execute_result"
    }
   ],
   "source": [
    "5*x"
   ]
  },
  {
   "cell_type": "code",
   "execution_count": 38,
   "metadata": {},
   "outputs": [
    {
     "data": {
      "text/plain": [
       "3×3 Array{Float64,2}:\n",
       " 0.220525  0.482147  0.97731 \n",
       " 0.847238  0.431971  0.970275\n",
       " 0.90841   0.946529  0.464383"
      ]
     },
     "execution_count": 38,
     "metadata": {},
     "output_type": "execute_result"
    }
   ],
   "source": [
    "x = rand(3,3)"
   ]
  },
  {
   "cell_type": "code",
   "execution_count": 39,
   "metadata": {},
   "outputs": [
    {
     "data": {
      "text/plain": [
       "3×3 Array{Float64,2}:\n",
       " 220.525  482.147  977.31 \n",
       " 847.238  431.971  970.275\n",
       " 908.41   946.529  464.383"
      ]
     },
     "execution_count": 39,
     "metadata": {},
     "output_type": "execute_result"
    }
   ],
   "source": [
    "1000x"
   ]
  },
  {
   "cell_type": "code",
   "execution_count": 2,
   "metadata": {},
   "outputs": [
    {
     "data": {
      "text/plain": [
       "12"
      ]
     },
     "execution_count": 2,
     "metadata": {},
     "output_type": "execute_result"
    }
   ],
   "source": [
    "4(3)"
   ]
  },
  {
   "cell_type": "code",
   "execution_count": 4,
   "metadata": {},
   "outputs": [
    {
     "data": {
      "text/plain": [
       "12"
      ]
     },
     "execution_count": 4,
     "metadata": {},
     "output_type": "execute_result"
    }
   ],
   "source": [
    "x=3\n",
    "4(x) ## This is simply *(4,x)"
   ]
  },
  {
   "cell_type": "code",
   "execution_count": 5,
   "metadata": {},
   "outputs": [
    {
     "ename": "MethodError",
     "evalue": "MethodError: no method matching *(::Int64, ::typeof(!))\nClosest candidates are:\n  *(::Any, ::Any, !Matched::Any, !Matched::Any...) at operators.jl:502\n  *(::T<:Union{Int128, Int16, Int32, Int64, Int8, UInt128, UInt16, UInt32, UInt64, UInt8}, !Matched::T<:Union{Int128, Int16, Int32, Int64, Int8, UInt128, UInt16, UInt32, UInt64, UInt8}) where T<:Union{Int128, Int16, Int32, Int64, Int8, UInt128, UInt16, UInt32, UInt64, UInt8} at int.jl:54\n  *(::Union{Int16, Int32, Int64, Int8}, !Matched::BigInt) at gmp.jl:463\n  ...",
     "output_type": "error",
     "traceback": [
      "MethodError: no method matching *(::Int64, ::typeof(!))\nClosest candidates are:\n  *(::Any, ::Any, !Matched::Any, !Matched::Any...) at operators.jl:502\n  *(::T<:Union{Int128, Int16, Int32, Int64, Int8, UInt128, UInt16, UInt32, UInt64, UInt8}, !Matched::T<:Union{Int128, Int16, Int32, Int64, Int8, UInt128, UInt16, UInt32, UInt64, UInt8}) where T<:Union{Int128, Int16, Int32, Int64, Int8, UInt128, UInt16, UInt32, UInt64, UInt8} at int.jl:54\n  *(::Union{Int16, Int32, Int64, Int8}, !Matched::BigInt) at gmp.jl:463\n  ...",
      "",
      "Stacktrace:",
      " [1] top-level scope at In[5]:1"
     ]
    }
   ],
   "source": [
    "4(!) ## could maybe mean *(4,!) or 4 * ! , if only ! had a meaning"
   ]
  },
  {
   "cell_type": "code",
   "execution_count": 6,
   "metadata": {},
   "outputs": [],
   "source": [
    "Base.:*(n::Int64, ::typeof(!)) = factorial(n)"
   ]
  },
  {
   "cell_type": "code",
   "execution_count": 8,
   "metadata": {},
   "outputs": [
    {
     "data": {
      "text/plain": [
       "24"
      ]
     },
     "execution_count": 8,
     "metadata": {},
     "output_type": "execute_result"
    }
   ],
   "source": [
    "*(4,!)"
   ]
  },
  {
   "cell_type": "code",
   "execution_count": 9,
   "metadata": {},
   "outputs": [
    {
     "data": {
      "text/plain": [
       "24"
      ]
     },
     "execution_count": 9,
     "metadata": {},
     "output_type": "execute_result"
    }
   ],
   "source": [
    "4*!"
   ]
  },
  {
   "cell_type": "code",
   "execution_count": 10,
   "metadata": {},
   "outputs": [
    {
     "data": {
      "text/plain": [
       "24"
      ]
     },
     "execution_count": 10,
     "metadata": {},
     "output_type": "execute_result"
    }
   ],
   "source": [
    "4(!)"
   ]
  },
  {
   "cell_type": "code",
   "execution_count": 11,
   "metadata": {},
   "outputs": [
    {
     "ename": "LoadError",
     "evalue": "syntax: extra token \"!\" after end of expression",
     "output_type": "error",
     "traceback": [
      "syntax: extra token \"!\" after end of expression",
      ""
     ]
    }
   ],
   "source": [
    "4!"
   ]
  },
  {
   "cell_type": "code",
   "execution_count": 12,
   "metadata": {},
   "outputs": [
    {
     "data": {
      "text/plain": [
       "3×3 Array{Float64,2}:\n",
       " 1.76167  0.149753  0.21952 \n",
       " 1.32114  1.96301   0.338723\n",
       " 1.23581  1.05462   1.41627 "
      ]
     },
     "execution_count": 12,
     "metadata": {},
     "output_type": "execute_result"
    }
   ],
   "source": [
    "# using LinearAlgebra\n",
    "exp(rand(3,3))"
   ]
  },
  {
   "cell_type": "code",
   "execution_count": 13,
   "metadata": {},
   "outputs": [
    {
     "data": {
      "text/plain": [
       "3×3 Array{Float64,2}:\n",
       " 1.0  0.0  0.0\n",
       " 0.0  1.0  0.0\n",
       " 0.0  0.0  1.0"
      ]
     },
     "execution_count": 13,
     "metadata": {},
     "output_type": "execute_result"
    }
   ],
   "source": [
    "rand(3,3)^0"
   ]
  },
  {
   "cell_type": "code",
   "execution_count": 14,
   "metadata": {},
   "outputs": [],
   "source": [
    "using LinearAlgebra"
   ]
  },
  {
   "cell_type": "code",
   "execution_count": 15,
   "metadata": {},
   "outputs": [
    {
     "data": {
      "text/plain": [
       "UniformScaling{Bool}\n",
       "true*I"
      ]
     },
     "execution_count": 15,
     "metadata": {},
     "output_type": "execute_result"
    }
   ],
   "source": [
    "I"
   ]
  },
  {
   "cell_type": "code",
   "execution_count": 17,
   "metadata": {},
   "outputs": [
    {
     "data": {
      "text/plain": [
       "3×3 Array{Int64,2}:\n",
       " 101    1    1\n",
       "   1  101    1\n",
       "   1    1  101"
      ]
     },
     "execution_count": 17,
     "metadata": {},
     "output_type": "execute_result"
    }
   ],
   "source": [
    "ones(Int, 3,3) + 100I"
   ]
  },
  {
   "cell_type": "code",
   "execution_count": 19,
   "metadata": {},
   "outputs": [
    {
     "data": {
      "text/plain": [
       "3×3 Array{Int64,2}:\n",
       " 1  0  0\n",
       " 0  1  0\n",
       " 0  0  1"
      ]
     },
     "execution_count": 19,
     "metadata": {},
     "output_type": "execute_result"
    }
   ],
   "source": [
    "Matrix{Int64}(I,3,3)"
   ]
  },
  {
   "cell_type": "code",
   "execution_count": 20,
   "metadata": {},
   "outputs": [
    {
     "ename": "ErrorException",
     "evalue": "error in method definition: function LinearAlgebra.I must be explicitly imported to be extended",
     "output_type": "error",
     "traceback": [
      "error in method definition: function LinearAlgebra.I must be explicitly imported to be extended",
      "",
      "Stacktrace:",
      " [1] top-level scope at In[20]:1"
     ]
    }
   ],
   "source": [
    "I(n) = Matrix{Int64}(I,n,n)"
   ]
  },
  {
   "cell_type": "code",
   "execution_count": 21,
   "metadata": {},
   "outputs": [
    {
     "data": {
      "text/plain": [
       "UniformScaling{Bool}"
      ]
     },
     "execution_count": 21,
     "metadata": {},
     "output_type": "execute_result"
    }
   ],
   "source": [
    "typeof(I)"
   ]
  },
  {
   "cell_type": "code",
   "execution_count": 22,
   "metadata": {},
   "outputs": [],
   "source": [
    "(::UniformScaling)(n::Int64)  = Matrix{Int64}(I,n,n)"
   ]
  },
  {
   "cell_type": "code",
   "execution_count": 23,
   "metadata": {},
   "outputs": [
    {
     "data": {
      "text/plain": [
       "4×4 Array{Int64,2}:\n",
       " 1  0  0  0\n",
       " 0  1  0  0\n",
       " 0  0  1  0\n",
       " 0  0  0  1"
      ]
     },
     "execution_count": 23,
     "metadata": {},
     "output_type": "execute_result"
    }
   ],
   "source": [
    "I(4)"
   ]
  },
  {
   "cell_type": "code",
   "execution_count": 32,
   "metadata": {},
   "outputs": [
    {
     "data": {
      "text/plain": [
       "UniformScaling{Int64}\n",
       "100*I"
      ]
     },
     "execution_count": 32,
     "metadata": {},
     "output_type": "execute_result"
    }
   ],
   "source": [
    "UniformScaling{Int64}(100)"
   ]
  },
  {
   "cell_type": "code",
   "execution_count": 34,
   "metadata": {},
   "outputs": [
    {
     "data": {
      "text/plain": [
       "UniformScaling{Bool}\n",
       "true*I"
      ]
     },
     "execution_count": 34,
     "metadata": {},
     "output_type": "execute_result"
    }
   ],
   "source": [
    "UniformScaling{Bool}(true)"
   ]
  },
  {
   "cell_type": "code",
   "execution_count": 36,
   "metadata": {},
   "outputs": [
    {
     "data": {
      "text/plain": [
       "7×7 Array{Float64,2}:\n",
       " 0.0  0.0  0.0  0.0  0.0  0.0  0.0\n",
       " 0.0  0.0  0.0  0.0  0.0  0.0  0.0\n",
       " 0.0  0.0  0.0  0.0  0.0  0.0  0.0\n",
       " 0.0  0.0  0.0  0.0  0.0  0.0  0.0\n",
       " 0.0  0.0  0.0  0.0  0.0  0.0  0.0\n",
       " 0.0  0.0  0.0  0.0  0.0  0.0  0.0\n",
       " 0.0  0.0  0.0  0.0  0.0  0.0  0.0"
      ]
     },
     "execution_count": 36,
     "metadata": {},
     "output_type": "execute_result"
    }
   ],
   "source": [
    "UniformScaling{Bool}(false) * rand(7,7)"
   ]
  },
  {
   "cell_type": "code",
   "execution_count": 37,
   "metadata": {},
   "outputs": [
    {
     "data": {
      "text/plain": [
       "UniformScaling{Int64}\n",
       "56*I"
      ]
     },
     "execution_count": 37,
     "metadata": {},
     "output_type": "execute_result"
    }
   ],
   "source": [
    "56I"
   ]
  },
  {
   "cell_type": "code",
   "execution_count": null,
   "metadata": {},
   "outputs": [],
   "source": []
  }
 ],
 "metadata": {
  "kernelspec": {
   "display_name": "Julia 1.0.0",
   "language": "julia",
   "name": "julia-1.0"
  },
  "language_info": {
   "file_extension": ".jl",
   "mimetype": "application/julia",
   "name": "julia",
   "version": "1.0.0"
  }
 },
 "nbformat": 4,
 "nbformat_minor": 1
}
