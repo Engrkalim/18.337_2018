{
 "cells": [
  {
   "cell_type": "markdown",
   "metadata": {},
   "source": [
    "# More power method (continuation of lecture 2)"
   ]
  },
  {
   "cell_type": "markdown",
   "metadata": {},
   "source": [
    "In this continuation of lecture 2, we will see that having a good abstraction of hardware resources allows us to run the **same code** in parallel.\n",
    "\n",
    "\"Parallel computing will have made it when we never have to know any of the internal details.\" Alan Edelman"
   ]
  },
  {
   "cell_type": "markdown",
   "metadata": {},
   "source": [
    "## Using parallel hardware"
   ]
  },
  {
   "cell_type": "code",
   "execution_count": null,
   "metadata": {},
   "outputs": [],
   "source": [
    "using LinearAlgebra"
   ]
  },
  {
   "cell_type": "code",
   "execution_count": null,
   "metadata": {},
   "outputs": [],
   "source": [
    "function power_method(M, v)\n",
    "    T = eltype(v)\n",
    "    for i in 1:100\n",
    "        v = M*v        # repeatedly creates a new vector and destroys the old v\n",
    "        v /= T(norm(v))\n",
    "    end\n",
    "    \n",
    "    return v, T(norm(M*v)) / T(norm(v))  # or  (M*v) ./ v\n",
    "end"
   ]
  },
  {
   "cell_type": "markdown",
   "metadata": {},
   "source": [
    "First we create a standard Julia matrix (on the CPU):"
   ]
  },
  {
   "cell_type": "code",
   "execution_count": null,
   "metadata": {},
   "outputs": [],
   "source": [
    "M = [2 1; 1 1.]"
   ]
  },
  {
   "cell_type": "markdown",
   "metadata": {},
   "source": [
    "### DistributedArrays for large arrays spread across different processors"
   ]
  },
  {
   "cell_type": "markdown",
   "metadata": {},
   "source": [
    "The Julia package [DistributedArrays.jl](https://github.com/JuliaParallel/DistributedArrays.jl) defines a `DArray` (\"distributed array\") type, which provides an abstraction that looks like a standard Julia array, but is spread across several different processors.\n",
    "\n",
    "Since modern desktops and laptops often have multiple cores, we can use this.\n",
    "\n",
    "First we allow Julia access to more processes:"
   ]
  },
  {
   "cell_type": "code",
   "execution_count": null,
   "metadata": {},
   "outputs": [],
   "source": [
    "using Distributed"
   ]
  },
  {
   "cell_type": "code",
   "execution_count": null,
   "metadata": {},
   "outputs": [],
   "source": [
    "addprocs(4)   # add cores to your Julia process"
   ]
  },
  {
   "cell_type": "code",
   "execution_count": 6,
   "metadata": {},
   "outputs": [],
   "source": [
    "#]add DistributedArrays"
   ]
  },
  {
   "cell_type": "code",
   "execution_count": 7,
   "metadata": {},
   "outputs": [],
   "source": [
    "using DistributedArrays"
   ]
  },
  {
   "cell_type": "markdown",
   "metadata": {},
   "source": [
    "There are several ways to create `DArray`s:"
   ]
  },
  {
   "cell_type": "code",
   "execution_count": 8,
   "metadata": {},
   "outputs": [
    {
     "data": {
      "text/plain": [
       "10×10 DArray{Float64,2,Array{Float64,2}}:\n",
       " 0.797213  0.951436   0.656916   0.367544  …  0.903086  0.895331    0.348658\n",
       " 0.339716  0.921422   0.799058   0.303904     0.158507  0.00050227  0.212506\n",
       " 0.131629  0.0973171  0.0762106  0.373484     0.531555  0.314167    0.41875 \n",
       " 0.511268  0.449071   0.601008   0.106522     0.762724  0.0451633   0.254405\n",
       " 0.437012  0.922265   0.952716   0.480592     0.591622  0.391823    0.657018\n",
       " 0.569394  0.195423   0.959914   0.488594  …  0.849583  0.99617     0.437544\n",
       " 0.123654  0.280004   0.943045   0.536824     0.287063  0.915536    0.879087\n",
       " 0.686117  0.471247   0.116463   0.520215     0.855908  0.518076    0.750019\n",
       " 0.823241  0.159754   0.17866    0.637679     0.85278   0.112701    0.856088\n",
       " 0.269538  0.757709   0.303293   0.126665     0.161356  0.317337    0.102364"
      ]
     },
     "execution_count": 8,
     "metadata": {},
     "output_type": "execute_result"
    }
   ],
   "source": [
    "M = drand(10, 10)"
   ]
  },
  {
   "cell_type": "markdown",
   "metadata": {},
   "source": [
    "If we really need to, we can find out where Julia is storing each piece of the array:"
   ]
  },
  {
   "cell_type": "code",
   "execution_count": 9,
   "metadata": {},
   "outputs": [
    {
     "data": {
      "text/plain": [
       "2×2 Array{Tuple{UnitRange{Int64},UnitRange{Int64}},2}:\n",
       " (1:5, 1:5)   (1:5, 6:10) \n",
       " (6:10, 1:5)  (6:10, 6:10)"
      ]
     },
     "execution_count": 9,
     "metadata": {},
     "output_type": "execute_result"
    }
   ],
   "source": [
    "M.indices"
   ]
  },
  {
   "cell_type": "markdown",
   "metadata": {},
   "source": [
    "This shows that the array was divided up into equal pieces on each of the four processors."
   ]
  },
  {
   "cell_type": "code",
   "execution_count": 10,
   "metadata": {},
   "outputs": [
    {
     "data": {
      "text/plain": [
       "10-element DArray{Float64,1,Array{Float64,1}}:\n",
       " 0.08812213640942379\n",
       " 0.8799860870671785 \n",
       " 0.6398420530320019 \n",
       " 0.08135629150174095\n",
       " 0.9598502246268485 \n",
       " 0.845547943017942  \n",
       " 0.11628654731689991\n",
       " 0.4286055071471504 \n",
       " 0.38237675695680995\n",
       " 0.6548863175117976 "
      ]
     },
     "execution_count": 10,
     "metadata": {},
     "output_type": "execute_result"
    }
   ],
   "source": [
    "v = drand(10)"
   ]
  },
  {
   "cell_type": "code",
   "execution_count": 11,
   "metadata": {},
   "outputs": [
    {
     "data": {
      "text/plain": [
       "10-element DArray{Float64,1,Array{Float64,1}}:\n",
       " 3.4594512387095055\n",
       " 2.5708100111146392\n",
       " 1.2863793868719497\n",
       " 2.916879741387089 \n",
       " 3.8433751978861492\n",
       " 2.5272485636212085\n",
       " 2.727578909940217 \n",
       " 3.179995093148907 \n",
       " 2.3599963371995325\n",
       " 1.7310246056069172"
      ]
     },
     "execution_count": 11,
     "metadata": {},
     "output_type": "execute_result"
    }
   ],
   "source": [
    "M * v"
   ]
  },
  {
   "cell_type": "markdown",
   "metadata": {},
   "source": [
    "Again, we see that `*` has been defined for these objects, so once again we can just run"
   ]
  },
  {
   "cell_type": "code",
   "execution_count": 12,
   "metadata": {},
   "outputs": [
    {
     "data": {
      "text/plain": [
       "([0.419647, 0.2696, 0.177278, 0.305874, 0.369741, 0.327932, 0.275749, 0.414283, 0.324245, 0.170807], 4.918849245763999)"
      ]
     },
     "execution_count": 12,
     "metadata": {},
     "output_type": "execute_result"
    }
   ],
   "source": [
    "power_method(M, v)"
   ]
  },
  {
   "cell_type": "markdown",
   "metadata": {},
   "source": [
    "## Operators"
   ]
  },
  {
   "cell_type": "markdown",
   "metadata": {},
   "source": [
    "Consider the following averaging operator that we could call a random walk or averaging operator:"
   ]
  },
  {
   "cell_type": "code",
   "execution_count": 13,
   "metadata": {},
   "outputs": [
    {
     "data": {
      "text/plain": [
       "averaging (generic function with 1 method)"
      ]
     },
     "execution_count": 13,
     "metadata": {},
     "output_type": "execute_result"
    }
   ],
   "source": [
    "averaging(n) = 0.5 * SymTridiagonal(zeros(n), ones(n-1))"
   ]
  },
  {
   "cell_type": "code",
   "execution_count": 14,
   "metadata": {},
   "outputs": [
    {
     "data": {
      "text/plain": [
       "7×7 SymTridiagonal{Float64,Array{Float64,1}}:\n",
       " 0.0  0.5   ⋅    ⋅    ⋅    ⋅    ⋅ \n",
       " 0.5  0.0  0.5   ⋅    ⋅    ⋅    ⋅ \n",
       "  ⋅   0.5  0.0  0.5   ⋅    ⋅    ⋅ \n",
       "  ⋅    ⋅   0.5  0.0  0.5   ⋅    ⋅ \n",
       "  ⋅    ⋅    ⋅   0.5  0.0  0.5   ⋅ \n",
       "  ⋅    ⋅    ⋅    ⋅   0.5  0.0  0.5\n",
       "  ⋅    ⋅    ⋅    ⋅    ⋅   0.5  0.0"
      ]
     },
     "execution_count": 14,
     "metadata": {},
     "output_type": "execute_result"
    }
   ],
   "source": [
    "averaging(7)"
   ]
  },
  {
   "cell_type": "code",
   "execution_count": 15,
   "metadata": {},
   "outputs": [
    {
     "data": {
      "text/plain": [
       "7-element Array{Float64,1}:\n",
       "  1.5\n",
       "  3.0\n",
       "  5.0\n",
       "  7.0\n",
       "  9.0\n",
       " 11.0\n",
       "  5.5"
      ]
     },
     "execution_count": 15,
     "metadata": {},
     "output_type": "execute_result"
    }
   ],
   "source": [
    "v = 1.0:2:13\n",
    "averaging(7) * v"
   ]
  },
  {
   "cell_type": "code",
   "execution_count": 16,
   "metadata": {},
   "outputs": [
    {
     "data": {
      "text/plain": [
       "7×7 SymTridiagonal{Float64,Array{Float64,1}}:\n",
       " 0.0  0.5   ⋅    ⋅    ⋅    ⋅    ⋅ \n",
       " 0.5  0.0  0.5   ⋅    ⋅    ⋅    ⋅ \n",
       "  ⋅   0.5  0.0  0.5   ⋅    ⋅    ⋅ \n",
       "  ⋅    ⋅   0.5  0.0  0.5   ⋅    ⋅ \n",
       "  ⋅    ⋅    ⋅   0.5  0.0  0.5   ⋅ \n",
       "  ⋅    ⋅    ⋅    ⋅   0.5  0.0  0.5\n",
       "  ⋅    ⋅    ⋅    ⋅    ⋅   0.5  0.0"
      ]
     },
     "execution_count": 16,
     "metadata": {},
     "output_type": "execute_result"
    }
   ],
   "source": [
    "averaging(7)"
   ]
  },
  {
   "cell_type": "code",
   "execution_count": 17,
   "metadata": {},
   "outputs": [
    {
     "data": {
      "text/plain": [
       "1.0:2.0:13.0"
      ]
     },
     "execution_count": 17,
     "metadata": {},
     "output_type": "execute_result"
    }
   ],
   "source": [
    "v"
   ]
  },
  {
   "cell_type": "code",
   "execution_count": 18,
   "metadata": {},
   "outputs": [
    {
     "data": {
      "text/plain": [
       "([0.198757, 0.339299, 0.479841, 0.479841, 0.479841, 0.339299, 0.198757], 0.9238795325112868)"
      ]
     },
     "execution_count": 18,
     "metadata": {},
     "output_type": "execute_result"
    }
   ],
   "source": [
    "power_method(averaging(7), v)"
   ]
  },
  {
   "cell_type": "markdown",
   "metadata": {},
   "source": [
    "Although we have saved some memory by using a `SymTridiagonal` structure, we clearly are still storing far more information than we need to, since this is just \"0 on the diagonal and 0.5 on the super- and sub-diagonal\".\n",
    "\n",
    "We can define a new type in Julia to reflect this. We realise that we do **not actually need to store any information inside the \"matrix\"**. In fact, we will rather define a **linear operator**, just as we would really like to do in mathematics:"
   ]
  },
  {
   "cell_type": "code",
   "execution_count": 24,
   "metadata": {},
   "outputs": [],
   "source": [
    "struct AveragingOp\n",
    "    # contains *no* information\n",
    "end"
   ]
  },
  {
   "cell_type": "markdown",
   "metadata": {},
   "source": [
    "We have a \"dummy type\" that contains no information. It will be interesting because of \"what it can do\", i.e. the operations that we define that involve objects of this type."
   ]
  },
  {
   "cell_type": "markdown",
   "metadata": {},
   "source": [
    "We create an object of this type, called `A`, with"
   ]
  },
  {
   "cell_type": "code",
   "execution_count": 25,
   "metadata": {},
   "outputs": [
    {
     "data": {
      "text/plain": [
       "AveragingOp()"
      ]
     },
     "execution_count": 25,
     "metadata": {},
     "output_type": "execute_result"
    }
   ],
   "source": [
    "A = AveragingOp()  # default constructor"
   ]
  },
  {
   "cell_type": "code",
   "execution_count": 26,
   "metadata": {},
   "outputs": [
    {
     "data": {
      "text/plain": [
       "AveragingOp()"
      ]
     },
     "execution_count": 26,
     "metadata": {},
     "output_type": "execute_result"
    }
   ],
   "source": [
    "A"
   ]
  },
  {
   "cell_type": "markdown",
   "metadata": {},
   "source": [
    "We will define what it means to multiply an object of this type by a vector. The simplest case would be"
   ]
  },
  {
   "cell_type": "code",
   "execution_count": 27,
   "metadata": {},
   "outputs": [
    {
     "data": {
      "text/plain": [
       "* (generic function with 350 methods)"
      ]
     },
     "execution_count": 27,
     "metadata": {},
     "output_type": "execute_result"
    }
   ],
   "source": [
    "import Base.*  # necessary to overload *\n",
    "\n",
    "function *(A::AveragingOp, v::AbstractVector)\n",
    "    v  # just the identity operator\n",
    "end"
   ]
  },
  {
   "cell_type": "markdown",
   "metadata": {},
   "source": [
    "which gives an identity operator:"
   ]
  },
  {
   "cell_type": "code",
   "execution_count": 30,
   "metadata": {},
   "outputs": [
    {
     "data": {
      "text/plain": [
       "3-element Array{Float64,1}:\n",
       "  1.0\n",
       "  2.0\n",
       " 43.0"
      ]
     },
     "execution_count": 30,
     "metadata": {},
     "output_type": "execute_result"
    }
   ],
   "source": [
    "v = [1, 2, 43.0]\n",
    "A*v"
   ]
  },
  {
   "cell_type": "code",
   "execution_count": 31,
   "metadata": {},
   "outputs": [
    {
     "data": {
      "text/plain": [
       "([0.0232244, 0.0464489, 0.998651], 1.0)"
      ]
     },
     "execution_count": 31,
     "metadata": {},
     "output_type": "execute_result"
    }
   ],
   "source": [
    "power_method(A, v)"
   ]
  },
  {
   "cell_type": "markdown",
   "metadata": {},
   "source": [
    "We now define the actual averaging operation. It takes a vector and returns a new vector:"
   ]
  },
  {
   "cell_type": "code",
   "execution_count": 32,
   "metadata": {},
   "outputs": [
    {
     "data": {
      "text/plain": [
       "* (generic function with 350 methods)"
      ]
     },
     "execution_count": 32,
     "metadata": {},
     "output_type": "execute_result"
    }
   ],
   "source": [
    "function *(A::AveragingOp, v::AbstractVector)\n",
    "    [ v[1];    # ; concatenates\n",
    "      [(v[i-1] + v[i+1])/2  for i in 2:length(v)-1];    # array comprehension\n",
    "      v[end] \n",
    "    ]\n",
    "end"
   ]
  },
  {
   "cell_type": "code",
   "execution_count": 33,
   "metadata": {},
   "outputs": [
    {
     "name": "stdout",
     "output_type": "stream",
     "text": [
      "v = [1, 4, 9, 16, 25, 36, 49]\n"
     ]
    },
    {
     "data": {
      "text/plain": [
       "7-element Array{Float64,1}:\n",
       "  1.0\n",
       "  5.0\n",
       " 10.0\n",
       " 17.0\n",
       " 26.0\n",
       " 37.0\n",
       " 49.0"
      ]
     },
     "execution_count": 33,
     "metadata": {},
     "output_type": "execute_result"
    }
   ],
   "source": [
    "v = (1:7).^2\n",
    "@show v\n",
    "A*v"
   ]
  },
  {
   "cell_type": "markdown",
   "metadata": {},
   "source": [
    "Since `*` now works, we can again just reuse our some generic `power_method` implementation:"
   ]
  },
  {
   "cell_type": "code",
   "execution_count": 36,
   "metadata": {},
   "outputs": [
    {
     "data": {
      "text/plain": [
       "([0.0127339, 0.114605, 0.216477, 0.318349, 0.42022, 0.522092, 0.623963], 1.0000000107136144)"
      ]
     },
     "execution_count": 36,
     "metadata": {},
     "output_type": "execute_result"
    }
   ],
   "source": [
    "power_method(A, float.(v))"
   ]
  },
  {
   "cell_type": "markdown",
   "metadata": {},
   "source": [
    "You could worry that `*` is not the correct notation. Mathematically, for an operator $\\mathcal{L}$ operating on a vector $\\mathbf{v}$, we might write $\\mathcal{L} \\mathbf{v}$, just using juxtaposition. Unfortunately, we are unable to use this notation in Julia.\n",
    "\n",
    "We could instead use a `⋅` for juxtaposition. Now that we have defined `*`, we can just do"
   ]
  },
  {
   "cell_type": "code",
   "execution_count": 38,
   "metadata": {},
   "outputs": [
    {
     "name": "stderr",
     "output_type": "stream",
     "text": [
      "WARNING: import of LinearAlgebra.⋅ into Main conflicts with an existing identifier; ignored.\n"
     ]
    },
    {
     "data": {
      "text/plain": [
       "⋅ (generic function with 1 method)"
      ]
     },
     "execution_count": 38,
     "metadata": {},
     "output_type": "execute_result"
    }
   ],
   "source": [
    "import LinearAlgebra.⋅\n",
    "A::AveragingOp ⋅ v = A * v"
   ]
  },
  {
   "cell_type": "code",
   "execution_count": 39,
   "metadata": {},
   "outputs": [
    {
     "data": {
      "text/plain": [
       "7-element Array{Float64,1}:\n",
       "  1.0\n",
       "  5.0\n",
       " 10.0\n",
       " 17.0\n",
       " 26.0\n",
       " 37.0\n",
       " 49.0"
      ]
     },
     "execution_count": 39,
     "metadata": {},
     "output_type": "execute_result"
    }
   ],
   "source": [
    "A ⋅ v"
   ]
  },
  {
   "cell_type": "markdown",
   "metadata": {},
   "source": [
    "We can even define $\\mathcal{L}(\\mathbf{v})$:"
   ]
  },
  {
   "cell_type": "code",
   "execution_count": 40,
   "metadata": {},
   "outputs": [],
   "source": [
    "(A::AveragingOp)(v) = A*v"
   ]
  },
  {
   "cell_type": "code",
   "execution_count": 41,
   "metadata": {},
   "outputs": [
    {
     "data": {
      "text/plain": [
       "7-element Array{Float64,1}:\n",
       "  1.0\n",
       "  5.0\n",
       " 10.0\n",
       " 17.0\n",
       " 26.0\n",
       " 37.0\n",
       " 49.0"
      ]
     },
     "execution_count": 41,
     "metadata": {},
     "output_type": "execute_result"
    }
   ],
   "source": [
    "A(v)"
   ]
  }
 ],
 "metadata": {
  "kernelspec": {
   "display_name": "Julia 1.0.0",
   "language": "julia",
   "name": "julia-1.0"
  },
  "language_info": {
   "file_extension": ".jl",
   "mimetype": "application/julia",
   "name": "julia",
   "version": "1.0.0"
  }
 },
 "nbformat": 4,
 "nbformat_minor": 1
}
