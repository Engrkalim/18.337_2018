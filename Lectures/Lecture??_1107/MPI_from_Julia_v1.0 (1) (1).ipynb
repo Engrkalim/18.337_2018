{
 "cells": [
  {
   "cell_type": "markdown",
   "metadata": {},
   "source": [
    "# JULIA MPI First Example: pi computaton"
   ]
  },
  {
   "cell_type": "markdown",
   "metadata": {},
   "source": [
    "First step was to load MPI on my mac.  Seems mpich and openmpi are two reasonable choices\n",
    "with probably no beginner's reason to prefer one over the other. <br>\n",
    "\n",
    "I did  <t> brew install gcc </t> first to get the gcc compiler.  I ran into problems.  \n",
    "The magic thing that told me what to do was <t> brew doctor </t>.  It wanted me to type\n",
    "<t> xcode-select --install </t> and when I did, all was good.  I then typed\n",
    "<t> brew install mpich </t> and mpi was just working."
   ]
  },
  {
   "cell_type": "markdown",
   "metadata": {},
   "source": [
    "My first example was to reproduce <a href=\"http://www.mcs.anl.gov/research/projects/mpi/tutorial/mpiexmpl/src/pi/C/solution.html\">\n",
    "the classic mypi </a> in the notebook"
   ]
  },
  {
   "cell_type": "code",
   "execution_count": 1,
   "metadata": {},
   "outputs": [],
   "source": [
    "using Distributed\n",
    "using MPI"
   ]
  },
  {
   "cell_type": "code",
   "execution_count": 2,
   "metadata": {},
   "outputs": [
    {
     "data": {
      "text/plain": [
       "MPI.MPIManager(np=4,launched=false,mode=MPI_ON_WORKERS)"
      ]
     },
     "execution_count": 2,
     "metadata": {},
     "output_type": "execute_result"
    }
   ],
   "source": [
    "m = MPIManager(np=4)"
   ]
  },
  {
   "cell_type": "code",
   "execution_count": 3,
   "metadata": {},
   "outputs": [
    {
     "data": {
      "text/plain": [
       "4-element Array{Int64,1}:\n",
       " 2\n",
       " 3\n",
       " 4\n",
       " 5"
      ]
     },
     "execution_count": 3,
     "metadata": {},
     "output_type": "execute_result"
    }
   ],
   "source": [
    "addprocs(m)\n",
    "#@mpi_do m comm = MPI.COMM_WORLD"
   ]
  },
  {
   "cell_type": "code",
   "execution_count": 4,
   "metadata": {},
   "outputs": [],
   "source": [
    "@mpi_do m comm = MPI.COMM_WORLD\n",
    "#\n",
    "# Enter number of intervals, and tell every processor\n",
    "# Traditional MPI would do this with a BCAST\n",
    " @mpi_do m n = rand()"
   ]
  },
  {
   "cell_type": "code",
   "execution_count": 5,
   "metadata": {},
   "outputs": [
    {
     "name": "stdout",
     "output_type": "stream",
     "text": [
      "      From worker 2:\t0.2148202830106598\n",
      "      From worker 3:\t0.8744544203099425\n",
      "      From worker 4:\t0.2453806602381643\n",
      "      From worker 5:\t0.63878792561216\n"
     ]
    }
   ],
   "source": [
    "# Let's see if the processors got it\n",
    "@mpi_do m println(n)"
   ]
  },
  {
   "cell_type": "code",
   "execution_count": 6,
   "metadata": {},
   "outputs": [
    {
     "name": "stdout",
     "output_type": "stream",
     "text": [
      "      From worker 5:\t3\n",
      "      From worker 3:\t1\n",
      "      From worker 2:\t0\n",
      "      From worker 4:\t2\n"
     ]
    }
   ],
   "source": [
    "# my MPI id\n",
    "@mpi_do m myid = MPI.Comm_rank(comm)\n",
    "@mpi_do m println(myid)"
   ]
  },
  {
   "cell_type": "code",
   "execution_count": 7,
   "metadata": {},
   "outputs": [
    {
     "name": "stdout",
     "output_type": "stream",
     "text": [
      "      From worker 3:\t4\n",
      "      From worker 2:\t4\n",
      "      From worker 5:\t4\n",
      "      From worker 4:\t4\n"
     ]
    }
   ],
   "source": [
    "# Get the number of processors\n",
    "@mpi_do m np = MPI.Comm_size(comm)\n",
    "@mpi_do m println(np)"
   ]
  },
  {
   "cell_type": "markdown",
   "metadata": {},
   "source": [
    "Compute $\\int_0^1 4/(1+x^2) dx= 4 atan(x)]_0^1$ which evaluates to $\\pi$"
   ]
  },
  {
   "cell_type": "code",
   "execution_count": 8,
   "metadata": {},
   "outputs": [
    {
     "data": {
      "text/html": [
       "    <script class='js-collapse-script'>\n",
       "        var curMatch =\n",
       "            window.location.href\n",
       "            .match(/(.*?)\\/notebooks\\/.*\\.ipynb/);\n",
       "\n",
       "        curMatch = curMatch ||\n",
       "            window.location.href\n",
       "            .match(/(.*?)\\/apps\\/.*\\.ipynb/);\n",
       "\n",
       "        if ( curMatch ) {\n",
       "            $('head').append('<base href=\"' + curMatch[1] + '/\">');\n",
       "        }\n",
       "    </script>\n"
      ],
      "text/plain": [
       "HTML{String}(\"    <script class='js-collapse-script'>\\n        var curMatch =\\n            window.location.href\\n            .match(/(.*?)\\\\/notebooks\\\\/.*\\\\.ipynb/);\\n\\n        curMatch = curMatch ||\\n            window.location.href\\n            .match(/(.*?)\\\\/apps\\\\/.*\\\\.ipynb/);\\n\\n        if ( curMatch ) {\\n            \\$('head').append('<base href=\\\"' + curMatch[1] + '/\\\">');\\n        }\\n    </script>\\n\")"
      ]
     },
     "metadata": {},
     "output_type": "display_data"
    },
    {
     "data": {
      "text/html": [
       "<script class='js-collapse-script' src='/assetserver/f0aa87d12e0d5f38089b2ee07fdf6e362c749226-assets/webio/dist/bundle.js'></script>"
      ],
      "text/plain": [
       "HTML{String}(\"<script class='js-collapse-script' src='/assetserver/f0aa87d12e0d5f38089b2ee07fdf6e362c749226-assets/webio/dist/bundle.js'></script>\")"
      ]
     },
     "metadata": {},
     "output_type": "display_data"
    },
    {
     "data": {
      "text/html": [
       "<script class='js-collapse-script' src='/assetserver/f0aa87d12e0d5f38089b2ee07fdf6e362c749226-assets/providers/ijulia_setup.js'></script>"
      ],
      "text/plain": [
       "HTML{String}(\"<script class='js-collapse-script' src='/assetserver/f0aa87d12e0d5f38089b2ee07fdf6e362c749226-assets/providers/ijulia_setup.js'></script>\")"
      ]
     },
     "metadata": {},
     "output_type": "display_data"
    },
    {
     "data": {
      "text/html": [
       "  <script class='js-collapse-script'>\n",
       "    $('.js-collapse-script').parent('.output_subarea').css('padding', '0');\n",
       "  </script>\n"
      ],
      "text/plain": [
       "HTML{String}(\"  <script class='js-collapse-script'>\\n    \\$('.js-collapse-script').parent('.output_subarea').css('padding', '0');\\n  </script>\\n\")"
      ]
     },
     "metadata": {},
     "output_type": "display_data"
    }
   ],
   "source": [
    "using Interact"
   ]
  },
  {
   "cell_type": "code",
   "execution_count": 9,
   "metadata": {},
   "outputs": [
    {
     "name": "stdout",
     "output_type": "stream",
     "text": [
      "      From worker 2:\t1.1146639167236572e-13\n",
      "  1.077969 seconds (111.48 k allocations: 5.463 MiB)\n"
     ]
    }
   ],
   "source": [
    "@time @mpi_do m mypi = let\n",
    "    n = 50_000_000\n",
    "    comm = MPI.COMM_WORLD\n",
    "    s = 0.0\n",
    "    for i = MPI.Comm_rank(comm) + 1 : MPI.Comm_size(comm) : n \n",
    "        x = (i - .5)/n \n",
    "        s += 4/(1 + x^2) \n",
    "    end\n",
    "    mypi = s/n\n",
    "    our_π = MPI.Reduce(mypi, MPI.SUM, 0, comm)\n",
    "    if myid==0\n",
    "        println(our_π - π) \n",
    "    end\n",
    "    mypi\n",
    "end"
   ]
  },
  {
   "cell_type": "code",
   "execution_count": 10,
   "metadata": {},
   "outputs": [
    {
     "data": {
      "text/plain": [
       "4-element Array{Tuple{Float64,Irrational{:π}},1}:\n",
       " (-5.99999570027876e-8, π = 3.1415926535897...)  \n",
       " (-2.0000185063651088e-8, π = 3.1415926535897...)\n",
       " (1.9999810252357975e-8, π = 3.1415926535897...) \n",
       " (5.999988594851402e-8, π = 3.1415926535897...)  "
      ]
     },
     "execution_count": 10,
     "metadata": {},
     "output_type": "execute_result"
    }
   ],
   "source": [
    "[( @fetchfrom i π-4*mypi, π  ) for i in workers()] "
   ]
  },
  {
   "cell_type": "code",
   "execution_count": 11,
   "metadata": {},
   "outputs": [
    {
     "data": {
      "text/plain": [
       "f_serial2 (generic function with 1 method)"
      ]
     },
     "execution_count": 11,
     "metadata": {},
     "output_type": "execute_result"
    }
   ],
   "source": [
    "function f_serial()\n",
    "    n = 50_000_000\n",
    "    h = 1/n\n",
    "    our_π = 0.0\n",
    "    for i = 0:h:1\n",
    "        our_π += 4/(1 + i^2)\n",
    "    end\n",
    "    our_π*h\n",
    "end\n",
    "\n",
    "function f_serial2(n)\n",
    "    our_π = 0.0\n",
    "    for i = 1:n\n",
    "        x = (i - 0.5)/n\n",
    "        our_π += 4/(1 + x^2)\n",
    "    end\n",
    "    our_π/n\n",
    "end"
   ]
  },
  {
   "cell_type": "code",
   "execution_count": 12,
   "metadata": {},
   "outputs": [
    {
     "name": "stdout",
     "output_type": "stream",
     "text": [
      "  0.102584 seconds (5 allocations: 176 bytes)\n"
     ]
    },
    {
     "data": {
      "text/plain": [
       "3.1415926535895617"
      ]
     },
     "execution_count": 12,
     "metadata": {},
     "output_type": "execute_result"
    }
   ],
   "source": [
    "f_serial() #warmup\n",
    "f_serial()\n",
    "f_serial2(50_000_000) #warmup\n",
    "@time f_serial2(50_000_000)"
   ]
  },
  {
   "cell_type": "code",
   "execution_count": 13,
   "metadata": {},
   "outputs": [
    {
     "data": {
      "text/plain": [
       "f_par (generic function with 1 method)"
      ]
     },
     "execution_count": 13,
     "metadata": {},
     "output_type": "execute_result"
    }
   ],
   "source": [
    "function f_par(n)\n",
    "\n",
    " @mpi_do m begin\n",
    "    comm = MPI.COMM_WORLD\n",
    "       \n",
    "    s = 0.0\n",
    "    for i = MPI.Comm_rank(comm) + 1 : MPI.Comm_size(comm) : $n \n",
    "        x = (i - .5)/$n \n",
    "        global s += 4/(1 + x^2) \n",
    "    end\n",
    "    mypi = s/$n\n",
    "    our_π = MPI.Reduce(mypi, MPI.SUM, 0, comm)\n",
    "    #if myid==0\n",
    "     #   println(our_π - π) \n",
    "   # end\n",
    "end\n",
    "@fetchfrom 2 our_π   \n",
    "end"
   ]
  },
  {
   "cell_type": "code",
   "execution_count": 14,
   "metadata": {},
   "outputs": [
    {
     "name": "stdout",
     "output_type": "stream",
     "text": [
      "  0.028434 seconds (452 allocations: 29.531 KiB)\n"
     ]
    },
    {
     "data": {
      "text/plain": [
       "3.1415926535899046"
      ]
     },
     "execution_count": 14,
     "metadata": {},
     "output_type": "execute_result"
    }
   ],
   "source": [
    "@mpi_do m function _pi_sum_par(n)\n",
    "    comm = MPI.COMM_WORLD\n",
    "\n",
    "    s = 0.0\n",
    "    for i = MPI.Comm_rank(comm) + 1 : MPI.Comm_size(comm) : n\n",
    "        x = (i - .5)/n \n",
    "        s += 4/(1 + x^2) \n",
    "    end\n",
    "    mypi = s/n\n",
    "    our_π = MPI.Reduce(mypi, MPI.SUM, 0, comm)\n",
    "    return our_π\n",
    "end\n",
    "function f_par2(n)\n",
    "    @mpi_do m tmp = _pi_sum_par($n)\n",
    "    @fetchfrom 2 tmp\n",
    "end\n",
    "f_par(50_000_000) #warmup\n",
    "f_par(50_000_000)\n",
    "f_par2(50_000_000) #warmup\n",
    "@time f_par2(50_000_000)"
   ]
  },
  {
   "cell_type": "code",
   "execution_count": 15,
   "metadata": {},
   "outputs": [
    {
     "data": {
      "text/plain": [
       "π = 3.1415926535897..."
      ]
     },
     "execution_count": 15,
     "metadata": {},
     "output_type": "execute_result"
    }
   ],
   "source": [
    "π"
   ]
  },
  {
   "cell_type": "code",
   "execution_count": 16,
   "metadata": {},
   "outputs": [
    {
     "data": {
      "text/plain": [
       "7-element Array{Float64,1}:\n",
       "  8.333333312293689e-8  \n",
       "  8.333307377483834e-10 \n",
       "  8.323119971009874e-12 \n",
       "  1.1013412404281553e-13\n",
       " -1.0702549957386509e-13\n",
       "  4.2366110619695974e-13\n",
       " -2.531308496145357e-14 "
      ]
     },
     "execution_count": 16,
     "metadata": {},
     "output_type": "execute_result"
    }
   ],
   "source": [
    "[f_par2(10^k) for k=3:9] .- π"
   ]
  },
  {
   "cell_type": "code",
   "execution_count": 11,
   "metadata": {},
   "outputs": [],
   "source": [
    "@mpi_do m using Elemental\n",
    "@mpi_do m using LinearAlgebra\n",
    "@mpi_do m A = Elemental.DistMatrix(Float64)\n",
    "@mpi_do m Elemental.gaussian!(A, 1000, 1000)"
   ]
  },
  {
   "cell_type": "code",
   "execution_count": 39,
   "metadata": {},
   "outputs": [
    {
     "name": "stdout",
     "output_type": "stream",
     "text": [
      " 13.969891 seconds (15 allocations: 124.390 MiB, 0.10% gc time)\n"
     ]
    }
   ],
   "source": [
    "n=4000\n",
    "B = randn(n,n)\n",
    "using LinearAlgebra\n",
    "@time svdvals(B);"
   ]
  },
  {
   "cell_type": "code",
   "execution_count": 38,
   "metadata": {},
   "outputs": [
    {
     "name": "stdout",
     "output_type": "stream",
     "text": [
      " 12.310227 seconds (862 allocations: 49.121 KiB)\n"
     ]
    }
   ],
   "source": [
    "n = 4000\n",
    "@mpi_do m Elemental.gaussian!(A, $n,$n)\n",
    "@time @mpi_do m s = svdvals(A)\n",
    "#@mpi_do m println(s)\n",
    "#@mpi_do m println(size(U))"
   ]
  },
  {
   "cell_type": "code",
   "execution_count": 34,
   "metadata": {},
   "outputs": [
    {
     "ename": "UndefVarError",
     "evalue": "UndefVarError: A not defined",
     "output_type": "error",
     "traceback": [
      "UndefVarError: A not defined",
      "",
      "Stacktrace:",
      " [1] top-level scope at In[34]:1"
     ]
    }
   ],
   "source": []
  },
  {
   "cell_type": "code",
   "execution_count": null,
   "metadata": {},
   "outputs": [],
   "source": []
  }
 ],
 "metadata": {
  "anaconda-cloud": {},
  "kernelspec": {
   "display_name": "Julia 1.0.0",
   "language": "julia",
   "name": "julia-1.0"
  },
  "language_info": {
   "file_extension": ".jl",
   "mimetype": "application/julia",
   "name": "julia",
   "version": "1.0.0"
  }
 },
 "nbformat": 4,
 "nbformat_minor": 1
}
