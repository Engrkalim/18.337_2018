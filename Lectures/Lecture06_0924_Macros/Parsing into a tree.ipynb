{
 "cells": [
  {
   "cell_type": "code",
   "execution_count": 52,
   "metadata": {},
   "outputs": [
    {
     "data": {
      "text/plain": [
       "tree (generic function with 6 methods)"
      ]
     },
     "execution_count": 52,
     "metadata": {},
     "output_type": "execute_result"
    }
   ],
   "source": [
    "tree(v::Tuple) = tree(v...)\n",
    "tree(a,b) = throw(\"Need an odd number of arguments\")\n",
    "tree(a) = throw(\"Need at least three arguments\")\n",
    "tree(a,b,c) = Expr(:call,a,b,c)\n",
    "tree(v...) = Expr(:call,v[1],tree(v[2:end-1]),v[end])"
   ]
  },
  {
   "cell_type": "code",
   "execution_count": 66,
   "metadata": {},
   "outputs": [
    {
     "name": "stdout",
     "output_type": "stream",
     "text": [
      "tree(:*, :+, :^, :x, 3, :y, 4) = :((x ^ 3 + y) * 4)\n",
      "tree(:*, :^, :+, :x, :y, 3, 4) = :((x + y) ^ 3 * 4)\n",
      "tree(:*, :^, :+, :x, 3, :y, 4) = :((x + 3) ^ y * 4)\n"
     ]
    }
   ],
   "source": [
    "@show tree(:*,:+,:^,:x,3,:y,4)\n",
    "# Interchange args 2&3, and 5&6\n",
    "@show tree(:*,:^,:+,:x,:y,3,4);\n",
    "@show tree(:*,:^,:+,:x,3,:y,4);"
   ]
  }
 ],
 "metadata": {
  "kernelspec": {
   "display_name": "Julia 1.0.0",
   "language": "julia",
   "name": "julia-1.0"
  },
  "language_info": {
   "file_extension": ".jl",
   "mimetype": "application/julia",
   "name": "julia",
   "version": "1.0.0"
  }
 },
 "nbformat": 4,
 "nbformat_minor": 2
}
