{
 "cells": [
  {
   "cell_type": "code",
   "execution_count": 1,
   "metadata": {},
   "outputs": [
    {
     "name": "stderr",
     "output_type": "stream",
     "text": [
      "INFO: Nothing to be done\n",
      "INFO: METADATA is out-of-date — you may not have the latest version of LightGraphs\n",
      "INFO: Use `Pkg.update()` to get the latest versions of your packages\n"
     ]
    }
   ],
   "source": [
    "Pkg.add(\"LightGraphs\")"
   ]
  },
  {
   "cell_type": "code",
   "execution_count": 15,
   "metadata": {},
   "outputs": [
    {
     "name": "stderr",
     "output_type": "stream",
     "text": [
      "┌ Info: Precompiling TikzGraphs [b4f28e30-c73f-5eaf-a395-8a9db949a742]\n",
      "└ @ Base loading.jl:1186\n"
     ]
    }
   ],
   "source": [
    "using LightGraphs, TikzGraphs"
   ]
  },
  {
   "cell_type": "markdown",
   "metadata": {},
   "source": [
    "## Draw AST (Abstract Syntax Tree)"
   ]
  },
  {
   "cell_type": "code",
   "execution_count": 16,
   "metadata": {},
   "outputs": [
    {
     "data": {
      "text/plain": [
       "traverse! (generic function with 1 method)"
      ]
     },
     "execution_count": 16,
     "metadata": {},
     "output_type": "execute_result"
    }
   ],
   "source": [
    "function traverse!(g, labels, ex)\n",
    "\n",
    "    top_vertex = add_vertex!(g)\n",
    "    push!(labels, string(\"\\\\texttt{\", ex.head, \"}\"))\n",
    "    \n",
    "    for i in 1:length(ex.args)\n",
    "        if isa(ex.args[i], Expr)\n",
    "            top = traverse!(g, labels, ex.args[i])\n",
    "            add_edge!(g, top_vertex, top)\n",
    "            \n",
    "        else\n",
    "            n = add_vertex!(g)\n",
    "            add_edge!(g, top_vertex, n)\n",
    "            \n",
    "            if ex.args[i] == :(^)\n",
    "                #push!(labels, \"power\")\n",
    "                push!(labels, \"\\\\textasciicircum\")\n",
    "            else\n",
    "                \n",
    "                push!(labels, string(\"\\\\texttt{\", ex.args[i], \"}\"))\n",
    "            end\n",
    "        end\n",
    "    end\n",
    "    \n",
    "    return top_vertex\n",
    "    \n",
    "end"
   ]
  },
  {
   "cell_type": "code",
   "execution_count": 17,
   "metadata": {},
   "outputs": [
    {
     "data": {
      "text/plain": [
       "draw_syntax_tree (generic function with 1 method)"
      ]
     },
     "execution_count": 17,
     "metadata": {},
     "output_type": "execute_result"
    }
   ],
   "source": [
    "function draw_syntax_tree(ex::Expr)\n",
    "    g = Graph()\n",
    "    labels = String[]\n",
    "    \n",
    "    traverse!(g, labels, ex)\n",
    "    \n",
    "    TikzGraphs.plot(g, labels)\n",
    "end"
   ]
  },
  {
   "cell_type": "code",
   "execution_count": 19,
   "metadata": {},
   "outputs": [
    {
     "name": "stdout",
     "output_type": "stream",
     "text": [
      "! LaTeX Error: File `standalone.cls' not found.\n",
      "\n",
      "Type X to quit or <RETURN> to proceed,\n",
      "or enter new name. (Default extension: cls)\n",
      "\n",
      "Enter file name: \n",
      "! Emergency stop.\n",
      "<read *> \n",
      "   \n",
      "l.2 \\usepackage\n",
      "             {fontspec}\r\n",
      "End of file on the terminal!\n",
      "\n",
      "\n",
      "\n",
      "Here is how much of LuaTeX's memory you used:\n",
      " 13 strings out of 495119\n",
      " 100000,89155 words of node,token memory allocated 243 words of node memory still in use:\n",
      "   1 dir, 2 glue, 32 glue_spec nodes\n",
      "   avail lists: 2:12,3:1,4:1\n",
      " 3675 multiletter control sequences out of 65536+600000\n",
      " 14 fonts using 591559 bytes\n",
      " 10i,0n,7p,61b,15s stack positions out of 5000i,500n,10000p,200000b,100000s\n",
      "!  ==> Fatal error occurred, no output PDF file produced!\n",
      "\n"
     ]
    },
    {
     "ename": "ErrorException",
     "evalue": "LaTeX error",
     "output_type": "error",
     "traceback": [
      "LaTeX error",
      "",
      "Stacktrace:",
      " [1] error(::String) at ./error.jl:33",
      " [2] save(::TikzPictures.SVG, ::TikzPictures.TikzPicture) at /home/shashi/.julia/packages/TikzPictures/b9irC/src/TikzPictures.jl:387",
      " [3] show(::IOContext{Base.GenericIOBuffer{Array{UInt8,1}}}, ::MIME{Symbol(\"image/svg+xml\")}, ::TikzPictures.TikzPicture) at /home/shashi/.julia/packages/TikzPictures/b9irC/src/TikzPictures.jl:441",
      " [4] limitstringmime at /home/shashi/.julia/dev/IJulia/src/inline.jl:36 [inlined]",
      " [5] display_dict(::TikzPictures.TikzPicture) at /home/shashi/.julia/dev/IJulia/src/execute_request.jl:39",
      " [6] #invokelatest#1 at ./essentials.jl:686 [inlined]",
      " [7] invokelatest at ./essentials.jl:685 [inlined]",
      " [8] execute_request(::ZMQ.Socket, ::IJulia.Msg) at /home/shashi/.julia/dev/IJulia/src/execute_request.jl:197",
      " [9] #invokelatest#1 at ./essentials.jl:686 [inlined]",
      " [10] invokelatest at ./essentials.jl:685 [inlined]",
      " [11] eventloop(::ZMQ.Socket) at /home/shashi/.julia/dev/IJulia/src/eventloop.jl:8",
      " [12] (::getfield(IJulia, Symbol(\"##12#15\")))() at ./task.jl:259"
     ]
    }
   ],
   "source": [
    "ex = :(z = 3x + y^2)\n",
    "draw_syntax_tree(ex)"
   ]
  },
  {
   "cell_type": "code",
   "execution_count": 20,
   "metadata": {},
   "outputs": [
    {
     "name": "stdout",
     "output_type": "stream",
     "text": [
      "! LaTeX Error: File `standalone.cls' not found.\n",
      "\n",
      "Type X to quit or <RETURN> to proceed,\n",
      "or enter new name. (Default extension: cls)\n",
      "\n",
      "Enter file name: \n",
      "! Emergency stop.\n",
      "<read *> \n",
      "   \n",
      "l.2 \\usepackage\n",
      "             {fontspec}\r\n",
      "End of file on the terminal!\n",
      "\n",
      "\n",
      "\n",
      "Here is how much of LuaTeX's memory you used:\n",
      " 13 strings out of 495119\n",
      " 100000,89155 words of node,token memory allocated 243 words of node memory still in use:\n",
      "   1 dir, 2 glue, 32 glue_spec nodes\n",
      "   avail lists: 2:12,3:1,4:1\n",
      " 3675 multiletter control sequences out of 65536+600000\n",
      " 14 fonts using 591559 bytes\n",
      " 10i,0n,7p,61b,15s stack positions out of 5000i,500n,10000p,200000b,100000s\n",
      "!  ==> Fatal error occurred, no output PDF file produced!\n",
      "\n"
     ]
    },
    {
     "ename": "ErrorException",
     "evalue": "LaTeX error",
     "output_type": "error",
     "traceback": [
      "LaTeX error",
      "",
      "Stacktrace:",
      " [1] error(::String) at ./error.jl:33",
      " [2] save(::TikzPictures.SVG, ::TikzPictures.TikzPicture) at /home/shashi/.julia/packages/TikzPictures/b9irC/src/TikzPictures.jl:387",
      " [3] show(::IOContext{Base.GenericIOBuffer{Array{UInt8,1}}}, ::MIME{Symbol(\"image/svg+xml\")}, ::TikzPictures.TikzPicture) at /home/shashi/.julia/packages/TikzPictures/b9irC/src/TikzPictures.jl:441",
      " [4] limitstringmime at /home/shashi/.julia/dev/IJulia/src/inline.jl:36 [inlined]",
      " [5] display_dict(::TikzPictures.TikzPicture) at /home/shashi/.julia/dev/IJulia/src/execute_request.jl:39",
      " [6] #invokelatest#1 at ./essentials.jl:686 [inlined]",
      " [7] invokelatest at ./essentials.jl:685 [inlined]",
      " [8] execute_request(::ZMQ.Socket, ::IJulia.Msg) at /home/shashi/.julia/dev/IJulia/src/execute_request.jl:197",
      " [9] #invokelatest#1 at ./essentials.jl:686 [inlined]",
      " [10] invokelatest at ./essentials.jl:685 [inlined]",
      " [11] eventloop(::ZMQ.Socket) at /home/shashi/.julia/dev/IJulia/src/eventloop.jl:8",
      " [12] (::getfield(IJulia, Symbol(\"##12#15\")))() at ./task.jl:259"
     ]
    }
   ],
   "source": [
    "ex = quote\n",
    "    a = b + c\n",
    "    d = 2a^2 + a\n",
    "end\n",
    "draw_syntax_tree(ex)"
   ]
  },
  {
   "cell_type": "code",
   "execution_count": null,
   "metadata": {},
   "outputs": [],
   "source": []
  }
 ],
 "metadata": {
  "kernelspec": {
   "display_name": "Julia 1.0.0",
   "language": "julia",
   "name": "julia-1.0"
  },
  "language_info": {
   "file_extension": ".jl",
   "mimetype": "application/julia",
   "name": "julia",
   "version": "1.0.0"
  },
  "toc": {
   "colors": {
    "hover_highlight": "#DAA520",
    "running_highlight": "#FF0000",
    "selected_highlight": "#FFD700"
   },
   "moveMenuLeft": true,
   "nav_menu": {
    "height": "30px",
    "width": "252px"
   },
   "navigate_menu": true,
   "number_sections": true,
   "sideBar": true,
   "threshold": "1",
   "toc_cell": false,
   "toc_section_display": "block",
   "toc_window_display": false
  }
 },
 "nbformat": 4,
 "nbformat_minor": 1
}
