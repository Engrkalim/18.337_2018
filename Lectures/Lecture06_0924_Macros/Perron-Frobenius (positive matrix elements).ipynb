{
 "cells": [
  {
   "cell_type": "markdown",
   "metadata": {},
   "source": [
    "# This notebook illustrates:\n",
    "1. Some Math <br>\n",
    "2. JUMP software which is leading the world of optimization <br>\n",
    "3. a slighlty clever use of JUMP software <br>\n",
    "4. An example of what macros (commands with the @ in front) can really do for us"
   ]
  },
  {
   "cell_type": "markdown",
   "metadata": {},
   "source": [
    "# Let's look at eigenvalues of positive matrices!"
   ]
  },
  {
   "cell_type": "code",
   "execution_count": 2,
   "metadata": {},
   "outputs": [],
   "source": [
    "using Plots"
   ]
  },
  {
   "cell_type": "code",
   "execution_count": 103,
   "metadata": {},
   "outputs": [
    {
     "data": {
      "text/plain": [
       "5-element Array{Complex{Float64},1}:\n",
       "    2.34466+0.0im     \n",
       " -0.0434923+0.150432im\n",
       " -0.0434923-0.150432im\n",
       "  0.0410216+0.0im     \n",
       "   0.516638+0.0im     "
      ]
     },
     "execution_count": 103,
     "metadata": {},
     "output_type": "execute_result"
    }
   ],
   "source": [
    "n = 5\n",
    "M = rand(n,n)\n",
    "λ = eigvals(A)"
   ]
  },
  {
   "cell_type": "code",
   "execution_count": 132,
   "metadata": {},
   "outputs": [
    {
     "data": {
      "image/svg+xml": [
       "<?xml version=\"1.0\" encoding=\"utf-8\"?>\n",
       "<svg xmlns=\"http://www.w3.org/2000/svg\" xmlns:xlink=\"http://www.w3.org/1999/xlink\" width=\"600\" height=\"400\" viewBox=\"0 0 600 400\">\n",
       "<defs>\n",
       "  <clipPath id=\"clip5600\">\n",
       "    <rect x=\"0\" y=\"0\" width=\"600\" height=\"400\"/>\n",
       "  </clipPath>\n",
       "</defs>\n",
       "<polygon clip-path=\"url(#clip5600)\" points=\"\n",
       "0,400 600,400 600,0 0,0 \n",
       "  \" fill=\"#ffffff\" fill-opacity=\"1\"/>\n",
       "<defs>\n",
       "  <clipPath id=\"clip5601\">\n",
       "    <rect x=\"120\" y=\"0\" width=\"421\" height=\"400\"/>\n",
       "  </clipPath>\n",
       "</defs>\n",
       "<polygon clip-path=\"url(#clip5600)\" points=\"\n",
       "138.61,360.121 486.919,360.121 486.919,11.811 138.61,11.811 \n",
       "  \" fill=\"#ffffff\" fill-opacity=\"1\"/>\n",
       "<defs>\n",
       "  <clipPath id=\"clip5602\">\n",
       "    <rect x=\"138\" y=\"11\" width=\"349\" height=\"349\"/>\n",
       "  </clipPath>\n",
       "</defs>\n",
       "<polyline clip-path=\"url(#clip5602)\" style=\"stroke:#000000; stroke-width:0.5; stroke-opacity:0.1; fill:none\" points=\"\n",
       "  176.18,360.121 176.18,11.811 \n",
       "  \"/>\n",
       "<polyline clip-path=\"url(#clip5602)\" style=\"stroke:#000000; stroke-width:0.5; stroke-opacity:0.1; fill:none\" points=\"\n",
       "  244.472,360.121 244.472,11.811 \n",
       "  \"/>\n",
       "<polyline clip-path=\"url(#clip5602)\" style=\"stroke:#000000; stroke-width:0.5; stroke-opacity:0.1; fill:none\" points=\"\n",
       "  312.765,360.121 312.765,11.811 \n",
       "  \"/>\n",
       "<polyline clip-path=\"url(#clip5602)\" style=\"stroke:#000000; stroke-width:0.5; stroke-opacity:0.1; fill:none\" points=\"\n",
       "  381.057,360.121 381.057,11.811 \n",
       "  \"/>\n",
       "<polyline clip-path=\"url(#clip5602)\" style=\"stroke:#000000; stroke-width:0.5; stroke-opacity:0.1; fill:none\" points=\"\n",
       "  449.349,360.121 449.349,11.811 \n",
       "  \"/>\n",
       "<polyline clip-path=\"url(#clip5602)\" style=\"stroke:#000000; stroke-width:0.5; stroke-opacity:0.1; fill:none\" points=\"\n",
       "  138.61,322.551 486.919,322.551 \n",
       "  \"/>\n",
       "<polyline clip-path=\"url(#clip5602)\" style=\"stroke:#000000; stroke-width:0.5; stroke-opacity:0.1; fill:none\" points=\"\n",
       "  138.61,254.258 486.919,254.258 \n",
       "  \"/>\n",
       "<polyline clip-path=\"url(#clip5602)\" style=\"stroke:#000000; stroke-width:0.5; stroke-opacity:0.1; fill:none\" points=\"\n",
       "  138.61,185.966 486.919,185.966 \n",
       "  \"/>\n",
       "<polyline clip-path=\"url(#clip5602)\" style=\"stroke:#000000; stroke-width:0.5; stroke-opacity:0.1; fill:none\" points=\"\n",
       "  138.61,117.673 486.919,117.673 \n",
       "  \"/>\n",
       "<polyline clip-path=\"url(#clip5602)\" style=\"stroke:#000000; stroke-width:0.5; stroke-opacity:0.1; fill:none\" points=\"\n",
       "  138.61,49.381 486.919,49.381 \n",
       "  \"/>\n",
       "<polyline clip-path=\"url(#clip5600)\" style=\"stroke:#000000; stroke-width:1; stroke-opacity:1; fill:none\" points=\"\n",
       "  138.61,360.121 486.919,360.121 \n",
       "  \"/>\n",
       "<polyline clip-path=\"url(#clip5600)\" style=\"stroke:#000000; stroke-width:1; stroke-opacity:1; fill:none\" points=\"\n",
       "  138.61,360.121 138.61,11.811 \n",
       "  \"/>\n",
       "<polyline clip-path=\"url(#clip5600)\" style=\"stroke:#000000; stroke-width:1; stroke-opacity:1; fill:none\" points=\"\n",
       "  176.18,360.121 176.18,354.896 \n",
       "  \"/>\n",
       "<polyline clip-path=\"url(#clip5600)\" style=\"stroke:#000000; stroke-width:1; stroke-opacity:1; fill:none\" points=\"\n",
       "  244.472,360.121 244.472,354.896 \n",
       "  \"/>\n",
       "<polyline clip-path=\"url(#clip5600)\" style=\"stroke:#000000; stroke-width:1; stroke-opacity:1; fill:none\" points=\"\n",
       "  312.765,360.121 312.765,354.896 \n",
       "  \"/>\n",
       "<polyline clip-path=\"url(#clip5600)\" style=\"stroke:#000000; stroke-width:1; stroke-opacity:1; fill:none\" points=\"\n",
       "  381.057,360.121 381.057,354.896 \n",
       "  \"/>\n",
       "<polyline clip-path=\"url(#clip5600)\" style=\"stroke:#000000; stroke-width:1; stroke-opacity:1; fill:none\" points=\"\n",
       "  449.349,360.121 449.349,354.896 \n",
       "  \"/>\n",
       "<polyline clip-path=\"url(#clip5600)\" style=\"stroke:#000000; stroke-width:1; stroke-opacity:1; fill:none\" points=\"\n",
       "  138.61,322.551 143.834,322.551 \n",
       "  \"/>\n",
       "<polyline clip-path=\"url(#clip5600)\" style=\"stroke:#000000; stroke-width:1; stroke-opacity:1; fill:none\" points=\"\n",
       "  138.61,254.258 143.834,254.258 \n",
       "  \"/>\n",
       "<polyline clip-path=\"url(#clip5600)\" style=\"stroke:#000000; stroke-width:1; stroke-opacity:1; fill:none\" points=\"\n",
       "  138.61,185.966 143.834,185.966 \n",
       "  \"/>\n",
       "<polyline clip-path=\"url(#clip5600)\" style=\"stroke:#000000; stroke-width:1; stroke-opacity:1; fill:none\" points=\"\n",
       "  138.61,117.673 143.834,117.673 \n",
       "  \"/>\n",
       "<polyline clip-path=\"url(#clip5600)\" style=\"stroke:#000000; stroke-width:1; stroke-opacity:1; fill:none\" points=\"\n",
       "  138.61,49.381 143.834,49.381 \n",
       "  \"/>\n",
       "<g clip-path=\"url(#clip5600)\">\n",
       "<text style=\"fill:#000000; fill-opacity:1; font-family:Arial,Helvetica Neue,Helvetica,sans-serif; font-size:12; text-anchor:middle;\" transform=\"rotate(0, 176.18, 373.921)\" x=\"176.18\" y=\"373.921\">-2</text>\n",
       "</g>\n",
       "<g clip-path=\"url(#clip5600)\">\n",
       "<text style=\"fill:#000000; fill-opacity:1; font-family:Arial,Helvetica Neue,Helvetica,sans-serif; font-size:12; text-anchor:middle;\" transform=\"rotate(0, 244.472, 373.921)\" x=\"244.472\" y=\"373.921\">-1</text>\n",
       "</g>\n",
       "<g clip-path=\"url(#clip5600)\">\n",
       "<text style=\"fill:#000000; fill-opacity:1; font-family:Arial,Helvetica Neue,Helvetica,sans-serif; font-size:12; text-anchor:middle;\" transform=\"rotate(0, 312.765, 373.921)\" x=\"312.765\" y=\"373.921\">0</text>\n",
       "</g>\n",
       "<g clip-path=\"url(#clip5600)\">\n",
       "<text style=\"fill:#000000; fill-opacity:1; font-family:Arial,Helvetica Neue,Helvetica,sans-serif; font-size:12; text-anchor:middle;\" transform=\"rotate(0, 381.057, 373.921)\" x=\"381.057\" y=\"373.921\">1</text>\n",
       "</g>\n",
       "<g clip-path=\"url(#clip5600)\">\n",
       "<text style=\"fill:#000000; fill-opacity:1; font-family:Arial,Helvetica Neue,Helvetica,sans-serif; font-size:12; text-anchor:middle;\" transform=\"rotate(0, 449.349, 373.921)\" x=\"449.349\" y=\"373.921\">2</text>\n",
       "</g>\n",
       "<g clip-path=\"url(#clip5600)\">\n",
       "<text style=\"fill:#000000; fill-opacity:1; font-family:Arial,Helvetica Neue,Helvetica,sans-serif; font-size:12; text-anchor:end;\" transform=\"rotate(0, 132.61, 327.051)\" x=\"132.61\" y=\"327.051\">-2</text>\n",
       "</g>\n",
       "<g clip-path=\"url(#clip5600)\">\n",
       "<text style=\"fill:#000000; fill-opacity:1; font-family:Arial,Helvetica Neue,Helvetica,sans-serif; font-size:12; text-anchor:end;\" transform=\"rotate(0, 132.61, 258.758)\" x=\"132.61\" y=\"258.758\">-1</text>\n",
       "</g>\n",
       "<g clip-path=\"url(#clip5600)\">\n",
       "<text style=\"fill:#000000; fill-opacity:1; font-family:Arial,Helvetica Neue,Helvetica,sans-serif; font-size:12; text-anchor:end;\" transform=\"rotate(0, 132.61, 190.466)\" x=\"132.61\" y=\"190.466\">0</text>\n",
       "</g>\n",
       "<g clip-path=\"url(#clip5600)\">\n",
       "<text style=\"fill:#000000; fill-opacity:1; font-family:Arial,Helvetica Neue,Helvetica,sans-serif; font-size:12; text-anchor:end;\" transform=\"rotate(0, 132.61, 122.173)\" x=\"132.61\" y=\"122.173\">1</text>\n",
       "</g>\n",
       "<g clip-path=\"url(#clip5600)\">\n",
       "<text style=\"fill:#000000; fill-opacity:1; font-family:Arial,Helvetica Neue,Helvetica,sans-serif; font-size:12; text-anchor:end;\" transform=\"rotate(0, 132.61, 53.881)\" x=\"132.61\" y=\"53.881\">2</text>\n",
       "</g>\n",
       "<g clip-path=\"url(#clip5600)\">\n",
       "<text style=\"fill:#000000; fill-opacity:1; font-family:Arial,Helvetica Neue,Helvetica,sans-serif; font-size:16; text-anchor:middle;\" transform=\"rotate(0, 312.765, 397.6)\" x=\"312.765\" y=\"397.6\">Re(x)</text>\n",
       "</g>\n",
       "<g clip-path=\"url(#clip5600)\">\n",
       "<text style=\"fill:#000000; fill-opacity:1; font-family:Arial,Helvetica Neue,Helvetica,sans-serif; font-size:16; text-anchor:middle;\" transform=\"rotate(-90, 14.4, 185.966)\" x=\"14.4\" y=\"185.966\">Im(x)</text>\n",
       "</g>\n",
       "<circle clip-path=\"url(#clip5602)\" style=\"fill:#000000; stroke:none; fill-opacity:1\" cx=\"477.062\" cy=\"185.966\" r=\"4\"/>\n",
       "<circle clip-path=\"url(#clip5602)\" style=\"fill:#009af9; stroke:none; fill-opacity:1\" cx=\"477.062\" cy=\"185.966\" r=\"3\"/>\n",
       "<circle clip-path=\"url(#clip5602)\" style=\"fill:#000000; stroke:none; fill-opacity:1\" cx=\"277.303\" cy=\"161.988\" r=\"4\"/>\n",
       "<circle clip-path=\"url(#clip5602)\" style=\"fill:#009af9; stroke:none; fill-opacity:1\" cx=\"277.303\" cy=\"161.988\" r=\"3\"/>\n",
       "<circle clip-path=\"url(#clip5602)\" style=\"fill:#000000; stroke:none; fill-opacity:1\" cx=\"277.303\" cy=\"209.944\" r=\"4\"/>\n",
       "<circle clip-path=\"url(#clip5602)\" style=\"fill:#009af9; stroke:none; fill-opacity:1\" cx=\"277.303\" cy=\"209.944\" r=\"3\"/>\n",
       "<circle clip-path=\"url(#clip5602)\" style=\"fill:#000000; stroke:none; fill-opacity:1\" cx=\"325.737\" cy=\"185.966\" r=\"4\"/>\n",
       "<circle clip-path=\"url(#clip5602)\" style=\"fill:#009af9; stroke:none; fill-opacity:1\" cx=\"325.737\" cy=\"185.966\" r=\"3\"/>\n",
       "<circle clip-path=\"url(#clip5602)\" style=\"fill:#000000; stroke:none; fill-opacity:1\" cx=\"333.067\" cy=\"185.966\" r=\"4\"/>\n",
       "<circle clip-path=\"url(#clip5602)\" style=\"fill:#009af9; stroke:none; fill-opacity:1\" cx=\"333.067\" cy=\"185.966\" r=\"3\"/>\n",
       "<polyline clip-path=\"url(#clip5602)\" style=\"stroke:#e26f46; stroke-width:1; stroke-opacity:1; fill:none\" points=\"\n",
       "  477.062,185.966 476.98,180.805 476.737,175.65 476.332,170.504 475.766,165.374 475.039,160.264 474.151,155.18 473.105,150.126 471.9,145.107 470.538,140.128 \n",
       "  469.02,135.195 467.348,130.312 465.524,125.484 463.549,120.716 461.425,116.012 459.154,111.377 456.739,106.815 454.182,102.332 451.485,97.9311 448.651,93.6172 \n",
       "  445.684,89.3945 442.585,85.2671 439.358,81.239 436.006,77.3143 432.532,73.4968 428.94,69.7903 425.234,66.1985 421.416,62.7248 417.491,59.3728 413.463,56.1457 \n",
       "  409.336,53.0468 405.113,50.079 400.799,47.2453 396.399,44.5485 391.915,41.9913 387.354,39.5761 382.719,37.3055 378.015,35.1815 373.246,33.2064 368.418,31.382 \n",
       "  363.535,29.7101 358.602,28.1925 353.624,26.8305 348.605,25.6256 343.551,24.579 338.466,23.6916 333.356,22.9644 328.226,22.398 323.081,21.993 317.925,21.7499 \n",
       "  312.765,21.6688 307.604,21.7499 302.448,21.993 297.303,22.398 292.173,22.9644 287.063,23.6916 281.978,24.579 276.924,25.6256 271.906,26.8305 266.927,28.1925 \n",
       "  261.994,29.7101 257.111,31.382 252.283,33.2064 247.514,35.1815 242.81,37.3055 238.175,39.5761 233.614,41.9913 229.131,44.5485 224.73,47.2453 220.416,50.079 \n",
       "  216.193,53.0468 212.066,56.1457 208.038,59.3728 204.113,62.7248 200.296,66.1985 196.589,69.7903 192.997,73.4968 189.524,77.3143 186.172,81.239 182.944,85.2671 \n",
       "  179.846,89.3945 176.878,93.6172 174.044,97.9311 171.347,102.332 168.79,106.815 166.375,111.377 164.104,116.012 161.98,120.716 160.005,125.484 158.181,130.312 \n",
       "  156.509,135.195 154.991,140.128 153.629,145.107 152.424,150.126 151.378,155.18 150.49,160.264 149.763,165.374 149.197,170.504 148.792,175.65 148.549,180.805 \n",
       "  148.468,185.966 148.549,191.127 148.792,196.282 149.197,201.428 149.763,206.558 150.49,211.668 151.378,216.752 152.424,221.806 153.629,226.825 154.991,231.803 \n",
       "  156.509,236.736 158.181,241.619 160.005,246.448 161.98,251.216 164.104,255.92 166.375,260.555 168.79,265.117 171.347,269.6 174.044,274.001 176.878,278.314 \n",
       "  179.846,282.537 182.944,286.665 186.172,290.693 189.524,294.617 192.997,298.435 196.589,302.141 200.296,305.733 204.113,309.207 208.038,312.559 212.066,315.786 \n",
       "  216.193,318.885 220.416,321.853 224.73,324.686 229.131,327.383 233.614,329.94 238.175,332.356 242.81,334.626 247.514,336.75 252.283,338.725 257.111,340.55 \n",
       "  261.994,342.222 266.927,343.739 271.906,345.101 276.924,346.306 281.978,347.353 287.063,348.24 292.173,348.967 297.303,349.534 302.448,349.939 307.604,350.182 \n",
       "  312.765,350.263 317.925,350.182 323.081,349.939 328.226,349.534 333.356,348.967 338.466,348.24 343.551,347.353 348.605,346.306 353.624,345.101 358.602,343.739 \n",
       "  363.535,342.222 368.418,340.55 373.246,338.725 378.015,336.75 382.719,334.626 387.354,332.356 391.915,329.94 396.399,327.383 400.799,324.686 405.113,321.853 \n",
       "  409.336,318.885 413.463,315.786 417.491,312.559 421.416,309.207 425.234,305.733 428.94,302.141 432.532,298.435 436.006,294.617 439.358,290.693 442.585,286.665 \n",
       "  445.684,282.537 448.651,278.314 451.485,274.001 454.182,269.6 456.739,265.117 459.154,260.555 461.425,255.92 463.549,251.216 465.524,246.448 467.348,241.619 \n",
       "  469.02,236.736 470.538,231.803 471.9,226.825 473.105,221.806 474.151,216.752 475.039,211.668 475.766,206.558 476.332,201.428 476.737,196.282 476.98,191.127 \n",
       "  477.062,185.966 \n",
       "  \"/>\n",
       "</svg>\n"
      ]
     },
     "execution_count": 132,
     "metadata": {},
     "output_type": "execute_result"
    }
   ],
   "source": [
    "n = 5\n",
    "M = rand(n,n)\n",
    "λ = eigvals(M)\n",
    "gr()\n",
    "ρ = maximum(abs.(λ))\n",
    "scatter(λ,label=\"\")\n",
    "t = 0:.01:2\n",
    "plot!( ρ*cos.(t*π), ρ*sin.(t*π),aspectratio=1,label=\"\")"
   ]
  },
  {
   "cell_type": "markdown",
   "metadata": {},
   "source": [
    "The radius of the red circle is known as the [spectral radius](https://en.wikipedia.org/wiki/Spectral_radius) of the matrix.\n",
    "The circle is the smallest circle centered at the origin in the complex plane that contains all the eigenvalues."
   ]
  },
  {
   "cell_type": "markdown",
   "metadata": {},
   "source": [
    "# The Perron Frobenius Theorem\n",
    "\n",
    "states that a positive matrix (all entries > 0) has exactly one eigenvalue on the red circle, it is positive, real, and the corresponding eigenvector is positive real.  [Wikipedia artcle](https://en.wikipedia.org/wiki/Perron%E2%80%93Frobenius_theorem)"
   ]
  },
  {
   "cell_type": "markdown",
   "metadata": {},
   "source": [
    "# Proof from Gil Strang's book \n",
    "\n",
    "[courtesy of  StackExchange](https://math.stackexchange.com/questions/2823094/perron-frobenius-theorem-proof)\n",
    "\n",
    "(I suspect that the proof is not often read.)\n",
    "\n",
    "<img src=\"https://i.stack.imgur.com/QWfS3.jpg\">\n",
    "\n"
   ]
  },
  {
   "cell_type": "markdown",
   "metadata": {},
   "source": [
    "One way to form this maximum problem is write this as a constrained optimization:\n",
    "\n",
    "maximize $t$  subject to   <br>\n",
    "$x_i \\ge 0 $,\n",
    "$\\ \\ y=Ax$, \n",
    "$\\ \\ y_i/x_i \\ge t$,\n",
    "$\\ \\ \\sum x_i=1$"
   ]
  },
  {
   "cell_type": "markdown",
   "metadata": {},
   "source": [
    "# First Paragraph by Julia and JUMP! \n",
    "JUMP is a Julia Macro Success Story <br>\n",
    "Julia for DSL's [Domain Specific Languages](https://en.wikipedia.org/wiki/Domain-specific_language)"
   ]
  },
  {
   "cell_type": "code",
   "execution_count": null,
   "metadata": {},
   "outputs": [],
   "source": [
    "# Pkg.add(\"JuMP\");# Pkg.add(\"Ipopt\")\n",
    "using JuMP,Ipopt"
   ]
  },
  {
   "cell_type": "code",
   "execution_count": 125,
   "metadata": {},
   "outputs": [
    {
     "name": "stdout",
     "output_type": "stream",
     "text": [
      "2.9025060522427153\n"
     ]
    },
    {
     "data": {
      "text/plain": [
       "5-element Array{Float64,1}:\n",
       " 0.2123  \n",
       " 0.248963\n",
       " 0.263872\n",
       " 0.123898\n",
       " 0.150967"
      ]
     },
     "execution_count": 125,
     "metadata": {},
     "output_type": "execute_result"
    }
   ],
   "source": [
    "n=size(A,1)\n",
    "m = Model(solver=IpoptSolver(print_level=2))\n",
    "@variable(m, t);         @objective(m, Max, t)\n",
    "@variable(m, x[1:n]>=0)\n",
    "@variable(m, y[1:n]);    @constraint(m, y .== A*x)\n",
    " \n",
    "@NLconstraint(m, [i=1:n], t <= y[i]/x[i])  # nonlinear constraint\n",
    "@constraint(m, sum(x)==1)\n",
    "\n",
    "status = solve(m)\n",
    "x = getvalue.(x)\n",
    "t = getobjectivevalue(m)\n",
    "println(t)\n",
    "x"
   ]
  },
  {
   "cell_type": "code",
   "execution_count": 126,
   "metadata": {},
   "outputs": [
    {
     "data": {
      "text/plain": [
       "2.6034060828989154e-9"
      ]
     },
     "execution_count": 126,
     "metadata": {},
     "output_type": "execute_result"
    }
   ],
   "source": [
    "norm(A*x-t*x)"
   ]
  },
  {
   "cell_type": "markdown",
   "metadata": {},
   "source": [
    "Step #1. Define τ as the minimum of y./x "
   ]
  },
  {
   "cell_type": "code",
   "execution_count": 94,
   "metadata": {},
   "outputs": [
    {
     "data": {
      "text/plain": [
       "τ (generic function with 1 method)"
      ]
     },
     "execution_count": 94,
     "metadata": {},
     "output_type": "execute_result"
    }
   ],
   "source": [
    "# Define τ(y,x) on vectors (assume x and y has positive elements)\n",
    "τ(y::Vector, x::Vector) = minimum(y./x)"
   ]
  },
  {
   "cell_type": "markdown",
   "metadata": {},
   "source": [
    "Exercise: What is τ(Ax,x) when x is an eigenvector?"
   ]
  },
  {
   "cell_type": "markdown",
   "metadata": {},
   "source": [
    "Notice that for 0 ≤ t ≤ τ(y,x) we have all(y .≥ t*x) <br>\n",
    "and for t larger than τ this breaks down"
   ]
  },
  {
   "cell_type": "code",
   "execution_count": 95,
   "metadata": {},
   "outputs": [
    {
     "data": {
      "text/plain": [
       "2.0"
      ]
     },
     "execution_count": 95,
     "metadata": {},
     "output_type": "execute_result"
    }
   ],
   "source": [
    "# Example: every element of y is at least 2x \n",
    "# the corresponding element of x\n",
    "y = [10,5,6,9]\n",
    "x = [1, 2,3,4]\n",
    "τ(y,x)"
   ]
  },
  {
   "cell_type": "code",
   "execution_count": 96,
   "metadata": {},
   "outputs": [
    {
     "data": {
      "text/plain": [
       "(true, true, false)"
      ]
     },
     "execution_count": 96,
     "metadata": {},
     "output_type": "execute_result"
    }
   ],
   "source": [
    "all(y.≥2x), all(y.≥1.99x),all(y.≥2.01x)  # check these by hand"
   ]
  },
  {
   "cell_type": "markdown",
   "metadata": {},
   "source": [
    "Step #2. Observe that if all(A.>0) and  all(y.≥0) and y is not the zero vector then all(A*y.>0)  (strictly greater)"
   ]
  },
  {
   "cell_type": "code",
   "execution_count": 97,
   "metadata": {},
   "outputs": [
    {
     "data": {
      "text/plain": [
       "3-element Array{Float64,1}:\n",
       " 0.2\n",
       " 0.5\n",
       " 0.8"
      ]
     },
     "execution_count": 97,
     "metadata": {},
     "output_type": "execute_result"
    }
   ],
   "source": [
    "# Example\n",
    "A= [ 1 2 3;4 5 6; 7 8 9]\n",
    "y = [0, .1, .0]\n",
    "A * y # any one positive entry multiplies an entire positive column of A"
   ]
  },
  {
   "cell_type": "markdown",
   "metadata": {},
   "source": [
    "Step #3: <br> τ(Ax,x) = τ(A²x,Ax) if x in an eigenvector with all(x.≥0). <br>\n",
    "τ(Ax,x) < τ(A²x,Ax) if x is not an eigenvector.\n",
    "\n",
    "<br>\n",
    "Proof:  If x is an eigenvector, then τ(Ax,x) = τ(A²x,Ax) = the corresponding eigenvalue. <br>\n",
    "If x is not an eigenvector, then letting y\n",
    "= Ax - τ(Ax,x) *x, then  all(y.≥0)  and y is not the 0 vector. <br>\n",
    "From Step 2, all(A*y.>0) or equivalently all(A²x .>  τ(Ax,x) *Ax) from which we see\n",
    "τ(A²x,Ax) > τ(Ax,x)."
   ]
  },
  {
   "cell_type": "code",
   "execution_count": 108,
   "metadata": {},
   "outputs": [
    {
     "name": "stdout",
     "output_type": "stream",
     "text": [
      "ρ = 2.9025060476143443\n"
     ]
    },
    {
     "data": {
      "text/plain": [
       "10-element Array{Float64,1}:\n",
       " 2.04296\n",
       " 2.34332\n",
       " 2.87035\n",
       " 2.8806 \n",
       " 2.90117\n",
       " 2.90176\n",
       " 2.90245\n",
       " 2.90248\n",
       " 2.9025 \n",
       " 2.90251"
      ]
     },
     "execution_count": 108,
     "metadata": {},
     "output_type": "execute_result"
    }
   ],
   "source": [
    "A = copy(M)\n",
    "println(\"ρ = \",ρ)\n",
    "# An example\n",
    "x = rand(n)\n",
    "[τ(A^k*x, A^(k-1)*x) for k=1:10] # This sequence will be increasing, but to an eig limit."
   ]
  },
  {
   "cell_type": "markdown",
   "metadata": {},
   "source": [
    "Step #4.  Let tmax be the maximum of τ(Ax,x) for all non-zero x. We will prove mathematically that x is a positive eigenvector and τ(Ax,x) is the eigenvalue. JUMP computed this!"
   ]
  },
  {
   "cell_type": "code",
   "execution_count": 114,
   "metadata": {},
   "outputs": [
    {
     "data": {
      "text/plain": [
       "2.603405814635956e-9"
      ]
     },
     "execution_count": 114,
     "metadata": {},
     "output_type": "execute_result"
    }
   ],
   "source": [
    "norm(A*x-t*x) #  demonstrate we have found an eigenpair through optimization"
   ]
  },
  {
   "cell_type": "markdown",
   "metadata": {},
   "source": [
    "Step 5: Demonstrate that if x above were not an eigenvector, then the t could not have been the solution to the optimum problem."
   ]
  },
  {
   "cell_type": "markdown",
   "metadata": {},
   "source": [
    "As we saw in step 3, if x had not been an eigenvector, then τ(Ax,x) < τ(A²x,Ax), so τ(Ax,x) was not the maximum."
   ]
  },
  {
   "cell_type": "markdown",
   "metadata": {},
   "source": [
    "Step 6:  Any complex eigenvector, eigenvalue pair has absolute eigenvalue <= tmax: (note strang didn't prove strict inequality)"
   ]
  },
  {
   "cell_type": "markdown",
   "metadata": {},
   "source": [
    "If Ax = λx then all( A\\*abs.(x) .≥ abs(λ)*abs.(x)) by the triangle inequality.  Thus abs(λ) <= tmax."
   ]
  },
  {
   "cell_type": "markdown",
   "metadata": {},
   "source": [
    "For example:"
   ]
  },
  {
   "cell_type": "code",
   "execution_count": 101,
   "metadata": {},
   "outputs": [
    {
     "data": {
      "text/plain": [
       "5×5 Array{Float64,2}:\n",
       " 0.996711  0.656579  0.453247   0.61344   0.50697  \n",
       " 0.591166  0.616613  0.987583   0.246784  0.442663 \n",
       " 0.949881  0.454748  0.831274   0.708647  0.458239 \n",
       " 0.069995  0.108182  0.0296905  0.434673  0.0322304\n",
       " 0.105186  0.918176  0.831151   0.126704  0.0709903"
      ]
     },
     "execution_count": 101,
     "metadata": {},
     "output_type": "execute_result"
    }
   ],
   "source": [
    "A = rand(5,5)"
   ]
  },
  {
   "cell_type": "code",
   "execution_count": 102,
   "metadata": {},
   "outputs": [
    {
     "data": {
      "text/plain": [
       "5-element Array{Complex{Float64},1}:\n",
       "   2.58617+0.0im    \n",
       "  0.125586+0.34277im\n",
       "  0.125586-0.34277im\n",
       "  0.351225+0.0im    \n",
       " -0.238306+0.0im    "
      ]
     },
     "execution_count": 102,
     "metadata": {},
     "output_type": "execute_result"
    }
   ],
   "source": [
    "eigvals(A)"
   ]
  },
  {
   "cell_type": "code",
   "execution_count": 108,
   "metadata": {},
   "outputs": [
    {
     "data": {
      "text/plain": [
       "0.1255862966495158 + 0.3427698069874712im"
      ]
     },
     "execution_count": 108,
     "metadata": {},
     "output_type": "execute_result"
    }
   ],
   "source": [
    "Λ,X=eig(A);x=X[:,2];λ=Λ[2]"
   ]
  },
  {
   "cell_type": "code",
   "execution_count": 109,
   "metadata": {},
   "outputs": [
    {
     "data": {
      "text/plain": [
       "8.355107029738416e-16"
      ]
     },
     "execution_count": 109,
     "metadata": {},
     "output_type": "execute_result"
    }
   ],
   "source": [
    "norm(A*x-λ*x)"
   ]
  },
  {
   "cell_type": "code",
   "execution_count": 112,
   "metadata": {},
   "outputs": [
    {
     "data": {
      "text/plain": [
       "0.6784932085048402"
      ]
     },
     "execution_count": 112,
     "metadata": {},
     "output_type": "execute_result"
    }
   ],
   "source": [
    "τ(A*abs.(x),abs.(x)) - abs(λ) # This is non-negative"
   ]
  }
 ],
 "metadata": {
  "kernelspec": {
   "display_name": "Julia 0.6.2",
   "language": "julia",
   "name": "julia-0.6"
  },
  "language_info": {
   "file_extension": ".jl",
   "mimetype": "application/julia",
   "name": "julia",
   "version": "0.6.4"
  }
 },
 "nbformat": 4,
 "nbformat_minor": 2
}
