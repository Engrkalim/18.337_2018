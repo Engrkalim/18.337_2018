{
 "cells": [
  {
   "cell_type": "markdown",
   "metadata": {},
   "source": [
    "## `eigmax` of Custom Matrices\n",
    "\n",
    " "
   ]
  },
  {
   "cell_type": "code",
   "execution_count": 37,
   "metadata": {},
   "outputs": [
    {
     "data": {
      "text/plain": [
       "newtons_method (generic function with 3 methods)"
      ]
     },
     "execution_count": 37,
     "metadata": {},
     "output_type": "execute_result"
    }
   ],
   "source": [
    "using LinearAlgebra\n",
    " \n",
    "struct Custom\n",
    "     D::Diagonal{Float64,Vector{Float64}}\n",
    "     V::Vector{Float64}\n",
    "end\n",
    "Custom(v) = Custom(Diagonal(v), v)\n",
    "matrix(c::Custom) = c.D + c.V*c.V'\n",
    "\n",
    "# Function \n",
    "f(c::Custom, λ) = 1 + sum(c.V[i]^2 / (c.D.diag[i] - λ) for i=1:length(c.V))\n",
    " \n",
    "# Derivative\n",
    "f′(c::Custom, λ) = sum(c.V[i]^2 / (c.D.diag[i] - λ)^2 for i=1:length(c.V))\n",
    " \n",
    "# Objective function to minimize\n",
    "obj(f, c, x) = abs(0 - f(c, x))\n",
    " \n",
    "# Newtons method\n",
    "function newtons_method(c, f, f′, x0 = maximum(c.V)+0.1, tol = 1e-6; debug = false)\n",
    "    δ = obj(f, c, x0)\n",
    "    debug && println(\"δ = $δ\")\n",
    "    while δ > tol\n",
    "        debug && println(\"δ = $δ\")\n",
    "        x0 = x0 - f(c, x0)/f′(c, x0)\n",
    "        δ = obj(f, c, x0)\n",
    "    end\n",
    "    x0\n",
    "end\n"
   ]
  },
  {
   "cell_type": "code",
   "execution_count": 38,
   "metadata": {},
   "outputs": [
    {
     "data": {
      "text/plain": [
       "Custom([1.0 0.0 0.0; 0.0 2.0 0.0; 0.0 0.0 3.0], [1.0, 2.0, 3.0])"
      ]
     },
     "execution_count": 38,
     "metadata": {},
     "output_type": "execute_result"
    }
   ],
   "source": [
    "c = Custom([1.,2.,3.])"
   ]
  },
  {
   "cell_type": "code",
   "execution_count": 40,
   "metadata": {},
   "outputs": [
    {
     "name": "stdout",
     "output_type": "stream",
     "text": [
      "  0.000039 seconds (22 allocations: 2.625 KiB)\n"
     ]
    }
   ],
   "source": [
    "@time e1 = eigmax(matrix(c));"
   ]
  },
  {
   "cell_type": "code",
   "execution_count": 44,
   "metadata": {},
   "outputs": [
    {
     "name": "stdout",
     "output_type": "stream",
     "text": [
      "  0.000021 seconds (16 allocations: 2.094 KiB)\n"
     ]
    }
   ],
   "source": [
    "m = matrix(c)\n",
    "@time maximum(eigvals(m));"
   ]
  },
  {
   "cell_type": "code",
   "execution_count": 21,
   "metadata": {},
   "outputs": [
    {
     "name": "stdout",
     "output_type": "stream",
     "text": [
      "  0.000008 seconds (75 allocations: 2.328 KiB)\n"
     ]
    },
    {
     "data": {
      "text/plain": [
       "16.597761829372512"
      ]
     },
     "execution_count": 21,
     "metadata": {},
     "output_type": "execute_result"
    }
   ],
   "source": [
    "@time e2 = newtons_method(c, f, f′)"
   ]
  },
  {
   "cell_type": "code",
   "execution_count": 48,
   "metadata": {},
   "outputs": [
    {
     "data": {
      "text/plain": [
       "Custom([0.734554 0.0 … 0.0 0.0; 0.0 0.843931 … 0.0 0.0; … ; 0.0 0.0 … 0.466908 0.0; 0.0 0.0 … 0.0 0.610578], [0.734554, 0.843931, 0.397923, 0.490523, 0.669645, 0.881555, 0.413584, 0.503393, 0.349989, 0.682701  …  0.72782, 0.196977, 0.394431, 0.58802, 0.982493, 0.802634, 0.566481, 0.666212, 0.466908, 0.610578])"
      ]
     },
     "execution_count": 48,
     "metadata": {},
     "output_type": "execute_result"
    }
   ],
   "source": [
    "c = Custom(rand(1000))"
   ]
  },
  {
   "cell_type": "code",
   "execution_count": 53,
   "metadata": {},
   "outputs": [
    {
     "name": "stdout",
     "output_type": "stream",
     "text": [
      "  0.114202 seconds (17 allocations: 7.989 MiB)\n"
     ]
    },
    {
     "data": {
      "text/plain": [
       "332.697606834679"
      ]
     },
     "execution_count": 53,
     "metadata": {},
     "output_type": "execute_result"
    }
   ],
   "source": [
    "m = matrix(c)\n",
    "@time e1 = eigmax(m)"
   ]
  },
  {
   "cell_type": "code",
   "execution_count": 54,
   "metadata": {},
   "outputs": [
    {
     "name": "stdout",
     "output_type": "stream",
     "text": [
      "  0.098372 seconds (196.07 k allocations: 9.438 MiB, 5.07% gc time)\n"
     ]
    },
    {
     "data": {
      "text/plain": [
       "332.69760676084053"
      ]
     },
     "execution_count": 54,
     "metadata": {},
     "output_type": "execute_result"
    }
   ],
   "source": [
    "@time e2 = newtons_method(c, f, f′)"
   ]
  }
 ],
 "metadata": {
  "kernelspec": {
   "display_name": "Julia 1.0.0",
   "language": "julia",
   "name": "julia-1.0"
  },
  "language_info": {
   "file_extension": ".jl",
   "mimetype": "application/julia",
   "name": "julia",
   "version": "1.0.0"
  }
 },
 "nbformat": 4,
 "nbformat_minor": 2
}
