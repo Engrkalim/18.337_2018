{
 "cells": [
  {
   "cell_type": "markdown",
   "metadata": {},
   "source": [
    "## A note about loops on structs"
   ]
  },
  {
   "cell_type": "code",
   "execution_count": 62,
   "metadata": {},
   "outputs": [
    {
     "data": {
      "text/plain": [
       "sum1 (generic function with 1 method)"
      ]
     },
     "execution_count": 62,
     "metadata": {},
     "output_type": "execute_result"
    }
   ],
   "source": [
    "# Let's continue to use our sum1 function!\n",
    "function sum1(xs)\n",
    "    s = zero(xs[1])\n",
    "\n",
    "    for i=1:length(xs)\n",
    "        s = +(s, xs[i])\n",
    "    end\n",
    "    s\n",
    "end"
   ]
  },
  {
   "cell_type": "markdown",
   "metadata": {},
   "source": [
    "Let's try out a complex number type:"
   ]
  },
  {
   "cell_type": "code",
   "execution_count": 63,
   "metadata": {},
   "outputs": [],
   "source": [
    "struct Cplx1\n",
    "    re::Float64\n",
    "    im::Float64\n",
    "end\n",
    "\n",
    "Base.:+(a::Cplx1, b::Cplx1) = Cplx1(a.re + b.re, a.im + b.im)\n",
    "Base.zero(::Cplx1) = Cplx1(0.0,0.0)"
   ]
  },
  {
   "cell_type": "code",
   "execution_count": 64,
   "metadata": {},
   "outputs": [
    {
     "name": "stdout",
     "output_type": "stream",
     "text": [
      "  0.013903 seconds (18.87 k allocations: 1005.441 KiB)\n"
     ]
    },
    {
     "data": {
      "text/plain": [
       "Cplx1(500437.33469767426, 499808.80814985815)"
      ]
     },
     "execution_count": 64,
     "metadata": {},
     "output_type": "execute_result"
    }
   ],
   "source": [
    "xs = [Cplx1(rand(), rand()) for i=1:10^6]\n",
    "\n",
    "@time sum1(xs)"
   ]
  },
  {
   "cell_type": "markdown",
   "metadata": {},
   "source": [
    "But! We want to allow not only Float64 real and imaginary parts, we want integers, or float32 or rational numbers, whatever the user wants!"
   ]
  },
  {
   "cell_type": "code",
   "execution_count": 15,
   "metadata": {},
   "outputs": [],
   "source": [
    "struct Cplx2\n",
    "    re::Real\n",
    "    im::Real\n",
    "end\n",
    "\n",
    "Base.:+(a::Cplx2, b::Cplx2) = Cplx2(a.re + b.re, a.im + b.im)\n",
    "Base.zero(::Cplx2) = Cplx2(0.0,0.0)"
   ]
  },
  {
   "cell_type": "code",
   "execution_count": 17,
   "metadata": {},
   "outputs": [
    {
     "name": "stdout",
     "output_type": "stream",
     "text": [
      "  0.351966 seconds (5.00 M allocations: 91.553 MiB, 60.16% gc time)\n"
     ]
    },
    {
     "data": {
      "text/plain": [
       "Cplx2(499805.29403316975, 499985.67185616493)"
      ]
     },
     "execution_count": 17,
     "metadata": {},
     "output_type": "execute_result"
    }
   ],
   "source": [
    "xs = [Cplx2(rand(Float32), rand(Float32)) for i=1:10^6]\n",
    "\n",
    "@time sum1(xs)"
   ]
  },
  {
   "cell_type": "code",
   "execution_count": 20,
   "metadata": {},
   "outputs": [
    {
     "data": {
      "text/plain": [
       "CodeInfo(\n",
       "\u001b[90m\u001b[64G│╻ getproperty\u001b[1G\u001b[39m\u001b[90m1 \u001b[39m1 ─ %1 = (Base.getfield)(x, :re)\u001b[36m::Real\u001b[39m\n",
       "\u001b[90m\u001b[64G│ \u001b[1G\u001b[39m\u001b[90m  \u001b[39m└──      return %1\n",
       ") => Real"
      ]
     },
     "execution_count": 20,
     "metadata": {},
     "output_type": "execute_result"
    }
   ],
   "source": [
    "real2(x::Cplx2) = x.re\n",
    "\n",
    "@code_typed real2(Cplx2(1,2))"
   ]
  },
  {
   "cell_type": "code",
   "execution_count": 18,
   "metadata": {},
   "outputs": [
    {
     "data": {
      "text/plain": [
       "CodeInfo(\n",
       "\u001b[90m\u001b[55G│╻     getindex\u001b[1G\u001b[39m\u001b[90m2 \u001b[39m1 ──       (Base.arrayref)(true, xs, 1)\u001b[90m::Cplx2\u001b[39m\n",
       "\u001b[90m\u001b[55G││╻     Type\u001b[1G\u001b[39m\u001b[90m  \u001b[39m│    %2  = %new(Main.Cplx2, 0.0, 0.0)\u001b[36m::Cplx2\u001b[39m\n",
       "\u001b[90m\u001b[55G│╻     length\u001b[1G\u001b[39m\u001b[90m4 \u001b[39m│    %3  = (Base.arraylen)(xs)\u001b[36m::Int64\u001b[39m\n",
       "\u001b[90m\u001b[55G││╻╷╷╷  Type\u001b[1G\u001b[39m\u001b[90m  \u001b[39m│    %4  = (Base.sle_int)(1, %3)\u001b[36m::Bool\u001b[39m\n",
       "\u001b[90m\u001b[55G│││╻     unitrange_last\u001b[1G\u001b[39m\u001b[90m  \u001b[39m│          (Base.sub_int)(%3, 1)\u001b[90m::Int64\u001b[39m\n",
       "\u001b[90m\u001b[55G││││  \u001b[1G\u001b[39m\u001b[90m  \u001b[39m│    %6  = (Base.ifelse)(%4, %3, 0)\u001b[36m::Int64\u001b[39m\n",
       "\u001b[90m\u001b[55G││╻╷╷   isempty\u001b[1G\u001b[39m\u001b[90m  \u001b[39m│    %7  = (Base.slt_int)(%6, 1)\u001b[36m::Bool\u001b[39m\n",
       "\u001b[90m\u001b[55G││    \u001b[1G\u001b[39m\u001b[90m  \u001b[39m└───       goto #3 if not %7\n",
       "\u001b[90m\u001b[55G││    \u001b[1G\u001b[39m\u001b[90m  \u001b[39m2 ──       goto #4\n",
       "\u001b[90m\u001b[55G││    \u001b[1G\u001b[39m\u001b[90m  \u001b[39m3 ──       goto #4\n",
       "\u001b[90m\u001b[55G│     \u001b[1G\u001b[39m\u001b[90m  \u001b[39m4 ┄─ %11 = φ (#2 => true, #3 => false)\u001b[36m::Bool\u001b[39m\n",
       "\u001b[90m\u001b[55G│     \u001b[1G\u001b[39m\u001b[90m  \u001b[39m│    %12 = φ (#3 => 1)\u001b[36m::Int64\u001b[39m\n",
       "\u001b[90m\u001b[55G│     \u001b[1G\u001b[39m\u001b[90m  \u001b[39m│    %13 = φ (#3 => 1)\u001b[36m::Int64\u001b[39m\n",
       "\u001b[90m\u001b[55G│     \u001b[1G\u001b[39m\u001b[90m  \u001b[39m│    %14 = (Base.not_int)(%11)\u001b[36m::Bool\u001b[39m\n",
       "\u001b[90m\u001b[55G│     \u001b[1G\u001b[39m\u001b[90m  \u001b[39m└───       goto #10 if not %14\n",
       "\u001b[90m\u001b[55G│     \u001b[1G\u001b[39m\u001b[90m  \u001b[39m5 ┄─ %16 = φ (#4 => %2, #9 => %20)\u001b[36m::Cplx2\u001b[39m\n",
       "\u001b[90m\u001b[55G│     \u001b[1G\u001b[39m\u001b[90m  \u001b[39m│    %17 = φ (#4 => %12, #9 => %26)\u001b[36m::Int64\u001b[39m\n",
       "\u001b[90m\u001b[55G│     \u001b[1G\u001b[39m\u001b[90m  \u001b[39m│    %18 = φ (#4 => %13, #9 => %27)\u001b[36m::Int64\u001b[39m\n",
       "\u001b[90m\u001b[55G│╻     getindex\u001b[1G\u001b[39m\u001b[90m5 \u001b[39m│    %19 = (Base.arrayref)(true, xs, %17)\u001b[36m::Cplx2\u001b[39m\n",
       "\u001b[90m\u001b[55G│     \u001b[1G\u001b[39m\u001b[90m  \u001b[39m│    %20 = invoke Main.:+(%16::Cplx2, %19::Cplx2)\u001b[36m::Cplx2\u001b[39m\n",
       "\u001b[90m\u001b[55G││╻     ==\u001b[1G\u001b[39m\u001b[90m  \u001b[39m│    %21 = (%18 === %6)\u001b[36m::Bool\u001b[39m\n",
       "\u001b[90m\u001b[55G││    \u001b[1G\u001b[39m\u001b[90m  \u001b[39m└───       goto #7 if not %21\n",
       "\u001b[90m\u001b[55G││    \u001b[1G\u001b[39m\u001b[90m  \u001b[39m6 ──       goto #8\n",
       "\u001b[90m\u001b[55G││╻     +\u001b[1G\u001b[39m\u001b[90m  \u001b[39m7 ── %24 = (Base.add_int)(%18, 1)\u001b[36m::Int64\u001b[39m\n",
       "\u001b[90m\u001b[55G│╻     iterate\u001b[1G\u001b[39m\u001b[90m  \u001b[39m└───       goto #8\n",
       "\u001b[90m\u001b[55G│     \u001b[1G\u001b[39m\u001b[90m  \u001b[39m8 ┄─ %26 = φ (#7 => %24)\u001b[36m::Int64\u001b[39m\n",
       "\u001b[90m\u001b[55G│     \u001b[1G\u001b[39m\u001b[90m  \u001b[39m│    %27 = φ (#7 => %24)\u001b[36m::Int64\u001b[39m\n",
       "\u001b[90m\u001b[55G│     \u001b[1G\u001b[39m\u001b[90m  \u001b[39m│    %28 = φ (#6 => true, #7 => false)\u001b[36m::Bool\u001b[39m\n",
       "\u001b[90m\u001b[55G│     \u001b[1G\u001b[39m\u001b[90m  \u001b[39m│    %29 = (Base.not_int)(%28)\u001b[36m::Bool\u001b[39m\n",
       "\u001b[90m\u001b[55G│     \u001b[1G\u001b[39m\u001b[90m  \u001b[39m└───       goto #10 if not %29\n",
       "\u001b[90m\u001b[55G│     \u001b[1G\u001b[39m\u001b[90m  \u001b[39m9 ──       goto #5\n",
       "\u001b[90m\u001b[55G│     \u001b[1G\u001b[39m\u001b[90m7 \u001b[39m10 ─ %32 = φ (#8 => %20, #4 => %2)\u001b[36m::Cplx2\u001b[39m\n",
       "\u001b[90m\u001b[55G│     \u001b[1G\u001b[39m\u001b[90m  \u001b[39m└───       return %32\n",
       ") => Cplx2"
      ]
     },
     "execution_count": 18,
     "metadata": {},
     "output_type": "execute_result"
    }
   ],
   "source": [
    "@code_typed sum1(xs)"
   ]
  },
  {
   "cell_type": "markdown",
   "metadata": {},
   "source": [
    "We can make a parametric type which is parameterized by the type of real and imaginary parts"
   ]
  },
  {
   "cell_type": "code",
   "execution_count": 21,
   "metadata": {},
   "outputs": [],
   "source": [
    "struct Cplx3{T<:Real}\n",
    "    re::T\n",
    "    im::T\n",
    "end\n",
    "\n",
    "\n",
    "Base.:+(a::Cplx3, b::Cplx3) = Cplx3(a.re + b.re, a.im + b.im)\n",
    "Base.zero(a::Cplx3) = Cplx3(zero(a.re), zero(a.im))"
   ]
  },
  {
   "cell_type": "code",
   "execution_count": 30,
   "metadata": {},
   "outputs": [
    {
     "data": {
      "text/plain": [
       "CodeInfo(\n",
       "\u001b[90m\u001b[55G│╻     getindex\u001b[1G\u001b[39m\u001b[90m2 \u001b[39m1 ──       (Base.arrayref)(true, xs, 1)\u001b[90m::Cplx3{Float32}\u001b[39m\n",
       "\u001b[90m\u001b[55G││╻╷    Type\u001b[1G\u001b[39m\u001b[90m  \u001b[39m│    %2  = %new(Cplx3{Float32}, 0.0, 0.0)\u001b[36m::Cplx3{Float32}\u001b[39m\n",
       "\u001b[90m\u001b[55G│╻     length\u001b[1G\u001b[39m\u001b[90m4 \u001b[39m│    %3  = (Base.arraylen)(xs)\u001b[36m::Int64\u001b[39m\n",
       "\u001b[90m\u001b[55G││╻╷╷╷  Type\u001b[1G\u001b[39m\u001b[90m  \u001b[39m│    %4  = (Base.sle_int)(1, %3)\u001b[36m::Bool\u001b[39m\n",
       "\u001b[90m\u001b[55G│││╻     unitrange_last\u001b[1G\u001b[39m\u001b[90m  \u001b[39m│          (Base.sub_int)(%3, 1)\u001b[90m::Int64\u001b[39m\n",
       "\u001b[90m\u001b[55G││││  \u001b[1G\u001b[39m\u001b[90m  \u001b[39m│    %6  = (Base.ifelse)(%4, %3, 0)\u001b[36m::Int64\u001b[39m\n",
       "\u001b[90m\u001b[55G││╻╷╷   isempty\u001b[1G\u001b[39m\u001b[90m  \u001b[39m│    %7  = (Base.slt_int)(%6, 1)\u001b[36m::Bool\u001b[39m\n",
       "\u001b[90m\u001b[55G││    \u001b[1G\u001b[39m\u001b[90m  \u001b[39m└───       goto #3 if not %7\n",
       "\u001b[90m\u001b[55G││    \u001b[1G\u001b[39m\u001b[90m  \u001b[39m2 ──       goto #4\n",
       "\u001b[90m\u001b[55G││    \u001b[1G\u001b[39m\u001b[90m  \u001b[39m3 ──       goto #4\n",
       "\u001b[90m\u001b[55G│     \u001b[1G\u001b[39m\u001b[90m  \u001b[39m4 ┄─ %11 = φ (#2 => true, #3 => false)\u001b[36m::Bool\u001b[39m\n",
       "\u001b[90m\u001b[55G│     \u001b[1G\u001b[39m\u001b[90m  \u001b[39m│    %12 = φ (#3 => 1)\u001b[36m::Int64\u001b[39m\n",
       "\u001b[90m\u001b[55G│     \u001b[1G\u001b[39m\u001b[90m  \u001b[39m│    %13 = φ (#3 => 1)\u001b[36m::Int64\u001b[39m\n",
       "\u001b[90m\u001b[55G│     \u001b[1G\u001b[39m\u001b[90m  \u001b[39m│    %14 = (Base.not_int)(%11)\u001b[36m::Bool\u001b[39m\n",
       "\u001b[90m\u001b[55G│     \u001b[1G\u001b[39m\u001b[90m  \u001b[39m└───       goto #10 if not %14\n",
       "\u001b[90m\u001b[55G│     \u001b[1G\u001b[39m\u001b[90m  \u001b[39m5 ┄─ %16 = φ (#4 => 0.0f0, #9 => %22)\u001b[36m::Float32\u001b[39m\n",
       "\u001b[90m\u001b[55G│     \u001b[1G\u001b[39m\u001b[90m  \u001b[39m│    %17 = φ (#4 => 0.0f0, #9 => %24)\u001b[36m::Float32\u001b[39m\n",
       "\u001b[90m\u001b[55G│     \u001b[1G\u001b[39m\u001b[90m  \u001b[39m│    %18 = φ (#4 => %12, #9 => %31)\u001b[36m::Int64\u001b[39m\n",
       "\u001b[90m\u001b[55G│     \u001b[1G\u001b[39m\u001b[90m  \u001b[39m│    %19 = φ (#4 => %13, #9 => %32)\u001b[36m::Int64\u001b[39m\n",
       "\u001b[90m\u001b[55G│╻     getindex\u001b[1G\u001b[39m\u001b[90m5 \u001b[39m│    %20 = (Base.arrayref)(true, xs, %18)\u001b[36m::Cplx3{Float32}\u001b[39m\n",
       "\u001b[90m\u001b[55G││╻     getproperty\u001b[1G\u001b[39m\u001b[90m  \u001b[39m│    %21 = (Base.getfield)(%20, :re)\u001b[36m::Float32\u001b[39m\n",
       "\u001b[90m\u001b[55G││╻     +\u001b[1G\u001b[39m\u001b[90m  \u001b[39m│    %22 = (Base.add_float)(%16, %21)\u001b[36m::Float32\u001b[39m\n",
       "\u001b[90m\u001b[55G││╻     getproperty\u001b[1G\u001b[39m\u001b[90m  \u001b[39m│    %23 = (Base.getfield)(%20, :im)\u001b[36m::Float32\u001b[39m\n",
       "\u001b[90m\u001b[55G││╻     +\u001b[1G\u001b[39m\u001b[90m  \u001b[39m│    %24 = (Base.add_float)(%17, %23)\u001b[36m::Float32\u001b[39m\n",
       "\u001b[90m\u001b[55G│││╻     Type\u001b[1G\u001b[39m\u001b[90m  \u001b[39m│    %25 = %new(Cplx3{Float32}, %22, %24)\u001b[36m::Cplx3{Float32}\u001b[39m\n",
       "\u001b[90m\u001b[55G││╻     ==\u001b[1G\u001b[39m\u001b[90m  \u001b[39m│    %26 = (%19 === %6)\u001b[36m::Bool\u001b[39m\n",
       "\u001b[90m\u001b[55G││    \u001b[1G\u001b[39m\u001b[90m  \u001b[39m└───       goto #7 if not %26\n",
       "\u001b[90m\u001b[55G││    \u001b[1G\u001b[39m\u001b[90m  \u001b[39m6 ──       goto #8\n",
       "\u001b[90m\u001b[55G││╻     +\u001b[1G\u001b[39m\u001b[90m  \u001b[39m7 ── %29 = (Base.add_int)(%19, 1)\u001b[36m::Int64\u001b[39m\n",
       "\u001b[90m\u001b[55G│╻     iterate\u001b[1G\u001b[39m\u001b[90m  \u001b[39m└───       goto #8\n",
       "\u001b[90m\u001b[55G│     \u001b[1G\u001b[39m\u001b[90m  \u001b[39m8 ┄─ %31 = φ (#7 => %29)\u001b[36m::Int64\u001b[39m\n",
       "\u001b[90m\u001b[55G│     \u001b[1G\u001b[39m\u001b[90m  \u001b[39m│    %32 = φ (#7 => %29)\u001b[36m::Int64\u001b[39m\n",
       "\u001b[90m\u001b[55G│     \u001b[1G\u001b[39m\u001b[90m  \u001b[39m│    %33 = φ (#6 => true, #7 => false)\u001b[36m::Bool\u001b[39m\n",
       "\u001b[90m\u001b[55G│     \u001b[1G\u001b[39m\u001b[90m  \u001b[39m│    %34 = (Base.not_int)(%33)\u001b[36m::Bool\u001b[39m\n",
       "\u001b[90m\u001b[55G│     \u001b[1G\u001b[39m\u001b[90m  \u001b[39m└───       goto #10 if not %34\n",
       "\u001b[90m\u001b[55G│     \u001b[1G\u001b[39m\u001b[90m  \u001b[39m9 ──       goto #5\n",
       "\u001b[90m\u001b[55G│     \u001b[1G\u001b[39m\u001b[90m7 \u001b[39m10 ─ %37 = φ (#8 => %25, #4 => %2)\u001b[36m::Cplx3{Float32}\u001b[39m\n",
       "\u001b[90m\u001b[55G│     \u001b[1G\u001b[39m\u001b[90m  \u001b[39m└───       return %37\n",
       ") => Cplx3{Float32}"
      ]
     },
     "execution_count": 30,
     "metadata": {},
     "output_type": "execute_result"
    }
   ],
   "source": [
    "@code_typed sum1(xs)"
   ]
  },
  {
   "cell_type": "code",
   "execution_count": 26,
   "metadata": {},
   "outputs": [
    {
     "name": "stdout",
     "output_type": "stream",
     "text": [
      "  0.001565 seconds (5 allocations: 176 bytes)\n"
     ]
    },
    {
     "data": {
      "text/plain": [
       "Cplx3{Float32}(499901.72f0, 499801.72f0)"
      ]
     },
     "execution_count": 26,
     "metadata": {},
     "output_type": "execute_result"
    }
   ],
   "source": [
    "xs = [Cplx3(rand(Float32), rand(Float32)) for i=1:10^6]\n",
    "\n",
    "@time sum1(xs)"
   ]
  },
  {
   "cell_type": "code",
   "execution_count": 29,
   "metadata": {},
   "outputs": [
    {
     "data": {
      "text/plain": [
       "Cplx3{Rational{Int64}}(1//2, 3//4)"
      ]
     },
     "execution_count": 29,
     "metadata": {},
     "output_type": "execute_result"
    }
   ],
   "source": [
    "Cplx3(1//2, 3//4) # Julia can infer the parameter"
   ]
  },
  {
   "cell_type": "markdown",
   "metadata": {},
   "source": [
    "## Tuples"
   ]
  },
  {
   "cell_type": "code",
   "execution_count": 41,
   "metadata": {},
   "outputs": [
    {
     "name": "stderr",
     "output_type": "stream",
     "text": [
      "┌ Info: Recompiling stale cache file /home/shashi/.julia/compiled/v1.0/Interact/XmYW4.ji for Interact [c601a237-2ae4-5e1e-952c-7a85b0c7eef1]\n",
      "└ @ Base loading.jl:1187\n"
     ]
    },
    {
     "data": {
      "text/html": [
       "    <script class='js-collapse-script'>\n",
       "        var curMatch =\n",
       "            window.location.href\n",
       "            .match(/(.*?)\\/notebooks\\/.*\\.ipynb/);\n",
       "\n",
       "        curMatch = curMatch ||\n",
       "            window.location.href\n",
       "            .match(/(.*?)\\/apps\\/.*\\.ipynb/);\n",
       "\n",
       "        if ( curMatch ) {\n",
       "            $('head').append('<base href=\"' + curMatch[1] + '/\">');\n",
       "        }\n",
       "    </script>\n"
      ],
      "text/plain": [
       "HTML{String}(\"    <script class='js-collapse-script'>\\n        var curMatch =\\n            window.location.href\\n            .match(/(.*?)\\\\/notebooks\\\\/.*\\\\.ipynb/);\\n\\n        curMatch = curMatch ||\\n            window.location.href\\n            .match(/(.*?)\\\\/apps\\\\/.*\\\\.ipynb/);\\n\\n        if ( curMatch ) {\\n            \\$('head').append('<base href=\\\"' + curMatch[1] + '/\\\">');\\n        }\\n    </script>\\n\")"
      ]
     },
     "metadata": {},
     "output_type": "display_data"
    },
    {
     "data": {
      "text/html": [
       "<script class='js-collapse-script' src='/assetserver/e8f953a4abf5e4095b83e225fc5e11254819fa44-assets/webio/dist/bundle.js'></script>"
      ],
      "text/plain": [
       "HTML{String}(\"<script class='js-collapse-script' src='/assetserver/e8f953a4abf5e4095b83e225fc5e11254819fa44-assets/webio/dist/bundle.js'></script>\")"
      ]
     },
     "metadata": {},
     "output_type": "display_data"
    },
    {
     "data": {
      "text/html": [
       "<script class='js-collapse-script' src='/assetserver/e8f953a4abf5e4095b83e225fc5e11254819fa44-assets/providers/ijulia_setup.js'></script>"
      ],
      "text/plain": [
       "HTML{String}(\"<script class='js-collapse-script' src='/assetserver/e8f953a4abf5e4095b83e225fc5e11254819fa44-assets/providers/ijulia_setup.js'></script>\")"
      ]
     },
     "metadata": {},
     "output_type": "display_data"
    },
    {
     "data": {
      "text/html": [
       "  <script class='js-collapse-script'>\n",
       "    $('.js-collapse-script').parent('.output_subarea').css('padding', '0');\n",
       "  </script>\n"
      ],
      "text/plain": [
       "HTML{String}(\"  <script class='js-collapse-script'>\\n    \\$('.js-collapse-script').parent('.output_subarea').css('padding', '0');\\n  </script>\\n\")"
      ]
     },
     "metadata": {},
     "output_type": "display_data"
    }
   ],
   "source": [
    "using Interact"
   ]
  },
  {
   "cell_type": "code",
   "execution_count": 61,
   "metadata": {},
   "outputs": [
    {
     "data": {
      "text/html": [
       "<div class='display:none'></div><unsafe-script style='display:none'>\n",
       "WebIO.mount(this.previousSibling,{&quot;props&quot;:{&quot;style&quot;:{&quot;display&quot;:&quot;flex&quot;,&quot;flex-direction&quot;:&quot;row&quot;}},&quot;nodeType&quot;:&quot;DOM&quot;,&quot;type&quot;:&quot;node&quot;,&quot;instanceArgs&quot;:{&quot;namespace&quot;:&quot;html&quot;,&quot;tag&quot;:&quot;div&quot;},&quot;children&quot;:[{&quot;props&quot;:{&quot;setInnerHtml&quot;:&quot;&lt;pre&gt;CodeInfo(\\n12 1 ─ %1 = (Base.getfield)(t, 2, true)::String\\n   └──      return %1\\n) =&gt; String&lt;/pre&gt;&quot;},&quot;nodeType&quot;:&quot;DOM&quot;,&quot;type&quot;:&quot;node&quot;,&quot;instanceArgs&quot;:{&quot;namespace&quot;:&quot;html&quot;,&quot;tag&quot;:&quot;div&quot;},&quot;children&quot;:[]},{&quot;props&quot;:{&quot;style&quot;:{&quot;height&quot;:&quot;0.0px&quot;,&quot;width&quot;:&quot;2.0em&quot;}},&quot;nodeType&quot;:&quot;DOM&quot;,&quot;type&quot;:&quot;node&quot;,&quot;instanceArgs&quot;:{&quot;namespace&quot;:&quot;html&quot;,&quot;tag&quot;:&quot;div&quot;},&quot;children&quot;:[]},{&quot;props&quot;:{&quot;setInnerHtml&quot;:&quot;&lt;pre&gt;CodeInfo(\\n12 1 ─ %1 = (Base.arrayref)(true, t, 2)::Any\\n   └──      return %1\\n) =&gt; Any&lt;/pre&gt;&quot;},&quot;nodeType&quot;:&quot;DOM&quot;,&quot;type&quot;:&quot;node&quot;,&quot;instanceArgs&quot;:{&quot;namespace&quot;:&quot;html&quot;,&quot;tag&quot;:&quot;div&quot;},&quot;children&quot;:[]}]})</unsafe-script>"
      ],
      "text/plain": [
       "(div { style=Dict(\"display\"=>\"flex\",\"flex-direction\"=>\"row\") }\n",
       "  (div { setInnerHtml=\"<pre>CodeInfo(\\n12 1 ─ %1 = (Base.getfield)(t, 2, true)::String\\n   └──      return %1\\n) => String</pre>\" })\n",
       "  (div { style=Dict{String,Measures.Length{U,Float64} where U}(\"height\"=>0.0px,\"width\"=>2.0em) })\n",
       "  (div { setInnerHtml=\"<pre>CodeInfo(\\n12 1 ─ %1 = (Base.arrayref)(true, t, 2)::Any\\n   └──      return %1\\n) => Any</pre>\" }))"
      ]
     },
     "execution_count": 61,
     "metadata": {},
     "output_type": "execute_result"
    }
   ],
   "source": [
    "tup1 = (1, \"yes\", :no)\n",
    "\n",
    "typeof(tup1)\n",
    "\n",
    "second(t) = t[2]\n",
    "\n",
    "\n",
    "vec1 = [1, \"yes\", :no]\n",
    "\n",
    "typeof(vec1)\n",
    "\n",
    "second(t) = t[2]\n",
    "\n",
    "\n",
    "\n",
    "hbox(@code_typed(second(tup1)), hskip(2em), @code_typed second(vec1))"
   ]
  },
  {
   "cell_type": "code",
   "execution_count": 45,
   "metadata": {},
   "outputs": [
    {
     "data": {
      "text/plain": [
       "2"
      ]
     },
     "execution_count": 45,
     "metadata": {},
     "output_type": "execute_result"
    }
   ],
   "source": [
    "vec1[2] = 2\n",
    "# tup1[2] = 2"
   ]
  },
  {
   "cell_type": "markdown",
   "metadata": {},
   "source": [
    "## Mutability\n",
    "\n",
    "Do not **create** mutable objects in a loop!"
   ]
  },
  {
   "cell_type": "code",
   "execution_count": 46,
   "metadata": {},
   "outputs": [],
   "source": [
    "mutable struct Cplx4{T<:Real}\n",
    "    re::T\n",
    "    im::T\n",
    "end\n",
    "\n",
    "\n",
    "Base.:+(a::Cplx4, b::Cplx4) = Cplx4(a.re + b.re, a.im + b.im)\n",
    "Base.zero(a::Cplx4) = Cplx4(zero(a.re), zero(a.im))"
   ]
  },
  {
   "cell_type": "code",
   "execution_count": 60,
   "metadata": {},
   "outputs": [
    {
     "name": "stdout",
     "output_type": "stream",
     "text": [
      "  0.042177 seconds (1.00 M allocations: 15.259 MiB, 86.77% gc time)\n"
     ]
    },
    {
     "data": {
      "text/plain": [
       "Cplx4{Float32}(499943.7f0, 500060.75f0)"
      ]
     },
     "execution_count": 60,
     "metadata": {},
     "output_type": "execute_result"
    }
   ],
   "source": [
    "xs = [Cplx4(rand(Float32), rand(Float32)) for i=1:10^6]\n",
    "\n",
    "@time sum1(xs)"
   ]
  },
  {
   "cell_type": "markdown",
   "metadata": {},
   "source": []
  },
  {
   "cell_type": "code",
   "execution_count": null,
   "metadata": {},
   "outputs": [],
   "source": []
  }
 ],
 "metadata": {
  "kernelspec": {
   "display_name": "Julia 1.0.1-pre",
   "language": "julia",
   "name": "julia-1.0"
  },
  "language_info": {
   "file_extension": ".jl",
   "mimetype": "application/julia",
   "name": "julia",
   "version": "1.0.2"
  }
 },
 "nbformat": 4,
 "nbformat_minor": 2
}
