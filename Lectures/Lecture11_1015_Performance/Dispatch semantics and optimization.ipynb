{
 "cells": [
  {
   "cell_type": "markdown",
   "metadata": {},
   "source": [
    "**Most of a program's run time is spent inside loops**\n",
    "\n",
    "Mostly function calls inside loops.\n",
    "\n",
    "**The act of calling these functions itself better be fast!**\n",
    "\n",
    "### But it doesn't look like it should be fast!\n",
    "\n",
    "To execute `foo(x,y)`, Julia chooses the **method for foo that is _most_ specific to types of x, and y**.\n",
    "\n",
    "**Looking up this method can be expensive!** There are hundreds of methods for `+(x,y)` picking the most specific one can involve a lot of head-scratching.\n",
    "\n",
    "But Julia can do it when **compiling** the code, once and forever!"
   ]
  },
  {
   "cell_type": "code",
   "execution_count": 7,
   "metadata": {},
   "outputs": [
    {
     "data": {
      "text/plain": [
       "sum1 (generic function with 1 method)"
      ]
     },
     "execution_count": 7,
     "metadata": {},
     "output_type": "execute_result"
    }
   ],
   "source": [
    "function sum1(xs)\n",
    "    s = zero(xs[1])\n",
    "\n",
    "    for i=1:length(xs)\n",
    "        s = +(s, xs[i])\n",
    "    end\n",
    "    s\n",
    "end"
   ]
  },
  {
   "cell_type": "code",
   "execution_count": 8,
   "metadata": {},
   "outputs": [
    {
     "data": {
      "text/plain": [
       "CodeInfo(\n",
       "\u001b[90m\u001b[77G│\u001b[1G\u001b[39m\u001b[90m2 \u001b[39m1 ─ %1  = (Base.getindex)(xs, 1)\u001b[36m::Complex{Int64}\u001b[39m\n",
       "\u001b[90m\u001b[77G│\u001b[1G\u001b[39m\u001b[90m  \u001b[39m│         (s = (Main.zero)(%1))\u001b[90m::Complex{Int64}\u001b[39m\n",
       "\u001b[90m\u001b[77G│\u001b[1G\u001b[39m\u001b[90m4 \u001b[39m│   %3  = (Main.length)(xs)\u001b[36m::Int64\u001b[39m\n",
       "\u001b[90m\u001b[77G│\u001b[1G\u001b[39m\u001b[90m  \u001b[39m│   %4  = (1:%3)\u001b[36m::UnitRange{Int64}\u001b[39m\n",
       "\u001b[90m\u001b[77G│\u001b[1G\u001b[39m\u001b[90m  \u001b[39m│         (#temp# = (Base.iterate)(%4))\u001b[90m::Union{Nothing, Tuple{Int64,Int64}}\u001b[39m\n",
       "\u001b[90m\u001b[77G│\u001b[1G\u001b[39m\u001b[90m  \u001b[39m│   %6  = (#temp# === nothing)\u001b[36m::Bool\u001b[39m\n",
       "\u001b[90m\u001b[77G│\u001b[1G\u001b[39m\u001b[90m  \u001b[39m│   %7  = (Base.not_int)(%6)\u001b[36m::Bool\u001b[39m\n",
       "\u001b[90m\u001b[77G│\u001b[1G\u001b[39m\u001b[90m  \u001b[39m└──       goto #4 if not %7\n",
       "\u001b[90m\u001b[77G│\u001b[1G\u001b[39m\u001b[90m  \u001b[39m2 ┄ %9  = #temp#::Tuple{Int64,Int64}\u001b[36m::Tuple{Int64,Int64}\u001b[39m\n",
       "\u001b[90m\u001b[77G│\u001b[1G\u001b[39m\u001b[90m  \u001b[39m│         (i = (Core.getfield)(%9, 1))\u001b[90m::Int64\u001b[39m\n",
       "\u001b[90m\u001b[77G│\u001b[1G\u001b[39m\u001b[90m  \u001b[39m│   %11 = (Core.getfield)(%9, 2)\u001b[36m::Int64\u001b[39m\n",
       "\u001b[90m\u001b[77G│\u001b[1G\u001b[39m\u001b[90m5 \u001b[39m│   %12 = s\u001b[36m::Complex{Int64}\u001b[39m\n",
       "\u001b[90m\u001b[77G│\u001b[1G\u001b[39m\u001b[90m  \u001b[39m│   %13 = (Base.getindex)(xs, i)\u001b[36m::Complex{Int64}\u001b[39m\n",
       "\u001b[90m\u001b[77G│\u001b[1G\u001b[39m\u001b[90m  \u001b[39m│         (s = %12 + %13)\u001b[90m::Complex{Int64}\u001b[39m\n",
       "\u001b[90m\u001b[77G│\u001b[1G\u001b[39m\u001b[90m  \u001b[39m│         (#temp# = (Base.iterate)(%4, %11))\u001b[90m::Union{Nothing, Tuple{Int64,Int64}}\u001b[39m\n",
       "\u001b[90m\u001b[77G│\u001b[1G\u001b[39m\u001b[90m  \u001b[39m│   %16 = (#temp# === nothing)\u001b[36m::Bool\u001b[39m\n",
       "\u001b[90m\u001b[77G│\u001b[1G\u001b[39m\u001b[90m  \u001b[39m│   %17 = (Base.not_int)(%16)\u001b[36m::Bool\u001b[39m\n",
       "\u001b[90m\u001b[77G│\u001b[1G\u001b[39m\u001b[90m  \u001b[39m└──       goto #4 if not %17\n",
       "\u001b[90m\u001b[77G│\u001b[1G\u001b[39m\u001b[90m  \u001b[39m3 ─       goto #2\n",
       "\u001b[90m\u001b[77G│\u001b[1G\u001b[39m\u001b[90m7 \u001b[39m4 ─       return s\n",
       ") => Complex{Int64}"
      ]
     },
     "execution_count": 8,
     "metadata": {},
     "output_type": "execute_result"
    }
   ],
   "source": [
    "@code_typed optimize=false sum1([1+2im, 7+9im])"
   ]
  },
  {
   "cell_type": "code",
   "execution_count": 9,
   "metadata": {},
   "outputs": [
    {
     "data": {
      "text/plain": [
       "CodeInfo(\n",
       "\u001b[90m\u001b[55G│╻     getindex\u001b[1G\u001b[39m\u001b[90m2 \u001b[39m1 ──       (Base.arrayref)(true, xs, 1)\u001b[90m::Complex{Int64}\u001b[39m\n",
       "\u001b[90m\u001b[55G││╻╷╷╷  oftype\u001b[1G\u001b[39m\u001b[90m  \u001b[39m│    %2  = %new(Complex{Int64}, 0, 0)\u001b[36m::Complex{Int64}\u001b[39m\n",
       "\u001b[90m\u001b[55G│╻     length\u001b[1G\u001b[39m\u001b[90m4 \u001b[39m│    %3  = (Base.arraylen)(xs)\u001b[36m::Int64\u001b[39m\n",
       "\u001b[90m\u001b[55G││╻╷╷╷  Type\u001b[1G\u001b[39m\u001b[90m  \u001b[39m│    %4  = (Base.sle_int)(1, %3)\u001b[36m::Bool\u001b[39m\n",
       "\u001b[90m\u001b[55G│││╻     unitrange_last\u001b[1G\u001b[39m\u001b[90m  \u001b[39m│          (Base.sub_int)(%3, 1)\u001b[90m::Int64\u001b[39m\n",
       "\u001b[90m\u001b[55G││││  \u001b[1G\u001b[39m\u001b[90m  \u001b[39m│    %6  = (Base.ifelse)(%4, %3, 0)\u001b[36m::Int64\u001b[39m\n",
       "\u001b[90m\u001b[55G││╻╷╷   isempty\u001b[1G\u001b[39m\u001b[90m  \u001b[39m│    %7  = (Base.slt_int)(%6, 1)\u001b[36m::Bool\u001b[39m\n",
       "\u001b[90m\u001b[55G││    \u001b[1G\u001b[39m\u001b[90m  \u001b[39m└───       goto #3 if not %7\n",
       "\u001b[90m\u001b[55G││    \u001b[1G\u001b[39m\u001b[90m  \u001b[39m2 ──       goto #4\n",
       "\u001b[90m\u001b[55G││    \u001b[1G\u001b[39m\u001b[90m  \u001b[39m3 ──       goto #4\n",
       "\u001b[90m\u001b[55G│     \u001b[1G\u001b[39m\u001b[90m  \u001b[39m4 ┄─ %11 = φ (#2 => true, #3 => false)\u001b[36m::Bool\u001b[39m\n",
       "\u001b[90m\u001b[55G│     \u001b[1G\u001b[39m\u001b[90m  \u001b[39m│    %12 = φ (#3 => 1)\u001b[36m::Int64\u001b[39m\n",
       "\u001b[90m\u001b[55G│     \u001b[1G\u001b[39m\u001b[90m  \u001b[39m│    %13 = φ (#3 => 1)\u001b[36m::Int64\u001b[39m\n",
       "\u001b[90m\u001b[55G│     \u001b[1G\u001b[39m\u001b[90m  \u001b[39m│    %14 = (Base.not_int)(%11)\u001b[36m::Bool\u001b[39m\n",
       "\u001b[90m\u001b[55G│     \u001b[1G\u001b[39m\u001b[90m  \u001b[39m└───       goto #10 if not %14\n",
       "\u001b[90m\u001b[55G│     \u001b[1G\u001b[39m\u001b[90m  \u001b[39m5 ┄─ %16 = φ (#4 => 0, #9 => %22)\u001b[36m::Int64\u001b[39m\n",
       "\u001b[90m\u001b[55G│     \u001b[1G\u001b[39m\u001b[90m  \u001b[39m│    %17 = φ (#4 => 0, #9 => %24)\u001b[36m::Int64\u001b[39m\n",
       "\u001b[90m\u001b[55G│     \u001b[1G\u001b[39m\u001b[90m  \u001b[39m│    %18 = φ (#4 => %12, #9 => %31)\u001b[36m::Int64\u001b[39m\n",
       "\u001b[90m\u001b[55G│     \u001b[1G\u001b[39m\u001b[90m  \u001b[39m│    %19 = φ (#4 => %13, #9 => %32)\u001b[36m::Int64\u001b[39m\n",
       "\u001b[90m\u001b[55G│╻     getindex\u001b[1G\u001b[39m\u001b[90m5 \u001b[39m│    %20 = (Base.arrayref)(true, xs, %18)\u001b[36m::Complex{Int64}\u001b[39m\n",
       "\u001b[90m\u001b[55G││╻╷    real\u001b[1G\u001b[39m\u001b[90m  \u001b[39m│    %21 = (Base.getfield)(%20, :re)\u001b[36m::Int64\u001b[39m\n",
       "\u001b[90m\u001b[55G││╻     +\u001b[1G\u001b[39m\u001b[90m  \u001b[39m│    %22 = (Base.add_int)(%16, %21)\u001b[36m::Int64\u001b[39m\n",
       "\u001b[90m\u001b[55G│││╻     getproperty\u001b[1G\u001b[39m\u001b[90m  \u001b[39m│    %23 = (Base.getfield)(%20, :im)\u001b[36m::Int64\u001b[39m\n",
       "\u001b[90m\u001b[55G││╻     +\u001b[1G\u001b[39m\u001b[90m  \u001b[39m│    %24 = (Base.add_int)(%17, %23)\u001b[36m::Int64\u001b[39m\n",
       "\u001b[90m\u001b[55G│││╻     Type\u001b[1G\u001b[39m\u001b[90m  \u001b[39m│    %25 = %new(Complex{Int64}, %22, %24)\u001b[36m::Complex{Int64}\u001b[39m\n",
       "\u001b[90m\u001b[55G││╻     ==\u001b[1G\u001b[39m\u001b[90m  \u001b[39m│    %26 = (%19 === %6)\u001b[36m::Bool\u001b[39m\n",
       "\u001b[90m\u001b[55G││    \u001b[1G\u001b[39m\u001b[90m  \u001b[39m└───       goto #7 if not %26\n",
       "\u001b[90m\u001b[55G││    \u001b[1G\u001b[39m\u001b[90m  \u001b[39m6 ──       goto #8\n",
       "\u001b[90m\u001b[55G││╻     +\u001b[1G\u001b[39m\u001b[90m  \u001b[39m7 ── %29 = (Base.add_int)(%19, 1)\u001b[36m::Int64\u001b[39m\n",
       "\u001b[90m\u001b[55G│╻     iterate\u001b[1G\u001b[39m\u001b[90m  \u001b[39m└───       goto #8\n",
       "\u001b[90m\u001b[55G│     \u001b[1G\u001b[39m\u001b[90m  \u001b[39m8 ┄─ %31 = φ (#7 => %29)\u001b[36m::Int64\u001b[39m\n",
       "\u001b[90m\u001b[55G│     \u001b[1G\u001b[39m\u001b[90m  \u001b[39m│    %32 = φ (#7 => %29)\u001b[36m::Int64\u001b[39m\n",
       "\u001b[90m\u001b[55G│     \u001b[1G\u001b[39m\u001b[90m  \u001b[39m│    %33 = φ (#6 => true, #7 => false)\u001b[36m::Bool\u001b[39m\n",
       "\u001b[90m\u001b[55G│     \u001b[1G\u001b[39m\u001b[90m  \u001b[39m│    %34 = (Base.not_int)(%33)\u001b[36m::Bool\u001b[39m\n",
       "\u001b[90m\u001b[55G│     \u001b[1G\u001b[39m\u001b[90m  \u001b[39m└───       goto #10 if not %34\n",
       "\u001b[90m\u001b[55G│     \u001b[1G\u001b[39m\u001b[90m  \u001b[39m9 ──       goto #5\n",
       "\u001b[90m\u001b[55G│     \u001b[1G\u001b[39m\u001b[90m7 \u001b[39m10 ─ %37 = φ (#8 => %25, #4 => %2)\u001b[36m::Complex{Int64}\u001b[39m\n",
       "\u001b[90m\u001b[55G│     \u001b[1G\u001b[39m\u001b[90m  \u001b[39m└───       return %37\n",
       ") => Complex{Int64}"
      ]
     },
     "execution_count": 9,
     "metadata": {},
     "output_type": "execute_result"
    }
   ],
   "source": [
    "@code_typed sum1([1+2im, 7+9im]) # Also gets inlined -- no call to + on Complex anymore!"
   ]
  },
  {
   "cell_type": "code",
   "execution_count": 15,
   "metadata": {},
   "outputs": [
    {
     "data": {
      "text/plain": [
       "add (generic function with 1 method)"
      ]
     },
     "execution_count": 15,
     "metadata": {},
     "output_type": "execute_result"
    }
   ],
   "source": [
    "@noinline add(x,y) = x+y # forcefully avoid inlining"
   ]
  },
  {
   "cell_type": "code",
   "execution_count": 18,
   "metadata": {},
   "outputs": [
    {
     "data": {
      "text/plain": [
       "sum2 (generic function with 1 method)"
      ]
     },
     "execution_count": 18,
     "metadata": {},
     "output_type": "execute_result"
    }
   ],
   "source": [
    "function sum2(xs)\n",
    "    s = zero(xs[1])\n",
    "\n",
    "    for i=1:length(xs)\n",
    "        s = (s + xs[i])\n",
    "    end\n",
    "    s\n",
    "end"
   ]
  },
  {
   "cell_type": "code",
   "execution_count": 20,
   "metadata": {},
   "outputs": [
    {
     "name": "stdout",
     "output_type": "stream",
     "text": [
      "\t.text\n",
      "; Function sum2 {\n",
      "; Location: In[18]:2\n",
      "\tpushq\t%rbp\n",
      "\tmovq\t%rsp, %rbp\n",
      "; Function getindex; {\n",
      "; Location: array.jl:731\n",
      "\tmovq\t8(%rsi), %rax\n",
      "\ttestq\t%rax, %rax\n",
      "\tje\tL107\n",
      ";}\n",
      "; Location: In[18]:4\n",
      "\tjle\tL91\n",
      "\tmovq\t(%rsi), %rdx\n",
      "\tvpxor\t%xmm0, %xmm0, %xmm0\n",
      "\tmovl\t$1, %ecx\n",
      "\tnopl\t(%rax,%rax)\n",
      "; Location: In[18]:5\n",
      "; Function +; {\n",
      "; Location: complex.jl:266\n",
      "; Function +; {\n",
      "; Location: int.jl:53\n",
      "L32:\n",
      "\tvpaddq\t(%rdx), %xmm0, %xmm0\n",
      ";}}\n",
      "; Function iterate; {\n",
      "; Location: range.jl:575\n",
      "; Function ==; {\n",
      "; Location: promotion.jl:425\n",
      "\tcmpq\t%rcx, %rax\n",
      ";}}\n",
      "\tje\tL95\n",
      "; Function getindex; {\n",
      "; Location: array.jl:731\n",
      "\taddq\t$16, %rdx\n",
      "\tcmpq\t%rax, %rcx\n",
      ";}\n",
      "; Function iterate; {\n",
      "; Location: range.jl:576\n",
      "; Function +; {\n",
      "; Location: int.jl:53\n",
      "\tleaq\t1(%rcx), %rcx\n",
      ";}}\n",
      "; Function getindex; {\n",
      "; Location: array.jl:731\n",
      "\tjb\tL32\n",
      "\tmovq\t%rsp, %rdx\n",
      "\tleaq\t-16(%rdx), %rax\n",
      "\tmovq\t%rax, %rsp\n",
      "\tmovq\t%rcx, -16(%rdx)\n",
      "\tmovabsq\t$jl_bounds_error_ints, %rcx\n",
      "\tmovl\t$1, %edx\n",
      "\tmovq\t%rsi, %rdi\n",
      "\tmovq\t%rax, %rsi\n",
      "\tcallq\t*%rcx\n",
      ";}}\n",
      "; Function sum2 {\n",
      "; Location: array.jl\n",
      "L91:\n",
      "\tvpxor\t%xmm0, %xmm0, %xmm0\n",
      ";}\n",
      "; Function sum2 {\n",
      "; Location: In[18]:7\n",
      "L95:\n",
      "\tvmovdqu\t%xmm0, (%rdi)\n",
      "\tmovq\t%rdi, %rax\n",
      "\tmovq\t%rbp, %rsp\n",
      "\tpopq\t%rbp\n",
      "\tretq\n",
      "; Location: In[18]:2\n",
      "; Function getindex; {\n",
      "; Location: array.jl:731\n",
      "L107:\n",
      "\tmovq\t%rsp, %rcx\n",
      "\tleaq\t-16(%rcx), %rax\n",
      "\tmovq\t%rax, %rsp\n",
      "\tmovq\t$1, -16(%rcx)\n",
      "\tmovabsq\t$jl_bounds_error_ints, %rcx\n",
      "\tmovl\t$1, %edx\n",
      "\tmovq\t%rsi, %rdi\n",
      "\tmovq\t%rax, %rsi\n",
      "\tcallq\t*%rcx\n",
      "\tnopw\t%cs:(%rax,%rax)\n",
      ";}}\n"
     ]
    }
   ],
   "source": [
    "@code_native sum2([1+1im, 2+3im])"
   ]
  },
  {
   "cell_type": "markdown",
   "metadata": {},
   "source": [
    "Let's try to create a function that doesn't allow you to infer its result type"
   ]
  },
  {
   "cell_type": "code",
   "execution_count": 22,
   "metadata": {},
   "outputs": [
    {
     "name": "stdout",
     "output_type": "stream",
     "text": [
      "typeof(vec1) = Array{Int64,1}\n",
      "typeof(vec2) = Array{Union{Float64, Int64},1}\n",
      "typeof(vec3) = Array{Any,1}\n"
     ]
    },
    {
     "data": {
      "text/plain": [
       "bad_add (generic function with 1 method)"
      ]
     },
     "execution_count": 22,
     "metadata": {},
     "output_type": "execute_result"
    }
   ],
   "source": [
    "vec1 = [1,2]\n",
    "@show typeof(vec1)\n",
    "\n",
    "vec2 = Union{Int, Float64}[1,2.3]\n",
    "@show typeof(vec2)\n",
    "\n",
    "vec3 = [1,\"hi\"]\n",
    "@show typeof(vec3)\n",
    "vec3[1] # what is the output type of vec[i] for all i?\n",
    "\n",
    "\n",
    "function bad_add(x,y)\n",
    "    d=[0, \"yes\"] # intentionally create a Vector{Any}\n",
    "    x+y+d[1]\n",
    "end"
   ]
  },
  {
   "cell_type": "code",
   "execution_count": 23,
   "metadata": {},
   "outputs": [
    {
     "data": {
      "text/plain": [
       "CodeInfo(\n",
       "\u001b[90m\u001b[66G│  \u001b[1G\u001b[39m\u001b[90m13 \u001b[39m1 ─ %1 = invoke Base.vect(0::Int64, \"yes\"::Vararg{Any,N} where N)\u001b[36m::Array{Any,1}\u001b[39m\n",
       "\u001b[90m\u001b[66G│╻  getindex\u001b[1G\u001b[39m\u001b[90m14 \u001b[39m│   %2 = (Base.arrayref)(true, %1, 1)\u001b[36m::Any\u001b[39m\n",
       "\u001b[90m\u001b[66G││╻  +\u001b[1G\u001b[39m\u001b[90m   \u001b[39m│   %3 = (Base.add_int)(x, y)\u001b[36m::Int64\u001b[39m\n",
       "\u001b[90m\u001b[66G││ \u001b[1G\u001b[39m\u001b[90m   \u001b[39m│   %4 = (%3 + %2)\u001b[36m::Any\u001b[39m\n",
       "\u001b[90m\u001b[66G│  \u001b[1G\u001b[39m\u001b[90m   \u001b[39m└──      return %4\n",
       ") => Any"
      ]
     },
     "execution_count": 23,
     "metadata": {},
     "output_type": "execute_result"
    }
   ],
   "source": [
    "@code_typed bad_add(1,2)"
   ]
  },
  {
   "cell_type": "code",
   "execution_count": 24,
   "metadata": {},
   "outputs": [
    {
     "data": {
      "text/plain": [
       "sum3 (generic function with 1 method)"
      ]
     },
     "execution_count": 24,
     "metadata": {},
     "output_type": "execute_result"
    }
   ],
   "source": [
    "\n",
    "\n",
    "function sum3(xs)\n",
    "    s = zero(xs[1])\n",
    "\n",
    "    for i=1:length(xs)\n",
    "        s = bad_add(s, xs[i])\n",
    "    end\n",
    "    s\n",
    "end"
   ]
  },
  {
   "cell_type": "code",
   "execution_count": 25,
   "metadata": {},
   "outputs": [
    {
     "data": {
      "text/plain": [
       "CodeInfo(\n",
       "\u001b[90m\u001b[66G│  \u001b[1G\u001b[39m\u001b[90m13 \u001b[39m1 ─ %1 = invoke Base.vect(0::Int64, \"yes\"::Vararg{Any,N} where N)\u001b[36m::Array{Any,1}\u001b[39m\n",
       "\u001b[90m\u001b[66G│╻  getindex\u001b[1G\u001b[39m\u001b[90m14 \u001b[39m│   %2 = (Base.arrayref)(true, %1, 1)\u001b[36m::Any\u001b[39m\n",
       "\u001b[90m\u001b[66G││╻  +\u001b[1G\u001b[39m\u001b[90m   \u001b[39m│   %3 = (Base.add_int)(x, y)\u001b[36m::Int64\u001b[39m\n",
       "\u001b[90m\u001b[66G││ \u001b[1G\u001b[39m\u001b[90m   \u001b[39m│   %4 = (%3 + %2)\u001b[36m::Any\u001b[39m\n",
       "\u001b[90m\u001b[66G│  \u001b[1G\u001b[39m\u001b[90m   \u001b[39m└──      return %4\n",
       ") => Any"
      ]
     },
     "execution_count": 25,
     "metadata": {},
     "output_type": "execute_result"
    }
   ],
   "source": [
    "@code_typed bad_add(1,2)"
   ]
  },
  {
   "cell_type": "code",
   "execution_count": 26,
   "metadata": {},
   "outputs": [
    {
     "name": "stdout",
     "output_type": "stream",
     "text": [
      "Body\u001b[91m\u001b[1m::Any\u001b[22m\u001b[39m\n",
      "\u001b[90m\u001b[55G│╻     getindex\u001b[1G\u001b[39m\u001b[90m4 \u001b[39m1 ──       (Base.arrayref)(true, xs, 1)\n",
      "\u001b[90m\u001b[55G│╻     length\u001b[1G\u001b[39m\u001b[90m6 \u001b[39m│    %2  = (Base.arraylen)(xs)\u001b[36m::Int64\u001b[39m\n",
      "\u001b[90m\u001b[55G││╻╷╷╷  Type\u001b[1G\u001b[39m\u001b[90m  \u001b[39m│    %3  = (Base.sle_int)(1, %2)\u001b[36m::Bool\u001b[39m\n",
      "\u001b[90m\u001b[55G│││╻     unitrange_last\u001b[1G\u001b[39m\u001b[90m  \u001b[39m│          (Base.sub_int)(%2, 1)\n",
      "\u001b[90m\u001b[55G││││  \u001b[1G\u001b[39m\u001b[90m  \u001b[39m│    %5  = (Base.ifelse)(%3, %2, 0)\u001b[36m::Int64\u001b[39m\n",
      "\u001b[90m\u001b[55G││╻╷╷   isempty\u001b[1G\u001b[39m\u001b[90m  \u001b[39m│    %6  = (Base.slt_int)(%5, 1)\u001b[36m::Bool\u001b[39m\n",
      "\u001b[90m\u001b[55G││    \u001b[1G\u001b[39m\u001b[90m  \u001b[39m└───       goto #3 if not %6\n",
      "\u001b[90m\u001b[55G││    \u001b[1G\u001b[39m\u001b[90m  \u001b[39m2 ──       goto #4\n",
      "\u001b[90m\u001b[55G││    \u001b[1G\u001b[39m\u001b[90m  \u001b[39m3 ──       goto #4\n",
      "\u001b[90m\u001b[55G│     \u001b[1G\u001b[39m\u001b[90m  \u001b[39m4 ┄─ %10 = φ (#2 => true, #3 => false)\u001b[36m::Bool\u001b[39m\n",
      "\u001b[90m\u001b[55G│     \u001b[1G\u001b[39m\u001b[90m  \u001b[39m│    %11 = φ (#3 => 1)\u001b[36m::Int64\u001b[39m\n",
      "\u001b[90m\u001b[55G│     \u001b[1G\u001b[39m\u001b[90m  \u001b[39m│    %12 = φ (#3 => 1)\u001b[36m::Int64\u001b[39m\n",
      "\u001b[90m\u001b[55G│     \u001b[1G\u001b[39m\u001b[90m  \u001b[39m│    %13 = (Base.not_int)(%10)\u001b[36m::Bool\u001b[39m\n",
      "\u001b[90m\u001b[55G│     \u001b[1G\u001b[39m\u001b[90m  \u001b[39m└───       goto #10 if not %13\n",
      "\u001b[90m\u001b[55G│     \u001b[1G\u001b[39m\u001b[90m  \u001b[39m5 ┄─ %15 = φ (#4 => 0, #9 => %19)\u001b[91m\u001b[1m::Any\u001b[22m\u001b[39m\n",
      "\u001b[90m\u001b[55G│     \u001b[1G\u001b[39m\u001b[90m  \u001b[39m│    %16 = φ (#4 => %11, #9 => %25)\u001b[36m::Int64\u001b[39m\n",
      "\u001b[90m\u001b[55G│     \u001b[1G\u001b[39m\u001b[90m  \u001b[39m│    %17 = φ (#4 => %12, #9 => %26)\u001b[36m::Int64\u001b[39m\n",
      "\u001b[90m\u001b[55G│╻     getindex\u001b[1G\u001b[39m\u001b[90m7 \u001b[39m│    %18 = (Base.arrayref)(true, xs, %16)\u001b[36m::Int64\u001b[39m\n",
      "\u001b[90m\u001b[55G│     \u001b[1G\u001b[39m\u001b[90m  \u001b[39m│    %19 = (Main.bad_add)(%15, %18)\u001b[91m\u001b[1m::Any\u001b[22m\u001b[39m\n",
      "\u001b[90m\u001b[55G││╻     ==\u001b[1G\u001b[39m\u001b[90m  \u001b[39m│    %20 = (%17 === %5)\u001b[36m::Bool\u001b[39m\n",
      "\u001b[90m\u001b[55G││    \u001b[1G\u001b[39m\u001b[90m  \u001b[39m└───       goto #7 if not %20\n",
      "\u001b[90m\u001b[55G││    \u001b[1G\u001b[39m\u001b[90m  \u001b[39m6 ──       goto #8\n",
      "\u001b[90m\u001b[55G││╻     +\u001b[1G\u001b[39m\u001b[90m  \u001b[39m7 ── %23 = (Base.add_int)(%17, 1)\u001b[36m::Int64\u001b[39m\n",
      "\u001b[90m\u001b[55G│╻     iterate\u001b[1G\u001b[39m\u001b[90m  \u001b[39m└───       goto #8\n",
      "\u001b[90m\u001b[55G│     \u001b[1G\u001b[39m\u001b[90m  \u001b[39m8 ┄─ %25 = φ (#7 => %23)\u001b[36m::Int64\u001b[39m\n",
      "\u001b[90m\u001b[55G│     \u001b[1G\u001b[39m\u001b[90m  \u001b[39m│    %26 = φ (#7 => %23)\u001b[36m::Int64\u001b[39m\n",
      "\u001b[90m\u001b[55G│     \u001b[1G\u001b[39m\u001b[90m  \u001b[39m│    %27 = φ (#6 => true, #7 => false)\u001b[36m::Bool\u001b[39m\n",
      "\u001b[90m\u001b[55G│     \u001b[1G\u001b[39m\u001b[90m  \u001b[39m│    %28 = (Base.not_int)(%27)\u001b[36m::Bool\u001b[39m\n",
      "\u001b[90m\u001b[55G│     \u001b[1G\u001b[39m\u001b[90m  \u001b[39m└───       goto #10 if not %28\n",
      "\u001b[90m\u001b[55G│     \u001b[1G\u001b[39m\u001b[90m  \u001b[39m9 ──       goto #5\n",
      "\u001b[90m\u001b[55G│     \u001b[1G\u001b[39m\u001b[90m9 \u001b[39m10 ─ %31 = φ (#8 => %19, #4 => 0)\u001b[91m\u001b[1m::Any\u001b[22m\u001b[39m\n",
      "\u001b[90m\u001b[55G│     \u001b[1G\u001b[39m\u001b[90m  \u001b[39m└───       return %31\n"
     ]
    }
   ],
   "source": [
    "@code_warntype sum3([1,2])"
   ]
  },
  {
   "cell_type": "markdown",
   "metadata": {},
   "source": [
    "### Common pitfall Number 1. use of global variables in loops"
   ]
  },
  {
   "cell_type": "code",
   "execution_count": 35,
   "metadata": {},
   "outputs": [
    {
     "data": {
      "text/plain": [
       "sum1_global (generic function with 1 method)"
      ]
     },
     "execution_count": 35,
     "metadata": {},
     "output_type": "execute_result"
    }
   ],
   "source": [
    "xs = rand(10^6)\n",
    "function sum1_global()\n",
    "    s = zero(xs[1])\n",
    "    \n",
    "    for i=1:length(xs)\n",
    "        s = +(s, xs[i])\n",
    "    end\n",
    "    s\n",
    "end\n"
   ]
  },
  {
   "cell_type": "code",
   "execution_count": 36,
   "metadata": {},
   "outputs": [
    {
     "name": "stdout",
     "output_type": "stream",
     "text": [
      "Body\u001b[91m\u001b[1m::Any\u001b[22m\u001b[39m\n",
      "\u001b[90m\u001b[56G│    \u001b[1G\u001b[39m\u001b[90m3 \u001b[39m1 ─ %1  = (Base.getindex)(Main.xs, 1)\u001b[91m\u001b[1m::Any\u001b[22m\u001b[39m\n",
      "\u001b[90m\u001b[56G│    \u001b[1G\u001b[39m\u001b[90m  \u001b[39m│   %2  = (Main.zero)(%1)\u001b[91m\u001b[1m::Any\u001b[22m\u001b[39m\n",
      "\u001b[90m\u001b[56G│    \u001b[1G\u001b[39m\u001b[90m5 \u001b[39m│   %3  = (Main.length)(Main.xs)\u001b[91m\u001b[1m::Any\u001b[22m\u001b[39m\n",
      "\u001b[90m\u001b[56G│    \u001b[1G\u001b[39m\u001b[90m  \u001b[39m│   %4  = (isa)(%3, Int64)\u001b[36m::Bool\u001b[39m\n",
      "\u001b[90m\u001b[56G│    \u001b[1G\u001b[39m\u001b[90m  \u001b[39m└──       goto #3 if not %4\n",
      "\u001b[90m\u001b[56G│    \u001b[1G\u001b[39m\u001b[90m  \u001b[39m2 ─ %6  = π (%3, \u001b[36mInt64\u001b[39m)\n",
      "\u001b[90m\u001b[56G│╻╷╷╷ Colon\u001b[1G\u001b[39m\u001b[90m  \u001b[39m│   %7  = (Base.sle_int)(1, %6)\u001b[36m::Bool\u001b[39m\n",
      "\u001b[90m\u001b[56G││╻    Type\u001b[1G\u001b[39m\u001b[90m  \u001b[39m│         (Base.sub_int)(%6, 1)\n",
      "\u001b[90m\u001b[56G│││┃│   unitrange_last\u001b[1G\u001b[39m\u001b[90m  \u001b[39m│   %9  = (Base.sub_int)(1, 1)\u001b[36m::Int64\u001b[39m\n",
      "\u001b[90m\u001b[56G││││ \u001b[1G\u001b[39m\u001b[90m  \u001b[39m│   %10 = (Base.ifelse)(%7, %6, %9)\u001b[36m::Int64\u001b[39m\n",
      "\u001b[90m\u001b[56G│││  \u001b[1G\u001b[39m\u001b[90m  \u001b[39m│   %11 = %new(UnitRange{Int64}, 1, %10)\u001b[36m::UnitRange{Int64}\u001b[39m\n",
      "\u001b[90m\u001b[56G│    \u001b[1G\u001b[39m\u001b[90m  \u001b[39m└──       goto #4\n",
      "\u001b[90m\u001b[56G│    \u001b[1G\u001b[39m\u001b[90m  \u001b[39m3 ─ %13 = (1:%3)\u001b[91m\u001b[1m::Any\u001b[22m\u001b[39m\n",
      "\u001b[90m\u001b[56G│    \u001b[1G\u001b[39m\u001b[90m  \u001b[39m└──       goto #4\n",
      "\u001b[90m\u001b[56G│    \u001b[1G\u001b[39m\u001b[90m  \u001b[39m4 ┄ %15 = φ (#2 => %11, #3 => %13)\u001b[91m\u001b[1m::Any\u001b[22m\u001b[39m\n",
      "\u001b[90m\u001b[56G│    \u001b[1G\u001b[39m\u001b[90m  \u001b[39m│   %16 = (Base.iterate)(%15)\u001b[91m\u001b[1m::Any\u001b[22m\u001b[39m\n",
      "\u001b[90m\u001b[56G│    \u001b[1G\u001b[39m\u001b[90m  \u001b[39m│   %17 = (%16 === nothing)\u001b[36m::Bool\u001b[39m\n",
      "\u001b[90m\u001b[56G│    \u001b[1G\u001b[39m\u001b[90m  \u001b[39m│   %18 = (Base.not_int)(%17)\u001b[36m::Bool\u001b[39m\n",
      "\u001b[90m\u001b[56G│    \u001b[1G\u001b[39m\u001b[90m  \u001b[39m└──       goto #7 if not %18\n",
      "\u001b[90m\u001b[56G│    \u001b[1G\u001b[39m\u001b[90m  \u001b[39m5 ┄ %20 = φ (#4 => %2, #6 => %25)\u001b[91m\u001b[1m::Any\u001b[22m\u001b[39m\n",
      "\u001b[90m\u001b[56G│    \u001b[1G\u001b[39m\u001b[90m  \u001b[39m│   %21 = φ (#4 => %16, #6 => %26)\u001b[91m\u001b[1m::Any\u001b[22m\u001b[39m\n",
      "\u001b[90m\u001b[56G│    \u001b[1G\u001b[39m\u001b[90m  \u001b[39m│   %22 = (Core.getfield)(%21, 1)\u001b[91m\u001b[1m::Any\u001b[22m\u001b[39m\n",
      "\u001b[90m\u001b[56G│    \u001b[1G\u001b[39m\u001b[90m  \u001b[39m│   %23 = (Core.getfield)(%21, 2)\u001b[91m\u001b[1m::Any\u001b[22m\u001b[39m\n",
      "\u001b[90m\u001b[56G│    \u001b[1G\u001b[39m\u001b[90m6 \u001b[39m│   %24 = (Base.getindex)(Main.xs, %22)\u001b[91m\u001b[1m::Any\u001b[22m\u001b[39m\n",
      "\u001b[90m\u001b[56G│    \u001b[1G\u001b[39m\u001b[90m  \u001b[39m│   %25 = (%20 + %24)\u001b[91m\u001b[1m::Any\u001b[22m\u001b[39m\n",
      "\u001b[90m\u001b[56G│    \u001b[1G\u001b[39m\u001b[90m  \u001b[39m│   %26 = (Base.iterate)(%15, %23)\u001b[91m\u001b[1m::Any\u001b[22m\u001b[39m\n",
      "\u001b[90m\u001b[56G│    \u001b[1G\u001b[39m\u001b[90m  \u001b[39m│   %27 = (%26 === nothing)\u001b[36m::Bool\u001b[39m\n",
      "\u001b[90m\u001b[56G│    \u001b[1G\u001b[39m\u001b[90m  \u001b[39m│   %28 = (Base.not_int)(%27)\u001b[36m::Bool\u001b[39m\n",
      "\u001b[90m\u001b[56G│    \u001b[1G\u001b[39m\u001b[90m  \u001b[39m└──       goto #7 if not %28\n",
      "\u001b[90m\u001b[56G│    \u001b[1G\u001b[39m\u001b[90m  \u001b[39m6 ─       goto #5\n",
      "\u001b[90m\u001b[56G│    \u001b[1G\u001b[39m\u001b[90m8 \u001b[39m7 ─ %31 = φ (#5 => %25, #4 => %2)\u001b[91m\u001b[1m::Any\u001b[22m\u001b[39m\n",
      "\u001b[90m\u001b[56G│    \u001b[1G\u001b[39m\u001b[90m  \u001b[39m└──       return %31\n"
     ]
    }
   ],
   "source": [
    "@code_warntype sum1_global()"
   ]
  },
  {
   "cell_type": "markdown",
   "metadata": {},
   "source": [
    "### Fixes\n",
    "- Make the global an argument!\n",
    "- Make the global a `const`"
   ]
  },
  {
   "cell_type": "code",
   "execution_count": 37,
   "metadata": {},
   "outputs": [
    {
     "name": "stderr",
     "output_type": "stream",
     "text": [
      "WARNING: redefining constant arr\n"
     ]
    },
    {
     "data": {
      "text/plain": [
       "sum2_global (generic function with 1 method)"
      ]
     },
     "execution_count": 37,
     "metadata": {},
     "output_type": "execute_result"
    }
   ],
   "source": [
    "const arr = rand(10^6)\n",
    "function sum2_global()\n",
    "    s = zero(arr[1])\n",
    "    \n",
    "    for i=1:length(arr)\n",
    "        s = s + arr[i]\n",
    "    end\n",
    "    s\n",
    "end"
   ]
  },
  {
   "cell_type": "code",
   "execution_count": 39,
   "metadata": {},
   "outputs": [
    {
     "name": "stdout",
     "output_type": "stream",
     "text": [
      "  0.128758 seconds (5.00 M allocations: 91.537 MiB, 10.37% gc time)\n",
      "  0.001536 seconds (5 allocations: 176 bytes)\n"
     ]
    },
    {
     "data": {
      "text/plain": [
       "499821.06931097474"
      ]
     },
     "execution_count": 39,
     "metadata": {},
     "output_type": "execute_result"
    }
   ],
   "source": [
    "@time sum1_global()\n",
    "@time sum2_global()"
   ]
  },
  {
   "cell_type": "markdown",
   "metadata": {},
   "source": [
    "**Let's practice propagating type information in our head**\n",
    "\n",
    "Run through the program and find out the types assigned to each variable over time."
   ]
  },
  {
   "cell_type": "code",
   "execution_count": 41,
   "metadata": {},
   "outputs": [
    {
     "data": {
      "text/plain": [
       "logint2 (generic function with 1 method)"
      ]
     },
     "execution_count": 41,
     "metadata": {},
     "output_type": "execute_result"
    }
   ],
   "source": [
    "function logint2(n)\n",
    "    r = 0\n",
    "    while n > 1\n",
    "        n = n/2\n",
    "        r += 1\n",
    "    end\n",
    "    r\n",
    "end"
   ]
  },
  {
   "cell_type": "code",
   "execution_count": 32,
   "metadata": {},
   "outputs": [
    {
     "data": {
      "text/plain": [
       "logint2 (generic function with 1 method)"
      ]
     },
     "execution_count": 32,
     "metadata": {},
     "output_type": "execute_result"
    }
   ],
   "source": [
    "function logint2(n) # assume n::Float64\n",
    "    r = 0 # Int\n",
    "    while n > 1 # n :: Float64\n",
    "        n = n/2 # n :: Float64\n",
    "        r += 1 # Int\n",
    "    end\n",
    "    r # Int\n",
    "end"
   ]
  },
  {
   "cell_type": "code",
   "execution_count": 42,
   "metadata": {},
   "outputs": [
    {
     "data": {
      "text/plain": [
       "CodeInfo(\n",
       "\u001b[90m\u001b[69G│   \u001b[1G\u001b[39m\u001b[90m  \u001b[39m1 ─       nothing\u001b[90m::Nothing\u001b[39m\n",
       "\u001b[90m\u001b[69G│   \u001b[1G\u001b[39m\u001b[90m3 \u001b[39m2 ┄ %2  = φ (#1 => 0, #3 => %12)\u001b[36m::Int64\u001b[39m\n",
       "\u001b[90m\u001b[69G│   \u001b[1G\u001b[39m\u001b[90m  \u001b[39m│   %3  = φ (#1 => _2, #3 => %11)\u001b[36m::Float64\u001b[39m\n",
       "\u001b[90m\u001b[69G│╻   >\u001b[1G\u001b[39m\u001b[90m  \u001b[39m│   %4  = π (1.0, \u001b[36mFloat64\u001b[39m)\n",
       "\u001b[90m\u001b[69G││┃│  <\u001b[1G\u001b[39m\u001b[90m  \u001b[39m│   %5  = (Base.lt_float)(%4, %3)\u001b[36m::Bool\u001b[39m\n",
       "\u001b[90m\u001b[69G│││ \u001b[1G\u001b[39m\u001b[90m  \u001b[39m│   %6  = π (1.0, \u001b[36mFloat64\u001b[39m)\n",
       "\u001b[90m\u001b[69G│││╻   ==\u001b[1G\u001b[39m\u001b[90m  \u001b[39m│   %7  = (Base.eq_float)(%6, %3)\u001b[36m::Bool\u001b[39m\n",
       "\u001b[90m\u001b[69G│││╻   &\u001b[1G\u001b[39m\u001b[90m  \u001b[39m│   %8  = (Base.and_int)(%7, false)\u001b[36m::Bool\u001b[39m\n",
       "\u001b[90m\u001b[69G│││╻   |\u001b[1G\u001b[39m\u001b[90m  \u001b[39m│   %9  = (Base.or_int)(%5, %8)\u001b[36m::Bool\u001b[39m\n",
       "\u001b[90m\u001b[69G│   \u001b[1G\u001b[39m\u001b[90m  \u001b[39m└──       goto #4 if not %9\n",
       "\u001b[90m\u001b[69G│╻╷  /\u001b[1G\u001b[39m\u001b[90m4 \u001b[39m3 ─ %11 = (Base.div_float)(%3, 2.0)\u001b[36m::Float64\u001b[39m\n",
       "\u001b[90m\u001b[69G│╻   +\u001b[1G\u001b[39m\u001b[90m5 \u001b[39m│   %12 = (Base.add_int)(%2, 1)\u001b[36m::Int64\u001b[39m\n",
       "\u001b[90m\u001b[69G│   \u001b[1G\u001b[39m\u001b[90m  \u001b[39m└──       goto #2\n",
       "\u001b[90m\u001b[69G│   \u001b[1G\u001b[39m\u001b[90m7 \u001b[39m4 ─       return %2\n",
       ") => Int64"
      ]
     },
     "execution_count": 42,
     "metadata": {},
     "output_type": "execute_result"
    }
   ],
   "source": [
    "@code_typed logint2(10.0)"
   ]
  },
  {
   "cell_type": "code",
   "execution_count": 51,
   "metadata": {},
   "outputs": [
    {
     "data": {
      "text/plain": [
       "128.0"
      ]
     },
     "execution_count": 51,
     "metadata": {},
     "output_type": "execute_result"
    }
   ],
   "source": [
    "div(900.0,7)"
   ]
  },
  {
   "cell_type": "code",
   "execution_count": 57,
   "metadata": {},
   "outputs": [
    {
     "data": {
      "text/plain": [
       "logint2 (generic function with 1 method)"
      ]
     },
     "execution_count": 57,
     "metadata": {},
     "output_type": "execute_result"
    }
   ],
   "source": [
    "function logint2(n) # assume n::Int\n",
    "    r = 0 # Int\n",
    "    n = Float64(n)\n",
    "    while n > 1 # n :: Union{Int, Float64} (propagated from below)\n",
    "        n = n/2 # n :: Union{Int, Float64}\n",
    "        r += 1 # Int\n",
    "    end\n",
    "    r # Int\n",
    "end"
   ]
  },
  {
   "cell_type": "code",
   "execution_count": 58,
   "metadata": {},
   "outputs": [
    {
     "data": {
      "text/plain": [
       "CodeInfo(\n",
       "\u001b[90m\u001b[69G│   \u001b[1G\u001b[39m\u001b[90m3 \u001b[39m1 ─ %1  = π (n, \u001b[36mInt64\u001b[39m)\n",
       "\u001b[90m\u001b[69G│╻   Type\u001b[1G\u001b[39m\u001b[90m  \u001b[39m└── %2  = (Base.sitofp)(Float64, %1)\u001b[36m::Float64\u001b[39m\n",
       "\u001b[90m\u001b[69G│   \u001b[1G\u001b[39m\u001b[90m4 \u001b[39m2 ┄ %3  = φ (#1 => 0, #3 => %15)\u001b[36m::Int64\u001b[39m\n",
       "\u001b[90m\u001b[69G│   \u001b[1G\u001b[39m\u001b[90m  \u001b[39m│   %4  = φ (#1 => %2, #3 => %14)\u001b[36m::Float64\u001b[39m\n",
       "\u001b[90m\u001b[69G│   \u001b[1G\u001b[39m\u001b[90m  \u001b[39m│   %5  = π (%4, \u001b[36mFloat64\u001b[39m)\n",
       "\u001b[90m\u001b[69G│╻   >\u001b[1G\u001b[39m\u001b[90m  \u001b[39m│   %6  = π (1.0, \u001b[36mFloat64\u001b[39m)\n",
       "\u001b[90m\u001b[69G││┃│  <\u001b[1G\u001b[39m\u001b[90m  \u001b[39m│   %7  = (Base.lt_float)(%6, %5)\u001b[36m::Bool\u001b[39m\n",
       "\u001b[90m\u001b[69G│││ \u001b[1G\u001b[39m\u001b[90m  \u001b[39m│   %8  = π (1.0, \u001b[36mFloat64\u001b[39m)\n",
       "\u001b[90m\u001b[69G│││╻   ==\u001b[1G\u001b[39m\u001b[90m  \u001b[39m│   %9  = (Base.eq_float)(%8, %5)\u001b[36m::Bool\u001b[39m\n",
       "\u001b[90m\u001b[69G│││╻   &\u001b[1G\u001b[39m\u001b[90m  \u001b[39m│   %10 = (Base.and_int)(%9, false)\u001b[36m::Bool\u001b[39m\n",
       "\u001b[90m\u001b[69G│││╻   |\u001b[1G\u001b[39m\u001b[90m  \u001b[39m│   %11 = (Base.or_int)(%7, %10)\u001b[36m::Bool\u001b[39m\n",
       "\u001b[90m\u001b[69G│   \u001b[1G\u001b[39m\u001b[90m  \u001b[39m└──       goto #4 if not %11\n",
       "\u001b[90m\u001b[69G│   \u001b[1G\u001b[39m\u001b[90m5 \u001b[39m3 ─ %13 = π (%4, \u001b[36mFloat64\u001b[39m)\n",
       "\u001b[90m\u001b[69G││╻   /\u001b[1G\u001b[39m\u001b[90m  \u001b[39m│   %14 = (Base.div_float)(%13, 2.0)\u001b[36m::Float64\u001b[39m\n",
       "\u001b[90m\u001b[69G│╻   +\u001b[1G\u001b[39m\u001b[90m6 \u001b[39m│   %15 = (Base.add_int)(%3, 1)\u001b[36m::Int64\u001b[39m\n",
       "\u001b[90m\u001b[69G│   \u001b[1G\u001b[39m\u001b[90m  \u001b[39m└──       goto #2\n",
       "\u001b[90m\u001b[69G│   \u001b[1G\u001b[39m\u001b[90m8 \u001b[39m4 ─       return %3\n",
       ") => Int64"
      ]
     },
     "execution_count": 58,
     "metadata": {},
     "output_type": "execute_result"
    }
   ],
   "source": [
    "@code_typed logint2(10)"
   ]
  },
  {
   "cell_type": "code",
   "execution_count": 59,
   "metadata": {},
   "outputs": [
    {
     "data": {
      "text/plain": [
       "sumlog (generic function with 1 method)"
      ]
     },
     "execution_count": 59,
     "metadata": {},
     "output_type": "execute_result"
    }
   ],
   "source": [
    "function sumlog(xs)\n",
    "    s = zero(xs[1])\n",
    "    \n",
    "    for i=1:length(xs)\n",
    "        s = s + logint2(xs[i]) # If type of xs[i] is known, result of logint2 will be known\n",
    "    end\n",
    "    s\n",
    "end"
   ]
  },
  {
   "cell_type": "code",
   "execution_count": 60,
   "metadata": {},
   "outputs": [
    {
     "data": {
      "text/plain": [
       "CodeInfo(\n",
       "\u001b[90m\u001b[77G│\u001b[1G\u001b[39m\u001b[90m2 \u001b[39m1 ─ %1  = (Base.getindex)(xs, 1)\u001b[36m::Float64\u001b[39m\n",
       "\u001b[90m\u001b[77G│\u001b[1G\u001b[39m\u001b[90m  \u001b[39m│         (s = (Main.zero)(%1))\u001b[90m::Const(0.0, false)\u001b[39m\n",
       "\u001b[90m\u001b[77G│\u001b[1G\u001b[39m\u001b[90m4 \u001b[39m│   %3  = (Main.length)(xs)\u001b[36m::Int64\u001b[39m\n",
       "\u001b[90m\u001b[77G│\u001b[1G\u001b[39m\u001b[90m  \u001b[39m│   %4  = (1:%3)\u001b[36m::UnitRange{Int64}\u001b[39m\n",
       "\u001b[90m\u001b[77G│\u001b[1G\u001b[39m\u001b[90m  \u001b[39m│         (#temp# = (Base.iterate)(%4))\u001b[90m::Union{Nothing, Tuple{Int64,Int64}}\u001b[39m\n",
       "\u001b[90m\u001b[77G│\u001b[1G\u001b[39m\u001b[90m  \u001b[39m│   %6  = (#temp# === nothing)\u001b[36m::Bool\u001b[39m\n",
       "\u001b[90m\u001b[77G│\u001b[1G\u001b[39m\u001b[90m  \u001b[39m│   %7  = (Base.not_int)(%6)\u001b[36m::Bool\u001b[39m\n",
       "\u001b[90m\u001b[77G│\u001b[1G\u001b[39m\u001b[90m  \u001b[39m└──       goto #4 if not %7\n",
       "\u001b[90m\u001b[77G│\u001b[1G\u001b[39m\u001b[90m  \u001b[39m2 ┄ %9  = #temp#::Tuple{Int64,Int64}\u001b[36m::Tuple{Int64,Int64}\u001b[39m\n",
       "\u001b[90m\u001b[77G│\u001b[1G\u001b[39m\u001b[90m  \u001b[39m│         (i = (Core.getfield)(%9, 1))\u001b[90m::Int64\u001b[39m\n",
       "\u001b[90m\u001b[77G│\u001b[1G\u001b[39m\u001b[90m  \u001b[39m│   %11 = (Core.getfield)(%9, 2)\u001b[36m::Int64\u001b[39m\n",
       "\u001b[90m\u001b[77G│\u001b[1G\u001b[39m\u001b[90m5 \u001b[39m│   %12 = s\u001b[36m::Float64\u001b[39m\n",
       "\u001b[90m\u001b[77G│\u001b[1G\u001b[39m\u001b[90m  \u001b[39m│   %13 = (Base.getindex)(xs, i)\u001b[36m::Float64\u001b[39m\n",
       "\u001b[90m\u001b[77G│\u001b[1G\u001b[39m\u001b[90m  \u001b[39m│   %14 = (Main.logint2)(%13)\u001b[36m::Int64\u001b[39m\n",
       "\u001b[90m\u001b[77G│\u001b[1G\u001b[39m\u001b[90m  \u001b[39m│         (s = %12 + %14)\u001b[90m::Float64\u001b[39m\n",
       "\u001b[90m\u001b[77G│\u001b[1G\u001b[39m\u001b[90m  \u001b[39m│         (#temp# = (Base.iterate)(%4, %11))\u001b[90m::Union{Nothing, Tuple{Int64,Int64}}\u001b[39m\n",
       "\u001b[90m\u001b[77G│\u001b[1G\u001b[39m\u001b[90m  \u001b[39m│   %17 = (#temp# === nothing)\u001b[36m::Bool\u001b[39m\n",
       "\u001b[90m\u001b[77G│\u001b[1G\u001b[39m\u001b[90m  \u001b[39m│   %18 = (Base.not_int)(%17)\u001b[36m::Bool\u001b[39m\n",
       "\u001b[90m\u001b[77G│\u001b[1G\u001b[39m\u001b[90m  \u001b[39m└──       goto #4 if not %18\n",
       "\u001b[90m\u001b[77G│\u001b[1G\u001b[39m\u001b[90m  \u001b[39m3 ─       goto #2\n",
       "\u001b[90m\u001b[77G│\u001b[1G\u001b[39m\u001b[90m7 \u001b[39m4 ─       return s\n",
       ") => Float64"
      ]
     },
     "execution_count": 60,
     "metadata": {},
     "output_type": "execute_result"
    }
   ],
   "source": [
    "@code_typed optimize=false sumlog(xs)"
   ]
  },
  {
   "cell_type": "code",
   "execution_count": 61,
   "metadata": {},
   "outputs": [
    {
     "name": "stdout",
     "output_type": "stream",
     "text": [
      "  0.112937 seconds (257.51 k allocations: 28.957 MiB, 3.63% gc time)\n"
     ]
    }
   ],
   "source": [
    "@time logint2.([i for i in 1:2^20]);"
   ]
  },
  {
   "cell_type": "markdown",
   "metadata": {},
   "source": [
    "# Summary\n",
    "\n",
    "**Uncertainty** is the root cause of slowness.\n",
    "\n",
    "It can come in many forms!\n",
    "\n",
    "1. Globals -- uncertainty about type after compilation\n",
    "2. Type instability -- uncertainty about the input or output type\n",
    "3. Not fixed length -- arrays or strings don't have a fixed size\n",
    "3. Mutability -- uncertainty that someone else may mutate the object\n",
    "4. Boxing -- uncertainty about type or, size of values\n",
    "\n",
    "Use `@time` and pay attention to allocations -- uncertainty leads to boxing which leads to GC overhead, so you will see it!\n",
    "\n",
    "## References\n",
    "\n",
    "- Performance tips from the manual https://docs.julialang.org/en/v0.6.1/manual/performance-tips/\n",
    "- Engineering Julia for Speed - Lionel Zoubritzky\n",
    " https://www.youtube.com/watch?v=XWIZ_dCO6X8\n",
    "- Information overload: tools for making program analysis and debugging manageable - Jameson Nash JuliaCon 2018"
   ]
  },
  {
   "cell_type": "code",
   "execution_count": null,
   "metadata": {},
   "outputs": [],
   "source": []
  }
 ],
 "metadata": {
  "kernelspec": {
   "display_name": "Julia 1.0.1-pre",
   "language": "julia",
   "name": "julia-1.0"
  },
  "language_info": {
   "file_extension": ".jl",
   "mimetype": "application/julia",
   "name": "julia",
   "version": "1.0.2"
  }
 },
 "nbformat": 4,
 "nbformat_minor": 2
}
