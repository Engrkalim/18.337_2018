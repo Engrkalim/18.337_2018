{
 "cells": [
  {
   "cell_type": "markdown",
   "metadata": {},
   "source": [
    "**Most of a program's run time is spent inside loops**\n",
    "\n",
    "Mostly function calls inside loops.\n",
    "\n",
    "**The act of calling these functions itself better be fast!**\n",
    "\n",
    "### But it doesn't look like it should be fast!\n",
    "\n",
    "To execute `foo(x,y)`, Julia chooses the **method for foo that is _most_ specific to types of x, and y**.\n",
    "\n",
    "**Looking up this method can be expensive!** There are hundreds of methods for `+(x,y)` picking the most specific one can involve a lot of head-scratching.\n",
    "\n",
    "But Julia can do it when **compiling** the code, once and forever!"
   ]
  },
  {
   "cell_type": "code",
   "execution_count": 75,
   "metadata": {},
   "outputs": [
    {
     "data": {
      "text/plain": [
       "sum1 (generic function with 1 method)"
      ]
     },
     "execution_count": 75,
     "metadata": {},
     "output_type": "execute_result"
    }
   ],
   "source": [
    "function sum1(xs)\n",
    "    s = zero(xs[1])\n",
    "\n",
    "    for i=1:length(xs)\n",
    "        s = +(s, xs[i])\n",
    "    end\n",
    "    s\n",
    "end"
   ]
  },
  {
   "cell_type": "code",
   "execution_count": 76,
   "metadata": {},
   "outputs": [
    {
     "data": {
      "text/plain": [
       "CodeInfo(\n",
       "\u001b[90m\u001b[77G│\u001b[1G\u001b[39m\u001b[90m2 \u001b[39m1 ─ %1  = (Base.getindex)(xs, 1)\u001b[36m::Complex{Int64}\u001b[39m\n",
       "\u001b[90m\u001b[77G│\u001b[1G\u001b[39m\u001b[90m  \u001b[39m│         (s = (Main.zero)(%1))\u001b[90m::Complex{Int64}\u001b[39m\n",
       "\u001b[90m\u001b[77G│\u001b[1G\u001b[39m\u001b[90m4 \u001b[39m│   %3  = (Main.length)(xs)\u001b[36m::Int64\u001b[39m\n",
       "\u001b[90m\u001b[77G│\u001b[1G\u001b[39m\u001b[90m  \u001b[39m│   %4  = (1:%3)\u001b[36m::UnitRange{Int64}\u001b[39m\n",
       "\u001b[90m\u001b[77G│\u001b[1G\u001b[39m\u001b[90m  \u001b[39m│         (#temp# = (Base.iterate)(%4))\u001b[90m::Union{Nothing, Tuple{Int64,Int64}}\u001b[39m\n",
       "\u001b[90m\u001b[77G│\u001b[1G\u001b[39m\u001b[90m  \u001b[39m│   %6  = (#temp# === nothing)\u001b[36m::Bool\u001b[39m\n",
       "\u001b[90m\u001b[77G│\u001b[1G\u001b[39m\u001b[90m  \u001b[39m│   %7  = (Base.not_int)(%6)\u001b[36m::Bool\u001b[39m\n",
       "\u001b[90m\u001b[77G│\u001b[1G\u001b[39m\u001b[90m  \u001b[39m└──       goto #4 if not %7\n",
       "\u001b[90m\u001b[77G│\u001b[1G\u001b[39m\u001b[90m  \u001b[39m2 ┄ %9  = #temp#::Tuple{Int64,Int64}\u001b[36m::Tuple{Int64,Int64}\u001b[39m\n",
       "\u001b[90m\u001b[77G│\u001b[1G\u001b[39m\u001b[90m  \u001b[39m│         (i = (Core.getfield)(%9, 1))\u001b[90m::Int64\u001b[39m\n",
       "\u001b[90m\u001b[77G│\u001b[1G\u001b[39m\u001b[90m  \u001b[39m│   %11 = (Core.getfield)(%9, 2)\u001b[36m::Int64\u001b[39m\n",
       "\u001b[90m\u001b[77G│\u001b[1G\u001b[39m\u001b[90m5 \u001b[39m│   %12 = s\u001b[36m::Complex{Int64}\u001b[39m\n",
       "\u001b[90m\u001b[77G│\u001b[1G\u001b[39m\u001b[90m  \u001b[39m│   %13 = (Base.getindex)(xs, i)\u001b[36m::Complex{Int64}\u001b[39m\n",
       "\u001b[90m\u001b[77G│\u001b[1G\u001b[39m\u001b[90m  \u001b[39m│         (s = %12 + %13)\u001b[90m::Complex{Int64}\u001b[39m\n",
       "\u001b[90m\u001b[77G│\u001b[1G\u001b[39m\u001b[90m  \u001b[39m│         (#temp# = (Base.iterate)(%4, %11))\u001b[90m::Union{Nothing, Tuple{Int64,Int64}}\u001b[39m\n",
       "\u001b[90m\u001b[77G│\u001b[1G\u001b[39m\u001b[90m  \u001b[39m│   %16 = (#temp# === nothing)\u001b[36m::Bool\u001b[39m\n",
       "\u001b[90m\u001b[77G│\u001b[1G\u001b[39m\u001b[90m  \u001b[39m│   %17 = (Base.not_int)(%16)\u001b[36m::Bool\u001b[39m\n",
       "\u001b[90m\u001b[77G│\u001b[1G\u001b[39m\u001b[90m  \u001b[39m└──       goto #4 if not %17\n",
       "\u001b[90m\u001b[77G│\u001b[1G\u001b[39m\u001b[90m  \u001b[39m3 ─       goto #2\n",
       "\u001b[90m\u001b[77G│\u001b[1G\u001b[39m\u001b[90m7 \u001b[39m4 ─       return s\n",
       ") => Complex{Int64}"
      ]
     },
     "execution_count": 76,
     "metadata": {},
     "output_type": "execute_result"
    }
   ],
   "source": [
    "@code_typed optimize=false sum1([1+2im, 7+9im])"
   ]
  },
  {
   "cell_type": "code",
   "execution_count": 123,
   "metadata": {},
   "outputs": [
    {
     "data": {
      "text/plain": [
       "CodeInfo(\n",
       "\u001b[90m\u001b[55G│╻     getindex\u001b[1G\u001b[39m\u001b[90m2 \u001b[39m1 ──       (Base.arrayref)(true, xs, 1)\u001b[90m::Complex{Int64}\u001b[39m\n",
       "\u001b[90m\u001b[55G││╻╷╷╷  oftype\u001b[1G\u001b[39m\u001b[90m  \u001b[39m│    %2  = %new(Complex{Int64}, 0, 0)\u001b[36m::Complex{Int64}\u001b[39m\n",
       "\u001b[90m\u001b[55G│╻     length\u001b[1G\u001b[39m\u001b[90m4 \u001b[39m│    %3  = (Base.arraylen)(xs)\u001b[36m::Int64\u001b[39m\n",
       "\u001b[90m\u001b[55G││╻╷╷╷  Type\u001b[1G\u001b[39m\u001b[90m  \u001b[39m│    %4  = (Base.sle_int)(1, %3)\u001b[36m::Bool\u001b[39m\n",
       "\u001b[90m\u001b[55G│││╻     unitrange_last\u001b[1G\u001b[39m\u001b[90m  \u001b[39m│          (Base.sub_int)(%3, 1)\u001b[90m::Int64\u001b[39m\n",
       "\u001b[90m\u001b[55G││││  \u001b[1G\u001b[39m\u001b[90m  \u001b[39m│    %6  = (Base.ifelse)(%4, %3, 0)\u001b[36m::Int64\u001b[39m\n",
       "\u001b[90m\u001b[55G││╻╷╷   isempty\u001b[1G\u001b[39m\u001b[90m  \u001b[39m│    %7  = (Base.slt_int)(%6, 1)\u001b[36m::Bool\u001b[39m\n",
       "\u001b[90m\u001b[55G││    \u001b[1G\u001b[39m\u001b[90m  \u001b[39m└───       goto #3 if not %7\n",
       "\u001b[90m\u001b[55G││    \u001b[1G\u001b[39m\u001b[90m  \u001b[39m2 ──       goto #4\n",
       "\u001b[90m\u001b[55G││    \u001b[1G\u001b[39m\u001b[90m  \u001b[39m3 ──       goto #4\n",
       "\u001b[90m\u001b[55G│     \u001b[1G\u001b[39m\u001b[90m  \u001b[39m4 ┄─ %11 = φ (#2 => true, #3 => false)\u001b[36m::Bool\u001b[39m\n",
       "\u001b[90m\u001b[55G│     \u001b[1G\u001b[39m\u001b[90m  \u001b[39m│    %12 = φ (#3 => 1)\u001b[36m::Int64\u001b[39m\n",
       "\u001b[90m\u001b[55G│     \u001b[1G\u001b[39m\u001b[90m  \u001b[39m│    %13 = φ (#3 => 1)\u001b[36m::Int64\u001b[39m\n",
       "\u001b[90m\u001b[55G│     \u001b[1G\u001b[39m\u001b[90m  \u001b[39m│    %14 = (Base.not_int)(%11)\u001b[36m::Bool\u001b[39m\n",
       "\u001b[90m\u001b[55G│     \u001b[1G\u001b[39m\u001b[90m  \u001b[39m└───       goto #10 if not %14\n",
       "\u001b[90m\u001b[55G│     \u001b[1G\u001b[39m\u001b[90m  \u001b[39m5 ┄─ %16 = φ (#4 => %2, #9 => %20)\u001b[36m::Complex{Int64}\u001b[39m\n",
       "\u001b[90m\u001b[55G│     \u001b[1G\u001b[39m\u001b[90m  \u001b[39m│    %17 = φ (#4 => %12, #9 => %26)\u001b[36m::Int64\u001b[39m\n",
       "\u001b[90m\u001b[55G│     \u001b[1G\u001b[39m\u001b[90m  \u001b[39m│    %18 = φ (#4 => %13, #9 => %27)\u001b[36m::Int64\u001b[39m\n",
       "\u001b[90m\u001b[55G│╻     getindex\u001b[1G\u001b[39m\u001b[90m5 \u001b[39m│    %19 = (Base.arrayref)(true, xs, %17)\u001b[36m::Complex{Int64}\u001b[39m\n",
       "\u001b[90m\u001b[55G│     \u001b[1G\u001b[39m\u001b[90m  \u001b[39m│    %20 = invoke Main.add(%16::Complex{Int64}, %19::Complex{Int64})\u001b[36m::Complex{Int64}\u001b[39m\n",
       "\u001b[90m\u001b[55G││╻     ==\u001b[1G\u001b[39m\u001b[90m  \u001b[39m│    %21 = (%18 === %6)\u001b[36m::Bool\u001b[39m\n",
       "\u001b[90m\u001b[55G││    \u001b[1G\u001b[39m\u001b[90m  \u001b[39m└───       goto #7 if not %21\n",
       "\u001b[90m\u001b[55G││    \u001b[1G\u001b[39m\u001b[90m  \u001b[39m6 ──       goto #8\n",
       "\u001b[90m\u001b[55G││╻     +\u001b[1G\u001b[39m\u001b[90m  \u001b[39m7 ── %24 = (Base.add_int)(%18, 1)\u001b[36m::Int64\u001b[39m\n",
       "\u001b[90m\u001b[55G│╻     iterate\u001b[1G\u001b[39m\u001b[90m  \u001b[39m└───       goto #8\n",
       "\u001b[90m\u001b[55G│     \u001b[1G\u001b[39m\u001b[90m  \u001b[39m8 ┄─ %26 = φ (#7 => %24)\u001b[36m::Int64\u001b[39m\n",
       "\u001b[90m\u001b[55G│     \u001b[1G\u001b[39m\u001b[90m  \u001b[39m│    %27 = φ (#7 => %24)\u001b[36m::Int64\u001b[39m\n",
       "\u001b[90m\u001b[55G│     \u001b[1G\u001b[39m\u001b[90m  \u001b[39m│    %28 = φ (#6 => true, #7 => false)\u001b[36m::Bool\u001b[39m\n",
       "\u001b[90m\u001b[55G│     \u001b[1G\u001b[39m\u001b[90m  \u001b[39m│    %29 = (Base.not_int)(%28)\u001b[36m::Bool\u001b[39m\n",
       "\u001b[90m\u001b[55G│     \u001b[1G\u001b[39m\u001b[90m  \u001b[39m└───       goto #10 if not %29\n",
       "\u001b[90m\u001b[55G│     \u001b[1G\u001b[39m\u001b[90m  \u001b[39m9 ──       goto #5\n",
       "\u001b[90m\u001b[55G│     \u001b[1G\u001b[39m\u001b[90m7 \u001b[39m10 ─ %32 = φ (#8 => %20, #4 => %2)\u001b[36m::Complex{Int64}\u001b[39m\n",
       "\u001b[90m\u001b[55G│     \u001b[1G\u001b[39m\u001b[90m  \u001b[39m└───       return %32\n",
       ") => Complex{Int64}"
      ]
     },
     "execution_count": 123,
     "metadata": {},
     "output_type": "execute_result"
    }
   ],
   "source": [
    "@code_typed sum1([1+2im, 7+9im]) # Also gets inlined -- no call to + on Complex anymore!"
   ]
  },
  {
   "cell_type": "code",
   "execution_count": 82,
   "metadata": {},
   "outputs": [
    {
     "data": {
      "text/plain": [
       "add (generic function with 1 method)"
      ]
     },
     "execution_count": 82,
     "metadata": {},
     "output_type": "execute_result"
    }
   ],
   "source": [
    "@noinline add(x,y) = x+y # forcefully avoid inlining"
   ]
  },
  {
   "cell_type": "code",
   "execution_count": 83,
   "metadata": {},
   "outputs": [
    {
     "data": {
      "text/plain": [
       "sum2 (generic function with 1 method)"
      ]
     },
     "execution_count": 83,
     "metadata": {},
     "output_type": "execute_result"
    }
   ],
   "source": [
    "function sum2(xs)\n",
    "    s = zero(xs[1])\n",
    "\n",
    "    for i=1:length(xs)\n",
    "        s = add(s, xs[i])\n",
    "    end\n",
    "    s\n",
    "end"
   ]
  },
  {
   "cell_type": "code",
   "execution_count": 84,
   "metadata": {},
   "outputs": [
    {
     "name": "stdout",
     "output_type": "stream",
     "text": [
      "\t.text\n",
      "; Function sum2 {\n",
      "; Location: In[83]:2\n",
      "\tpushq\t%rbp\n",
      "\tmovq\t%rsp, %rbp\n",
      "\tpushq\t%r15\n",
      "\tpushq\t%r14\n",
      "\tpushq\t%r13\n",
      "\tpushq\t%r12\n",
      "\tpushq\t%rbx\n",
      "\tsubq\t$56, %rsp\n",
      "\tmovq\t%rsi, %rbx\n",
      "; Function getindex; {\n",
      "; Location: array.jl:731\n",
      "\tmovq\t8(%rbx), %r14\n",
      "\ttestq\t%r14, %r14\n",
      "\tje\tL217\n",
      ";}\n",
      "; Location: In[83]:4\n",
      "\tjle\tL191\n",
      "\tmovq\t%rdi, -48(%rbp)\n",
      "; Location: In[83]:4\n",
      "\tvxorps\t%xmm0, %xmm0, %xmm0\n",
      "\tvmovaps\t%xmm0, -80(%rbp)\n",
      "\tmovl\t$1, %r15d\n",
      "\txorl\t%r12d, %r12d\n",
      "\tleaq\t-96(%rbp), %r13\n",
      "\tnopw\t%cs:(%rax,%rax)\n",
      "; Location: In[83]:5\n",
      "; Function getindex; {\n",
      "; Location: array.jl:731\n",
      "L80:\n",
      "\tmovq\t(%rbx), %rax\n",
      "\tvmovups\t(%rax,%r12), %xmm0\n",
      "\tvmovaps\t%xmm0, -96(%rbp)\n",
      ";}\n",
      "\tleaq\t-64(%rbp), %rdi\n",
      "\tleaq\t-80(%rbp), %rsi\n",
      "\tmovq\t%r13, %rdx\n",
      "\tmovabsq\t$julia_add_36169, %rax\n",
      "\tcallq\t*%rax\n",
      "; Function iterate; {\n",
      "; Location: range.jl:575\n",
      "; Function ==; {\n",
      "; Location: promotion.jl:425\n",
      "\tcmpq\t%r15, %r14\n",
      ";}}\n",
      "\tje\tL180\n",
      "\tvmovaps\t-64(%rbp), %xmm0\n",
      "; Location: In[83]:4\n",
      "\tvmovaps\t%xmm0, -80(%rbp)\n",
      "; Location: In[83]:5\n",
      "; Function getindex; {\n",
      "; Location: array.jl:731\n",
      "\taddq\t$16, %r12\n",
      "\tcmpq\t8(%rbx), %r15\n",
      ";}\n",
      "; Function iterate; {\n",
      "; Location: range.jl:576\n",
      "; Function +; {\n",
      "; Location: int.jl:53\n",
      "\tleaq\t1(%r15), %r15\n",
      ";}}\n",
      "; Function getindex; {\n",
      "; Location: array.jl:731\n",
      "\tjb\tL80\n",
      "\tmovq\t%rsp, %rax\n",
      "\tleaq\t-16(%rax), %rsi\n",
      "\tmovq\t%rsi, %rsp\n",
      "\tmovq\t%r15, -16(%rax)\n",
      "\tmovabsq\t$jl_bounds_error_ints, %rax\n",
      "\tmovl\t$1, %edx\n",
      "\tmovq\t%rbx, %rdi\n",
      "\tcallq\t*%rax\n",
      ";}\n",
      "L180:\n",
      "\tvmovaps\t-64(%rbp), %xmm0\n",
      "\tmovq\t-48(%rbp), %rdi\n",
      "\tjmp\tL195\n",
      "L191:\n",
      "\tvxorps\t%xmm0, %xmm0, %xmm0\n",
      "; Location: In[83]:7\n",
      "L195:\n",
      "\tvmovups\t%xmm0, (%rdi)\n",
      "\tmovq\t%rdi, %rax\n",
      "\tleaq\t-40(%rbp), %rsp\n",
      "\tpopq\t%rbx\n",
      "\tpopq\t%r12\n",
      "\tpopq\t%r13\n",
      "\tpopq\t%r14\n",
      "\tpopq\t%r15\n",
      "\tpopq\t%rbp\n",
      "\tretq\n",
      "; Location: In[83]:2\n",
      "; Function getindex; {\n",
      "; Location: array.jl:731\n",
      "L217:\n",
      "\tmovq\t%rsp, %rax\n",
      "\tleaq\t-16(%rax), %rsi\n",
      "\tmovq\t%rsi, %rsp\n",
      "\tmovq\t$1, -16(%rax)\n",
      "\tmovabsq\t$jl_bounds_error_ints, %rax\n",
      "\tmovl\t$1, %edx\n",
      "\tmovq\t%rbx, %rdi\n",
      "\tcallq\t*%rax\n",
      "\tnop\n",
      ";}}\n"
     ]
    }
   ],
   "source": [
    "@code_native sum2([1+1im, 2+3im])"
   ]
  },
  {
   "cell_type": "markdown",
   "metadata": {},
   "source": [
    "Let's try to create a function that doesn't allow you to infer its result type"
   ]
  },
  {
   "cell_type": "code",
   "execution_count": 128,
   "metadata": {},
   "outputs": [
    {
     "name": "stdout",
     "output_type": "stream",
     "text": [
      "typeof(vec1) = Array{Int64,1}\n",
      "typeof(vec2) = Array{Union{Float64, Int64},1}\n",
      "typeof(vec3) = Array{Any,1}\n"
     ]
    },
    {
     "data": {
      "text/plain": [
       "bad_add (generic function with 1 method)"
      ]
     },
     "execution_count": 128,
     "metadata": {},
     "output_type": "execute_result"
    }
   ],
   "source": [
    "vec1 = [1,2]\n",
    "@show typeof(vec1)\n",
    "\n",
    "vec2 = Union{Int, Float64}[1,2.3]\n",
    "@show typeof(vec2)\n",
    "\n",
    "vec3 = [1,\"hi\"]\n",
    "@show typeof(vec3)\n",
    "vec[1] # what is the output type of vec[i] for all i?\n",
    "\n",
    "\n",
    "function bad_add(x,y)\n",
    "    d=[0, \"yes\"] # intentionally create a Vector{Any}\n",
    "    x+y+d[1]\n",
    "end"
   ]
  },
  {
   "cell_type": "code",
   "execution_count": 117,
   "metadata": {},
   "outputs": [
    {
     "data": {
      "text/plain": [
       "sum3 (generic function with 1 method)"
      ]
     },
     "execution_count": 117,
     "metadata": {},
     "output_type": "execute_result"
    }
   ],
   "source": [
    "\n",
    "\n",
    "function sum3(xs)\n",
    "    s = zero(xs[1])\n",
    "\n",
    "    for i=1:length(xs)\n",
    "        s = bad_add(s, xs[i])\n",
    "    end\n",
    "    s\n",
    "end"
   ]
  },
  {
   "cell_type": "code",
   "execution_count": 118,
   "metadata": {},
   "outputs": [
    {
     "data": {
      "text/plain": [
       "CodeInfo(\n",
       "\u001b[90m\u001b[61G│     \u001b[1G\u001b[39m\u001b[90m2 \u001b[39m1 ── %1  = (Core.tuple)(0)\u001b[36m::Tuple{Int64}\u001b[39m\n",
       "\u001b[90m\u001b[61G│╻     getindex\u001b[1G\u001b[39m\u001b[90m  \u001b[39m│    %2  = $(Expr(:foreigncall, :(:jl_alloc_array_1d), Array{Any,1}, svec(Any, Int64), :(:ccall), 2, Array{Any,1}, 1, 1))\u001b[36m::Array{Any,1}\u001b[39m\n",
       "\u001b[90m\u001b[61G││╻╷╷   Colon\u001b[1G\u001b[39m\u001b[90m  \u001b[39m│          (Base.ifelse)(true, 1, 0)\u001b[90m::Int64\u001b[39m\n",
       "\u001b[90m\u001b[61G│││╻╷╷   isempty\u001b[1G\u001b[39m\u001b[90m  \u001b[39m│    %4  = (Base.slt_int)(1, 1)\u001b[36m::Bool\u001b[39m\n",
       "\u001b[90m\u001b[61G│││   \u001b[1G\u001b[39m\u001b[90m  \u001b[39m└───       goto #3 if not %4\n",
       "\u001b[90m\u001b[61G│││   \u001b[1G\u001b[39m\u001b[90m  \u001b[39m2 ──       goto #4\n",
       "\u001b[90m\u001b[61G│││   \u001b[1G\u001b[39m\u001b[90m  \u001b[39m3 ──       goto #4\n",
       "\u001b[90m\u001b[61G││    \u001b[1G\u001b[39m\u001b[90m  \u001b[39m4 ┄─ %8  = φ (#2 => true, #3 => false)\u001b[36m::Bool\u001b[39m\n",
       "\u001b[90m\u001b[61G││    \u001b[1G\u001b[39m\u001b[90m  \u001b[39m│    %9  = φ (#3 => 1)\u001b[36m::Int64\u001b[39m\n",
       "\u001b[90m\u001b[61G││    \u001b[1G\u001b[39m\u001b[90m  \u001b[39m│    %10 = φ (#3 => 1)\u001b[36m::Int64\u001b[39m\n",
       "\u001b[90m\u001b[61G││    \u001b[1G\u001b[39m\u001b[90m  \u001b[39m│    %11 = (Base.not_int)(%8)\u001b[36m::Bool\u001b[39m\n",
       "\u001b[90m\u001b[61G││    \u001b[1G\u001b[39m\u001b[90m  \u001b[39m└───       goto #10 if not %11\n",
       "\u001b[90m\u001b[61G││    \u001b[1G\u001b[39m\u001b[90m  \u001b[39m5 ┄─ %13 = φ (#4 => %9, #9 => %22)\u001b[36m::Int64\u001b[39m\n",
       "\u001b[90m\u001b[61G││    \u001b[1G\u001b[39m\u001b[90m  \u001b[39m│    %14 = φ (#4 => %10, #9 => %23)\u001b[36m::Int64\u001b[39m\n",
       "\u001b[90m\u001b[61G││╻     getindex\u001b[1G\u001b[39m\u001b[90m  \u001b[39m│    %15 = (Base.getfield)(%1, %13, false)\u001b[36m::Int64\u001b[39m\n",
       "\u001b[90m\u001b[61G││╻     setindex!\u001b[1G\u001b[39m\u001b[90m  \u001b[39m│          (Base.arrayset)(false, %2, %15, %13)\u001b[90m::Array{Any,1}\u001b[39m\n",
       "\u001b[90m\u001b[61G│││╻     ==\u001b[1G\u001b[39m\u001b[90m  \u001b[39m│    %17 = (%14 === 1)\u001b[36m::Bool\u001b[39m\n",
       "\u001b[90m\u001b[61G│││   \u001b[1G\u001b[39m\u001b[90m  \u001b[39m└───       goto #7 if not %17\n",
       "\u001b[90m\u001b[61G│││   \u001b[1G\u001b[39m\u001b[90m  \u001b[39m6 ──       goto #8\n",
       "\u001b[90m\u001b[61G│││╻     +\u001b[1G\u001b[39m\u001b[90m  \u001b[39m7 ── %20 = (Base.add_int)(%14, 1)\u001b[36m::Int64\u001b[39m\n",
       "\u001b[90m\u001b[61G││╻     iterate\u001b[1G\u001b[39m\u001b[90m  \u001b[39m└───       goto #8\n",
       "\u001b[90m\u001b[61G││    \u001b[1G\u001b[39m\u001b[90m  \u001b[39m8 ┄─ %22 = φ (#7 => %20)\u001b[36m::Int64\u001b[39m\n",
       "\u001b[90m\u001b[61G││    \u001b[1G\u001b[39m\u001b[90m  \u001b[39m│    %23 = φ (#7 => %20)\u001b[36m::Int64\u001b[39m\n",
       "\u001b[90m\u001b[61G││    \u001b[1G\u001b[39m\u001b[90m  \u001b[39m│    %24 = φ (#6 => true, #7 => false)\u001b[36m::Bool\u001b[39m\n",
       "\u001b[90m\u001b[61G││    \u001b[1G\u001b[39m\u001b[90m  \u001b[39m│    %25 = (Base.not_int)(%24)\u001b[36m::Bool\u001b[39m\n",
       "\u001b[90m\u001b[61G││    \u001b[1G\u001b[39m\u001b[90m  \u001b[39m└───       goto #10 if not %25\n",
       "\u001b[90m\u001b[61G││    \u001b[1G\u001b[39m\u001b[90m  \u001b[39m9 ──       goto #5\n",
       "\u001b[90m\u001b[61G││    \u001b[1G\u001b[39m\u001b[90m  \u001b[39m10 ─       goto #11\n",
       "\u001b[90m\u001b[61G│╻     getindex\u001b[1G\u001b[39m\u001b[90m3 \u001b[39m11 ─ %29 = (Base.arrayref)(true, %2, 1)\u001b[36m::Any\u001b[39m\n",
       "\u001b[90m\u001b[61G││╻     +\u001b[1G\u001b[39m\u001b[90m  \u001b[39m│    %30 = (Base.add_int)(x, y)\u001b[36m::Int64\u001b[39m\n",
       "\u001b[90m\u001b[61G││    \u001b[1G\u001b[39m\u001b[90m  \u001b[39m│    %31 = (%30 + %29)\u001b[36m::Any\u001b[39m\n",
       "\u001b[90m\u001b[61G│     \u001b[1G\u001b[39m\u001b[90m  \u001b[39m└───       return %31\n",
       ") => Any"
      ]
     },
     "execution_count": 118,
     "metadata": {},
     "output_type": "execute_result"
    }
   ],
   "source": [
    "@code_typed bad_add(1,2)"
   ]
  },
  {
   "cell_type": "code",
   "execution_count": 119,
   "metadata": {},
   "outputs": [
    {
     "name": "stdout",
     "output_type": "stream",
     "text": [
      "Body\u001b[91m\u001b[1m::Any\u001b[22m\u001b[39m\n",
      "\u001b[90m\u001b[55G│╻     getindex\u001b[1G\u001b[39m\u001b[90m7  \u001b[39m1 ──       (Base.arrayref)(true, xs, 1)\n",
      "\u001b[90m\u001b[55G│╻     length\u001b[1G\u001b[39m\u001b[90m9  \u001b[39m│    %2  = (Base.arraylen)(xs)\u001b[36m::Int64\u001b[39m\n",
      "\u001b[90m\u001b[55G││╻╷╷╷  Type\u001b[1G\u001b[39m\u001b[90m   \u001b[39m│    %3  = (Base.sle_int)(1, %2)\u001b[36m::Bool\u001b[39m\n",
      "\u001b[90m\u001b[55G│││╻     unitrange_last\u001b[1G\u001b[39m\u001b[90m   \u001b[39m│          (Base.sub_int)(%2, 1)\n",
      "\u001b[90m\u001b[55G││││  \u001b[1G\u001b[39m\u001b[90m   \u001b[39m│    %5  = (Base.ifelse)(%3, %2, 0)\u001b[36m::Int64\u001b[39m\n",
      "\u001b[90m\u001b[55G││╻╷╷   isempty\u001b[1G\u001b[39m\u001b[90m   \u001b[39m│    %6  = (Base.slt_int)(%5, 1)\u001b[36m::Bool\u001b[39m\n",
      "\u001b[90m\u001b[55G││    \u001b[1G\u001b[39m\u001b[90m   \u001b[39m└───       goto #3 if not %6\n",
      "\u001b[90m\u001b[55G││    \u001b[1G\u001b[39m\u001b[90m   \u001b[39m2 ──       goto #4\n",
      "\u001b[90m\u001b[55G││    \u001b[1G\u001b[39m\u001b[90m   \u001b[39m3 ──       goto #4\n",
      "\u001b[90m\u001b[55G│     \u001b[1G\u001b[39m\u001b[90m   \u001b[39m4 ┄─ %10 = φ (#2 => true, #3 => false)\u001b[36m::Bool\u001b[39m\n",
      "\u001b[90m\u001b[55G│     \u001b[1G\u001b[39m\u001b[90m   \u001b[39m│    %11 = φ (#3 => 1)\u001b[36m::Int64\u001b[39m\n",
      "\u001b[90m\u001b[55G│     \u001b[1G\u001b[39m\u001b[90m   \u001b[39m│    %12 = φ (#3 => 1)\u001b[36m::Int64\u001b[39m\n",
      "\u001b[90m\u001b[55G│     \u001b[1G\u001b[39m\u001b[90m   \u001b[39m│    %13 = (Base.not_int)(%10)\u001b[36m::Bool\u001b[39m\n",
      "\u001b[90m\u001b[55G│     \u001b[1G\u001b[39m\u001b[90m   \u001b[39m└───       goto #10 if not %13\n",
      "\u001b[90m\u001b[55G│     \u001b[1G\u001b[39m\u001b[90m   \u001b[39m5 ┄─ %15 = φ (#4 => 0, #9 => %19)\u001b[91m\u001b[1m::Any\u001b[22m\u001b[39m\n",
      "\u001b[90m\u001b[55G│     \u001b[1G\u001b[39m\u001b[90m   \u001b[39m│    %16 = φ (#4 => %11, #9 => %25)\u001b[36m::Int64\u001b[39m\n",
      "\u001b[90m\u001b[55G│     \u001b[1G\u001b[39m\u001b[90m   \u001b[39m│    %17 = φ (#4 => %12, #9 => %26)\u001b[36m::Int64\u001b[39m\n",
      "\u001b[90m\u001b[55G│╻     getindex\u001b[1G\u001b[39m\u001b[90m10 \u001b[39m│    %18 = (Base.arrayref)(true, xs, %16)\u001b[36m::Int64\u001b[39m\n",
      "\u001b[90m\u001b[55G│     \u001b[1G\u001b[39m\u001b[90m   \u001b[39m│    %19 = (Main.bad_add)(%15, %18)\u001b[91m\u001b[1m::Any\u001b[22m\u001b[39m\n",
      "\u001b[90m\u001b[55G││╻     ==\u001b[1G\u001b[39m\u001b[90m   \u001b[39m│    %20 = (%17 === %5)\u001b[36m::Bool\u001b[39m\n",
      "\u001b[90m\u001b[55G││    \u001b[1G\u001b[39m\u001b[90m   \u001b[39m└───       goto #7 if not %20\n",
      "\u001b[90m\u001b[55G││    \u001b[1G\u001b[39m\u001b[90m   \u001b[39m6 ──       goto #8\n",
      "\u001b[90m\u001b[55G││╻     +\u001b[1G\u001b[39m\u001b[90m   \u001b[39m7 ── %23 = (Base.add_int)(%17, 1)\u001b[36m::Int64\u001b[39m\n",
      "\u001b[90m\u001b[55G│╻     iterate\u001b[1G\u001b[39m\u001b[90m   \u001b[39m└───       goto #8\n",
      "\u001b[90m\u001b[55G│     \u001b[1G\u001b[39m\u001b[90m   \u001b[39m8 ┄─ %25 = φ (#7 => %23)\u001b[36m::Int64\u001b[39m\n",
      "\u001b[90m\u001b[55G│     \u001b[1G\u001b[39m\u001b[90m   \u001b[39m│    %26 = φ (#7 => %23)\u001b[36m::Int64\u001b[39m\n",
      "\u001b[90m\u001b[55G│     \u001b[1G\u001b[39m\u001b[90m   \u001b[39m│    %27 = φ (#6 => true, #7 => false)\u001b[36m::Bool\u001b[39m\n",
      "\u001b[90m\u001b[55G│     \u001b[1G\u001b[39m\u001b[90m   \u001b[39m│    %28 = (Base.not_int)(%27)\u001b[36m::Bool\u001b[39m\n",
      "\u001b[90m\u001b[55G│     \u001b[1G\u001b[39m\u001b[90m   \u001b[39m└───       goto #10 if not %28\n",
      "\u001b[90m\u001b[55G│     \u001b[1G\u001b[39m\u001b[90m   \u001b[39m9 ──       goto #5\n",
      "\u001b[90m\u001b[55G│     \u001b[1G\u001b[39m\u001b[90m12 \u001b[39m10 ─ %31 = φ (#8 => %19, #4 => 0)\u001b[91m\u001b[1m::Any\u001b[22m\u001b[39m\n",
      "\u001b[90m\u001b[55G│     \u001b[1G\u001b[39m\u001b[90m   \u001b[39m└───       return %31\n"
     ]
    }
   ],
   "source": [
    "@code_warntype sum3([1,2])"
   ]
  },
  {
   "cell_type": "markdown",
   "metadata": {},
   "source": [
    "### Common pitfall Number 1. use of global variables in loops"
   ]
  },
  {
   "cell_type": "code",
   "execution_count": 15,
   "metadata": {},
   "outputs": [
    {
     "data": {
      "text/plain": [
       "sum1_global (generic function with 1 method)"
      ]
     },
     "execution_count": 15,
     "metadata": {},
     "output_type": "execute_result"
    }
   ],
   "source": [
    "xs = rand(10^6)\n",
    "function sum1_global()\n",
    "    s = zero(xs[1])\n",
    "    \n",
    "    for i=1:length(xs)\n",
    "        s = +(s, xs[i])\n",
    "    end\n",
    "    s\n",
    "end"
   ]
  },
  {
   "cell_type": "code",
   "execution_count": 24,
   "metadata": {},
   "outputs": [
    {
     "name": "stdout",
     "output_type": "stream",
     "text": [
      "Body\u001b[91m\u001b[1m::Any\u001b[22m\u001b[39m\n",
      "\u001b[90m\u001b[56G│    \u001b[1G\u001b[39m\u001b[90m3 \u001b[39m1 ─ %1  = (Base.getindex)(Main.xs, 1)\u001b[91m\u001b[1m::Any\u001b[22m\u001b[39m\n",
      "\u001b[90m\u001b[56G│    \u001b[1G\u001b[39m\u001b[90m  \u001b[39m│   %2  = (Main.zero)(%1)\u001b[91m\u001b[1m::Any\u001b[22m\u001b[39m\n",
      "\u001b[90m\u001b[56G│    \u001b[1G\u001b[39m\u001b[90m5 \u001b[39m│   %3  = (Main.length)(Main.xs)\u001b[91m\u001b[1m::Any\u001b[22m\u001b[39m\n",
      "\u001b[90m\u001b[56G│    \u001b[1G\u001b[39m\u001b[90m  \u001b[39m│   %4  = (isa)(%3, Int64)\u001b[36m::Bool\u001b[39m\n",
      "\u001b[90m\u001b[56G│    \u001b[1G\u001b[39m\u001b[90m  \u001b[39m└──       goto #3 if not %4\n",
      "\u001b[90m\u001b[56G│    \u001b[1G\u001b[39m\u001b[90m  \u001b[39m2 ─ %6  = π (%3, \u001b[36mInt64\u001b[39m)\n",
      "\u001b[90m\u001b[56G│╻╷╷╷ Colon\u001b[1G\u001b[39m\u001b[90m  \u001b[39m│   %7  = (Base.sle_int)(1, %6)\u001b[36m::Bool\u001b[39m\n",
      "\u001b[90m\u001b[56G││╻    Type\u001b[1G\u001b[39m\u001b[90m  \u001b[39m│         (Base.sub_int)(%6, 1)\n",
      "\u001b[90m\u001b[56G│││┃│   unitrange_last\u001b[1G\u001b[39m\u001b[90m  \u001b[39m│   %9  = (Base.sub_int)(1, 1)\u001b[36m::Int64\u001b[39m\n",
      "\u001b[90m\u001b[56G││││ \u001b[1G\u001b[39m\u001b[90m  \u001b[39m│   %10 = (Base.ifelse)(%7, %6, %9)\u001b[36m::Int64\u001b[39m\n",
      "\u001b[90m\u001b[56G│││  \u001b[1G\u001b[39m\u001b[90m  \u001b[39m│   %11 = %new(UnitRange{Int64}, 1, %10)\u001b[36m::UnitRange{Int64}\u001b[39m\n",
      "\u001b[90m\u001b[56G│    \u001b[1G\u001b[39m\u001b[90m  \u001b[39m└──       goto #4\n",
      "\u001b[90m\u001b[56G│    \u001b[1G\u001b[39m\u001b[90m  \u001b[39m3 ─ %13 = (1:%3)\u001b[91m\u001b[1m::Any\u001b[22m\u001b[39m\n",
      "\u001b[90m\u001b[56G│    \u001b[1G\u001b[39m\u001b[90m  \u001b[39m└──       goto #4\n",
      "\u001b[90m\u001b[56G│    \u001b[1G\u001b[39m\u001b[90m  \u001b[39m4 ┄ %15 = φ (#2 => %11, #3 => %13)\u001b[91m\u001b[1m::Any\u001b[22m\u001b[39m\n",
      "\u001b[90m\u001b[56G│    \u001b[1G\u001b[39m\u001b[90m  \u001b[39m│   %16 = (Base.iterate)(%15)\u001b[91m\u001b[1m::Any\u001b[22m\u001b[39m\n",
      "\u001b[90m\u001b[56G│    \u001b[1G\u001b[39m\u001b[90m  \u001b[39m│   %17 = (%16 === nothing)\u001b[36m::Bool\u001b[39m\n",
      "\u001b[90m\u001b[56G│    \u001b[1G\u001b[39m\u001b[90m  \u001b[39m│   %18 = (Base.not_int)(%17)\u001b[36m::Bool\u001b[39m\n",
      "\u001b[90m\u001b[56G│    \u001b[1G\u001b[39m\u001b[90m  \u001b[39m└──       goto #7 if not %18\n",
      "\u001b[90m\u001b[56G│    \u001b[1G\u001b[39m\u001b[90m  \u001b[39m5 ┄ %20 = φ (#4 => %2, #6 => %25)\u001b[91m\u001b[1m::Any\u001b[22m\u001b[39m\n",
      "\u001b[90m\u001b[56G│    \u001b[1G\u001b[39m\u001b[90m  \u001b[39m│   %21 = φ (#4 => %16, #6 => %26)\u001b[91m\u001b[1m::Any\u001b[22m\u001b[39m\n",
      "\u001b[90m\u001b[56G│    \u001b[1G\u001b[39m\u001b[90m  \u001b[39m│   %22 = (Core.getfield)(%21, 1)\u001b[91m\u001b[1m::Any\u001b[22m\u001b[39m\n",
      "\u001b[90m\u001b[56G│    \u001b[1G\u001b[39m\u001b[90m  \u001b[39m│   %23 = (Core.getfield)(%21, 2)\u001b[91m\u001b[1m::Any\u001b[22m\u001b[39m\n",
      "\u001b[90m\u001b[56G│    \u001b[1G\u001b[39m\u001b[90m6 \u001b[39m│   %24 = (Base.getindex)(Main.xs, %22)\u001b[91m\u001b[1m::Any\u001b[22m\u001b[39m\n",
      "\u001b[90m\u001b[56G│    \u001b[1G\u001b[39m\u001b[90m  \u001b[39m│   %25 = (%20 + %24)\u001b[91m\u001b[1m::Any\u001b[22m\u001b[39m\n",
      "\u001b[90m\u001b[56G│    \u001b[1G\u001b[39m\u001b[90m  \u001b[39m│   %26 = (Base.iterate)(%15, %23)\u001b[91m\u001b[1m::Any\u001b[22m\u001b[39m\n",
      "\u001b[90m\u001b[56G│    \u001b[1G\u001b[39m\u001b[90m  \u001b[39m│   %27 = (%26 === nothing)\u001b[36m::Bool\u001b[39m\n",
      "\u001b[90m\u001b[56G│    \u001b[1G\u001b[39m\u001b[90m  \u001b[39m│   %28 = (Base.not_int)(%27)\u001b[36m::Bool\u001b[39m\n",
      "\u001b[90m\u001b[56G│    \u001b[1G\u001b[39m\u001b[90m  \u001b[39m└──       goto #7 if not %28\n",
      "\u001b[90m\u001b[56G│    \u001b[1G\u001b[39m\u001b[90m  \u001b[39m6 ─       goto #5\n",
      "\u001b[90m\u001b[56G│    \u001b[1G\u001b[39m\u001b[90m8 \u001b[39m7 ─ %31 = φ (#5 => %25, #4 => %2)\u001b[91m\u001b[1m::Any\u001b[22m\u001b[39m\n",
      "\u001b[90m\u001b[56G│    \u001b[1G\u001b[39m\u001b[90m  \u001b[39m└──       return %31\n"
     ]
    }
   ],
   "source": [
    "@code_warntype sum1_global()"
   ]
  },
  {
   "cell_type": "markdown",
   "metadata": {},
   "source": [
    "### Fixes\n",
    "- Make the global an argument!\n",
    "- Make the global a `const`"
   ]
  },
  {
   "cell_type": "code",
   "execution_count": 111,
   "metadata": {},
   "outputs": [
    {
     "name": "stderr",
     "output_type": "stream",
     "text": [
      "WARNING: redefining constant arr\n"
     ]
    },
    {
     "data": {
      "text/plain": [
       "sum2_global (generic function with 1 method)"
      ]
     },
     "execution_count": 111,
     "metadata": {},
     "output_type": "execute_result"
    }
   ],
   "source": [
    "const arr = rand(10^6)\n",
    "function sum2_global()\n",
    "    s = zero(arr[1])\n",
    "    \n",
    "    for i=1:length(arr)\n",
    "        s = s + arr[i]\n",
    "    end\n",
    "    s\n",
    "end"
   ]
  },
  {
   "cell_type": "code",
   "execution_count": 114,
   "metadata": {},
   "outputs": [
    {
     "name": "stdout",
     "output_type": "stream",
     "text": [
      "  0.126528 seconds (5.00 M allocations: 91.537 MiB, 5.34% gc time)\n",
      "  0.001476 seconds (5 allocations: 176 bytes)\n"
     ]
    },
    {
     "data": {
      "text/plain": [
       "500242.1887876529"
      ]
     },
     "execution_count": 114,
     "metadata": {},
     "output_type": "execute_result"
    }
   ],
   "source": [
    "@time sum1_global()\n",
    "@time sum2_global()"
   ]
  },
  {
   "cell_type": "markdown",
   "metadata": {},
   "source": [
    "**Let's practice propagating type information in our head**\n",
    "\n",
    "Run through the program and find out the types assigned to each variable over time."
   ]
  },
  {
   "cell_type": "code",
   "execution_count": 27,
   "metadata": {},
   "outputs": [
    {
     "data": {
      "text/plain": [
       "logint2 (generic function with 1 method)"
      ]
     },
     "execution_count": 27,
     "metadata": {},
     "output_type": "execute_result"
    }
   ],
   "source": [
    "function logint2(n)\n",
    "    r = 0\n",
    "    while n > 1\n",
    "        n = n/2\n",
    "        r += 1\n",
    "    end\n",
    "    r\n",
    "end"
   ]
  },
  {
   "cell_type": "code",
   "execution_count": 32,
   "metadata": {},
   "outputs": [
    {
     "data": {
      "text/plain": [
       "logint2 (generic function with 1 method)"
      ]
     },
     "execution_count": 32,
     "metadata": {},
     "output_type": "execute_result"
    }
   ],
   "source": [
    "function logint2(n) # assume n::Float64\n",
    "    r = 0 # Int\n",
    "    while n > 1 # n :: Float64\n",
    "        n = n/2 # n :: Float64\n",
    "        r += 1 # Int\n",
    "    end\n",
    "    r # Int\n",
    "end"
   ]
  },
  {
   "cell_type": "code",
   "execution_count": 42,
   "metadata": {},
   "outputs": [
    {
     "data": {
      "text/plain": [
       "CodeInfo(\n",
       "\u001b[90m\u001b[69G│   \u001b[1G\u001b[39m\u001b[90m  \u001b[39m1 ─       nothing\u001b[90m::Nothing\u001b[39m\n",
       "\u001b[90m\u001b[69G│   \u001b[1G\u001b[39m\u001b[90m3 \u001b[39m2 ┄ %2  = φ (#1 => 0, #3 => %12)\u001b[36m::Int64\u001b[39m\n",
       "\u001b[90m\u001b[69G│   \u001b[1G\u001b[39m\u001b[90m  \u001b[39m│   %3  = φ (#1 => _2, #3 => %11)\u001b[36m::Float64\u001b[39m\n",
       "\u001b[90m\u001b[69G│╻   >\u001b[1G\u001b[39m\u001b[90m  \u001b[39m│   %4  = π (1.0, \u001b[36mFloat64\u001b[39m)\n",
       "\u001b[90m\u001b[69G││┃│  <\u001b[1G\u001b[39m\u001b[90m  \u001b[39m│   %5  = (Base.lt_float)(%4, %3)\u001b[36m::Bool\u001b[39m\n",
       "\u001b[90m\u001b[69G│││ \u001b[1G\u001b[39m\u001b[90m  \u001b[39m│   %6  = π (1.0, \u001b[36mFloat64\u001b[39m)\n",
       "\u001b[90m\u001b[69G│││╻   ==\u001b[1G\u001b[39m\u001b[90m  \u001b[39m│   %7  = (Base.eq_float)(%6, %3)\u001b[36m::Bool\u001b[39m\n",
       "\u001b[90m\u001b[69G│││╻   &\u001b[1G\u001b[39m\u001b[90m  \u001b[39m│   %8  = (Base.and_int)(%7, false)\u001b[36m::Bool\u001b[39m\n",
       "\u001b[90m\u001b[69G│││╻   |\u001b[1G\u001b[39m\u001b[90m  \u001b[39m│   %9  = (Base.or_int)(%5, %8)\u001b[36m::Bool\u001b[39m\n",
       "\u001b[90m\u001b[69G│   \u001b[1G\u001b[39m\u001b[90m  \u001b[39m└──       goto #4 if not %9\n",
       "\u001b[90m\u001b[69G│╻╷  /\u001b[1G\u001b[39m\u001b[90m4 \u001b[39m3 ─ %11 = (Base.div_float)(%3, 2.0)\u001b[36m::Float64\u001b[39m\n",
       "\u001b[90m\u001b[69G│╻   +\u001b[1G\u001b[39m\u001b[90m5 \u001b[39m│   %12 = (Base.add_int)(%2, 1)\u001b[36m::Int64\u001b[39m\n",
       "\u001b[90m\u001b[69G│   \u001b[1G\u001b[39m\u001b[90m  \u001b[39m└──       goto #2\n",
       "\u001b[90m\u001b[69G│   \u001b[1G\u001b[39m\u001b[90m7 \u001b[39m4 ─       return %2\n",
       ") => Int64"
      ]
     },
     "execution_count": 42,
     "metadata": {},
     "output_type": "execute_result"
    }
   ],
   "source": [
    "@code_typed logint2(10.0)"
   ]
  },
  {
   "cell_type": "code",
   "execution_count": 33,
   "metadata": {},
   "outputs": [
    {
     "data": {
      "text/plain": [
       "logint2 (generic function with 1 method)"
      ]
     },
     "execution_count": 33,
     "metadata": {},
     "output_type": "execute_result"
    }
   ],
   "source": [
    "function logint2(n) # assume n::Int\n",
    "    r = 0 # Int\n",
    "    while n > 1 # n :: Union{Int, Float64} (propagated from below)\n",
    "        n = n/2 # n :: Union{Int, Float64}\n",
    "        r += 1 # Int\n",
    "    end\n",
    "    r # Int\n",
    "end"
   ]
  },
  {
   "cell_type": "code",
   "execution_count": 43,
   "metadata": {},
   "outputs": [
    {
     "data": {
      "text/plain": [
       "CodeInfo(\n",
       "\u001b[90m\u001b[57G│     \u001b[1G\u001b[39m\u001b[90m  \u001b[39m1 ──       nothing\u001b[90m::Nothing\u001b[39m\n",
       "\u001b[90m\u001b[57G│     \u001b[1G\u001b[39m\u001b[90m3 \u001b[39m2 ┄─ %2  = φ (#1 => 0, #13 => %41)\u001b[36m::Int64\u001b[39m\n",
       "\u001b[90m\u001b[57G│     \u001b[1G\u001b[39m\u001b[90m  \u001b[39m│    %3  = φ (#1 => _2, #13 => %40)\u001b[36m::Union{Float64, Int64}\u001b[39m\n",
       "\u001b[90m\u001b[57G│     \u001b[1G\u001b[39m\u001b[90m  \u001b[39m│    %4  = (isa)(%3, Float64)\u001b[36m::Bool\u001b[39m\n",
       "\u001b[90m\u001b[57G│     \u001b[1G\u001b[39m\u001b[90m  \u001b[39m└───       goto #4 if not %4\n",
       "\u001b[90m\u001b[57G│     \u001b[1G\u001b[39m\u001b[90m  \u001b[39m3 ── %6  = π (%3, \u001b[36mFloat64\u001b[39m)\n",
       "\u001b[90m\u001b[57G│╻╷    >\u001b[1G\u001b[39m\u001b[90m  \u001b[39m│    %7  = (Base.sitofp)(Float64, 1)\u001b[36m::Float64\u001b[39m\n",
       "\u001b[90m\u001b[57G││╻     <\u001b[1G\u001b[39m\u001b[90m  \u001b[39m│    %8  = (Base.lt_float)(%7, %6)\u001b[36m::Bool\u001b[39m\n",
       "\u001b[90m\u001b[57G│││╻     ==\u001b[1G\u001b[39m\u001b[90m  \u001b[39m│    %9  = (Base.eq_float)(%7, %6)\u001b[36m::Bool\u001b[39m\n",
       "\u001b[90m\u001b[57G││││  \u001b[1G\u001b[39m\u001b[90m  \u001b[39m│    %10 = (Base.eq_float)(%7, 9.22337e18)\u001b[36m::Bool\u001b[39m\n",
       "\u001b[90m\u001b[57G│││╻     unsafe_trunc\u001b[1G\u001b[39m\u001b[90m  \u001b[39m│    %11 = (Base.fptosi)(Int64, %7)\u001b[36m::Int64\u001b[39m\n",
       "\u001b[90m\u001b[57G│││╻     <\u001b[1G\u001b[39m\u001b[90m  \u001b[39m│    %12 = (Base.slt_int)(1, %11)\u001b[36m::Bool\u001b[39m\n",
       "\u001b[90m\u001b[57G│││╻     |\u001b[1G\u001b[39m\u001b[90m  \u001b[39m│    %13 = (Base.or_int)(%10, %12)\u001b[36m::Bool\u001b[39m\n",
       "\u001b[90m\u001b[57G│││╻     &\u001b[1G\u001b[39m\u001b[90m  \u001b[39m│    %14 = (Base.and_int)(%9, %13)\u001b[36m::Bool\u001b[39m\n",
       "\u001b[90m\u001b[57G│││╻     |\u001b[1G\u001b[39m\u001b[90m  \u001b[39m│    %15 = (Base.or_int)(%8, %14)\u001b[36m::Bool\u001b[39m\n",
       "\u001b[90m\u001b[57G│     \u001b[1G\u001b[39m\u001b[90m  \u001b[39m└───       goto #7\n",
       "\u001b[90m\u001b[57G│     \u001b[1G\u001b[39m\u001b[90m  \u001b[39m4 ── %17 = (isa)(%3, Int64)\u001b[36m::Bool\u001b[39m\n",
       "\u001b[90m\u001b[57G│     \u001b[1G\u001b[39m\u001b[90m  \u001b[39m└───       goto #6 if not %17\n",
       "\u001b[90m\u001b[57G│     \u001b[1G\u001b[39m\u001b[90m  \u001b[39m5 ── %19 = π (%3, \u001b[36mInt64\u001b[39m)\n",
       "\u001b[90m\u001b[57G││╻     <\u001b[1G\u001b[39m\u001b[90m  \u001b[39m│    %20 = (Base.slt_int)(1, %19)\u001b[36m::Bool\u001b[39m\n",
       "\u001b[90m\u001b[57G│     \u001b[1G\u001b[39m\u001b[90m  \u001b[39m└───       goto #7\n",
       "\u001b[90m\u001b[57G│     \u001b[1G\u001b[39m\u001b[90m  \u001b[39m6 ──       (Core.throw)(ErrorException(\"fatal error in type inference (type bound)\"))\u001b[90m::Union{}\u001b[39m\n",
       "\u001b[90m\u001b[57G│     \u001b[1G\u001b[39m\u001b[90m  \u001b[39m└───       $(Expr(:unreachable))\u001b[90m::Union{}\u001b[39m\n",
       "\u001b[90m\u001b[57G│     \u001b[1G\u001b[39m\u001b[90m  \u001b[39m7 ┄─ %24 = φ (#3 => %15, #5 => %20)\u001b[36m::Bool\u001b[39m\n",
       "\u001b[90m\u001b[57G│     \u001b[1G\u001b[39m\u001b[90m  \u001b[39m└───       goto #14 if not %24\n",
       "\u001b[90m\u001b[57G│     \u001b[1G\u001b[39m\u001b[90m4 \u001b[39m8 ── %26 = (isa)(%3, Int64)\u001b[36m::Bool\u001b[39m\n",
       "\u001b[90m\u001b[57G│     \u001b[1G\u001b[39m\u001b[90m  \u001b[39m└───       goto #10 if not %26\n",
       "\u001b[90m\u001b[57G│     \u001b[1G\u001b[39m\u001b[90m  \u001b[39m9 ── %28 = π (%3, \u001b[36mInt64\u001b[39m)\n",
       "\u001b[90m\u001b[57G││╻╷╷   float\u001b[1G\u001b[39m\u001b[90m  \u001b[39m│    %29 = (Base.sitofp)(Float64, %28)\u001b[36m::Float64\u001b[39m\n",
       "\u001b[90m\u001b[57G││╻     /\u001b[1G\u001b[39m\u001b[90m  \u001b[39m│    %30 = (Base.div_float)(%29, 2.0)\u001b[36m::Float64\u001b[39m\n",
       "\u001b[90m\u001b[57G│     \u001b[1G\u001b[39m\u001b[90m  \u001b[39m└───       goto #13\n",
       "\u001b[90m\u001b[57G│     \u001b[1G\u001b[39m\u001b[90m  \u001b[39m10 ─ %32 = (isa)(%3, Float64)\u001b[36m::Bool\u001b[39m\n",
       "\u001b[90m\u001b[57G│     \u001b[1G\u001b[39m\u001b[90m  \u001b[39m└───       goto #12 if not %32\n",
       "\u001b[90m\u001b[57G│     \u001b[1G\u001b[39m\u001b[90m  \u001b[39m11 ─ %34 = π (%3, \u001b[36mFloat64\u001b[39m)\n",
       "\u001b[90m\u001b[57G││╻╷╷╷  promote\u001b[1G\u001b[39m\u001b[90m  \u001b[39m│    %35 = (Base.sitofp)(Float64, 2)\u001b[36m::Float64\u001b[39m\n",
       "\u001b[90m\u001b[57G││╻     /\u001b[1G\u001b[39m\u001b[90m  \u001b[39m│    %36 = (Base.div_float)(%34, %35)\u001b[36m::Float64\u001b[39m\n",
       "\u001b[90m\u001b[57G│     \u001b[1G\u001b[39m\u001b[90m  \u001b[39m└───       goto #13\n",
       "\u001b[90m\u001b[57G│     \u001b[1G\u001b[39m\u001b[90m  \u001b[39m12 ─       (Core.throw)(ErrorException(\"fatal error in type inference (type bound)\"))\u001b[90m::Union{}\u001b[39m\n",
       "\u001b[90m\u001b[57G│     \u001b[1G\u001b[39m\u001b[90m  \u001b[39m└───       $(Expr(:unreachable))\u001b[90m::Union{}\u001b[39m\n",
       "\u001b[90m\u001b[57G│     \u001b[1G\u001b[39m\u001b[90m  \u001b[39m13 ┄ %40 = φ (#9 => %30, #11 => %36)\u001b[36m::Float64\u001b[39m\n",
       "\u001b[90m\u001b[57G│╻     +\u001b[1G\u001b[39m\u001b[90m5 \u001b[39m│    %41 = (Base.add_int)(%2, 1)\u001b[36m::Int64\u001b[39m\n",
       "\u001b[90m\u001b[57G│     \u001b[1G\u001b[39m\u001b[90m  \u001b[39m└───       goto #2\n",
       "\u001b[90m\u001b[57G│     \u001b[1G\u001b[39m\u001b[90m7 \u001b[39m14 ─       return %2\n",
       ") => Int64"
      ]
     },
     "execution_count": 43,
     "metadata": {},
     "output_type": "execute_result"
    }
   ],
   "source": [
    "@code_typed logint2(10)"
   ]
  },
  {
   "cell_type": "code",
   "execution_count": 44,
   "metadata": {},
   "outputs": [
    {
     "data": {
      "text/plain": [
       "sumlog (generic function with 1 method)"
      ]
     },
     "execution_count": 44,
     "metadata": {},
     "output_type": "execute_result"
    }
   ],
   "source": [
    "function sumlog(xs)\n",
    "    s = zero(xs[1])\n",
    "    \n",
    "    for i=1:length(xs)\n",
    "        s = s + logint2(xs[i]) # If type of xs[i] is known, result of logint2 will be known\n",
    "    end\n",
    "    s\n",
    "end"
   ]
  },
  {
   "cell_type": "code",
   "execution_count": 57,
   "metadata": {},
   "outputs": [
    {
     "data": {
      "text/plain": [
       "CodeInfo(\n",
       "\u001b[90m\u001b[77G│\u001b[1G\u001b[39m\u001b[90m2 \u001b[39m1 ─ %1  = (Base.getindex)(xs, 1)\u001b[36m::Float64\u001b[39m\n",
       "\u001b[90m\u001b[77G│\u001b[1G\u001b[39m\u001b[90m  \u001b[39m│         (s = (Main.zero)(%1))\u001b[90m::Const(0.0, false)\u001b[39m\n",
       "\u001b[90m\u001b[77G│\u001b[1G\u001b[39m\u001b[90m4 \u001b[39m│   %3  = (Main.length)(xs)\u001b[36m::Int64\u001b[39m\n",
       "\u001b[90m\u001b[77G│\u001b[1G\u001b[39m\u001b[90m  \u001b[39m│   %4  = (1:%3)\u001b[36m::UnitRange{Int64}\u001b[39m\n",
       "\u001b[90m\u001b[77G│\u001b[1G\u001b[39m\u001b[90m  \u001b[39m│         (#temp# = (Base.iterate)(%4))\u001b[90m::Union{Nothing, Tuple{Int64,Int64}}\u001b[39m\n",
       "\u001b[90m\u001b[77G│\u001b[1G\u001b[39m\u001b[90m  \u001b[39m│   %6  = (#temp# === nothing)\u001b[36m::Bool\u001b[39m\n",
       "\u001b[90m\u001b[77G│\u001b[1G\u001b[39m\u001b[90m  \u001b[39m│   %7  = (Base.not_int)(%6)\u001b[36m::Bool\u001b[39m\n",
       "\u001b[90m\u001b[77G│\u001b[1G\u001b[39m\u001b[90m  \u001b[39m└──       goto #4 if not %7\n",
       "\u001b[90m\u001b[77G│\u001b[1G\u001b[39m\u001b[90m  \u001b[39m2 ┄ %9  = #temp#::Tuple{Int64,Int64}\u001b[36m::Tuple{Int64,Int64}\u001b[39m\n",
       "\u001b[90m\u001b[77G│\u001b[1G\u001b[39m\u001b[90m  \u001b[39m│         (i = (Core.getfield)(%9, 1))\u001b[90m::Int64\u001b[39m\n",
       "\u001b[90m\u001b[77G│\u001b[1G\u001b[39m\u001b[90m  \u001b[39m│   %11 = (Core.getfield)(%9, 2)\u001b[36m::Int64\u001b[39m\n",
       "\u001b[90m\u001b[77G│\u001b[1G\u001b[39m\u001b[90m5 \u001b[39m│   %12 = s\u001b[36m::Float64\u001b[39m\n",
       "\u001b[90m\u001b[77G│\u001b[1G\u001b[39m\u001b[90m  \u001b[39m│   %13 = (Base.getindex)(xs, i)\u001b[36m::Float64\u001b[39m\n",
       "\u001b[90m\u001b[77G│\u001b[1G\u001b[39m\u001b[90m  \u001b[39m│   %14 = (Main.logint2)(%13)\u001b[36m::Int64\u001b[39m\n",
       "\u001b[90m\u001b[77G│\u001b[1G\u001b[39m\u001b[90m  \u001b[39m│         (s = %12 + %14)\u001b[90m::Float64\u001b[39m\n",
       "\u001b[90m\u001b[77G│\u001b[1G\u001b[39m\u001b[90m  \u001b[39m│         (#temp# = (Base.iterate)(%4, %11))\u001b[90m::Union{Nothing, Tuple{Int64,Int64}}\u001b[39m\n",
       "\u001b[90m\u001b[77G│\u001b[1G\u001b[39m\u001b[90m  \u001b[39m│   %17 = (#temp# === nothing)\u001b[36m::Bool\u001b[39m\n",
       "\u001b[90m\u001b[77G│\u001b[1G\u001b[39m\u001b[90m  \u001b[39m│   %18 = (Base.not_int)(%17)\u001b[36m::Bool\u001b[39m\n",
       "\u001b[90m\u001b[77G│\u001b[1G\u001b[39m\u001b[90m  \u001b[39m└──       goto #4 if not %18\n",
       "\u001b[90m\u001b[77G│\u001b[1G\u001b[39m\u001b[90m  \u001b[39m3 ─       goto #2\n",
       "\u001b[90m\u001b[77G│\u001b[1G\u001b[39m\u001b[90m7 \u001b[39m4 ─       return s\n",
       ") => Float64"
      ]
     },
     "execution_count": 57,
     "metadata": {},
     "output_type": "execute_result"
    }
   ],
   "source": [
    "@code_typed optimize=false sumlog(xs)"
   ]
  },
  {
   "cell_type": "code",
   "execution_count": 65,
   "metadata": {},
   "outputs": [
    {
     "name": "stdout",
     "output_type": "stream",
     "text": [
      "  0.097134 seconds (55.88 k allocations: 18.758 MiB, 1.91% gc time)\n"
     ]
    }
   ],
   "source": [
    "@time logint2.([i for i in 1:2^20]);"
   ]
  },
  {
   "cell_type": "markdown",
   "metadata": {},
   "source": [
    "# Summary\n",
    "\n",
    "**Uncertainty** is the root cause of slowness.\n",
    "\n",
    "It can come in many forms!\n",
    "\n",
    "1. Globals -- uncertainty about type after compilation\n",
    "2. Type instability -- uncertainty about the input or output type\n",
    "3. Not fixed length -- arrays or strings don't have a fixed size\n",
    "3. Mutability -- uncertainty that someone else may mutate the object\n",
    "4. Boxing -- uncertainty about type or, size of values\n",
    "\n",
    "Use `@time` and pay attention to allocations -- uncertainty leads to boxing which leads to GC overhead, so you will see it!\n",
    "\n",
    "## References\n",
    "\n",
    "- Performance tips from the manual https://docs.julialang.org/en/v0.6.1/manual/performance-tips/\n",
    "- Engineering Julia for Speed - Lionel Zoubritzky\n",
    " https://www.youtube.com/watch?v=XWIZ_dCO6X8\n",
    "- Information overload: tools for making program analysis and debugging manageable - Jameson Nash JuliaCon 2018"
   ]
  },
  {
   "cell_type": "code",
   "execution_count": null,
   "metadata": {},
   "outputs": [],
   "source": []
  }
 ],
 "metadata": {
  "kernelspec": {
   "display_name": "Julia 1.0.1-pre",
   "language": "julia",
   "name": "julia-1.0"
  },
  "language_info": {
   "file_extension": ".jl",
   "mimetype": "application/julia",
   "name": "julia",
   "version": "1.0.2"
  }
 },
 "nbformat": 4,
 "nbformat_minor": 2
}
